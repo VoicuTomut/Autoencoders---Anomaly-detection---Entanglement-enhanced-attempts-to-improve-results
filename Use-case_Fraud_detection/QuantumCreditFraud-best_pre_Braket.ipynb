{
 "cells": [
  {
   "cell_type": "code",
   "execution_count": 6,
   "id": "79d91699",
   "metadata": {},
   "outputs": [
    {
     "name": "stderr",
     "output_type": "stream",
     "text": [
      "/home/ec2-user/anaconda3/envs/Braket/lib/python3.7/site-packages/torchvision/io/image.py:11: UserWarning: Failed to load image Python extension: /home/ec2-user/anaconda3/envs/Braket/lib/python3.7/site-packages/torchvision/image.so: undefined symbol: _ZNK2at10TensorBase21__dispatch_contiguousEN3c1012MemoryFormatE\n",
      "  warn(f\"Failed to load image Python extension: {e}\")\n"
     ]
    }
   ],
   "source": [
    "# Imported Libraries\n",
    "import pennylane as qml\n",
    "from pennylane.optimize import AdamOptimizer\n",
    "from pennylane import numpy as np \n",
    "import pandas as pd \n",
    "import matplotlib.pyplot as plt\n",
    "import seaborn as sns\n",
    "from graphs import plot_correlation_matrix\n",
    "import random\n",
    "import torch\n",
    "from torchvision import datasets, transforms"
   ]
  },
  {
   "cell_type": "code",
   "execution_count": 7,
   "id": "05159f1b",
   "metadata": {},
   "outputs": [],
   "source": [
    "import sys\n",
    "sys.path.append(\"..\") # Adds higher directory to python modules path\n",
    "sys.path.append \n",
    "\n",
    "from qencode.initialize import setAB_amplitude, setAux, setEnt\n",
    "from qencode.encoders import e2_classic\n",
    "from qencode.training_circuits import swap_t\n",
    "from qencode.qubits_arrangement import QubitsArrangement\n",
    "\n",
    "from qencode.utils.mnist import get_dataset"
   ]
  },
  {
   "cell_type": "code",
   "execution_count": 5,
   "id": "f846af0d",
   "metadata": {},
   "outputs": [
    {
     "name": "stdout",
     "output_type": "stream",
     "text": [
      "Collecting torchvision\n",
      "  Downloading torchvision-0.11.3-cp37-cp37m-manylinux1_x86_64.whl (23.2 MB)\n",
      "\u001b[K     |████████████████████████████████| 23.2 MB 18.8 MB/s eta 0:00:01\n",
      "\u001b[?25hRequirement already satisfied: numpy in /home/ec2-user/anaconda3/envs/Braket/lib/python3.7/site-packages (from torchvision) (1.19.2)\n",
      "Collecting pillow!=8.3.0,>=5.3.0\n",
      "  Downloading Pillow-9.0.1-cp37-cp37m-manylinux_2_17_x86_64.manylinux2014_x86_64.whl (4.3 MB)\n",
      "\u001b[K     |████████████████████████████████| 4.3 MB 74.2 MB/s eta 0:00:01\n",
      "\u001b[?25hCollecting torch==1.10.2\n",
      "  Downloading torch-1.10.2-cp37-cp37m-manylinux1_x86_64.whl (881.9 MB)\n",
      "\u001b[K     |██████████████████████████████▋ | 844.9 MB 88.7 MB/s eta 0:00:01    |█                               | 24.5 MB 61.7 MB/s eta 0:00:14█▊                          | 159.2 MB 81.0 MB/s eta 0:00:09     |██████▍                         | 176.5 MB 81.0 MB/s eta 0:00:09:00:04     |██████████████████████▏         | 610.4 MB 89.5 MB/s eta 0:00:04"
     ]
    },
    {
     "name": "stderr",
     "output_type": "stream",
     "text": [
      "IOPub data rate exceeded.\n",
      "The notebook server will temporarily stop sending output\n",
      "to the client in order to avoid crashing it.\n",
      "To change this limit, set the config variable\n",
      "`--NotebookApp.iopub_data_rate_limit`.\n",
      "\n",
      "Current values:\n",
      "NotebookApp.iopub_data_rate_limit=1000000.0 (bytes/sec)\n",
      "NotebookApp.rate_limit_window=3.0 (secs)\n",
      "\n"
     ]
    },
    {
     "name": "stdout",
     "output_type": "stream",
     "text": [
      "\u001b[K     |████████████████████████████████| 881.9 MB 1.0 kB/s \n",
      "\u001b[?25hRequirement already satisfied: typing-extensions in /home/ec2-user/anaconda3/envs/Braket/lib/python3.7/site-packages (from torch==1.10.2->torchvision) (3.7.4.3)\n",
      "Installing collected packages: torch, pillow, torchvision\n",
      "  Attempting uninstall: torch\n",
      "    Found existing installation: torch 1.9.1\n",
      "    Uninstalling torch-1.9.1:\n",
      "      Successfully uninstalled torch-1.9.1\n",
      "Successfully installed pillow-9.0.1 torch-1.10.2 torchvision-0.11.3\n"
     ]
    }
   ],
   "source": [
    "#!pip install torchvision"
   ]
  },
  {
   "cell_type": "code",
   "execution_count": null,
   "id": "5e3db81a",
   "metadata": {},
   "outputs": [],
   "source": [
    "\"\"\"\n",
    "from kaggle.api.kaggle_api_extended import KaggleApi\n",
    "#import KaggleApi\n",
    "api = KaggleApi()\n",
    "api.authenticate()\n",
    "\n",
    "#https://www.kaggle.com/mlg-ulb/creditcardfraud/download\n",
    "#downloading datasets for COVID-19 data\n",
    "#api.dataset_download_files('imdevskp/corona-virus-report')\n",
    "api.dataset_download_files('mlg-ulb/creditcardfraud')\n",
    "\"\"\""
   ]
  },
  {
   "cell_type": "markdown",
   "id": "72fd7752",
   "metadata": {},
   "source": [
    "# Credit Card Fraud - A Growing Issue\n",
    "\n",
    "Credit card fraud is a growing issue with \\\\$28.5 billion lost globally due to credit card fraud in 2020 and is expected to exceed \\\\$49 billion by 2030 [1]). In 2020, around 1 out of 4 digital interactions were credit card fraud attempts (Cite Arkose Labs). Since there are so many non fraudulent transactions, it is challenging to detect the fraudulent transactions. In this notebook, we will be using a quantum auto-encoder to perform anomaly detection. \n",
    "\n",
    "We can use the quantum auto encoder to encode the 4 qubit state into a 3 qubit state and then use a decoder to decode the 3 qubit state back into 4 qubit state. The quantum auto encoder is trained on the normal dataset (or in this case the non fraudulent transactions) which means the quantum auto \n",
    "To tell if a datapoint is an anomaly, "
   ]
  },
  {
   "cell_type": "markdown",
   "id": "d03120a4",
   "metadata": {},
   "source": [
    "Import the dataset"
   ]
  },
  {
   "cell_type": "code",
   "execution_count": 8,
   "id": "3846e70e",
   "metadata": {},
   "outputs": [],
   "source": [
    "df = pd.read_csv('creditcard.csv')"
   ]
  },
  {
   "cell_type": "markdown",
   "id": "9f3ad462",
   "metadata": {},
   "source": [
    "We are only going to print the first 5 rows because the dataset contains over 280,000 rows. Each row represents a transaction. Time shows the time passed between the current and first transactions and amount shows the dollar amount spent on the transaction. There are also 28 more features represented by V1, V2, ... , V28 which come from principal component analysis. Finally, there is the class, where a '0' represents no fraud committed and a '1' represents a fraudulent transaction"
   ]
  },
  {
   "cell_type": "markdown",
   "id": "4a54abc9",
   "metadata": {},
   "source": [
    "Let's now check the class distribution"
   ]
  },
  {
   "cell_type": "code",
   "execution_count": 9,
   "id": "162a2de2",
   "metadata": {},
   "outputs": [
    {
     "name": "stdout",
     "output_type": "stream",
     "text": [
      "No Frauds:  284315\n",
      "Frauds:  492\n"
     ]
    }
   ],
   "source": [
    "print('No Frauds: ', df['Class'].value_counts()[0])\n",
    "print('Frauds: ', df['Class'].value_counts()[1])"
   ]
  },
  {
   "cell_type": "markdown",
   "id": "bb64dbf3",
   "metadata": {},
   "source": [
    "Credit card fraud is relatively rare, this creates a very imbalanced distribution. A very imbalanced distribution is not ideal as this can lead to overfitting and our model assuming no fraud most of the time. It is also challenging to find the true correlations between the features and class."
   ]
  },
  {
   "cell_type": "code",
   "execution_count": 10,
   "id": "6a1b6b38",
   "metadata": {},
   "outputs": [],
   "source": [
    "plot_correlation_matrix(df, \"Original Correlation Matrix\")"
   ]
  },
  {
   "cell_type": "markdown",
   "id": "e07de964",
   "metadata": {},
   "source": [
    "As you can see, nothing can really be inferred from this correlation matrix since the data is so imbalanced. We are going to create a sub sample dataset with equal amounts of non fraudulent data and fraudulent data. We are also going to scale the 'Time' and 'Amount' values for better processing. "
   ]
  },
  {
   "cell_type": "code",
   "execution_count": 14,
   "id": "b7c077e6",
   "metadata": {},
   "outputs": [
    {
     "data": {
      "text/html": [
       "<div>\n",
       "<style scoped>\n",
       "    .dataframe tbody tr th:only-of-type {\n",
       "        vertical-align: middle;\n",
       "    }\n",
       "\n",
       "    .dataframe tbody tr th {\n",
       "        vertical-align: top;\n",
       "    }\n",
       "\n",
       "    .dataframe thead th {\n",
       "        text-align: right;\n",
       "    }\n",
       "</style>\n",
       "<table border=\"1\" class=\"dataframe\">\n",
       "  <thead>\n",
       "    <tr style=\"text-align: right;\">\n",
       "      <th></th>\n",
       "      <th>scaled_amount</th>\n",
       "      <th>scaled_time</th>\n",
       "      <th>V1</th>\n",
       "      <th>V2</th>\n",
       "      <th>V3</th>\n",
       "      <th>V4</th>\n",
       "      <th>V5</th>\n",
       "      <th>V6</th>\n",
       "      <th>V7</th>\n",
       "      <th>V8</th>\n",
       "      <th>...</th>\n",
       "      <th>V20</th>\n",
       "      <th>V21</th>\n",
       "      <th>V22</th>\n",
       "      <th>V23</th>\n",
       "      <th>V24</th>\n",
       "      <th>V25</th>\n",
       "      <th>V26</th>\n",
       "      <th>V27</th>\n",
       "      <th>V28</th>\n",
       "      <th>Class</th>\n",
       "    </tr>\n",
       "  </thead>\n",
       "  <tbody>\n",
       "    <tr>\n",
       "      <th>87972</th>\n",
       "      <td>0.020960</td>\n",
       "      <td>-0.267461</td>\n",
       "      <td>1.281877</td>\n",
       "      <td>0.254411</td>\n",
       "      <td>-0.145903</td>\n",
       "      <td>0.535227</td>\n",
       "      <td>0.019784</td>\n",
       "      <td>-0.879058</td>\n",
       "      <td>0.362845</td>\n",
       "      <td>-0.304855</td>\n",
       "      <td>...</td>\n",
       "      <td>-0.031597</td>\n",
       "      <td>-0.074526</td>\n",
       "      <td>-0.202006</td>\n",
       "      <td>-0.142884</td>\n",
       "      <td>-0.067349</td>\n",
       "      <td>0.641961</td>\n",
       "      <td>0.395226</td>\n",
       "      <td>-0.053546</td>\n",
       "      <td>0.005030</td>\n",
       "      <td>0</td>\n",
       "    </tr>\n",
       "    <tr>\n",
       "      <th>218442</th>\n",
       "      <td>2.426605</td>\n",
       "      <td>0.665280</td>\n",
       "      <td>-6.352337</td>\n",
       "      <td>-2.370335</td>\n",
       "      <td>-4.875397</td>\n",
       "      <td>2.335045</td>\n",
       "      <td>-0.809555</td>\n",
       "      <td>-0.413647</td>\n",
       "      <td>-4.082308</td>\n",
       "      <td>2.239089</td>\n",
       "      <td>...</td>\n",
       "      <td>0.186898</td>\n",
       "      <td>1.325218</td>\n",
       "      <td>1.226745</td>\n",
       "      <td>-1.485217</td>\n",
       "      <td>-1.470732</td>\n",
       "      <td>-0.240053</td>\n",
       "      <td>0.112972</td>\n",
       "      <td>0.910591</td>\n",
       "      <td>-0.650944</td>\n",
       "      <td>1</td>\n",
       "    </tr>\n",
       "    <tr>\n",
       "      <th>227450</th>\n",
       "      <td>-0.293440</td>\n",
       "      <td>0.709466</td>\n",
       "      <td>-0.378099</td>\n",
       "      <td>0.313166</td>\n",
       "      <td>0.889931</td>\n",
       "      <td>-0.799382</td>\n",
       "      <td>0.890967</td>\n",
       "      <td>-0.961934</td>\n",
       "      <td>0.972766</td>\n",
       "      <td>-0.383644</td>\n",
       "      <td>...</td>\n",
       "      <td>-0.023204</td>\n",
       "      <td>0.123826</td>\n",
       "      <td>0.693484</td>\n",
       "      <td>-0.376556</td>\n",
       "      <td>-0.048078</td>\n",
       "      <td>0.096518</td>\n",
       "      <td>0.130284</td>\n",
       "      <td>-0.054488</td>\n",
       "      <td>-0.076143</td>\n",
       "      <td>0</td>\n",
       "    </tr>\n",
       "    <tr>\n",
       "      <th>128479</th>\n",
       "      <td>0.530986</td>\n",
       "      <td>-0.070102</td>\n",
       "      <td>-4.312479</td>\n",
       "      <td>1.886476</td>\n",
       "      <td>-2.338634</td>\n",
       "      <td>-0.475243</td>\n",
       "      <td>-1.185444</td>\n",
       "      <td>-2.112079</td>\n",
       "      <td>-2.122793</td>\n",
       "      <td>0.272565</td>\n",
       "      <td>...</td>\n",
       "      <td>-0.718706</td>\n",
       "      <td>0.550541</td>\n",
       "      <td>-0.067870</td>\n",
       "      <td>-1.114692</td>\n",
       "      <td>0.269069</td>\n",
       "      <td>-0.020572</td>\n",
       "      <td>-0.963489</td>\n",
       "      <td>-0.918888</td>\n",
       "      <td>0.001454</td>\n",
       "      <td>1</td>\n",
       "    </tr>\n",
       "    <tr>\n",
       "      <th>157868</th>\n",
       "      <td>-0.296793</td>\n",
       "      <td>0.303751</td>\n",
       "      <td>-1.532810</td>\n",
       "      <td>2.232752</td>\n",
       "      <td>-5.923100</td>\n",
       "      <td>3.386708</td>\n",
       "      <td>-0.153443</td>\n",
       "      <td>-1.419748</td>\n",
       "      <td>-3.878576</td>\n",
       "      <td>1.444656</td>\n",
       "      <td>...</td>\n",
       "      <td>0.520840</td>\n",
       "      <td>0.632505</td>\n",
       "      <td>-0.070838</td>\n",
       "      <td>-0.490291</td>\n",
       "      <td>-0.359983</td>\n",
       "      <td>0.050678</td>\n",
       "      <td>1.095671</td>\n",
       "      <td>0.471741</td>\n",
       "      <td>-0.106667</td>\n",
       "      <td>1</td>\n",
       "    </tr>\n",
       "  </tbody>\n",
       "</table>\n",
       "<p>5 rows × 31 columns</p>\n",
       "</div>"
      ],
      "text/plain": [
       "        scaled_amount  scaled_time        V1        V2        V3        V4  \\\n",
       "87972        0.020960    -0.267461  1.281877  0.254411 -0.145903  0.535227   \n",
       "218442       2.426605     0.665280 -6.352337 -2.370335 -4.875397  2.335045   \n",
       "227450      -0.293440     0.709466 -0.378099  0.313166  0.889931 -0.799382   \n",
       "128479       0.530986    -0.070102 -4.312479  1.886476 -2.338634 -0.475243   \n",
       "157868      -0.296793     0.303751 -1.532810  2.232752 -5.923100  3.386708   \n",
       "\n",
       "              V5        V6        V7        V8  ...       V20       V21  \\\n",
       "87972   0.019784 -0.879058  0.362845 -0.304855  ... -0.031597 -0.074526   \n",
       "218442 -0.809555 -0.413647 -4.082308  2.239089  ...  0.186898  1.325218   \n",
       "227450  0.890967 -0.961934  0.972766 -0.383644  ... -0.023204  0.123826   \n",
       "128479 -1.185444 -2.112079 -2.122793  0.272565  ... -0.718706  0.550541   \n",
       "157868 -0.153443 -1.419748 -3.878576  1.444656  ...  0.520840  0.632505   \n",
       "\n",
       "             V22       V23       V24       V25       V26       V27       V28  \\\n",
       "87972  -0.202006 -0.142884 -0.067349  0.641961  0.395226 -0.053546  0.005030   \n",
       "218442  1.226745 -1.485217 -1.470732 -0.240053  0.112972  0.910591 -0.650944   \n",
       "227450  0.693484 -0.376556 -0.048078  0.096518  0.130284 -0.054488 -0.076143   \n",
       "128479 -0.067870 -1.114692  0.269069 -0.020572 -0.963489 -0.918888  0.001454   \n",
       "157868 -0.070838 -0.490291 -0.359983  0.050678  1.095671  0.471741 -0.106667   \n",
       "\n",
       "        Class  \n",
       "87972       0  \n",
       "218442      1  \n",
       "227450      0  \n",
       "128479      1  \n",
       "157868      1  \n",
       "\n",
       "[5 rows x 31 columns]"
      ]
     },
     "execution_count": 14,
     "metadata": {},
     "output_type": "execute_result"
    }
   ],
   "source": [
    "#from sklearn.preprocessing import StandardScaler, RobustScaler\n",
    "from sklearn.preprocessing import RobustScaler\n",
    "\n",
    "# Scaling amount and time for the subsample\n",
    "df['scaled_amount'] = RobustScaler().fit_transform(df['Amount'].values.reshape(-1,1))\n",
    "df['scaled_time'] = RobustScaler().fit_transform(df['Time'].values.reshape(-1,1))\n",
    "df.drop(['Time','Amount'], axis=1, inplace=True) # Drop the original time and amount values\n",
    "\n",
    "# Add scaled amount and times to the data frame\n",
    "scaled_amount = df['scaled_amount'] \n",
    "scaled_time = df['scaled_time']\n",
    "df.drop(['scaled_amount', 'scaled_time'], axis=1, inplace=True)\n",
    "df.insert(0, 'scaled_amount', scaled_amount)\n",
    "df.insert(1, 'scaled_time', scaled_time)\n",
    "\n",
    "# Create the balanced subsample of 49\n",
    "df = df.sample(frac=1)\n",
    "fraud_df = df.loc[df['Class'] == 1]\n",
    "non_fraud_df = df.loc[df['Class'] == 0][:492]\n",
    "normal_distributed_df = pd.concat([fraud_df, non_fraud_df])\n",
    "sub_sample_df = normal_distributed_df.sample(frac=1, random_state=42)\n",
    "\n",
    "# Display the first 5 rows t ose\n",
    "sub_sample_df.head()"
   ]
  },
  {
   "cell_type": "markdown",
   "id": "19080690",
   "metadata": {},
   "source": [
    "We can now plot the correlation matrix of our new sub sample to get a better idea of the true correlations between features and 'Class' "
   ]
  },
  {
   "cell_type": "code",
   "execution_count": 15,
   "id": "99e158d2",
   "metadata": {},
   "outputs": [],
   "source": [
    "sub_sample_corr = sub_sample_df.corr()\n",
    "plot_correlation_matrix(sub_sample_corr, \"Sub Sample Correlation Matrix\")"
   ]
  },
  {
   "cell_type": "markdown",
   "id": "77c2ef55",
   "metadata": {},
   "source": [
    "The correlations are now much more noticeable. Now, we can find the features with the strongest correlation to class. Half are the strongest positive correlations, half are the strongest negative correlations. "
   ]
  },
  {
   "cell_type": "code",
   "execution_count": 16,
   "id": "88040b94",
   "metadata": {},
   "outputs": [
    {
     "name": "stdout",
     "output_type": "stream",
     "text": [
      "(['V4', 'V14', 'V11', 'V12', 'V2', 'V10', 'V19', 'V16', 'V20', 'V9', 'V21', 'V3', 'V28', 'V17', 'V27', 'V7'], [0.7211980893293823, -0.7517209646906146, 0.6934701844282471, -0.6848674234383837, 0.492405053522152, -0.6192313003963814, 0.278836598111022, -0.5913009967861621, 0.18495339501702748, -0.5831508529466832, 0.12784531878929187, -0.5674471056206869, 0.08757252744115403, -0.5581046843201575, 0.0713419111838715, -0.4801694818094904])\n"
     ]
    }
   ],
   "source": [
    "def find_strongest_correlations(dataframe, latent_qubits):\n",
    "    \n",
    "    num_features = latent_qubits**2\n",
    "    \n",
    "    class_correlations = dataframe.loc['Class', :]\n",
    "    class_correlations = class_correlations.drop(index = 'Class')\n",
    "    \n",
    "    feature_list = list(class_correlations.index)\n",
    "    correlation_list = [class_correlations[x] for x in feature_list]\n",
    "    \n",
    "    features = []\n",
    "    correlations = []\n",
    "    \n",
    "    for i in range(int(num_features/2)):\n",
    "        \n",
    "        \n",
    "        correlations.append(max(correlation_list))\n",
    "        features.append(feature_list[correlation_list.index(max(correlation_list))])\n",
    "        \n",
    "        del feature_list[correlation_list.index(max(correlation_list))]\n",
    "        del correlation_list[correlation_list.index(max(correlation_list))]                        \n",
    "                                      \n",
    "        correlations.append(min(correlation_list))\n",
    "        features.append(feature_list[correlation_list.index(min(correlation_list))])\n",
    "        \n",
    "        del feature_list[correlation_list.index(min(correlation_list))]\n",
    "        del correlation_list[correlation_list.index(min(correlation_list))] \n",
    "    \n",
    "    return features, correlations\n",
    "\n",
    "feature_list, correlations = find_strongest_correlations(sub_sample_corr, 4)\n",
    "\n",
    "print(find_strongest_correlations(sub_sample_corr, 4))"
   ]
  },
  {
   "cell_type": "markdown",
   "id": "fc0b9c62",
   "metadata": {},
   "source": [
    "We now have 16 features that are the most correlated with 'Class'. In this use case, we will be using 4 qubits to represent the data which means we will need 2$^{4}$ = 16 features to encode into the 4 qubits though amplitude encoding. Later, we will use the quantum autoencoder to encode the 4 qubits into 3 qubits and then use a decoder to decode those 3 qubits back to 4 qubits. "
   ]
  },
  {
   "cell_type": "code",
   "execution_count": 18,
   "id": "193fe113",
   "metadata": {},
   "outputs": [],
   "source": [
    "# Dataframe of all non fraudulent transactions\n",
    "branch = df\n",
    "non_fraud = branch[branch[\"Class\"]!=\"1\"][:200]\n",
    "\n",
    "# All examples of non fraudulent data with 16 features\n",
    "non_fraud = non_fraud[feature_list][:200]\n",
    "non_fraud.head()\n",
    "\n",
    "input_data = non_fraud.to_numpy()"
   ]
  },
  {
   "cell_type": "markdown",
   "id": "d0f33cad",
   "metadata": {},
   "source": [
    "# Training \n"
   ]
  },
  {
   "cell_type": "code",
   "execution_count": 20,
   "id": "4ee0ea5b",
   "metadata": {},
   "outputs": [
    {
     "name": "stdout",
     "output_type": "stream",
     "text": [
      "Qubits: [0, 1, 2, 3, 4, 5]\n"
     ]
    }
   ],
   "source": [
    "shots = 2500 #The amount of shots used for each epoch of training\n",
    "nr_trash= 1   # Number of qubits 'thrown away'\n",
    "nr_latent= 3  # Number of qubits left after the encoder is used\n",
    "nr_ent = 0\n",
    "\n",
    "epochs = 500   # Number of iterations of training to perform to find the final encoder parameters\n",
    "learning_rate = .005 # Learning rate for the optimizer, dictates how fast the optimizer trains\n",
    "batch_size = 2\n",
    "num_samples = 50  # Number of training samples used for each epoch\n",
    "\n",
    "beta1 = 0.9\n",
    "beta2 = 0.999\n",
    "opt = AdamOptimizer(learning_rate, beta1=beta1, beta2=beta2)\n",
    "\n",
    "# Organizes and specifies our qubits for the device\n",
    "spec = QubitsArrangement(nr_trash, nr_latent, nr_swap=1, nr_ent=nr_ent)\n",
    "\n",
    "\n",
    "#set up the device \n",
    "\n",
    "#dev = qml.device(\"default.qubit\", wires=spec.num_qubits)\n",
    "dev = qml.device(\"braket.local.qubit\", wires=spec.num_qubits, shots = 2500)\n",
    "\n",
    "print(\"Qubits:\", spec.qubits)"
   ]
  },
  {
   "cell_type": "code",
   "execution_count": 21,
   "id": "85c89846",
   "metadata": {},
   "outputs": [],
   "source": [
    "@qml.qnode(dev, interface = \"autograd\")\n",
    "def training_circuit_example(init_params, encoder_params, reinit_state):\n",
    "    #initilaization\n",
    "    setAB_amplitude(spec, init_params)\n",
    "\n",
    "    setAux(spec, reinit_state)\n",
    "\n",
    "    setEnt(spec, inputs=[1 / np.sqrt(2), 0, 0, 1 / np.sqrt(2)])\n",
    "\n",
    "    #encoder \n",
    "\n",
    "    for params in encoder_params:\n",
    "        e2_classic(params, [*spec.latent_qubits, *spec.trash_qubits])\n",
    "\n",
    "    #swap test \n",
    "    swap_t(spec)\n",
    "\n",
    "    return [qml.probs(i) for i in spec.swap_qubits]\n"
   ]
  },
  {
   "cell_type": "code",
   "execution_count": 22,
   "id": "d3277892",
   "metadata": {},
   "outputs": [],
   "source": [
    "def fid_func(output):\n",
    "    # Implemented as the Fidelity Loss\n",
    "    # output[0] because we take the probability that the state after the \n",
    "    # SWAP test is ket(0), like the reference state\n",
    "    fidelity_loss = 1 / output[0]\n",
    "    return fidelity_loss"
   ]
  },
  {
   "cell_type": "code",
   "execution_count": 23,
   "id": "f2c4b571",
   "metadata": {},
   "outputs": [],
   "source": [
    "# Define cost function\n",
    "def cost(encoder_params, X):\n",
    "    reinit_state = [0 for i in range(2 ** len(spec.aux_qubits))]\n",
    "    reinit_state[0] = 1.0\n",
    "    loss = 0.0\n",
    "    for x in X:\n",
    "        output = training_circuit_example(init_params=x[0], encoder_params=encoder_params, reinit_state=reinit_state)[0]\n",
    "        f = fid_func(output)\n",
    "        loss = loss + f\n",
    "    return loss / len(X)"
   ]
  },
  {
   "cell_type": "code",
   "execution_count": 24,
   "id": "a80ca440",
   "metadata": {},
   "outputs": [],
   "source": [
    "# Define fidelity function\n",
    "def fidelity(encoder_params, X):\n",
    "    reinit_state = [0 for i in range(2 ** len(spec.aux_qubits))]\n",
    "    reinit_state[0] = 1.0\n",
    "    loss = 0.0\n",
    "    for x in X:\n",
    "        output = training_circuit_example(init_params=x[0], encoder_params=encoder_params, reinit_state=reinit_state)[0]\n",
    "        f = output[0]\n",
    "        loss = loss + f\n",
    "    return loss / len(X)"
   ]
  },
  {
   "cell_type": "code",
   "execution_count": null,
   "id": "527d58cd",
   "metadata": {},
   "outputs": [],
   "source": [
    "def iterate_batches(X, batch_size):\n",
    "    \n",
    "    random.shuffle(X)\n",
    "\n",
    "    batch_list = []\n",
    "    batch = []\n",
    "    for x in X:\n",
    "        if len(batch) < batch_size:\n",
    "            batch.append(x)\n",
    "\n",
    "        else:\n",
    "            batch_list.append(batch)\n",
    "            batch = []\n",
    "    if len(batch) != 0:\n",
    "        batch_list.append(batch)\n",
    "    return batch_list"
   ]
  },
  {
   "cell_type": "code",
   "execution_count": null,
   "id": "eaec1b52",
   "metadata": {},
   "outputs": [],
   "source": [
    "\n",
    "training_data = [ torch.tensor([input_data[i]]) for i in range(num_samples)]\n",
    "test_data = [ torch.tensor([input_data[i]]) for i in range(num_samples,num_samples+num_samples)]\n",
    "\n",
    "X_training = training_data\n",
    "X_tes = test_data\n",
    "\n"
   ]
  },
  {
   "cell_type": "code",
   "execution_count": null,
   "id": "c8725d23",
   "metadata": {},
   "outputs": [],
   "source": []
  },
  {
   "cell_type": "code",
   "execution_count": null,
   "id": "e9d31955",
   "metadata": {},
   "outputs": [],
   "source": []
  },
  {
   "cell_type": "code",
   "execution_count": null,
   "id": "f0f6ad9c",
   "metadata": {},
   "outputs": [],
   "source": []
  },
  {
   "cell_type": "code",
   "execution_count": null,
   "id": "11525974",
   "metadata": {},
   "outputs": [],
   "source": [
    "# initialize random encoder parameters\n",
    "nr_encod_qubits = len(spec.trash_qubits) + len(spec.latent_qubits)\n",
    "nr_par_encoder =  15 * int(nr_encod_qubits*(nr_encod_qubits-1)/2)\n",
    "encoder_params = np.random.uniform(size=(1, nr_par_encoder), requires_grad=True)\n",
    "print(encoder_params)"
   ]
  },
  {
   "cell_type": "code",
   "execution_count": null,
   "id": "34c97148",
   "metadata": {},
   "outputs": [],
   "source": []
  },
  {
   "cell_type": "code",
   "execution_count": 25,
   "id": "fbf0aa5e",
   "metadata": {},
   "outputs": [],
   "source": [
    "encoder_params=[[-0.45793534, -0.60180382,  1.36706854, -0.39273726,  0.78967496,\n",
    "         -0.11834691,  1.21601293,  0.7257659 ,  0.16775198,  0.87110514,\n",
    "          0.5825973 ,  1.35786832,  1.6198694 , -0.21858262,  1.41542989,\n",
    "          1.2968311 ,  1.8630585 ,  0.50511886,  0.75524677,  0.82482716,\n",
    "          1.02949018, -0.023521  ,  0.55110408,  0.15877528,  0.62316124,\n",
    "          0.37113699,  0.4557925 ,  0.62940097,  0.61549768,  0.95122916,\n",
    "          0.22349399,  0.86457997,  0.81546047,  1.47984623,  1.72818011,\n",
    "         -0.30175269,  0.67999145, -0.22226086,  0.94370564,  1.48028116,\n",
    "          0.72720142,  0.20210445,  0.14995309,  0.19133051, -0.35101019,\n",
    "          0.40932117, -0.09846242,  0.65960454,  0.78151562,  1.17058629,\n",
    "          0.23858532,  0.71485483,  0.31327769,  1.63693523,  0.95525645,\n",
    "          0.58935465,  0.76165831,  0.62729872,  0.55561916,  0.19378356,\n",
    "          0.41408805,  1.01374824,  0.37282255, -0.06769513,  0.45583351,\n",
    "         -0.05101048,  0.83344398,  1.58156091,  1.46059524,  0.9371276 ,\n",
    "          0.96522386,  0.27626285,  0.19818911,  0.11227637,  0.38220371,\n",
    "          0.64166103,  0.92703234,  0.3736458 ,  0.21161801,  0.62412085,\n",
    "          0.3278856 , -0.18893975,  0.86769553,  0.78573112,  0.50142613,\n",
    "          0.96622037,  0.40300401,  0.55802604,  0.12912973,  0.14822851]]"
   ]
  },
  {
   "cell_type": "code",
   "execution_count": null,
   "id": "3dc8d2ef",
   "metadata": {},
   "outputs": [],
   "source": [
    "'''\n",
    "print(encoder_params)\n",
    "\n",
    "#reinit_state = [0 for i in range(2 ** 4)]\n",
    "#reinit_state[0] = 1.0\n",
    "print(reinit_state)\n",
    "print(len(spec.aux_qubits))\n",
    "#print(training_circuit_example(encoder_params, encoder_params, reinit_state = reinit_state))\n",
    "'''"
   ]
  },
  {
   "cell_type": "code",
   "execution_count": null,
   "id": "3364179f",
   "metadata": {},
   "outputs": [],
   "source": [
    "# Create a tensor dataset with only fraud data and most correlated features \n",
    "# for finding the fidelity of the quantum autoencoder on fraud transactions\n",
    "\n",
    "fraud = fraud_df[feature_list]\n",
    "np_fraud = fraud.to_numpy()\n",
    "fraud_data = [ torch.tensor([np_fraud[i]]) for i in range(len(fraud.to_numpy()))] \n",
    "\n",
    "fraud.head()\n"
   ]
  },
  {
   "cell_type": "code",
   "execution_count": null,
   "id": "303d2d00",
   "metadata": {},
   "outputs": [],
   "source": [
    "loss_hist=[]\n",
    "fid_hist=[]\n",
    "\n",
    "loss_hist_test=[]\n",
    "fid_hist_test=[]\n",
    "\n",
    "fraud_fid=[]\n",
    "\n",
    "for epoch in range(epochs):\n",
    "    batches = iterate_batches(X=training_data, batch_size=batch_size)\n",
    "    for xbatch in batches:\n",
    "        encoder_params = opt.step(cost, encoder_params, X=xbatch)\n",
    "\n",
    "        \n",
    "    if epoch%5 == 0:\n",
    "        \n",
    "        loss_training = cost(encoder_params, X_training )\n",
    "        fidel = fidelity(encoder_params, X_training )\n",
    "        \n",
    "        loss_hist.append(loss_training)\n",
    "        fid_hist.append(fidel)\n",
    "        print(\"Epoch:{} | Loss:{} | Fidelity:{}\".format(epoch, loss_training, fidel))\n",
    "\n",
    "        loss_test = cost(encoder_params, X_tes )\n",
    "        fidel = fidelity(encoder_params, X_tes )\n",
    "        loss_hist_test.append(loss_test)\n",
    "        fid_hist_test.append(fidel)\n",
    "        print(\"Test-Epoch:{} | Loss:{} | Fidelity:{}\".format(epoch, loss_test, fidel))\n",
    "        \n",
    "        f_fidel = fidelity(encoder_params, fraud_data )\n",
    "        fraud_fid.append(f_fidel)\n",
    "        print(\"Fraud Fidelity:{}\".format(f_fidel))"
   ]
  },
  {
   "cell_type": "code",
   "execution_count": null,
   "id": "c1a6b9df",
   "metadata": {},
   "outputs": [],
   "source": [
    "fig = plt.figure()\n",
    "plt.plot([x for x in range(0,len(loss_hist)*5,5)],np.array(fid_hist),label=\"train fidelity\")\n",
    "plt.plot([x for x in range(0,len(loss_hist)*5,5)],np.array(fid_hist_test),label=\"test fidelity\")\n",
    "plt.plot([x for x in range(0,len(loss_hist)*5,5)],np.array(fraud_fid),label=\"fraud fidelity\")\n",
    "\n",
    "plt.legend()\n",
    "plt.title(\"Fraud 4-3-4 Compression Fidelity e2 Braket\",)\n",
    "plt.xlabel(\"Epoch\")\n",
    "plt.ylabel(\"Fidelity\")\n",
    "plt.savefig(\"Fraud 4-3-4 Compression Fidelity e2 Braket\")\n",
    "\n",
    "print(\"fidelity:\",fid_hist[-1])"
   ]
  },
  {
   "cell_type": "code",
   "execution_count": null,
   "id": "2a0f764b",
   "metadata": {},
   "outputs": [],
   "source": [
    "fig = plt.figure()\n",
    "plt.plot([x for x in range(0,len(loss_hist)*5,5)],np.array(loss_hist),label=\"train loss\")\n",
    "plt.plot([x for x in range(0,len(loss_hist)*5,5)],np.array(loss_hist_test),label=\"test loss\")\n",
    "\n",
    "\n",
    "plt.legend()\n",
    "plt.title(\"Fraud 4-3-4 Compression Loss e2\",)\n",
    "plt.xlabel(\"Epoch\")\n",
    "plt.ylabel(\"Loss\")\n",
    "plt.savefig(\"Fraud 4-3-4 Compression Loss e2\")\n",
    "\n",
    "print(\"loss:\",loss_hist[-1])"
   ]
  },
  {
   "cell_type": "code",
   "execution_count": null,
   "id": "28e5cd93",
   "metadata": {},
   "outputs": [],
   "source": [
    "name = \"fraud_434_training_e2\"\n",
    "\n",
    "Circuit_prop={   \"shots\":shots, \"nr_trash\":nr_trash, \"nr_latent\":nr_latent, \"nr_ent\":nr_ent  }\n",
    "Training_param = { \"num_samples\" == num_samples,\n",
    "                    \"batch_size\" == batch_size,\n",
    "                    #\"nr_layers\"== nr_layers,\n",
    "                    \"epochs\" == epochs,\n",
    "                    \"learning_rate\" == learning_rate, \n",
    "                    \"beta1\" == beta1,\n",
    "                    \"beta2 \"== beta2,\n",
    "                     \"optimizer\"==\"Adam\"}\n",
    "\n",
    "performance={\"loss_hist\":loss_hist, \"fid_hist\":fid_hist,\n",
    "             \"loss_hist_test\":loss_hist_test, \"fid_hist_test\":fid_hist_test,\n",
    "             \"encoder_params\":encoder_params}\n",
    "\n",
    "experiment_data={\"Circuit_prop\":Circuit_prop,\n",
    "                \"Training_param\":Training_param,\n",
    "                \"performance:\":performance,\n",
    "                \"Name\":name}\n",
    "\n",
    "# open file for writing\n",
    "f = open(name+\".txt\",\"w\")\n",
    "f.write( str(experiment_data) )"
   ]
  },
  {
   "cell_type": "code",
   "execution_count": null,
   "id": "7af5f94b",
   "metadata": {},
   "outputs": [],
   "source": [
    "experiment_parameters={\"autoencoder\":\"e2\",\"params\":encoder_params}\n",
    "f=open(\"Params_Fraud_encoder_e2-CorrelatedFeautures.txt\",\"w\")\n",
    "f.write(str(experiment_parameters))"
   ]
  },
  {
   "cell_type": "code",
   "execution_count": 29,
   "id": "df7aec3a",
   "metadata": {},
   "outputs": [
    {
     "name": "stdout",
     "output_type": "stream",
     "text": [
      "0.6052\n",
      "0.982\n"
     ]
    }
   ],
   "source": [
    "branch = df \n",
    "non_fraud_df = branch.loc[branch[\"Class\"]!=1][:200]\n",
    "\n",
    "\n",
    "non_fraud = non_fraud_df[feature_list]\n",
    "np_non_fraud = non_fraud.to_numpy()\n",
    "non_fraud_data = [ torch.tensor([np_non_fraud[i]]) for i in range(len(non_fraud.to_numpy()))]\n",
    "\n",
    "non_fraud_flist=[]\n",
    "for b in non_fraud_data:\n",
    "    f=fidelity(encoder_params, [b])\n",
    "    non_fraud_flist.append(f.item())\n",
    "    \n",
    "print(min(non_fraud_flist))\n",
    "print(max(non_fraud_flist))"
   ]
  },
  {
   "cell_type": "code",
   "execution_count": 30,
   "id": "081c277a",
   "metadata": {},
   "outputs": [
    {
     "name": "stdout",
     "output_type": "stream",
     "text": [
      "0.5404\n",
      "0.94\n"
     ]
    }
   ],
   "source": [
    "#np_ilegal= ilegal.to_numpy()\n",
    "#ilegal_data = [ torch.tensor([np_ilegal[i]]) for i in range(len(ilegal.to_numpy()))]\n",
    "fraud_df = branch.loc[branch[\"Class\"]==1][:200]\n",
    "non_fraud = fraud_df[feature_list]\n",
    "np_non_fraud = non_fraud.to_numpy()\n",
    "fraud_data = [ torch.tensor([np_non_fraud[i]]) for i in range(len(non_fraud.to_numpy()))]\n",
    "\n",
    "\n",
    "\n",
    "fraud_flist=[]\n",
    "for b in fraud_data:\n",
    "    f=fidelity(encoder_params, [b])\n",
    "    fraud_flist.append(f.item())\n",
    "    \n",
    "print(min(fraud_flist))\n",
    "print(max(fraud_flist))"
   ]
  },
  {
   "cell_type": "code",
   "execution_count": 32,
   "id": "317b50bd",
   "metadata": {},
   "outputs": [
    {
     "data": {
      "image/png": "[encoded data removed]",
      "text/plain": [
       "<Figure size 640x480 with 1 Axes>"
      ]
     },
     "metadata": {},
     "output_type": "display_data"
    }
   ],
   "source": [
    "\n",
    "plt.hist(non_fraud_flist, bins =100 ,label=\"non_fraud\",color = \"red\",alpha=0.4)\n",
    "plt.hist(fraud_flist, bins = 100 ,label=\"fraud\", color = \"skyblue\",alpha=0.4)\n",
    "plt.title(\"Compression fidelity\",)\n",
    "plt.legend()\n",
    "plt.savefig(\"Compression_fidelity\")\n",
    "plt.show()"
   ]
  },
  {
   "cell_type": "code",
   "execution_count": 34,
   "id": "8559582a",
   "metadata": {},
   "outputs": [
    {
     "name": "stdout",
     "output_type": "stream",
     "text": [
      "split: 0.75\n",
      "benign classification accuracy: 0.83\n",
      "malignification accuracy: 0.93\n",
      "total accuracy: 0.88\n"
     ]
    }
   ],
   "source": [
    "split=0.75\n",
    "\n",
    "\n",
    "print(\"split:\",split)\n",
    "b_e=[]\n",
    "for i in fraud_flist:\n",
    "    if i<split:\n",
    "        b_e.append(1)\n",
    "    else:\n",
    "        b_e.append(0)\n",
    "ab_ac=sum(b_e)/len(b_e)\n",
    "print(\"benign classification accuracy:\",ab_ac)\n",
    "m_e=[]\n",
    "for i in non_fraud_flist:\n",
    "    if i>split:\n",
    "        m_e.append(1)\n",
    "    else:\n",
    "        m_e.append(0)\n",
    "am_ac=sum(m_e)/len(m_e)\n",
    "print(\"malignification accuracy:\",am_ac)\n",
    "t_ac=(sum(b_e)+sum(m_e))/(len(b_e)+len(m_e))\n",
    "print(\"total accuracy:\",t_ac)"
   ]
  },
  {
   "cell_type": "code",
   "execution_count": null,
   "id": "cf39420a",
   "metadata": {},
   "outputs": [],
   "source": []
  },
  {
   "cell_type": "code",
   "execution_count": null,
   "id": "d6fcce47",
   "metadata": {},
   "outputs": [],
   "source": []
  },
  {
   "cell_type": "code",
   "execution_count": null,
   "id": "2e9cdbc1",
   "metadata": {},
   "outputs": [],
   "source": []
  }
 ],
 "metadata": {
  "kernelspec": {
   "display_name": "conda_braket",
   "language": "python",
   "name": "conda_braket"
  },
  "language_info": {
   "codemirror_mode": {
    "name": "ipython",
    "version": 3
   },
   "file_extension": ".py",
   "mimetype": "text/x-python",
   "name": "python",
   "nbconvert_exporter": "python",
   "pygments_lexer": "ipython3",
   "version": "3.7.11"
  }
 },
 "nbformat": 4,
 "nbformat_minor": 5
}
