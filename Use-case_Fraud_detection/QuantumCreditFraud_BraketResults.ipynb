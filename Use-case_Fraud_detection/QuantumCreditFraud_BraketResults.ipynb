{
 "cells": [
  {
   "cell_type": "code",
   "execution_count": 1,
   "id": "7045ec39",
   "metadata": {},
   "outputs": [],
   "source": [
    "# Imported Libraries\n",
    "import pennylane as qml\n",
    "from pennylane.optimize import AdamOptimizer\n",
    "from pennylane import numpy as np \n",
    "import pandas as pd \n",
    "import matplotlib.pyplot as plt\n",
    "import seaborn as sns\n",
    "from graphs import plot_correlation_matrix\n",
    "import random\n",
    "\n",
    "import torch\n",
    "from torchvision import datasets, transforms"
   ]
  },
  {
   "cell_type": "code",
   "execution_count": 2,
   "id": "c4639faf",
   "metadata": {},
   "outputs": [],
   "source": [
    "import sys\n",
    "sys.path.append(\"..\") # Adds higher directory to python modules path\n",
    "sys.path.append \n",
    "\n",
    "from qencode.initialize import setAB_amplitude, setAux, setEnt\n",
    "from qencode.encoders import e2_classic\n",
    "from qencode.training_circuits import swap_t\n",
    "from qencode.qubits_arrangement import QubitsArrangement\n",
    "\n",
    "from qencode.utils.mnist import get_dataset"
   ]
  },
  {
   "cell_type": "code",
   "execution_count": 3,
   "id": "7daffe59",
   "metadata": {},
   "outputs": [
    {
     "name": "stdout",
     "output_type": "stream",
     "text": [
      "Requirement already satisfied: kaggle in /home/ec2-user/anaconda3/envs/Braket/lib/python3.7/site-packages (1.5.12)\n",
      "Requirement already satisfied: tqdm in /home/ec2-user/anaconda3/envs/Braket/lib/python3.7/site-packages (from kaggle) (4.62.3)\n",
      "Requirement already satisfied: python-dateutil in /home/ec2-user/anaconda3/envs/Braket/lib/python3.7/site-packages (from kaggle) (2.8.2)\n",
      "Requirement already satisfied: six>=1.10 in /home/ec2-user/anaconda3/envs/Braket/lib/python3.7/site-packages (from kaggle) (1.15.0)\n",
      "Requirement already satisfied: requests in /home/ec2-user/anaconda3/envs/Braket/lib/python3.7/site-packages (from kaggle) (2.27.1)\n",
      "Requirement already satisfied: urllib3 in /home/ec2-user/anaconda3/envs/Braket/lib/python3.7/site-packages (from kaggle) (1.26.8)\n",
      "Requirement already satisfied: python-slugify in /home/ec2-user/anaconda3/envs/Braket/lib/python3.7/site-packages (from kaggle) (6.1.0)\n",
      "Requirement already satisfied: certifi in /home/ec2-user/anaconda3/envs/Braket/lib/python3.7/site-packages (from kaggle) (2021.10.8)\n",
      "Requirement already satisfied: text-unidecode>=1.3 in /home/ec2-user/anaconda3/envs/Braket/lib/python3.7/site-packages (from python-slugify->kaggle) (1.3)\n",
      "Requirement already satisfied: charset-normalizer~=2.0.0 in /home/ec2-user/anaconda3/envs/Braket/lib/python3.7/site-packages (from requests->kaggle) (2.0.12)\n",
      "Requirement already satisfied: idna<4,>=2.5 in /home/ec2-user/anaconda3/envs/Braket/lib/python3.7/site-packages (from requests->kaggle) (2.10)\n"
     ]
    }
   ],
   "source": [
    "!pip install kaggle"
   ]
  },
  {
   "cell_type": "code",
   "execution_count": 4,
   "id": "26b47d71",
   "metadata": {},
   "outputs": [],
   "source": [
    "df = pd.read_csv('creditcard.csv')"
   ]
  },
  {
   "cell_type": "markdown",
   "id": "4420c82f",
   "metadata": {},
   "source": [
    "First, we import the credit card data set. We are only going to print the first 5 rows because the dataset contains over 280,000 rows. Each row represents a transaction. Time shows the time passed between the current and first transactions and amount shows the dollar amount spent on the transaction. There are also 28 more features represented by V1, V2, ... , V28 which come from principal component analysis. Finally, there is the class, where a '0' represents no fraud committed and a '1' represents a fraudulent transaction"
   ]
  },
  {
   "cell_type": "markdown",
   "id": "1e7d0d7f",
   "metadata": {},
   "source": [
    "Let's now check the class distribution"
   ]
  },
  {
   "cell_type": "code",
   "execution_count": 5,
   "id": "b808262f",
   "metadata": {},
   "outputs": [
    {
     "name": "stdout",
     "output_type": "stream",
     "text": [
      "No Frauds:  247128\n",
      "Frauds:  449\n"
     ]
    }
   ],
   "source": [
    "print('No Frauds: ', df['Class'].value_counts()[0])\n",
    "print('Frauds: ', df['Class'].value_counts()[1])"
   ]
  },
  {
   "cell_type": "markdown",
   "id": "16cb3108",
   "metadata": {},
   "source": [
    "Credit card fraud is relatively rare, this creates a very imbalanced distribution. A very imbalanced distribution is not ideal as this can lead to overfitting and our model assuming no fraud most of the time. It is also challenging to find the true correlations between the features and class."
   ]
  },
  {
   "cell_type": "code",
   "execution_count": 6,
   "id": "29308257",
   "metadata": {},
   "outputs": [],
   "source": [
    "plot_correlation_matrix(df, \"Original\")"
   ]
  },
  {
   "cell_type": "code",
   "execution_count": 7,
   "id": "c379d0d2",
   "metadata": {},
   "outputs": [
    {
     "data": {
      "text/html": [
       "<div>\n",
       "<style scoped>\n",
       "    .dataframe tbody tr th:only-of-type {\n",
       "        vertical-align: middle;\n",
       "    }\n",
       "\n",
       "    .dataframe tbody tr th {\n",
       "        vertical-align: top;\n",
       "    }\n",
       "\n",
       "    .dataframe thead th {\n",
       "        text-align: right;\n",
       "    }\n",
       "</style>\n",
       "<table border=\"1\" class=\"dataframe\">\n",
       "  <thead>\n",
       "    <tr style=\"text-align: right;\">\n",
       "      <th></th>\n",
       "      <th>scaled_amount</th>\n",
       "      <th>scaled_time</th>\n",
       "      <th>V1</th>\n",
       "      <th>V2</th>\n",
       "      <th>V3</th>\n",
       "      <th>V4</th>\n",
       "      <th>V5</th>\n",
       "      <th>V6</th>\n",
       "      <th>V7</th>\n",
       "      <th>V8</th>\n",
       "      <th>...</th>\n",
       "      <th>V20</th>\n",
       "      <th>V21</th>\n",
       "      <th>V22</th>\n",
       "      <th>V23</th>\n",
       "      <th>V24</th>\n",
       "      <th>V25</th>\n",
       "      <th>V26</th>\n",
       "      <th>V27</th>\n",
       "      <th>V28</th>\n",
       "      <th>Class</th>\n",
       "    </tr>\n",
       "  </thead>\n",
       "  <tbody>\n",
       "    <tr>\n",
       "      <th>0</th>\n",
       "      <td>1.709533</td>\n",
       "      <td>-1.004264</td>\n",
       "      <td>-1.359807</td>\n",
       "      <td>-0.072781</td>\n",
       "      <td>2.536347</td>\n",
       "      <td>1.378155</td>\n",
       "      <td>-0.338321</td>\n",
       "      <td>0.462388</td>\n",
       "      <td>0.239599</td>\n",
       "      <td>0.098698</td>\n",
       "      <td>...</td>\n",
       "      <td>0.251412</td>\n",
       "      <td>-0.018307</td>\n",
       "      <td>0.277838</td>\n",
       "      <td>-0.110474</td>\n",
       "      <td>0.066928</td>\n",
       "      <td>0.128539</td>\n",
       "      <td>-0.189115</td>\n",
       "      <td>0.133558</td>\n",
       "      <td>-0.021053</td>\n",
       "      <td>0.0</td>\n",
       "    </tr>\n",
       "    <tr>\n",
       "      <th>1</th>\n",
       "      <td>-0.277350</td>\n",
       "      <td>-1.004264</td>\n",
       "      <td>1.191857</td>\n",
       "      <td>0.266151</td>\n",
       "      <td>0.166480</td>\n",
       "      <td>0.448154</td>\n",
       "      <td>0.060018</td>\n",
       "      <td>-0.082361</td>\n",
       "      <td>-0.078803</td>\n",
       "      <td>0.085102</td>\n",
       "      <td>...</td>\n",
       "      <td>-0.069083</td>\n",
       "      <td>-0.225775</td>\n",
       "      <td>-0.638672</td>\n",
       "      <td>0.101288</td>\n",
       "      <td>-0.339846</td>\n",
       "      <td>0.167170</td>\n",
       "      <td>0.125895</td>\n",
       "      <td>-0.008983</td>\n",
       "      <td>0.014724</td>\n",
       "      <td>0.0</td>\n",
       "    </tr>\n",
       "    <tr>\n",
       "      <th>2</th>\n",
       "      <td>4.806761</td>\n",
       "      <td>-1.004251</td>\n",
       "      <td>-1.358354</td>\n",
       "      <td>-1.340163</td>\n",
       "      <td>1.773209</td>\n",
       "      <td>0.379780</td>\n",
       "      <td>-0.503198</td>\n",
       "      <td>1.800499</td>\n",
       "      <td>0.791461</td>\n",
       "      <td>0.247676</td>\n",
       "      <td>...</td>\n",
       "      <td>0.524980</td>\n",
       "      <td>0.247998</td>\n",
       "      <td>0.771679</td>\n",
       "      <td>0.909412</td>\n",
       "      <td>-0.689281</td>\n",
       "      <td>-0.327642</td>\n",
       "      <td>-0.139097</td>\n",
       "      <td>-0.055353</td>\n",
       "      <td>-0.059752</td>\n",
       "      <td>0.0</td>\n",
       "    </tr>\n",
       "    <tr>\n",
       "      <th>3</th>\n",
       "      <td>1.356322</td>\n",
       "      <td>-1.004251</td>\n",
       "      <td>-0.966272</td>\n",
       "      <td>-0.185226</td>\n",
       "      <td>1.792993</td>\n",
       "      <td>-0.863291</td>\n",
       "      <td>-0.010309</td>\n",
       "      <td>1.247203</td>\n",
       "      <td>0.237609</td>\n",
       "      <td>0.377436</td>\n",
       "      <td>...</td>\n",
       "      <td>-0.208038</td>\n",
       "      <td>-0.108300</td>\n",
       "      <td>0.005274</td>\n",
       "      <td>-0.190321</td>\n",
       "      <td>-1.175575</td>\n",
       "      <td>0.647376</td>\n",
       "      <td>-0.221929</td>\n",
       "      <td>0.062723</td>\n",
       "      <td>0.061458</td>\n",
       "      <td>0.0</td>\n",
       "    </tr>\n",
       "    <tr>\n",
       "      <th>4</th>\n",
       "      <td>0.632725</td>\n",
       "      <td>-1.004238</td>\n",
       "      <td>-1.158233</td>\n",
       "      <td>0.877737</td>\n",
       "      <td>1.548718</td>\n",
       "      <td>0.403034</td>\n",
       "      <td>-0.407193</td>\n",
       "      <td>0.095921</td>\n",
       "      <td>0.592941</td>\n",
       "      <td>-0.270533</td>\n",
       "      <td>...</td>\n",
       "      <td>0.408542</td>\n",
       "      <td>-0.009431</td>\n",
       "      <td>0.798278</td>\n",
       "      <td>-0.137458</td>\n",
       "      <td>0.141267</td>\n",
       "      <td>-0.206010</td>\n",
       "      <td>0.502292</td>\n",
       "      <td>0.219422</td>\n",
       "      <td>0.215153</td>\n",
       "      <td>0.0</td>\n",
       "    </tr>\n",
       "  </tbody>\n",
       "</table>\n",
       "<p>5 rows × 31 columns</p>\n",
       "</div>"
      ],
      "text/plain": [
       "   scaled_amount  scaled_time        V1        V2        V3        V4  \\\n",
       "0       1.709533    -1.004264 -1.359807 -0.072781  2.536347  1.378155   \n",
       "1      -0.277350    -1.004264  1.191857  0.266151  0.166480  0.448154   \n",
       "2       4.806761    -1.004251 -1.358354 -1.340163  1.773209  0.379780   \n",
       "3       1.356322    -1.004251 -0.966272 -0.185226  1.792993 -0.863291   \n",
       "4       0.632725    -1.004238 -1.158233  0.877737  1.548718  0.403034   \n",
       "\n",
       "         V5        V6        V7        V8  ...       V20       V21       V22  \\\n",
       "0 -0.338321  0.462388  0.239599  0.098698  ...  0.251412 -0.018307  0.277838   \n",
       "1  0.060018 -0.082361 -0.078803  0.085102  ... -0.069083 -0.225775 -0.638672   \n",
       "2 -0.503198  1.800499  0.791461  0.247676  ...  0.524980  0.247998  0.771679   \n",
       "3 -0.010309  1.247203  0.237609  0.377436  ... -0.208038 -0.108300  0.005274   \n",
       "4 -0.407193  0.095921  0.592941 -0.270533  ...  0.408542 -0.009431  0.798278   \n",
       "\n",
       "        V23       V24       V25       V26       V27       V28  Class  \n",
       "0 -0.110474  0.066928  0.128539 -0.189115  0.133558 -0.021053    0.0  \n",
       "1  0.101288 -0.339846  0.167170  0.125895 -0.008983  0.014724    0.0  \n",
       "2  0.909412 -0.689281 -0.327642 -0.139097 -0.055353 -0.059752    0.0  \n",
       "3 -0.190321 -1.175575  0.647376 -0.221929  0.062723  0.061458    0.0  \n",
       "4 -0.137458  0.141267 -0.206010  0.502292  0.219422  0.215153    0.0  \n",
       "\n",
       "[5 rows x 31 columns]"
      ]
     },
     "execution_count": 7,
     "metadata": {},
     "output_type": "execute_result"
    }
   ],
   "source": [
    "from sklearn.preprocessing import StandardScaler, RobustScaler\n",
    "\n",
    "# Scaling amount and time for the subsample\n",
    "df['scaled_amount'] = RobustScaler().fit_transform(df['Amount'].values.reshape(-1,1))\n",
    "df['scaled_time'] = RobustScaler().fit_transform(df['Time'].values.reshape(-1,1))\n",
    "\n",
    "df.drop(['Time','Amount'], axis=1, inplace=True)\n",
    "\n",
    "\n",
    "scaled_amount = df['scaled_amount']\n",
    "scaled_time = df['scaled_time']\n",
    "\n",
    "df.drop(['scaled_amount', 'scaled_time'], axis=1, inplace=True)\n",
    "df.insert(0, 'scaled_amount', scaled_amount)\n",
    "df.insert(1, 'scaled_time', scaled_time)\n",
    "\n",
    "\n",
    "\n",
    "df.head()"
   ]
  },
  {
   "cell_type": "code",
   "execution_count": 8,
   "id": "7318d1a7",
   "metadata": {},
   "outputs": [
    {
     "data": {
      "text/html": [
       "<div>\n",
       "<style scoped>\n",
       "    .dataframe tbody tr th:only-of-type {\n",
       "        vertical-align: middle;\n",
       "    }\n",
       "\n",
       "    .dataframe tbody tr th {\n",
       "        vertical-align: top;\n",
       "    }\n",
       "\n",
       "    .dataframe thead th {\n",
       "        text-align: right;\n",
       "    }\n",
       "</style>\n",
       "<table border=\"1\" class=\"dataframe\">\n",
       "  <thead>\n",
       "    <tr style=\"text-align: right;\">\n",
       "      <th></th>\n",
       "      <th>scaled_amount</th>\n",
       "      <th>scaled_time</th>\n",
       "      <th>V1</th>\n",
       "      <th>V2</th>\n",
       "      <th>V3</th>\n",
       "      <th>V4</th>\n",
       "      <th>V5</th>\n",
       "      <th>V6</th>\n",
       "      <th>V7</th>\n",
       "      <th>V8</th>\n",
       "      <th>...</th>\n",
       "      <th>V20</th>\n",
       "      <th>V21</th>\n",
       "      <th>V22</th>\n",
       "      <th>V23</th>\n",
       "      <th>V24</th>\n",
       "      <th>V25</th>\n",
       "      <th>V26</th>\n",
       "      <th>V27</th>\n",
       "      <th>V28</th>\n",
       "      <th>Class</th>\n",
       "    </tr>\n",
       "  </thead>\n",
       "  <tbody>\n",
       "    <tr>\n",
       "      <th>42635</th>\n",
       "      <td>-0.159838</td>\n",
       "      <td>-0.467626</td>\n",
       "      <td>-7.334341</td>\n",
       "      <td>4.960892</td>\n",
       "      <td>-8.451410</td>\n",
       "      <td>8.174825</td>\n",
       "      <td>-7.237464</td>\n",
       "      <td>-2.382711</td>\n",
       "      <td>-11.508842</td>\n",
       "      <td>4.635798</td>\n",
       "      <td>...</td>\n",
       "      <td>0.723314</td>\n",
       "      <td>2.153755</td>\n",
       "      <td>0.033922</td>\n",
       "      <td>-0.014095</td>\n",
       "      <td>0.625250</td>\n",
       "      <td>-0.053390</td>\n",
       "      <td>0.164709</td>\n",
       "      <td>1.411047</td>\n",
       "      <td>0.315645</td>\n",
       "      <td>1.0</td>\n",
       "    </tr>\n",
       "    <tr>\n",
       "      <th>91039</th>\n",
       "      <td>0.584043</td>\n",
       "      <td>-0.179557</td>\n",
       "      <td>1.091962</td>\n",
       "      <td>-0.249256</td>\n",
       "      <td>0.478365</td>\n",
       "      <td>0.608838</td>\n",
       "      <td>-0.539472</td>\n",
       "      <td>-0.142405</td>\n",
       "      <td>-0.182566</td>\n",
       "      <td>0.076721</td>\n",
       "      <td>...</td>\n",
       "      <td>0.004077</td>\n",
       "      <td>-0.241423</td>\n",
       "      <td>-0.719681</td>\n",
       "      <td>-0.018433</td>\n",
       "      <td>0.030088</td>\n",
       "      <td>0.291904</td>\n",
       "      <td>0.283943</td>\n",
       "      <td>-0.041650</td>\n",
       "      <td>0.011545</td>\n",
       "      <td>0.0</td>\n",
       "    </tr>\n",
       "    <tr>\n",
       "      <th>150667</th>\n",
       "      <td>0.741041</td>\n",
       "      <td>0.218846</td>\n",
       "      <td>-10.850282</td>\n",
       "      <td>6.727466</td>\n",
       "      <td>-16.760583</td>\n",
       "      <td>8.425832</td>\n",
       "      <td>-10.252697</td>\n",
       "      <td>-4.192171</td>\n",
       "      <td>-14.077086</td>\n",
       "      <td>7.168288</td>\n",
       "      <td>...</td>\n",
       "      <td>-0.646818</td>\n",
       "      <td>2.541637</td>\n",
       "      <td>0.135535</td>\n",
       "      <td>-1.023967</td>\n",
       "      <td>0.406265</td>\n",
       "      <td>0.106593</td>\n",
       "      <td>-0.026232</td>\n",
       "      <td>-1.464630</td>\n",
       "      <td>-0.411682</td>\n",
       "      <td>1.0</td>\n",
       "    </tr>\n",
       "    <tr>\n",
       "      <th>6108</th>\n",
       "      <td>0.484111</td>\n",
       "      <td>-0.913228</td>\n",
       "      <td>-4.397974</td>\n",
       "      <td>1.358367</td>\n",
       "      <td>-2.592844</td>\n",
       "      <td>2.679787</td>\n",
       "      <td>-1.128131</td>\n",
       "      <td>-1.706536</td>\n",
       "      <td>-3.496197</td>\n",
       "      <td>-0.248778</td>\n",
       "      <td>...</td>\n",
       "      <td>-0.171608</td>\n",
       "      <td>0.573574</td>\n",
       "      <td>0.176968</td>\n",
       "      <td>-0.436207</td>\n",
       "      <td>-0.053502</td>\n",
       "      <td>0.252405</td>\n",
       "      <td>-0.657488</td>\n",
       "      <td>-0.827136</td>\n",
       "      <td>0.849573</td>\n",
       "      <td>1.0</td>\n",
       "    </tr>\n",
       "    <tr>\n",
       "      <th>150662</th>\n",
       "      <td>3.960243</td>\n",
       "      <td>0.218755</td>\n",
       "      <td>-5.839192</td>\n",
       "      <td>7.151532</td>\n",
       "      <td>-12.816760</td>\n",
       "      <td>7.031115</td>\n",
       "      <td>-9.651272</td>\n",
       "      <td>-2.938427</td>\n",
       "      <td>-11.543207</td>\n",
       "      <td>4.843627</td>\n",
       "      <td>...</td>\n",
       "      <td>0.055684</td>\n",
       "      <td>2.462056</td>\n",
       "      <td>1.054865</td>\n",
       "      <td>0.530481</td>\n",
       "      <td>0.472670</td>\n",
       "      <td>-0.275998</td>\n",
       "      <td>0.282435</td>\n",
       "      <td>0.104886</td>\n",
       "      <td>0.254417</td>\n",
       "      <td>1.0</td>\n",
       "    </tr>\n",
       "  </tbody>\n",
       "</table>\n",
       "<p>5 rows × 31 columns</p>\n",
       "</div>"
      ],
      "text/plain": [
       "        scaled_amount  scaled_time         V1        V2         V3        V4  \\\n",
       "42635       -0.159838    -0.467626  -7.334341  4.960892  -8.451410  8.174825   \n",
       "91039        0.584043    -0.179557   1.091962 -0.249256   0.478365  0.608838   \n",
       "150667       0.741041     0.218846 -10.850282  6.727466 -16.760583  8.425832   \n",
       "6108         0.484111    -0.913228  -4.397974  1.358367  -2.592844  2.679787   \n",
       "150662       3.960243     0.218755  -5.839192  7.151532 -12.816760  7.031115   \n",
       "\n",
       "               V5        V6         V7        V8  ...       V20       V21  \\\n",
       "42635   -7.237464 -2.382711 -11.508842  4.635798  ...  0.723314  2.153755   \n",
       "91039   -0.539472 -0.142405  -0.182566  0.076721  ...  0.004077 -0.241423   \n",
       "150667 -10.252697 -4.192171 -14.077086  7.168288  ... -0.646818  2.541637   \n",
       "6108    -1.128131 -1.706536  -3.496197 -0.248778  ... -0.171608  0.573574   \n",
       "150662  -9.651272 -2.938427 -11.543207  4.843627  ...  0.055684  2.462056   \n",
       "\n",
       "             V22       V23       V24       V25       V26       V27       V28  \\\n",
       "42635   0.033922 -0.014095  0.625250 -0.053390  0.164709  1.411047  0.315645   \n",
       "91039  -0.719681 -0.018433  0.030088  0.291904  0.283943 -0.041650  0.011545   \n",
       "150667  0.135535 -1.023967  0.406265  0.106593 -0.026232 -1.464630 -0.411682   \n",
       "6108    0.176968 -0.436207 -0.053502  0.252405 -0.657488 -0.827136  0.849573   \n",
       "150662  1.054865  0.530481  0.472670 -0.275998  0.282435  0.104886  0.254417   \n",
       "\n",
       "        Class  \n",
       "42635     1.0  \n",
       "91039     0.0  \n",
       "150667    1.0  \n",
       "6108      1.0  \n",
       "150662    1.0  \n",
       "\n",
       "[5 rows x 31 columns]"
      ]
     },
     "execution_count": 8,
     "metadata": {},
     "output_type": "execute_result"
    }
   ],
   "source": [
    "\n",
    "df = df.sample(frac=1)\n",
    "fraud_df = df.loc[df['Class'] == 1]\n",
    "non_fraud_df = df.loc[df['Class'] == 0][:492]\n",
    "normal_distributed_df = pd.concat([fraud_df, non_fraud_df])\n",
    "sub_sample_df = normal_distributed_df.sample(frac=1, random_state=42)\n",
    "\n",
    "sub_sample_df.head()"
   ]
  },
  {
   "cell_type": "code",
   "execution_count": 9,
   "id": "93aea6ed",
   "metadata": {},
   "outputs": [],
   "source": [
    "sub_sample_corr = sub_sample_df.corr()\n",
    "plot_correlation_matrix(sub_sample_corr, \"Sub Sample Correlation Matrix\")"
   ]
  },
  {
   "cell_type": "markdown",
   "id": "5fdf313f",
   "metadata": {},
   "source": [
    "Find the features with the strongest correlation to class. Half are the strongest positive correlations, half are the strongest negative correlations. "
   ]
  },
  {
   "cell_type": "code",
   "execution_count": 10,
   "id": "c879d305",
   "metadata": {},
   "outputs": [
    {
     "name": "stdout",
     "output_type": "stream",
     "text": [
      "(['V4', 'V14', 'V11', 'V12', 'V2', 'V10', 'V19', 'V16'], [0.7224944130082979, -0.7597213268619109, 0.7010988535241773, -0.6947929253418941, 0.5248640088571999, -0.6390742446261429, 0.27319075958066563, -0.6195809770643468])\n"
     ]
    }
   ],
   "source": [
    "def find_strongest_correlations(dataframe, qubits):\n",
    "        \n",
    "    class_correlations = dataframe.loc['Class', :]\n",
    "    class_correlations = class_correlations.drop(index = 'Class')\n",
    "    \n",
    "    feature_list = list(class_correlations.index)\n",
    "    correlation_list = [class_correlations[x] for x in feature_list]\n",
    "    \n",
    "    features = []\n",
    "    correlations = []\n",
    "    \n",
    "    for i in range(int(qubits/2)):\n",
    "        \n",
    "        \n",
    "        correlations.append(max(correlation_list))\n",
    "        features.append(feature_list[correlation_list.index(max(correlation_list))])\n",
    "        \n",
    "        del feature_list[correlation_list.index(max(correlation_list))]\n",
    "        del correlation_list[correlation_list.index(max(correlation_list))]                        \n",
    "                                      \n",
    "        correlations.append(min(correlation_list))\n",
    "        features.append(feature_list[correlation_list.index(min(correlation_list))])\n",
    "        \n",
    "        del feature_list[correlation_list.index(min(correlation_list))]\n",
    "        del correlation_list[correlation_list.index(min(correlation_list))] \n",
    "    \n",
    "    return features, correlations\n",
    "    \n",
    "    \n",
    "print(find_strongest_correlations(sub_sample_corr, 8))\n",
    "\n"
   ]
  },
  {
   "cell_type": "code",
   "execution_count": 11,
   "id": "b19a0964",
   "metadata": {},
   "outputs": [],
   "source": [
    "feature_list, correlations = find_strongest_correlations(sub_sample_corr, 8)\n",
    "\n",
    "#Create dataframe with only the features with the strongest correlations to class\n",
    "\n",
    "#input_data = df[feature_list] \n",
    "#print(input_data.head)\n",
    "#input_data.head()"
   ]
  },
  {
   "cell_type": "code",
   "execution_count": 12,
   "id": "c426f228",
   "metadata": {},
   "outputs": [],
   "source": [
    "# Dataframe of all non fraudulent transactions\n",
    "branch = df\n",
    "non_fraud = branch[branch[\"Class\"]!=\"1\"]\n",
    "\n",
    "# All examples of non fraudulent data with 6 features\n",
    "non_fraud = non_fraud[feature_list]\n",
    "non_fraud.head()\n",
    "\n",
    "input_data = non_fraud.to_numpy()"
   ]
  },
  {
   "cell_type": "markdown",
   "id": "30285c5b",
   "metadata": {},
   "source": [
    "# Training "
   ]
  },
  {
   "cell_type": "code",
   "execution_count": 13,
   "id": "2875b146",
   "metadata": {},
   "outputs": [
    {
     "name": "stdout",
     "output_type": "stream",
     "text": [
      "Qubits: [0, 1, 2, 3, 4, 5]\n"
     ]
    }
   ],
   "source": [
    "shots = 2500\n",
    "nr_trash= 2\n",
    "nr_latent= 1\n",
    "nr_ent=0\n",
    "\n",
    "spec = QubitsArrangement(nr_trash, nr_latent, nr_swap=1, nr_ent=nr_ent)\n",
    "print(\"Qubits:\", spec.qubits)\n",
    "\n",
    "#set up the device \n",
    "dev = qml.device(\"default.qubit\", wires=spec.num_qubits)"
   ]
  },
  {
   "cell_type": "code",
   "execution_count": 14,
   "id": "f4408533",
   "metadata": {},
   "outputs": [],
   "source": [
    "@qml.qnode(dev)\n",
    "def training_circuit_example(init_params, encoder_params, reinit_state):\n",
    "    #initilaization\n",
    "    setAB_amplitude(spec, init_params)\n",
    "\n",
    "    setAux(spec, reinit_state)\n",
    "\n",
    "    setEnt(spec, inputs=[1 / np.sqrt(2), 0, 0, 1 / np.sqrt(2)])\n",
    "\n",
    "    #encoder\n",
    "\n",
    "    for params in encoder_params:\n",
    "        e2_classic(params, [*spec.latent_qubits, *spec.trash_qubits])\n",
    "\n",
    "    #swap test \n",
    "    swap_t(spec)\n",
    "\n",
    "    return [qml.probs(i) for i in spec.swap_qubits]"
   ]
  },
  {
   "cell_type": "code",
   "execution_count": 15,
   "id": "6addb871",
   "metadata": {},
   "outputs": [],
   "source": [
    "epochs = 1000\n",
    "learning_rate = 0.0003\n",
    "batch_size = 2\n",
    "num_samples = 30 # proportion of the data used for training \n",
    "\n",
    "beta1 = 0.9\n",
    "beta2 = 0.999\n",
    "opt = AdamOptimizer(learning_rate, beta1=beta1, beta2=beta2)"
   ]
  },
  {
   "cell_type": "code",
   "execution_count": 16,
   "id": "74ceddc8",
   "metadata": {},
   "outputs": [],
   "source": [
    "def fid_func(output):\n",
    "    # Implemented as the Fidelity Loss\n",
    "    # output[0] because we take the probability that the state after the \n",
    "    # SWAP test is ket(0), like the reference state\n",
    "    fidelity_loss = 1 / output[0]\n",
    "    return fidelity_loss"
   ]
  },
  {
   "cell_type": "code",
   "execution_count": 17,
   "id": "2d0bbe62",
   "metadata": {},
   "outputs": [],
   "source": [
    "def cost(encoder_params, X):\n",
    "    reinit_state = [0 for i in range(2 ** len(spec.aux_qubits))]\n",
    "    reinit_state[0] = 1.0\n",
    "    loss = 0.0\n",
    "    for x in X:\n",
    "        output = training_circuit_example(init_params=x[0], encoder_params=encoder_params, reinit_state=reinit_state)[0]\n",
    "        f = fid_func(output)\n",
    "        loss = loss + f\n",
    "    return loss / len(X)"
   ]
  },
  {
   "cell_type": "code",
   "execution_count": 18,
   "id": "87b469ca",
   "metadata": {},
   "outputs": [],
   "source": [
    "def fidelity(encoder_params, X):\n",
    "    reinit_state = [0 for i in range(2 ** len(spec.aux_qubits))]\n",
    "    reinit_state[0] = 1.0\n",
    "    loss = 0.0\n",
    "    for x in X:\n",
    "        output = training_circuit_example(init_params=x[0], encoder_params=encoder_params, reinit_state=reinit_state)[0]\n",
    "        f = output[0]\n",
    "        loss = loss + f\n",
    "    return loss / len(X)"
   ]
  },
  {
   "cell_type": "code",
   "execution_count": 19,
   "id": "6ed35045",
   "metadata": {},
   "outputs": [],
   "source": [
    "def iterate_batches(X, batch_size):\n",
    "    \n",
    "    random.shuffle(X)\n",
    "\n",
    "    batch_list = []\n",
    "    batch = []\n",
    "    for x in X:\n",
    "        if len(batch) < batch_size:\n",
    "            batch.append(x)\n",
    "\n",
    "        else:\n",
    "            batch_list.append(batch)\n",
    "            batch = []\n",
    "    if len(batch) != 0:\n",
    "        batch_list.append(batch)\n",
    "    return batch_list"
   ]
  },
  {
   "cell_type": "code",
   "execution_count": 20,
   "id": "7cb822e1",
   "metadata": {},
   "outputs": [
    {
     "name": "stderr",
     "output_type": "stream",
     "text": [
      "/home/ec2-user/anaconda3/envs/Braket/lib/python3.7/site-packages/ipykernel/__main__.py:7: UserWarning: Creating a tensor from a list of numpy.ndarrays is extremely slow. Please consider converting the list to a single numpy.ndarray with numpy.array() before converting to a tensor. (Triggered internally at  ../torch/csrc/utils/tensor_new.cpp:201.)\n"
     ]
    }
   ],
   "source": [
    "num_samples = .2 \n",
    "num_samples = 40\n",
    "#approach = df[df[\"Class\"]!=\"1\"]\n",
    "#training_data = [ torch.tensor([input_data[i]]) for i in range(int(len(input_data)*num_samples))]\n",
    "#test_data = [torch.tensor([input_data[i]]) for i in range(int(len(input_data)*num_samples),len(input_data))]\n",
    "\n",
    "training_data = [ torch.tensor([input_data[i]]) for i in range(num_samples)]\n",
    "test_data = [ torch.tensor([input_data[i]]) for i in range(num_samples,num_samples+num_samples)]\n",
    "\n",
    "#training_data = [ torch.tensor([approach[i]]) for i in range(int(len(approach)*num_samples))]\n",
    "#test_data = [torch.tensor([approach[i]]) for i in range(int(len(approach)*num_samples),len(input_data))]"
   ]
  },
  {
   "cell_type": "code",
   "execution_count": 21,
   "id": "99bd1107",
   "metadata": {},
   "outputs": [
    {
     "data": {
      "text/plain": [
       "tensor([[-2.5962, -0.2051, -0.2194, -0.7224, -1.6188,  1.5937, -0.2598, -0.7080]],\n",
       "       dtype=torch.float64)"
      ]
     },
     "execution_count": 21,
     "metadata": {},
     "output_type": "execute_result"
    }
   ],
   "source": [
    "training_data[0]"
   ]
  },
  {
   "cell_type": "code",
   "execution_count": 22,
   "id": "8cb6b915",
   "metadata": {},
   "outputs": [
    {
     "data": {
      "text/plain": [
       "'\\nX1 = [torch.reshape(x[0], (1, 2 ** (len(spec.latent_qubits) + len(spec.trash_qubits)))) for x in training_data]\\nX2 = []\\nfor i in range(len(X1)):\\n    X2.append([X1[1], training_data[i][1]])\\nX_training = X2\\n\\nX1 = [torch.reshape(x[0], (1, 2 ** (len(spec.latent_qubits) + len(spec.trash_qubits)))) for x in test_data]\\nX2 = []\\nfor i in range(len(X1)):\\n    X2.append([X1[1], training_data[i][1]])\\nX_tes = X2\\n'"
      ]
     },
     "execution_count": 22,
     "metadata": {},
     "output_type": "execute_result"
    }
   ],
   "source": [
    "X_training = training_data\n",
    "X_tes = test_data\n",
    "'''\n",
    "X1 = [torch.reshape(x[0], (1, 2 ** (len(spec.latent_qubits) + len(spec.trash_qubits)))) for x in training_data]\n",
    "X2 = []\n",
    "for i in range(len(X1)):\n",
    "    X2.append([X1[1], training_data[i][1]])\n",
    "X_training = X2\n",
    "\n",
    "X1 = [torch.reshape(x[0], (1, 2 ** (len(spec.latent_qubits) + len(spec.trash_qubits)))) for x in test_data]\n",
    "X2 = []\n",
    "for i in range(len(X1)):\n",
    "    X2.append([X1[1], training_data[i][1]])\n",
    "X_tes = X2\n",
    "'''"
   ]
  },
  {
   "cell_type": "code",
   "execution_count": 23,
   "id": "b6e32d02",
   "metadata": {},
   "outputs": [],
   "source": [
    "# initialize random encoder parameters\n",
    "nr_encod_qubits = len(spec.trash_qubits) + len(spec.latent_qubits)\n",
    "nr_par_encoder =  15 * int(nr_encod_qubits*(nr_encod_qubits-1)/2)\n",
    "encoder_params = np.random.uniform(size=(1, nr_par_encoder), requires_grad=True)"
   ]
  },
  {
   "cell_type": "code",
   "execution_count": 24,
   "id": "595d1d77",
   "metadata": {},
   "outputs": [
    {
     "data": {
      "text/html": [
       "<div>\n",
       "<style scoped>\n",
       "    .dataframe tbody tr th:only-of-type {\n",
       "        vertical-align: middle;\n",
       "    }\n",
       "\n",
       "    .dataframe tbody tr th {\n",
       "        vertical-align: top;\n",
       "    }\n",
       "\n",
       "    .dataframe thead th {\n",
       "        text-align: right;\n",
       "    }\n",
       "</style>\n",
       "<table border=\"1\" class=\"dataframe\">\n",
       "  <thead>\n",
       "    <tr style=\"text-align: right;\">\n",
       "      <th></th>\n",
       "      <th>V4</th>\n",
       "      <th>V14</th>\n",
       "      <th>V11</th>\n",
       "      <th>V12</th>\n",
       "      <th>V2</th>\n",
       "      <th>V10</th>\n",
       "      <th>V19</th>\n",
       "      <th>V16</th>\n",
       "    </tr>\n",
       "  </thead>\n",
       "  <tbody>\n",
       "    <tr>\n",
       "      <th>30496</th>\n",
       "      <td>5.252842</td>\n",
       "      <td>-8.604759</td>\n",
       "      <td>3.657350</td>\n",
       "      <td>-7.781448</td>\n",
       "      <td>5.649439</td>\n",
       "      <td>-7.833556</td>\n",
       "      <td>1.645414</td>\n",
       "      <td>-6.553973</td>\n",
       "    </tr>\n",
       "    <tr>\n",
       "      <th>152019</th>\n",
       "      <td>1.710314</td>\n",
       "      <td>-0.673818</td>\n",
       "      <td>2.175230</td>\n",
       "      <td>-4.381078</td>\n",
       "      <td>4.107873</td>\n",
       "      <td>-6.625692</td>\n",
       "      <td>2.594453</td>\n",
       "      <td>-4.254927</td>\n",
       "    </tr>\n",
       "    <tr>\n",
       "      <th>235644</th>\n",
       "      <td>3.121459</td>\n",
       "      <td>-6.745561</td>\n",
       "      <td>1.927186</td>\n",
       "      <td>-6.011155</td>\n",
       "      <td>3.846800</td>\n",
       "      <td>-5.175660</td>\n",
       "      <td>0.971906</td>\n",
       "      <td>-4.325132</td>\n",
       "    </tr>\n",
       "    <tr>\n",
       "      <th>44556</th>\n",
       "      <td>3.616119</td>\n",
       "      <td>-7.245550</td>\n",
       "      <td>3.586824</td>\n",
       "      <td>-6.636229</td>\n",
       "      <td>3.353451</td>\n",
       "      <td>-5.699922</td>\n",
       "      <td>0.936940</td>\n",
       "      <td>-6.856810</td>\n",
       "    </tr>\n",
       "    <tr>\n",
       "      <th>144104</th>\n",
       "      <td>3.891160</td>\n",
       "      <td>-8.149322</td>\n",
       "      <td>4.221304</td>\n",
       "      <td>-6.119667</td>\n",
       "      <td>2.928541</td>\n",
       "      <td>-5.995676</td>\n",
       "      <td>2.355919</td>\n",
       "      <td>-5.375283</td>\n",
       "    </tr>\n",
       "  </tbody>\n",
       "</table>\n",
       "</div>"
      ],
      "text/plain": [
       "              V4       V14       V11       V12        V2       V10       V19  \\\n",
       "30496   5.252842 -8.604759  3.657350 -7.781448  5.649439 -7.833556  1.645414   \n",
       "152019  1.710314 -0.673818  2.175230 -4.381078  4.107873 -6.625692  2.594453   \n",
       "235644  3.121459 -6.745561  1.927186 -6.011155  3.846800 -5.175660  0.971906   \n",
       "44556   3.616119 -7.245550  3.586824 -6.636229  3.353451 -5.699922  0.936940   \n",
       "144104  3.891160 -8.149322  4.221304 -6.119667  2.928541 -5.995676  2.355919   \n",
       "\n",
       "             V16  \n",
       "30496  -6.553973  \n",
       "152019 -4.254927  \n",
       "235644 -4.325132  \n",
       "44556  -6.856810  \n",
       "144104 -5.375283  "
      ]
     },
     "execution_count": 24,
     "metadata": {},
     "output_type": "execute_result"
    }
   ],
   "source": [
    "#fraud = df[df[\"Class\"]==\"1\"]\n",
    "fraud = fraud_df[feature_list]\n",
    "np_fraud = fraud.to_numpy()\n",
    "fraud_data = [ torch.tensor([np_fraud[i]]) for i in range(len(fraud.to_numpy()))]\n",
    "\n",
    "fraud.head()\n"
   ]
  },
  {
   "cell_type": "code",
   "execution_count": 25,
   "id": "58a12e18",
   "metadata": {},
   "outputs": [
    {
     "data": {
      "text/plain": [
       "'\\nloss_hist=[]\\nfid_hist=[]\\n\\nloss_hist_test=[]\\nfid_hist_test=[]\\n\\nfraud_fid=[]\\n\\nfor epoch in range(epochs):\\n    batches = iterate_batches(X=training_data, batch_size=batch_size)\\n    for xbatch in batches:\\n        encoder_params = opt.step(cost, encoder_params, X=xbatch)\\n\\n        \\n    if epoch%5 == 0:\\n        \\n        loss_training = cost(encoder_params, X_training )\\n        fidel = fidelity(encoder_params, X_training )\\n        \\n        loss_hist.append(loss_training)\\n        fid_hist.append(fidel)\\n        print(\"Epoch:{} | Loss:{} | Fidelity:{}\".format(epoch, loss_training, fidel))\\n\\n        loss_test = cost(encoder_params, X_tes )\\n        fidel = fidelity(encoder_params, X_tes )\\n        loss_hist_test.append(loss_test)\\n        fid_hist_test.append(fidel)\\n        print(\"Test-Epoch:{} | Loss:{} | Fidelity:{}\".format(epoch, loss_test, fidel))\\n        \\n        f_fidel = fidelity(encoder_params, fraud_data )\\n        fraud_fid.append(f_fidel)\\n        print(\"Fraud Fidelity:{}\".format(f_fidel))\\n'"
      ]
     },
     "execution_count": 25,
     "metadata": {},
     "output_type": "execute_result"
    }
   ],
   "source": [
    "\"\"\"\n",
    "loss_hist=[]\n",
    "fid_hist=[]\n",
    "\n",
    "loss_hist_test=[]\n",
    "fid_hist_test=[]\n",
    "\n",
    "fraud_fid=[]\n",
    "\n",
    "for epoch in range(epochs):\n",
    "    batches = iterate_batches(X=training_data, batch_size=batch_size)\n",
    "    for xbatch in batches:\n",
    "        encoder_params = opt.step(cost, encoder_params, X=xbatch)\n",
    "\n",
    "        \n",
    "    if epoch%5 == 0:\n",
    "        \n",
    "        loss_training = cost(encoder_params, X_training )\n",
    "        fidel = fidelity(encoder_params, X_training )\n",
    "        \n",
    "        loss_hist.append(loss_training)\n",
    "        fid_hist.append(fidel)\n",
    "        print(\"Epoch:{} | Loss:{} | Fidelity:{}\".format(epoch, loss_training, fidel))\n",
    "\n",
    "        loss_test = cost(encoder_params, X_tes )\n",
    "        fidel = fidelity(encoder_params, X_tes )\n",
    "        loss_hist_test.append(loss_test)\n",
    "        fid_hist_test.append(fidel)\n",
    "        print(\"Test-Epoch:{} | Loss:{} | Fidelity:{}\".format(epoch, loss_test, fidel))\n",
    "        \n",
    "        f_fidel = fidelity(encoder_params, fraud_data )\n",
    "        fraud_fid.append(f_fidel)\n",
    "        print(\"Fraud Fidelity:{}\".format(f_fidel))\n",
    "\"\"\""
   ]
  },
  {
   "cell_type": "code",
   "execution_count": 26,
   "id": "2ccbe5be",
   "metadata": {},
   "outputs": [],
   "source": [
    "encoder_params=[[-0.45793534, -0.60180382,  1.36706854, -0.39273726,  0.78967496,\n",
    "         -0.11834691,  1.21601293,  0.7257659 ,  0.16775198,  0.87110514,\n",
    "          0.5825973 ,  1.35786832,  1.6198694 , -0.21858262,  1.41542989,\n",
    "          1.2968311 ,  1.8630585 ,  0.50511886,  0.75524677,  0.82482716,\n",
    "          1.02949018, -0.023521  ,  0.55110408,  0.15877528,  0.62316124,\n",
    "          0.37113699,  0.4557925 ,  0.62940097,  0.61549768,  0.95122916,\n",
    "          0.22349399,  0.86457997,  0.81546047,  1.47984623,  1.72818011,\n",
    "         -0.30175269,  0.67999145, -0.22226086,  0.94370564,  1.48028116,\n",
    "          0.72720142,  0.20210445,  0.14995309,  0.19133051, -0.35101019,\n",
    "          0.40932117, -0.09846242,  0.65960454,  0.78151562,  1.17058629,\n",
    "          0.23858532,  0.71485483,  0.31327769,  1.63693523,  0.95525645,\n",
    "          0.58935465,  0.76165831,  0.62729872,  0.55561916,  0.19378356,\n",
    "          0.41408805,  1.01374824,  0.37282255, -0.06769513,  0.45583351,\n",
    "         -0.05101048,  0.83344398,  1.58156091,  1.46059524,  0.9371276 ,\n",
    "          0.96522386,  0.27626285,  0.19818911,  0.11227637,  0.38220371,\n",
    "          0.64166103,  0.92703234,  0.3736458 ,  0.21161801,  0.62412085,\n",
    "          0.3278856 , -0.18893975,  0.86769553,  0.78573112,  0.50142613,\n",
    "          0.96622037,  0.40300401,  0.55802604,  0.12912973,  0.14822851]]"
   ]
  },
  {
   "cell_type": "code",
   "execution_count": 27,
   "id": "e2af57bb",
   "metadata": {},
   "outputs": [
    {
     "name": "stdout",
     "output_type": "stream",
     "text": [
      "0.5044869319102099\n",
      "0.8322707087812675\n"
     ]
    }
   ],
   "source": [
    "branch = df \n",
    "non_fraud_df = branch.loc[branch[\"Class\"]!=1][:200]\n",
    "\n",
    "\n",
    "non_fraud = non_fraud_df[feature_list]\n",
    "np_non_fraud = non_fraud.to_numpy()\n",
    "non_fraud_data = [ torch.tensor([np_non_fraud[i]]) for i in range(len(non_fraud.to_numpy()))]\n",
    "\n",
    "non_fraud_flist=[]\n",
    "for b in non_fraud_data:\n",
    "    f=fidelity(encoder_params, [b])\n",
    "    non_fraud_flist.append(f.item())\n",
    "    \n",
    "print(min(non_fraud_flist))\n",
    "print(max(non_fraud_flist))\n"
   ]
  },
  {
   "cell_type": "code",
   "execution_count": 28,
   "id": "a8c5e016",
   "metadata": {},
   "outputs": [
    {
     "name": "stdout",
     "output_type": "stream",
     "text": [
      "0.5256371817626905\n",
      "0.8314060213631194\n"
     ]
    }
   ],
   "source": [
    "#np_ilegal= ilegal.to_numpy()\n",
    "#ilegal_data = [ torch.tensor([np_ilegal[i]]) for i in range(len(ilegal.to_numpy()))]\n",
    "fraud_df = branch.loc[branch[\"Class\"]==1][:200]\n",
    "non_fraud = fraud_df[feature_list]\n",
    "np_non_fraud = non_fraud.to_numpy()\n",
    "fraud_data = [ torch.tensor([np_non_fraud[i]]) for i in range(len(non_fraud.to_numpy()))]\n",
    "\n",
    "\n",
    "\n",
    "fraud_flist=[]\n",
    "for b in fraud_data:\n",
    "    f=fidelity(encoder_params, [b])\n",
    "    fraud_flist.append(f.item())\n",
    "    \n",
    "print(min(fraud_flist))\n",
    "print(max(fraud_flist))\n"
   ]
  },
  {
   "cell_type": "code",
   "execution_count": 29,
   "id": "baa99cfb",
   "metadata": {},
   "outputs": [
    {
     "data": {
      "image/png": "[encoded data removed]",
      "text/plain": [
       "<Figure size 1500x800 with 2 Axes>"
      ]
     },
     "metadata": {},
     "output_type": "display_data"
    },
    {
     "data": {
      "image/png": "[encoded data removed]",
      "text/plain": [
       "<Figure size 1500x800 with 2 Axes>"
      ]
     },
     "metadata": {},
     "output_type": "display_data"
    }
   ],
   "source": [
    "plt.hist(non_fraud_flist, bins =100 ,label=\"non_fraud\",color = \"red\",alpha=0.4)\n",
    "plt.hist(fraud_flist, bins = 100 ,label=\"fraud\", color = \"skyblue\",alpha=0.4)\n",
    "plt.title(\"Compression fidelity\",)\n",
    "plt.legend()\n",
    "plt.savefig(\"Compression_fidelity\")\n",
    "plt.show()\n"
   ]
  },
  {
   "cell_type": "markdown",
   "id": "9a6470c5",
   "metadata": {},
   "source": [
    "## Real Real"
   ]
  },
  {
   "cell_type": "code",
   "execution_count": null,
   "id": "cefe1070",
   "metadata": {},
   "outputs": [],
   "source": []
  },
  {
   "cell_type": "code",
   "execution_count": 30,
   "id": "9b2dd874",
   "metadata": {},
   "outputs": [],
   "source": [
    "device_rigetti = \"arn:aws:braket:::device/qpu/rigetti/Aspen-11\"\n",
    "\n",
    "# Note: please change the s3 directory accordingly based on your account if you want to run the code\n",
    "my_bucket = f\"amazon-braket-e2ddc0be70c2\" # the name of the bucket\n",
    "my_prefix = \"e5results\" # the name of the folder in the bucket\n",
    "s3_folder = (my_bucket, my_prefix)"
   ]
  },
  {
   "cell_type": "code",
   "execution_count": 32,
   "id": "c758fa4a",
   "metadata": {},
   "outputs": [],
   "source": [
    "qubits= [0, 1, 2, 3, 4, 5]\n",
    "\n",
    "dev_rigetti_aws = qml.device('braket.aws.qubit', device_arn=device_rigetti, shots=2500*2, wires=qubits, s3_destination_folder=s3_folder)\n",
    "\n"
   ]
  },
  {
   "cell_type": "code",
   "execution_count": 33,
   "id": "520af4ec",
   "metadata": {},
   "outputs": [],
   "source": [
    "@qml.qnode(dev)\n",
    "def training_circuit_example_(init_params, encoder_params, reinit_state):\n",
    "    #initilaization\n",
    "    setAB_amplitude(spec, init_params)\n",
    "\n",
    "    setAux(spec, reinit_state)\n",
    "\n",
    "    setEnt(spec, inputs=[1 / np.sqrt(2), 0, 0, 1 / np.sqrt(2)])\n",
    "\n",
    "    #encoder\n",
    "\n",
    "    for params in encoder_params:\n",
    "        e2_classic(params, [*spec.latent_qubits, *spec.trash_qubits])\n",
    "\n",
    "    #swap test \n",
    "    swap_t(spec)\n",
    "\n",
    "    return [qml.probs(i) for i in spec.swap_qubits]\n",
    "\n",
    "\n",
    "def fidelity(encoder_params, X):\n",
    "    reinit_state = [0 for i in range(2 ** len(spec.aux_qubits))]\n",
    "    reinit_state[0] = 1.0\n",
    "    loss = 0.0\n",
    "    for x in X:\n",
    "        output = training_circuit_example_(init_params=x[0], encoder_params=encoder_params, reinit_state=reinit_state)[0]\n",
    "        f = output[0]\n",
    "        loss = loss + f\n",
    "    return loss / len(X)"
   ]
  },
  {
   "cell_type": "code",
   "execution_count": 34,
   "id": "7712f910",
   "metadata": {},
   "outputs": [
    {
     "name": "stdout",
     "output_type": "stream",
     "text": [
      "0.5044869319102099\n",
      "0.8322707087812675\n"
     ]
    }
   ],
   "source": [
    "branch = df \n",
    "non_fraud_df = branch.loc[branch[\"Class\"]!=1][:200]\n",
    "\n",
    "\n",
    "non_fraud = non_fraud_df[feature_list]\n",
    "np_non_fraud = non_fraud.to_numpy()\n",
    "non_fraud_data = [ torch.tensor([np_non_fraud[i]]) for i in range(len(non_fraud.to_numpy()))]\n",
    "\n",
    "non_fraud_flist=[]\n",
    "for b in non_fraud_data:\n",
    "    f=fidelity(encoder_params, [b])\n",
    "    non_fraud_flist.append(f.item())\n",
    "    \n",
    "print(min(non_fraud_flist))\n",
    "print(max(non_fraud_flist))"
   ]
  },
  {
   "cell_type": "code",
   "execution_count": 35,
   "id": "af34e4a1",
   "metadata": {},
   "outputs": [
    {
     "name": "stdout",
     "output_type": "stream",
     "text": [
      "0.5256371817626905\n",
      "0.8314060213631194\n"
     ]
    }
   ],
   "source": [
    "#np_ilegal= ilegal.to_numpy()\n",
    "#ilegal_data = [ torch.tensor([np_ilegal[i]]) for i in range(len(ilegal.to_numpy()))]\n",
    "fraud_df = branch.loc[branch[\"Class\"]==1][:200]\n",
    "non_fraud = fraud_df[feature_list]\n",
    "np_non_fraud = non_fraud.to_numpy()\n",
    "fraud_data = [ torch.tensor([np_non_fraud[i]]) for i in range(len(non_fraud.to_numpy()))]\n",
    "\n",
    "\n",
    "\n",
    "fraud_flist=[]\n",
    "for b in fraud_data:\n",
    "    f=fidelity(encoder_params, [b])\n",
    "    fraud_flist.append(f.item())\n",
    "    \n",
    "print(min(fraud_flist))\n",
    "print(max(fraud_flist))"
   ]
  },
  {
   "cell_type": "code",
   "execution_count": 36,
   "id": "bb706c2a",
   "metadata": {},
   "outputs": [
    {
     "data": {
      "image/png": "[encoded data removed]",
      "text/plain": [
       "<Figure size 640x480 with 1 Axes>"
      ]
     },
     "metadata": {},
     "output_type": "display_data"
    }
   ],
   "source": [
    "plt.hist(non_fraud_flist, bins =100 ,label=\"non_fraud\",color = \"red\",alpha=0.4)\n",
    "plt.hist(fraud_flist, bins = 100 ,label=\"fraud\", color = \"skyblue\",alpha=0.4)\n",
    "plt.title(\"Compression fidelity\",)\n",
    "plt.legend()\n",
    "plt.savefig(\"Compression_fidelity\")\n",
    "plt.show()"
   ]
  },
  {
   "cell_type": "code",
   "execution_count": null,
   "id": "14bca3ca",
   "metadata": {},
   "outputs": [],
   "source": []
  }
 ],
 "metadata": {
  "kernelspec": {
   "display_name": "conda_braket",
   "language": "python",
   "name": "conda_braket"
  },
  "language_info": {
   "codemirror_mode": {
    "name": "ipython",
    "version": 3
   },
   "file_extension": ".py",
   "mimetype": "text/x-python",
   "name": "python",
   "nbconvert_exporter": "python",
   "pygments_lexer": "ipython3",
   "version": "3.7.11"
  }
 },
 "nbformat": 4,
 "nbformat_minor": 5
}
