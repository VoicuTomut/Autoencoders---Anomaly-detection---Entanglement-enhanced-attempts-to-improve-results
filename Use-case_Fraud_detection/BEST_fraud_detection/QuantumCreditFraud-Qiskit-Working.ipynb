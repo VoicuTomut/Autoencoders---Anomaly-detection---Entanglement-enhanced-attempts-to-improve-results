{
 "cells": [
  {
   "cell_type": "code",
   "execution_count": 2,
   "id": "4e9c15f7",
   "metadata": {},
   "outputs": [],
   "source": [
    "# Imported Libraries\n",
    "import pennylane as qml\n",
    "from pennylane.optimize import AdamOptimizer\n",
    "from pennylane import numpy as np \n",
    "import pandas as pd \n",
    "import matplotlib.pyplot as plt\n",
    "import seaborn as sns\n",
    "from graphs import plot_correlation_matrix\n",
    "import random\n",
    "import torch\n",
    "from torchvision import datasets, transforms"
   ]
  },
  {
   "cell_type": "code",
   "execution_count": 3,
   "id": "421243af",
   "metadata": {},
   "outputs": [],
   "source": [
    "from qiskit import IBMQ\n",
    "from qiskit import Aer\n",
    "from qiskit import *"
   ]
  },
  {
   "cell_type": "code",
   "execution_count": 4,
   "id": "7c792caa",
   "metadata": {},
   "outputs": [],
   "source": [
    "import sys\n",
    "sys.path.append(\"..\") # Adds higher directory to python modules path\n",
    "sys.path.append \n",
    "\n",
    "from qencode.initialize import setAB_amplitude, setAux, setEnt\n",
    "from qencode.encoders import e2_classic\n",
    "from qencode.training_circuits import swap_t\n",
    "from qencode.qubits_arrangement import QubitsArrangement\n",
    "\n",
    "from qencode.utils.mnist import get_dataset"
   ]
  },
  {
   "cell_type": "code",
   "execution_count": 4,
   "id": "36074521",
   "metadata": {},
   "outputs": [
    {
     "name": "stdout",
     "output_type": "stream",
     "text": [
      "Requirement already satisfied: kaggle in /Users/seanmcilvane/anaconda3/envs/ENV_NAME/lib/python3.8/site-packages (1.5.12)\n",
      "Requirement already satisfied: certifi in /Users/seanmcilvane/anaconda3/envs/ENV_NAME/lib/python3.8/site-packages (from kaggle) (2021.10.8)\n",
      "Requirement already satisfied: tqdm in /Users/seanmcilvane/anaconda3/envs/ENV_NAME/lib/python3.8/site-packages (from kaggle) (4.62.3)\n",
      "Requirement already satisfied: python-dateutil in /Users/seanmcilvane/anaconda3/envs/ENV_NAME/lib/python3.8/site-packages (from kaggle) (2.8.2)\n",
      "Requirement already satisfied: urllib3 in /Users/seanmcilvane/anaconda3/envs/ENV_NAME/lib/python3.8/site-packages (from kaggle) (1.26.7)\n",
      "Requirement already satisfied: six>=1.10 in /Users/seanmcilvane/anaconda3/envs/ENV_NAME/lib/python3.8/site-packages (from kaggle) (1.16.0)\n",
      "Requirement already satisfied: python-slugify in /Users/seanmcilvane/anaconda3/envs/ENV_NAME/lib/python3.8/site-packages (from kaggle) (6.0.1)\n",
      "Requirement already satisfied: requests in /Users/seanmcilvane/anaconda3/envs/ENV_NAME/lib/python3.8/site-packages (from kaggle) (2.27.1)\n",
      "Requirement already satisfied: text-unidecode>=1.3 in /Users/seanmcilvane/anaconda3/envs/ENV_NAME/lib/python3.8/site-packages (from python-slugify->kaggle) (1.3)\n",
      "Requirement already satisfied: charset-normalizer~=2.0.0 in /Users/seanmcilvane/anaconda3/envs/ENV_NAME/lib/python3.8/site-packages (from requests->kaggle) (2.0.9)\n",
      "Requirement already satisfied: idna<4,>=2.5 in /Users/seanmcilvane/anaconda3/envs/ENV_NAME/lib/python3.8/site-packages (from requests->kaggle) (3.3)\n"
     ]
    }
   ],
   "source": [
    "!pip install kaggle"
   ]
  },
  {
   "cell_type": "code",
   "execution_count": 5,
   "id": "ca1a2db3",
   "metadata": {},
   "outputs": [
    {
     "ename": "SyntaxError",
     "evalue": "invalid syntax (2387988877.py, line 6)",
     "output_type": "error",
     "traceback": [
      "\u001b[0;36m  File \u001b[0;32m\"/var/folders/_6/ff1hjmgn32786plyc3tgkn8h0000gn/T/ipykernel_95980/2387988877.py\"\u001b[0;36m, line \u001b[0;32m6\u001b[0m\n\u001b[0;31m    https://www.kaggle.com/mlg-ulb/creditcardfraud/download\u001b[0m\n\u001b[0m          ^\u001b[0m\n\u001b[0;31mSyntaxError\u001b[0m\u001b[0;31m:\u001b[0m invalid syntax\n"
     ]
    }
   ],
   "source": [
    "from kaggle.api.kaggle_api_extended import KaggleApi\n",
    "#import KaggleApi\n",
    "api = KaggleApi()\n",
    "api.authenticate()\n",
    "\n",
    "https://www.kaggle.com/mlg-ulb/creditcardfraud/download\n",
    "#downloading datasets for COVID-19 data\n",
    "#api.dataset_download_files('imdevskp/corona-virus-report')\n",
    "api.dataset_download_files('mlg-ulb/creditcardfraud')"
   ]
  },
  {
   "cell_type": "markdown",
   "id": "c31bc6cc",
   "metadata": {},
   "source": [
    "# Credit Card Fraud - A Growing Issue\n",
    "\n",
    "Credit card fraud is a growing issue with \\\\$28.5 billion lost globally due to credit card fraud in 2020 and is expected to exceed \\\\$49 billion by 2030 [1]). In 2020, around 1 out of 4 digital interactions were credit card fraud attempts (Cite Arkose Labs). Since there are so many non fraudulent transactions, it is challenging to detect the fraudulent transactions. In this notebook, we will be using a quantum auto-encoder to perform anomaly detection. \n",
    "\n",
    "We can use the quantum auto encoder to encode the 4 qubit state into a 3 qubit state and then use a decoder to decode the 3 qubit state back into 4 qubit state. The quantum auto encoder is trained on the normal dataset (or in this case the non fraudulent transactions) which means the quantum auto \n",
    "To tell if a datapoint is an anomaly, "
   ]
  },
  {
   "cell_type": "markdown",
   "id": "daed41dc",
   "metadata": {},
   "source": [
    "Import the dataset"
   ]
  },
  {
   "cell_type": "code",
   "execution_count": 5,
   "id": "41331d80",
   "metadata": {},
   "outputs": [],
   "source": [
    "df = pd.read_csv('creditcard.csv')"
   ]
  },
  {
   "cell_type": "markdown",
   "id": "660891a9",
   "metadata": {},
   "source": [
    "We are only going to print the first 5 rows because the dataset contains over 280,000 rows. Each row represents a transaction. Time shows the time passed between the current and first transactions and amount shows the dollar amount spent on the transaction. There are also 28 more features represented by V1, V2, ... , V28 which come from principal component analysis. Finally, there is the class, where a '0' represents no fraud committed and a '1' represents a fraudulent transaction"
   ]
  },
  {
   "cell_type": "markdown",
   "id": "5c153904",
   "metadata": {},
   "source": [
    "Let's now check the class distribution"
   ]
  },
  {
   "cell_type": "code",
   "execution_count": 6,
   "id": "65610482",
   "metadata": {},
   "outputs": [
    {
     "name": "stdout",
     "output_type": "stream",
     "text": [
      "No Frauds:  284315\n",
      "Frauds:  492\n"
     ]
    }
   ],
   "source": [
    "print('No Frauds: ', df['Class'].value_counts()[0])\n",
    "print('Frauds: ', df['Class'].value_counts()[1])"
   ]
  },
  {
   "cell_type": "markdown",
   "id": "df9736e2",
   "metadata": {},
   "source": [
    "Credit card fraud is relatively rare, this creates a very imbalanced distribution. A very imbalanced distribution is not ideal as this can lead to overfitting and our model assuming no fraud most of the time. It is also challenging to find the true correlations between the features and class."
   ]
  },
  {
   "cell_type": "code",
   "execution_count": 7,
   "id": "6e2bc92e",
   "metadata": {},
   "outputs": [
    {
     "data": {
      "image/png": "[encoded data removed]",
      "text/plain": [
       "<Figure size 1080x576 with 2 Axes>"
      ]
     },
     "metadata": {
      "needs_background": "light"
     },
     "output_type": "display_data"
    }
   ],
   "source": [
    "plot_correlation_matrix(df, \"Original Correlation Matrix\")"
   ]
  },
  {
   "cell_type": "markdown",
   "id": "58da6ed6",
   "metadata": {},
   "source": [
    "As you can see, nothing can really be inferred from this correlation matrix since the data is so imbalanced. We are going to create a sub sample dataset with equal amounts of non fraudulent data and fraudulent data. We are also going to scale the 'Time' and 'Amount' values for better processing. "
   ]
  },
  {
   "cell_type": "code",
   "execution_count": 8,
   "id": "83abf40c",
   "metadata": {},
   "outputs": [
    {
     "data": {
      "text/html": [
       "<div>\n",
       "<style scoped>\n",
       "    .dataframe tbody tr th:only-of-type {\n",
       "        vertical-align: middle;\n",
       "    }\n",
       "\n",
       "    .dataframe tbody tr th {\n",
       "        vertical-align: top;\n",
       "    }\n",
       "\n",
       "    .dataframe thead th {\n",
       "        text-align: right;\n",
       "    }\n",
       "</style>\n",
       "<table border=\"1\" class=\"dataframe\">\n",
       "  <thead>\n",
       "    <tr style=\"text-align: right;\">\n",
       "      <th></th>\n",
       "      <th>scaled_amount</th>\n",
       "      <th>scaled_time</th>\n",
       "      <th>V1</th>\n",
       "      <th>V2</th>\n",
       "      <th>V3</th>\n",
       "      <th>V4</th>\n",
       "      <th>V5</th>\n",
       "      <th>V6</th>\n",
       "      <th>V7</th>\n",
       "      <th>V8</th>\n",
       "      <th>...</th>\n",
       "      <th>V20</th>\n",
       "      <th>V21</th>\n",
       "      <th>V22</th>\n",
       "      <th>V23</th>\n",
       "      <th>V24</th>\n",
       "      <th>V25</th>\n",
       "      <th>V26</th>\n",
       "      <th>V27</th>\n",
       "      <th>V28</th>\n",
       "      <th>Class</th>\n",
       "    </tr>\n",
       "  </thead>\n",
       "  <tbody>\n",
       "    <tr>\n",
       "      <th>53016</th>\n",
       "      <td>-0.027947</td>\n",
       "      <td>-0.457230</td>\n",
       "      <td>1.405868</td>\n",
       "      <td>-0.601871</td>\n",
       "      <td>0.040949</td>\n",
       "      <td>-0.495781</td>\n",
       "      <td>-1.027817</td>\n",
       "      <td>-1.139317</td>\n",
       "      <td>-0.392392</td>\n",
       "      <td>-0.187445</td>\n",
       "      <td>...</td>\n",
       "      <td>-0.059937</td>\n",
       "      <td>0.133630</td>\n",
       "      <td>0.325643</td>\n",
       "      <td>-0.148828</td>\n",
       "      <td>0.397281</td>\n",
       "      <td>0.719644</td>\n",
       "      <td>-0.059995</td>\n",
       "      <td>-0.023802</td>\n",
       "      <td>0.001439</td>\n",
       "      <td>0</td>\n",
       "    </tr>\n",
       "    <tr>\n",
       "      <th>42549</th>\n",
       "      <td>0.925452</td>\n",
       "      <td>-0.511578</td>\n",
       "      <td>-5.314173</td>\n",
       "      <td>4.145944</td>\n",
       "      <td>-8.532522</td>\n",
       "      <td>8.344392</td>\n",
       "      <td>-5.718008</td>\n",
       "      <td>-3.043536</td>\n",
       "      <td>-10.989185</td>\n",
       "      <td>3.404129</td>\n",
       "      <td>...</td>\n",
       "      <td>1.150017</td>\n",
       "      <td>2.331466</td>\n",
       "      <td>0.862996</td>\n",
       "      <td>-0.614453</td>\n",
       "      <td>0.523648</td>\n",
       "      <td>-0.712593</td>\n",
       "      <td>0.324638</td>\n",
       "      <td>2.245091</td>\n",
       "      <td>0.497321</td>\n",
       "      <td>1</td>\n",
       "    </tr>\n",
       "    <tr>\n",
       "      <th>276070</th>\n",
       "      <td>-0.269825</td>\n",
       "      <td>0.965601</td>\n",
       "      <td>-0.051945</td>\n",
       "      <td>1.056283</td>\n",
       "      <td>-0.471742</td>\n",
       "      <td>-0.565640</td>\n",
       "      <td>1.107964</td>\n",
       "      <td>-0.790051</td>\n",
       "      <td>1.011454</td>\n",
       "      <td>-0.198296</td>\n",
       "      <td>...</td>\n",
       "      <td>0.056846</td>\n",
       "      <td>-0.327291</td>\n",
       "      <td>-0.761251</td>\n",
       "      <td>0.172249</td>\n",
       "      <td>0.498639</td>\n",
       "      <td>-0.358447</td>\n",
       "      <td>0.106874</td>\n",
       "      <td>0.107111</td>\n",
       "      <td>0.072178</td>\n",
       "      <td>0</td>\n",
       "    </tr>\n",
       "    <tr>\n",
       "      <th>91671</th>\n",
       "      <td>3.747363</td>\n",
       "      <td>-0.248053</td>\n",
       "      <td>-0.639191</td>\n",
       "      <td>-0.085595</td>\n",
       "      <td>1.265452</td>\n",
       "      <td>1.401166</td>\n",
       "      <td>-0.260542</td>\n",
       "      <td>1.009795</td>\n",
       "      <td>1.301999</td>\n",
       "      <td>-0.135258</td>\n",
       "      <td>...</td>\n",
       "      <td>0.861307</td>\n",
       "      <td>0.340331</td>\n",
       "      <td>0.760170</td>\n",
       "      <td>0.353377</td>\n",
       "      <td>-0.778893</td>\n",
       "      <td>-0.070681</td>\n",
       "      <td>-0.033355</td>\n",
       "      <td>-0.061962</td>\n",
       "      <td>-0.062687</td>\n",
       "      <td>1</td>\n",
       "    </tr>\n",
       "    <tr>\n",
       "      <th>226814</th>\n",
       "      <td>9.020471</td>\n",
       "      <td>0.706258</td>\n",
       "      <td>-2.405207</td>\n",
       "      <td>2.943823</td>\n",
       "      <td>-7.616654</td>\n",
       "      <td>3.533374</td>\n",
       "      <td>-5.417494</td>\n",
       "      <td>-0.112632</td>\n",
       "      <td>-1.329372</td>\n",
       "      <td>1.709417</td>\n",
       "      <td>...</td>\n",
       "      <td>-0.338707</td>\n",
       "      <td>0.652683</td>\n",
       "      <td>0.414132</td>\n",
       "      <td>0.023869</td>\n",
       "      <td>-0.260616</td>\n",
       "      <td>0.405316</td>\n",
       "      <td>0.029107</td>\n",
       "      <td>0.519807</td>\n",
       "      <td>-0.469537</td>\n",
       "      <td>1</td>\n",
       "    </tr>\n",
       "  </tbody>\n",
       "</table>\n",
       "<p>5 rows × 31 columns</p>\n",
       "</div>"
      ],
      "text/plain": [
       "        scaled_amount  scaled_time        V1        V2        V3        V4  \\\n",
       "53016       -0.027947    -0.457230  1.405868 -0.601871  0.040949 -0.495781   \n",
       "42549        0.925452    -0.511578 -5.314173  4.145944 -8.532522  8.344392   \n",
       "276070      -0.269825     0.965601 -0.051945  1.056283 -0.471742 -0.565640   \n",
       "91671        3.747363    -0.248053 -0.639191 -0.085595  1.265452  1.401166   \n",
       "226814       9.020471     0.706258 -2.405207  2.943823 -7.616654  3.533374   \n",
       "\n",
       "              V5        V6         V7        V8  ...       V20       V21  \\\n",
       "53016  -1.027817 -1.139317  -0.392392 -0.187445  ... -0.059937  0.133630   \n",
       "42549  -5.718008 -3.043536 -10.989185  3.404129  ...  1.150017  2.331466   \n",
       "276070  1.107964 -0.790051   1.011454 -0.198296  ...  0.056846 -0.327291   \n",
       "91671  -0.260542  1.009795   1.301999 -0.135258  ...  0.861307  0.340331   \n",
       "226814 -5.417494 -0.112632  -1.329372  1.709417  ... -0.338707  0.652683   \n",
       "\n",
       "             V22       V23       V24       V25       V26       V27       V28  \\\n",
       "53016   0.325643 -0.148828  0.397281  0.719644 -0.059995 -0.023802  0.001439   \n",
       "42549   0.862996 -0.614453  0.523648 -0.712593  0.324638  2.245091  0.497321   \n",
       "276070 -0.761251  0.172249  0.498639 -0.358447  0.106874  0.107111  0.072178   \n",
       "91671   0.760170  0.353377 -0.778893 -0.070681 -0.033355 -0.061962 -0.062687   \n",
       "226814  0.414132  0.023869 -0.260616  0.405316  0.029107  0.519807 -0.469537   \n",
       "\n",
       "        Class  \n",
       "53016       0  \n",
       "42549       1  \n",
       "276070      0  \n",
       "91671       1  \n",
       "226814      1  \n",
       "\n",
       "[5 rows x 31 columns]"
      ]
     },
     "execution_count": 8,
     "metadata": {},
     "output_type": "execute_result"
    }
   ],
   "source": [
    "#from sklearn.preprocessing import StandardScaler, RobustScaler\n",
    "from sklearn.preprocessing import RobustScaler\n",
    "\n",
    "# Scaling amount and time for the subsample\n",
    "df['scaled_amount'] = RobustScaler().fit_transform(df['Amount'].values.reshape(-1,1))\n",
    "df['scaled_time'] = RobustScaler().fit_transform(df['Time'].values.reshape(-1,1))\n",
    "df.drop(['Time','Amount'], axis=1, inplace=True) # Drop the original time and amount values\n",
    "\n",
    "# Add scaled amount and times to the data frame\n",
    "scaled_amount = df['scaled_amount'] \n",
    "scaled_time = df['scaled_time']\n",
    "df.drop(['scaled_amount', 'scaled_time'], axis=1, inplace=True)\n",
    "df.insert(0, 'scaled_amount', scaled_amount)\n",
    "df.insert(1, 'scaled_time', scaled_time)\n",
    "\n",
    "# Create the balanced subsample of 49\n",
    "df = df.sample(frac=1)\n",
    "fraud_df = df.loc[df['Class'] == 1]\n",
    "non_fraud_df = df.loc[df['Class'] == 0][:492]\n",
    "normal_distributed_df = pd.concat([fraud_df, non_fraud_df])\n",
    "sub_sample_df = normal_distributed_df.sample(frac=1, random_state=42)\n",
    "\n",
    "# Display the first 5 rows t ose\n",
    "sub_sample_df.head()"
   ]
  },
  {
   "cell_type": "markdown",
   "id": "7ad10bc0",
   "metadata": {},
   "source": [
    "We can now plot the correlation matrix of our new sub sample to get a better idea of the true correlations between features and 'Class' "
   ]
  },
  {
   "cell_type": "code",
   "execution_count": 9,
   "id": "74488a4c",
   "metadata": {},
   "outputs": [
    {
     "data": {
      "image/png": "[encoded data removed]",
      "text/plain": [
       "<Figure size 1080x576 with 2 Axes>"
      ]
     },
     "metadata": {
      "needs_background": "light"
     },
     "output_type": "display_data"
    }
   ],
   "source": [
    "sub_sample_corr = sub_sample_df.corr()\n",
    "plot_correlation_matrix(sub_sample_corr, \"Sub Sample Correlation Matrix\")"
   ]
  },
  {
   "cell_type": "markdown",
   "id": "a255748e",
   "metadata": {},
   "source": [
    "The correlations are now much more noticeable. Now, we can find the features with the strongest correlation to class. Half are the strongest positive correlations, half are the strongest negative correlations. "
   ]
  },
  {
   "cell_type": "code",
   "execution_count": 10,
   "id": "96d7c417",
   "metadata": {},
   "outputs": [
    {
     "name": "stdout",
     "output_type": "stream",
     "text": [
      "(['V4', 'V14', 'V11', 'V12', 'V2', 'V10', 'V19', 'V16', 'V20', 'V3', 'V21', 'V17', 'V28', 'V9', 'V27', 'V7'], [0.7049280336690459, -0.7491777234950696, 0.6839459727426278, -0.677290478542406, 0.48594631996592036, -0.6228064388962743, 0.24025481223101428, -0.5901179580594654, 0.16528809523020951, -0.561764117252581, 0.12903443052145347, -0.5605289480943042, 0.08345266375453653, -0.5538916275260506, 0.08181031705095593, -0.4772773115289583])\n"
     ]
    }
   ],
   "source": [
    "def find_strongest_correlations(dataframe, latent_qubits):\n",
    "    \n",
    "    num_features = latent_qubits**2\n",
    "    \n",
    "    class_correlations = dataframe.loc['Class', :]\n",
    "    class_correlations = class_correlations.drop(index = 'Class')\n",
    "    \n",
    "    feature_list = list(class_correlations.index)\n",
    "    correlation_list = [class_correlations[x] for x in feature_list]\n",
    "    \n",
    "    features = []\n",
    "    correlations = []\n",
    "    \n",
    "    for i in range(int(num_features/2)):\n",
    "        \n",
    "        \n",
    "        correlations.append(max(correlation_list))\n",
    "        features.append(feature_list[correlation_list.index(max(correlation_list))])\n",
    "        \n",
    "        del feature_list[correlation_list.index(max(correlation_list))]\n",
    "        del correlation_list[correlation_list.index(max(correlation_list))]                        \n",
    "                                      \n",
    "        correlations.append(min(correlation_list))\n",
    "        features.append(feature_list[correlation_list.index(min(correlation_list))])\n",
    "        \n",
    "        del feature_list[correlation_list.index(min(correlation_list))]\n",
    "        del correlation_list[correlation_list.index(min(correlation_list))] \n",
    "    \n",
    "    return features, correlations\n",
    "\n",
    "feature_list, correlations = find_strongest_correlations(sub_sample_corr, 4)\n",
    "\n",
    "print(find_strongest_correlations(sub_sample_corr, 4))"
   ]
  },
  {
   "cell_type": "markdown",
   "id": "7691f05b",
   "metadata": {},
   "source": [
    "We now have 16 features that are the most correlated with 'Class'. In this use case, we will be using 4 qubits to represent the data which means we will need 2$^{4}$ = 16 features to encode into the 4 qubits though amplitude encoding. Later, we will use the quantum autoencoder to encode the 4 qubits into 3 qubits and then use a decoder to decode those 3 qubits back to 4 qubits. "
   ]
  },
  {
   "cell_type": "code",
   "execution_count": 11,
   "id": "0b638c7e",
   "metadata": {},
   "outputs": [],
   "source": [
    "# Dataframe of all non fraudulent transactions\n",
    "branch = df\n",
    "non_fraud = branch[branch[\"Class\"]!=\"1\"]\n",
    "\n",
    "# All examples of non fraudulent data with 16 features\n",
    "non_fraud = non_fraud[feature_list]\n",
    "non_fraud.head()\n",
    "\n",
    "input_data = non_fraud.to_numpy()"
   ]
  },
  {
   "cell_type": "markdown",
   "id": "de0f0740",
   "metadata": {},
   "source": [
    "# Training \n"
   ]
  },
  {
   "cell_type": "code",
   "execution_count": 12,
   "id": "9b9a0a53",
   "metadata": {},
   "outputs": [
    {
     "ename": "NameError",
     "evalue": "name 'qubits' is not defined",
     "output_type": "error",
     "traceback": [
      "\u001b[0;31m---------------------------------------------------------------------------\u001b[0m",
      "\u001b[0;31mNameError\u001b[0m                                 Traceback (most recent call last)",
      "\u001b[0;32m/var/folders/_6/ff1hjmgn32786plyc3tgkn8h0000gn/T/ipykernel_96087/3300212381.py\u001b[0m in \u001b[0;36m<module>\u001b[0;34m\u001b[0m\n\u001b[1;32m     31\u001b[0m \u001b[0mIBMQ\u001b[0m\u001b[0;34m.\u001b[0m\u001b[0mload_account\u001b[0m\u001b[0;34m(\u001b[0m\u001b[0;34m)\u001b[0m\u001b[0;34m\u001b[0m\u001b[0;34m\u001b[0m\u001b[0m\n\u001b[1;32m     32\u001b[0m \u001b[0mprovider\u001b[0m\u001b[0;34m=\u001b[0m\u001b[0mIBMQ\u001b[0m\u001b[0;34m.\u001b[0m\u001b[0mget_provider\u001b[0m\u001b[0;34m(\u001b[0m\u001b[0mhub\u001b[0m\u001b[0;34m=\u001b[0m\u001b[0;34m'ibm-q-community'\u001b[0m\u001b[0;34m,\u001b[0m \u001b[0mgroup\u001b[0m\u001b[0;34m=\u001b[0m\u001b[0;34m'qhack-hackathon'\u001b[0m\u001b[0;34m,\u001b[0m \u001b[0mproject\u001b[0m\u001b[0;34m=\u001b[0m\u001b[0;34m'16-qubit'\u001b[0m\u001b[0;34m)\u001b[0m\u001b[0;34m\u001b[0m\u001b[0;34m\u001b[0m\u001b[0m\n\u001b[0;32m---> 33\u001b[0;31m \u001b[0mdev_qiskit\u001b[0m \u001b[0;34m=\u001b[0m \u001b[0mqml\u001b[0m\u001b[0;34m.\u001b[0m\u001b[0mdevice\u001b[0m\u001b[0;34m(\u001b[0m\u001b[0;34m'qiskit.ibmq'\u001b[0m\u001b[0;34m,\u001b[0m \u001b[0mwires\u001b[0m\u001b[0;34m=\u001b[0m\u001b[0mqubits\u001b[0m\u001b[0;34m,\u001b[0m \u001b[0mbackend\u001b[0m\u001b[0;34m=\u001b[0m\u001b[0;34m'ibmq_guadalupe'\u001b[0m\u001b[0;34m,\u001b[0m\u001b[0mprovider\u001b[0m\u001b[0;34m=\u001b[0m\u001b[0mprovider\u001b[0m\u001b[0;34m)\u001b[0m\u001b[0;34m\u001b[0m\u001b[0;34m\u001b[0m\u001b[0m\n\u001b[0m\u001b[1;32m     34\u001b[0m \u001b[0;34m\u001b[0m\u001b[0m\n\u001b[1;32m     35\u001b[0m \u001b[0;34m\u001b[0m\u001b[0m\n",
      "\u001b[0;31mNameError\u001b[0m: name 'qubits' is not defined"
     ]
    }
   ],
   "source": [
    "shots = 1000 #The amount of shots used for each epoch of training\n",
    "nr_trash= 1   # Number of qubits 'thrown away'\n",
    "nr_latent= 3  # Number of qubits left after the encoder is used\n",
    "nr_ent = 0\n",
    "\n",
    "epochs = 500   # Number of iterations of training to perform to find the final encoder parameters\n",
    "learning_rate = .005 # Learning rate for the optimizer, dictates how fast the optimizer trains\n",
    "batch_size = 2\n",
    "num_samples = 250  # Number of training samples used for each epoch\n",
    "\n",
    "beta1 = 0.9\n",
    "beta2 = 0.999\n",
    "opt = AdamOptimizer(learning_rate, beta1=beta1, beta2=beta2)\n",
    "\n",
    "# Organizes and specifies our qubits for the device\n",
    "spec = QubitsArrangement(nr_trash, nr_latent, nr_swap=1, nr_ent=nr_ent)\n",
    "'''\n",
    "from qiskit import IBMQ\n",
    "#set up the device \n",
    "token = (\"bdfb136f41f48dcab8cfc1bad4d78a53ef82fc659bd63e6decfb01526e7897904f5726e4cb3014f34fbb40ab745b733b9fe6219a6d9c28a2ee45cf36da171abb\")\n",
    "#IBMQ.enable_account(token = token, hub = \"ibm-q-community\", group=\"qhack-hackathon\", project=\"16-qubit\")\n",
    "IBMQ.save_account(token)\n",
    "\n",
    "IBMQ.load_account()\n",
    "'''\n",
    "#dev = qml.device(\"default.qubit\", wires=spec.num_qubits)\n",
    "#dev = qml.device('qiskit.aer', wires=spec.num_qubits, backend = 'qasm_simulator')\n",
    "#dev = qml.device('qiskit.ibmq', wires=spec.num_qubits, backend = 'ibmq_guadalupe', ibmqx_token = \"6e4f256437ce3d5584d80d4225e0a36d6130e4de2c02729f534738aa2af1339597611d259697cea67e328ad92c5e0904cbff534000873532d8d4ede831471985\")\n",
    "\n",
    "\n",
    "\n",
    "#print(\"Qubits:\", spec.qubits)"
   ]
  },
  {
   "cell_type": "code",
   "execution_count": 18,
   "id": "e1fa0ae0",
   "metadata": {},
   "outputs": [],
   "source": [
    "@qml.qnode(dev_qiskit)\n",
    "def training_circuit_example(init_params, encoder_params, reinit_state):\n",
    "    #initilaization\n",
    "    setAB_amplitude(spec, init_params)\n",
    "\n",
    "    setAux(spec, reinit_state)\n",
    "\n",
    "    setEnt(spec, inputs=[1 / np.sqrt(2), 0, 0, 1 / np.sqrt(2)])\n",
    "\n",
    "    #encoder \n",
    "\n",
    "    for params in encoder_params:\n",
    "        e2_classic(params, [*spec.latent_qubits, *spec.trash_qubits])\n",
    "\n",
    "    #swap test \n",
    "    swap_t(spec)\n",
    "\n",
    "    return [qml.probs(i) for i in spec.swap_qubits]\n"
   ]
  },
  {
   "cell_type": "code",
   "execution_count": 19,
   "id": "607b59fa",
   "metadata": {},
   "outputs": [],
   "source": [
    "def fid_func(output):\n",
    "    # Implemented as the Fidelity Loss\n",
    "    # output[0] because we take the probability that the state after the \n",
    "    # SWAP test is ket(0), like the reference state\n",
    "    fidelity_loss = 1 / output[0]\n",
    "    return fidelity_loss"
   ]
  },
  {
   "cell_type": "code",
   "execution_count": 20,
   "id": "349e2abb",
   "metadata": {},
   "outputs": [],
   "source": [
    "# Define cost function\n",
    "def cost(encoder_params, X):\n",
    "    reinit_state = [0 for i in range(2 ** len(spec.aux_qubits))]\n",
    "    reinit_state[0] = 1.0\n",
    "    loss = 0.0\n",
    "    for x in X:\n",
    "        output = training_circuit_example(init_params=x[0], encoder_params=encoder_params, reinit_state=reinit_state)[0]\n",
    "        f = fid_func(output)\n",
    "        loss = loss + f\n",
    "    return loss / len(X)"
   ]
  },
  {
   "cell_type": "code",
   "execution_count": 21,
   "id": "c3129d41",
   "metadata": {},
   "outputs": [],
   "source": [
    "# Define fidelity function\n",
    "def fidelity(encoder_params, X):\n",
    "    reinit_state = [0 for i in range(2 ** len(spec.aux_qubits))]\n",
    "    reinit_state[0] = 1.0\n",
    "    loss = 0.0\n",
    "    for x in X:\n",
    "        output = training_circuit_example(init_params=x[0], encoder_params=encoder_params, reinit_state=reinit_state)[0]\n",
    "        f = output[0]\n",
    "        loss = loss + f\n",
    "    return loss / len(X)"
   ]
  },
  {
   "cell_type": "code",
   "execution_count": 22,
   "id": "e9fe6536",
   "metadata": {},
   "outputs": [],
   "source": [
    "def iterate_batches(X, batch_size):\n",
    "    \n",
    "    random.shuffle(X)\n",
    "\n",
    "    batch_list = []\n",
    "    batch = []\n",
    "    for x in X:\n",
    "        if len(batch) < batch_size:\n",
    "            batch.append(x)\n",
    "\n",
    "        else:\n",
    "            batch_list.append(batch)\n",
    "            batch = []\n",
    "    if len(batch) != 0:\n",
    "        batch_list.append(batch)\n",
    "    return batch_list"
   ]
  },
  {
   "cell_type": "code",
   "execution_count": 23,
   "id": "26141da0",
   "metadata": {},
   "outputs": [
    {
     "name": "stdout",
     "output_type": "stream",
     "text": [
      "tensor([[-0.8773,  0.5715,  2.0238,  0.7888, -1.1801, -1.0931, -0.8933, -1.4779,\n",
      "         -0.1247,  0.7038,  0.3755,  0.9897,  0.0279,  1.8524,  0.1258, -1.0145]],\n",
      "       dtype=torch.float64)\n"
     ]
    }
   ],
   "source": [
    "\n",
    "training_data = [ torch.tensor([input_data[i]]) for i in range(num_samples)]\n",
    "test_data = [ torch.tensor([input_data[i]]) for i in range(num_samples,num_samples+num_samples)]\n",
    "\n",
    "X_training = training_data\n",
    "X_tes = test_data\n",
    "\n",
    "print(training_data[0])"
   ]
  },
  {
   "cell_type": "code",
   "execution_count": 24,
   "id": "9b4f3a7b",
   "metadata": {},
   "outputs": [
    {
     "name": "stdout",
     "output_type": "stream",
     "text": [
      "[[0.72018426 0.30569105 0.90495009 0.16021417 0.19719008 0.04813054\n",
      "  0.43504184 0.34291596 0.18660038 0.78938944 0.14492228 0.0991565\n",
      "  0.92356054 0.86956302 0.87714132 0.45731088 0.35224722 0.08065993\n",
      "  0.39733112 0.14327083 0.32896114 0.28107414 0.89973877 0.90294404\n",
      "  0.257959   0.97893129 0.1437341  0.88391522 0.06040788 0.82206722\n",
      "  0.43475041 0.48060816 0.95600381 0.68062473 0.6465662  0.44065466\n",
      "  0.84296845 0.80959582 0.09809009 0.48530809 0.33245541 0.48800818\n",
      "  0.03999866 0.39054903 0.09123385 0.92456295 0.28152668 0.65910197\n",
      "  0.5403846  0.61132974 0.52378562 0.90174968 0.3686259  0.56652058\n",
      "  0.85335049 0.50251205 0.30624943 0.32868616 0.57940058 0.4702492\n",
      "  0.58927974 0.33662438 0.35338481 0.26134444 0.56863648 0.38665056\n",
      "  0.51430622 0.11991423 0.66091214 0.3586576  0.88470366 0.54765449\n",
      "  0.39677877 0.05649007 0.19225498 0.54847306 0.93839963 0.93370181\n",
      "  0.93027395 0.49602302 0.70047351 0.16193628 0.86663692 0.33572692\n",
      "  0.53722295 0.02959347 0.31365244 0.34736321 0.81744675 0.35739632]]\n"
     ]
    }
   ],
   "source": [
    "# initialize random encoder parameters\n",
    "nr_encod_qubits = len(spec.trash_qubits) + len(spec.latent_qubits)\n",
    "nr_par_encoder =  15 * int(nr_encod_qubits*(nr_encod_qubits-1)/2)\n",
    "encoder_params = np.random.uniform(size=(1, nr_par_encoder), requires_grad=True)\n",
    "print(encoder_params)"
   ]
  },
  {
   "cell_type": "code",
   "execution_count": 19,
   "id": "3ac43f52",
   "metadata": {},
   "outputs": [
    {
     "data": {
      "text/plain": [
       "'\\nprint(encoder_params)\\n\\n#reinit_state = [0 for i in range(2 ** 4)]\\n#reinit_state[0] = 1.0\\nprint(reinit_state)\\nprint(len(spec.aux_qubits))\\n#print(training_circuit_example(encoder_params, encoder_params, reinit_state = reinit_state))\\n'"
      ]
     },
     "execution_count": 19,
     "metadata": {},
     "output_type": "execute_result"
    }
   ],
   "source": [
    "'''\n",
    "print(encoder_params)\n",
    "\n",
    "#reinit_state = [0 for i in range(2 ** 4)]\n",
    "#reinit_state[0] = 1.0\n",
    "print(reinit_state)\n",
    "print(len(spec.aux_qubits))\n",
    "#print(training_circuit_example(encoder_params, encoder_params, reinit_state = reinit_state))\n",
    "'''"
   ]
  },
  {
   "cell_type": "code",
   "execution_count": 25,
   "id": "4645415b",
   "metadata": {},
   "outputs": [
    {
     "data": {
      "text/html": [
       "<div>\n",
       "<style scoped>\n",
       "    .dataframe tbody tr th:only-of-type {\n",
       "        vertical-align: middle;\n",
       "    }\n",
       "\n",
       "    .dataframe tbody tr th {\n",
       "        vertical-align: top;\n",
       "    }\n",
       "\n",
       "    .dataframe thead th {\n",
       "        text-align: right;\n",
       "    }\n",
       "</style>\n",
       "<table border=\"1\" class=\"dataframe\">\n",
       "  <thead>\n",
       "    <tr style=\"text-align: right;\">\n",
       "      <th></th>\n",
       "      <th>V4</th>\n",
       "      <th>V14</th>\n",
       "      <th>V11</th>\n",
       "      <th>V12</th>\n",
       "      <th>V2</th>\n",
       "      <th>V10</th>\n",
       "      <th>V19</th>\n",
       "      <th>V16</th>\n",
       "      <th>V20</th>\n",
       "      <th>V3</th>\n",
       "      <th>V21</th>\n",
       "      <th>V17</th>\n",
       "      <th>V28</th>\n",
       "      <th>V9</th>\n",
       "      <th>V27</th>\n",
       "      <th>V7</th>\n",
       "    </tr>\n",
       "  </thead>\n",
       "  <tbody>\n",
       "    <tr>\n",
       "      <th>249607</th>\n",
       "      <td>3.728439</td>\n",
       "      <td>-5.757216</td>\n",
       "      <td>2.528943</td>\n",
       "      <td>-3.308722</td>\n",
       "      <td>-7.449015</td>\n",
       "      <td>-4.029129</td>\n",
       "      <td>0.136722</td>\n",
       "      <td>-1.547552</td>\n",
       "      <td>2.932758</td>\n",
       "      <td>-4.696287</td>\n",
       "      <td>1.176575</td>\n",
       "      <td>-1.909017</td>\n",
       "      <td>-1.229992</td>\n",
       "      <td>-0.646203</td>\n",
       "      <td>0.704915</td>\n",
       "      <td>-5.831452</td>\n",
       "    </tr>\n",
       "    <tr>\n",
       "      <th>234574</th>\n",
       "      <td>5.304534</td>\n",
       "      <td>-12.457999</td>\n",
       "      <td>3.536145</td>\n",
       "      <td>-7.959628</td>\n",
       "      <td>4.362801</td>\n",
       "      <td>-6.285424</td>\n",
       "      <td>-1.802332</td>\n",
       "      <td>-1.424131</td>\n",
       "      <td>0.531574</td>\n",
       "      <td>-6.023534</td>\n",
       "      <td>0.397954</td>\n",
       "      <td>-3.243686</td>\n",
       "      <td>0.531932</td>\n",
       "      <td>-4.037021</td>\n",
       "      <td>0.847220</td>\n",
       "      <td>-1.530817</td>\n",
       "    </tr>\n",
       "    <tr>\n",
       "      <th>50211</th>\n",
       "      <td>3.880960</td>\n",
       "      <td>-7.052311</td>\n",
       "      <td>3.525726</td>\n",
       "      <td>-6.489112</td>\n",
       "      <td>3.663395</td>\n",
       "      <td>-5.726817</td>\n",
       "      <td>1.147878</td>\n",
       "      <td>-6.773977</td>\n",
       "      <td>-0.346456</td>\n",
       "      <td>-5.297446</td>\n",
       "      <td>2.698175</td>\n",
       "      <td>-8.588070</td>\n",
       "      <td>-0.073360</td>\n",
       "      <td>-2.457034</td>\n",
       "      <td>-0.183463</td>\n",
       "      <td>-5.715262</td>\n",
       "    </tr>\n",
       "    <tr>\n",
       "      <th>75511</th>\n",
       "      <td>2.796987</td>\n",
       "      <td>-5.419590</td>\n",
       "      <td>2.338323</td>\n",
       "      <td>-2.820042</td>\n",
       "      <td>1.956099</td>\n",
       "      <td>-3.245109</td>\n",
       "      <td>0.930239</td>\n",
       "      <td>-4.180758</td>\n",
       "      <td>0.270459</td>\n",
       "      <td>-0.851198</td>\n",
       "      <td>1.208054</td>\n",
       "      <td>-4.285071</td>\n",
       "      <td>0.075309</td>\n",
       "      <td>-1.184468</td>\n",
       "      <td>0.562239</td>\n",
       "      <td>-1.340739</td>\n",
       "    </tr>\n",
       "    <tr>\n",
       "      <th>17453</th>\n",
       "      <td>6.505862</td>\n",
       "      <td>-4.829552</td>\n",
       "      <td>3.947840</td>\n",
       "      <td>-5.487911</td>\n",
       "      <td>16.434525</td>\n",
       "      <td>-7.800598</td>\n",
       "      <td>0.608930</td>\n",
       "      <td>-5.121162</td>\n",
       "      <td>1.724779</td>\n",
       "      <td>-30.558697</td>\n",
       "      <td>1.812954</td>\n",
       "      <td>-11.118190</td>\n",
       "      <td>0.364530</td>\n",
       "      <td>-3.591491</td>\n",
       "      <td>1.255649</td>\n",
       "      <td>-20.081391</td>\n",
       "    </tr>\n",
       "  </tbody>\n",
       "</table>\n",
       "</div>"
      ],
      "text/plain": [
       "              V4        V14       V11       V12         V2       V10  \\\n",
       "249607  3.728439  -5.757216  2.528943 -3.308722  -7.449015 -4.029129   \n",
       "234574  5.304534 -12.457999  3.536145 -7.959628   4.362801 -6.285424   \n",
       "50211   3.880960  -7.052311  3.525726 -6.489112   3.663395 -5.726817   \n",
       "75511   2.796987  -5.419590  2.338323 -2.820042   1.956099 -3.245109   \n",
       "17453   6.505862  -4.829552  3.947840 -5.487911  16.434525 -7.800598   \n",
       "\n",
       "             V19       V16       V20         V3       V21        V17  \\\n",
       "249607  0.136722 -1.547552  2.932758  -4.696287  1.176575  -1.909017   \n",
       "234574 -1.802332 -1.424131  0.531574  -6.023534  0.397954  -3.243686   \n",
       "50211   1.147878 -6.773977 -0.346456  -5.297446  2.698175  -8.588070   \n",
       "75511   0.930239 -4.180758  0.270459  -0.851198  1.208054  -4.285071   \n",
       "17453   0.608930 -5.121162  1.724779 -30.558697  1.812954 -11.118190   \n",
       "\n",
       "             V28        V9       V27         V7  \n",
       "249607 -1.229992 -0.646203  0.704915  -5.831452  \n",
       "234574  0.531932 -4.037021  0.847220  -1.530817  \n",
       "50211  -0.073360 -2.457034 -0.183463  -5.715262  \n",
       "75511   0.075309 -1.184468  0.562239  -1.340739  \n",
       "17453   0.364530 -3.591491  1.255649 -20.081391  "
      ]
     },
     "execution_count": 25,
     "metadata": {},
     "output_type": "execute_result"
    }
   ],
   "source": [
    "# Create a tensor dataset with only fraud data and most correlated features \n",
    "# for finding the fidelity of the quantum autoencoder on fraud transactions\n",
    "\n",
    "fraud = fraud_df[feature_list]\n",
    "np_fraud = fraud.to_numpy()\n",
    "fraud_data = [ torch.tensor([np_fraud[i]]) for i in range(len(fraud.to_numpy()))] \n",
    "\n",
    "fraud.head()\n"
   ]
  },
  {
   "cell_type": "code",
   "execution_count": 47,
   "id": "b4f90736",
   "metadata": {},
   "outputs": [
    {
     "name": "stdout",
     "output_type": "stream",
     "text": [
      "Loss:1.1646492553529781 | Fidelity:0.866216\n",
      "Test-Loss:1.1751370974959725 | Test-Fidelity:0.8550239999999999\n",
      "Fraud Fidelity:0.6496487804878046\n"
     ]
    }
   ],
   "source": [
    "encoder_params = torch.tensor([[-0.45793534, -0.60180382,  1.36706854, -0.39273726,  0.78967496,\n",
    "         -0.11834691,  1.21601293,  0.7257659 ,  0.16775198,  0.87110514,\n",
    "          0.5825973 ,  1.35786832,  1.6198694 , -0.21858262,  1.41542989,\n",
    "          1.2968311 ,  1.8630585 ,  0.50511886,  0.75524677,  0.82482716,\n",
    "          1.02949018, -0.023521  ,  0.55110408,  0.15877528,  0.62316124,\n",
    "          0.37113699,  0.4557925 ,  0.62940097,  0.61549768,  0.95122916,\n",
    "          0.22349399,  0.86457997,  0.81546047,  1.47984623,  1.72818011,\n",
    "         -0.30175269,  0.67999145, -0.22226086,  0.94370564,  1.48028116,\n",
    "          0.72720142,  0.20210445,  0.14995309,  0.19133051, -0.35101019,\n",
    "          0.40932117, -0.09846242,  0.65960454,  0.78151562,  1.17058629,\n",
    "          0.23858532,  0.71485483,  0.31327769,  1.63693523,  0.95525645,\n",
    "          0.58935465,  0.76165831,  0.62729872,  0.55561916,  0.19378356,\n",
    "          0.41408805,  1.01374824,  0.37282255, -0.06769513,  0.45583351,\n",
    "         -0.05101048,  0.83344398,  1.58156091,  1.46059524,  0.9371276 ,\n",
    "          0.96522386,  0.27626285,  0.19818911,  0.11227637,  0.38220371,\n",
    "          0.64166103,  0.92703234,  0.3736458 ,  0.21161801,  0.62412085,\n",
    "          0.3278856 , -0.18893975,  0.86769553,  0.78573112,  0.50142613,\n",
    "          0.96622037,  0.40300401,  0.55802604,  0.12912973,  0.14822851]], requires_grad=True)\n",
    "\n",
    "\n",
    "\n",
    "\n",
    "\n",
    "loss_hist=[]\n",
    "fid_hist=[]\n",
    "\n",
    "loss_hist_test=[]\n",
    "fid_hist_test=[]\n",
    "\n",
    "fraud_fid=[]\n",
    "\n",
    "\n",
    "batches = iterate_batches(X=training_data, batch_size=batch_size)\n",
    "#for xbatch in batches:\n",
    "    #encoder_params = opt.step(cost, encoder_params, X=xbatch)\n",
    "\n",
    "        \n",
    "   \n",
    "        \n",
    "loss_training = cost(encoder_params, X_training )\n",
    "fidel = fidelity(encoder_params, X_training )\n",
    "        \n",
    "loss_hist.append(loss_training)\n",
    "fid_hist.append(fidel)\n",
    "print(\"Loss:{} | Fidelity:{}\".format(loss_training, fidel))\n",
    "\n",
    "loss_test = cost(encoder_params, X_tes )\n",
    "fidel = fidelity(encoder_params, X_tes )\n",
    "loss_hist_test.append(loss_test)\n",
    "fid_hist_test.append(fidel)\n",
    "print(\"Test-Loss:{} | Test-Fidelity:{}\".format(loss_test, fidel))\n",
    "        \n",
    "f_fidel = fidelity(encoder_params, fraud_data )\n",
    "fraud_fid.append(f_fidel)\n",
    "print(\"Fraud Fidelity:{}\".format(f_fidel))"
   ]
  },
  {
   "cell_type": "code",
   "execution_count": 28,
   "id": "7727e6f4",
   "metadata": {},
   "outputs": [
    {
     "name": "stderr",
     "output_type": "stream",
     "text": [
      "/Users/seanmcilvane/anaconda3/envs/ENV_NAME/lib/python3.8/site-packages/pennylane/math/multi_dispatch.py:65: UserWarning: Contains tensors of types {'torch', 'autograd'}; dispatch will prioritize TensorFlow and PyTorch over autograd. Consider replacing Autograd with vanilla NumPy.\n",
      "  warnings.warn(\n",
      "/Users/seanmcilvane/anaconda3/envs/ENV_NAME/lib/python3.8/site-packages/autograd/tracer.py:14: UserWarning: Output seems independent of input.\n",
      "  warnings.warn(\"Output seems independent of input.\")\n"
     ]
    },
    {
     "ename": "TypeError",
     "evalue": "Can't find vector space for value 1.4058367913051657 of type <class 'torch.Tensor'>. Valid types are dict_keys([<class 'autograd.core.SparseObject'>, <class 'list'>, <class 'tuple'>, <class 'dict'>, <class 'numpy.ndarray'>, <class 'float'>, <class 'numpy.float64'>, <class 'numpy.float32'>, <class 'numpy.float16'>, <class 'complex'>, <class 'numpy.complex64'>, <class 'numpy.complex128'>, <class 'pennylane.numpy.tensor.tensor'>])",
     "output_type": "error",
     "traceback": [
      "\u001b[0;31m---------------------------------------------------------------------------\u001b[0m",
      "\u001b[0;31mKeyError\u001b[0m                                  Traceback (most recent call last)",
      "\u001b[0;32m~/anaconda3/envs/ENV_NAME/lib/python3.8/site-packages/autograd/core.py\u001b[0m in \u001b[0;36mvspace\u001b[0;34m(value)\u001b[0m\n\u001b[1;32m    232\u001b[0m     \u001b[0;32mtry\u001b[0m\u001b[0;34m:\u001b[0m\u001b[0;34m\u001b[0m\u001b[0;34m\u001b[0m\u001b[0m\n\u001b[0;32m--> 233\u001b[0;31m         \u001b[0;32mreturn\u001b[0m \u001b[0mVSpace\u001b[0m\u001b[0;34m.\u001b[0m\u001b[0mmappings\u001b[0m\u001b[0;34m[\u001b[0m\u001b[0mtype\u001b[0m\u001b[0;34m(\u001b[0m\u001b[0mvalue\u001b[0m\u001b[0;34m)\u001b[0m\u001b[0;34m]\u001b[0m\u001b[0;34m(\u001b[0m\u001b[0mvalue\u001b[0m\u001b[0;34m)\u001b[0m\u001b[0;34m\u001b[0m\u001b[0;34m\u001b[0m\u001b[0m\n\u001b[0m\u001b[1;32m    234\u001b[0m     \u001b[0;32mexcept\u001b[0m \u001b[0mKeyError\u001b[0m\u001b[0;34m:\u001b[0m\u001b[0;34m\u001b[0m\u001b[0;34m\u001b[0m\u001b[0m\n",
      "\u001b[0;31mKeyError\u001b[0m: <class 'torch.Tensor'>",
      "\nDuring handling of the above exception, another exception occurred:\n",
      "\u001b[0;31mTypeError\u001b[0m                                 Traceback (most recent call last)",
      "\u001b[0;32m/var/folders/_6/ff1hjmgn32786plyc3tgkn8h0000gn/T/ipykernel_95384/109248047.py\u001b[0m in \u001b[0;36m<module>\u001b[0;34m\u001b[0m\n\u001b[1;32m     10\u001b[0m     \u001b[0mbatches\u001b[0m \u001b[0;34m=\u001b[0m \u001b[0miterate_batches\u001b[0m\u001b[0;34m(\u001b[0m\u001b[0mX\u001b[0m\u001b[0;34m=\u001b[0m\u001b[0mtraining_data\u001b[0m\u001b[0;34m,\u001b[0m \u001b[0mbatch_size\u001b[0m\u001b[0;34m=\u001b[0m\u001b[0mbatch_size\u001b[0m\u001b[0;34m)\u001b[0m\u001b[0;34m\u001b[0m\u001b[0;34m\u001b[0m\u001b[0m\n\u001b[1;32m     11\u001b[0m     \u001b[0;32mfor\u001b[0m \u001b[0mxbatch\u001b[0m \u001b[0;32min\u001b[0m \u001b[0mbatches\u001b[0m\u001b[0;34m:\u001b[0m\u001b[0;34m\u001b[0m\u001b[0;34m\u001b[0m\u001b[0m\n\u001b[0;32m---> 12\u001b[0;31m         \u001b[0mencoder_params\u001b[0m \u001b[0;34m=\u001b[0m \u001b[0mopt\u001b[0m\u001b[0;34m.\u001b[0m\u001b[0mstep\u001b[0m\u001b[0;34m(\u001b[0m\u001b[0mcost\u001b[0m\u001b[0;34m,\u001b[0m \u001b[0mencoder_params\u001b[0m\u001b[0;34m,\u001b[0m \u001b[0mX\u001b[0m\u001b[0;34m=\u001b[0m\u001b[0mxbatch\u001b[0m\u001b[0;34m)\u001b[0m\u001b[0;34m\u001b[0m\u001b[0;34m\u001b[0m\u001b[0m\n\u001b[0m\u001b[1;32m     13\u001b[0m \u001b[0;34m\u001b[0m\u001b[0m\n\u001b[1;32m     14\u001b[0m \u001b[0;34m\u001b[0m\u001b[0m\n",
      "\u001b[0;32m~/anaconda3/envs/ENV_NAME/lib/python3.8/site-packages/pennylane/optimize/gradient_descent.py\u001b[0m in \u001b[0;36mstep\u001b[0;34m(self, objective_fn, grad_fn, *args, **kwargs)\u001b[0m\n\u001b[1;32m    127\u001b[0m         \"\"\"\n\u001b[1;32m    128\u001b[0m \u001b[0;34m\u001b[0m\u001b[0m\n\u001b[0;32m--> 129\u001b[0;31m         \u001b[0mg\u001b[0m\u001b[0;34m,\u001b[0m \u001b[0m_\u001b[0m \u001b[0;34m=\u001b[0m \u001b[0mself\u001b[0m\u001b[0;34m.\u001b[0m\u001b[0mcompute_grad\u001b[0m\u001b[0;34m(\u001b[0m\u001b[0mobjective_fn\u001b[0m\u001b[0;34m,\u001b[0m \u001b[0margs\u001b[0m\u001b[0;34m,\u001b[0m \u001b[0mkwargs\u001b[0m\u001b[0;34m,\u001b[0m \u001b[0mgrad_fn\u001b[0m\u001b[0;34m=\u001b[0m\u001b[0mgrad_fn\u001b[0m\u001b[0;34m)\u001b[0m\u001b[0;34m\u001b[0m\u001b[0;34m\u001b[0m\u001b[0m\n\u001b[0m\u001b[1;32m    130\u001b[0m         \u001b[0mnew_args\u001b[0m \u001b[0;34m=\u001b[0m \u001b[0mself\u001b[0m\u001b[0;34m.\u001b[0m\u001b[0mapply_grad\u001b[0m\u001b[0;34m(\u001b[0m\u001b[0mg\u001b[0m\u001b[0;34m,\u001b[0m \u001b[0margs\u001b[0m\u001b[0;34m)\u001b[0m\u001b[0;34m\u001b[0m\u001b[0;34m\u001b[0m\u001b[0m\n\u001b[1;32m    131\u001b[0m \u001b[0;34m\u001b[0m\u001b[0m\n",
      "\u001b[0;32m~/anaconda3/envs/ENV_NAME/lib/python3.8/site-packages/pennylane/optimize/gradient_descent.py\u001b[0m in \u001b[0;36mcompute_grad\u001b[0;34m(objective_fn, args, kwargs, grad_fn)\u001b[0m\n\u001b[1;32m    156\u001b[0m         \"\"\"\n\u001b[1;32m    157\u001b[0m         \u001b[0mg\u001b[0m \u001b[0;34m=\u001b[0m \u001b[0mget_gradient\u001b[0m\u001b[0;34m(\u001b[0m\u001b[0mobjective_fn\u001b[0m\u001b[0;34m)\u001b[0m \u001b[0;32mif\u001b[0m \u001b[0mgrad_fn\u001b[0m \u001b[0;32mis\u001b[0m \u001b[0;32mNone\u001b[0m \u001b[0;32melse\u001b[0m \u001b[0mgrad_fn\u001b[0m\u001b[0;34m\u001b[0m\u001b[0;34m\u001b[0m\u001b[0m\n\u001b[0;32m--> 158\u001b[0;31m         \u001b[0mgrad\u001b[0m \u001b[0;34m=\u001b[0m \u001b[0mg\u001b[0m\u001b[0;34m(\u001b[0m\u001b[0;34m*\u001b[0m\u001b[0margs\u001b[0m\u001b[0;34m,\u001b[0m \u001b[0;34m**\u001b[0m\u001b[0mkwargs\u001b[0m\u001b[0;34m)\u001b[0m\u001b[0;34m\u001b[0m\u001b[0;34m\u001b[0m\u001b[0m\n\u001b[0m\u001b[1;32m    159\u001b[0m         \u001b[0mforward\u001b[0m \u001b[0;34m=\u001b[0m \u001b[0mgetattr\u001b[0m\u001b[0;34m(\u001b[0m\u001b[0mg\u001b[0m\u001b[0;34m,\u001b[0m \u001b[0;34m\"forward\"\u001b[0m\u001b[0;34m,\u001b[0m \u001b[0;32mNone\u001b[0m\u001b[0;34m)\u001b[0m\u001b[0;34m\u001b[0m\u001b[0;34m\u001b[0m\u001b[0m\n\u001b[1;32m    160\u001b[0m \u001b[0;34m\u001b[0m\u001b[0m\n",
      "\u001b[0;32m~/anaconda3/envs/ENV_NAME/lib/python3.8/site-packages/pennylane/_grad.py\u001b[0m in \u001b[0;36m__call__\u001b[0;34m(self, *args, **kwargs)\u001b[0m\n\u001b[1;32m    111\u001b[0m             \u001b[0;32mreturn\u001b[0m \u001b[0;34m(\u001b[0m\u001b[0;34m)\u001b[0m\u001b[0;34m\u001b[0m\u001b[0;34m\u001b[0m\u001b[0m\n\u001b[1;32m    112\u001b[0m \u001b[0;34m\u001b[0m\u001b[0m\n\u001b[0;32m--> 113\u001b[0;31m         \u001b[0mgrad_value\u001b[0m\u001b[0;34m,\u001b[0m \u001b[0mans\u001b[0m \u001b[0;34m=\u001b[0m \u001b[0mgrad_fn\u001b[0m\u001b[0;34m(\u001b[0m\u001b[0;34m*\u001b[0m\u001b[0margs\u001b[0m\u001b[0;34m,\u001b[0m \u001b[0;34m**\u001b[0m\u001b[0mkwargs\u001b[0m\u001b[0;34m)\u001b[0m\u001b[0;34m\u001b[0m\u001b[0;34m\u001b[0m\u001b[0m\n\u001b[0m\u001b[1;32m    114\u001b[0m         \u001b[0mself\u001b[0m\u001b[0;34m.\u001b[0m\u001b[0m_forward\u001b[0m \u001b[0;34m=\u001b[0m \u001b[0mans\u001b[0m\u001b[0;34m\u001b[0m\u001b[0;34m\u001b[0m\u001b[0m\n\u001b[1;32m    115\u001b[0m \u001b[0;34m\u001b[0m\u001b[0m\n",
      "\u001b[0;32m~/anaconda3/envs/ENV_NAME/lib/python3.8/site-packages/autograd/wrap_util.py\u001b[0m in \u001b[0;36mnary_f\u001b[0;34m(*args, **kwargs)\u001b[0m\n\u001b[1;32m     18\u001b[0m             \u001b[0;32melse\u001b[0m\u001b[0;34m:\u001b[0m\u001b[0;34m\u001b[0m\u001b[0;34m\u001b[0m\u001b[0m\n\u001b[1;32m     19\u001b[0m                 \u001b[0mx\u001b[0m \u001b[0;34m=\u001b[0m \u001b[0mtuple\u001b[0m\u001b[0;34m(\u001b[0m\u001b[0margs\u001b[0m\u001b[0;34m[\u001b[0m\u001b[0mi\u001b[0m\u001b[0;34m]\u001b[0m \u001b[0;32mfor\u001b[0m \u001b[0mi\u001b[0m \u001b[0;32min\u001b[0m \u001b[0margnum\u001b[0m\u001b[0;34m)\u001b[0m\u001b[0;34m\u001b[0m\u001b[0;34m\u001b[0m\u001b[0m\n\u001b[0;32m---> 20\u001b[0;31m             \u001b[0;32mreturn\u001b[0m \u001b[0munary_operator\u001b[0m\u001b[0;34m(\u001b[0m\u001b[0munary_f\u001b[0m\u001b[0;34m,\u001b[0m \u001b[0mx\u001b[0m\u001b[0;34m,\u001b[0m \u001b[0;34m*\u001b[0m\u001b[0mnary_op_args\u001b[0m\u001b[0;34m,\u001b[0m \u001b[0;34m**\u001b[0m\u001b[0mnary_op_kwargs\u001b[0m\u001b[0;34m)\u001b[0m\u001b[0;34m\u001b[0m\u001b[0;34m\u001b[0m\u001b[0m\n\u001b[0m\u001b[1;32m     21\u001b[0m         \u001b[0;32mreturn\u001b[0m \u001b[0mnary_f\u001b[0m\u001b[0;34m\u001b[0m\u001b[0;34m\u001b[0m\u001b[0m\n\u001b[1;32m     22\u001b[0m     \u001b[0;32mreturn\u001b[0m \u001b[0mnary_operator\u001b[0m\u001b[0;34m\u001b[0m\u001b[0;34m\u001b[0m\u001b[0m\n",
      "\u001b[0;32m~/anaconda3/envs/ENV_NAME/lib/python3.8/site-packages/pennylane/_grad.py\u001b[0m in \u001b[0;36m_grad_with_forward\u001b[0;34m(fun, x)\u001b[0m\n\u001b[1;32m    131\u001b[0m         \u001b[0mvjp\u001b[0m\u001b[0;34m,\u001b[0m \u001b[0mans\u001b[0m \u001b[0;34m=\u001b[0m \u001b[0m_make_vjp\u001b[0m\u001b[0;34m(\u001b[0m\u001b[0mfun\u001b[0m\u001b[0;34m,\u001b[0m \u001b[0mx\u001b[0m\u001b[0;34m)\u001b[0m\u001b[0;34m\u001b[0m\u001b[0;34m\u001b[0m\u001b[0m\n\u001b[1;32m    132\u001b[0m \u001b[0;34m\u001b[0m\u001b[0m\n\u001b[0;32m--> 133\u001b[0;31m         \u001b[0;32mif\u001b[0m \u001b[0;32mnot\u001b[0m \u001b[0mvspace\u001b[0m\u001b[0;34m(\u001b[0m\u001b[0mans\u001b[0m\u001b[0;34m)\u001b[0m\u001b[0;34m.\u001b[0m\u001b[0msize\u001b[0m \u001b[0;34m==\u001b[0m \u001b[0;36m1\u001b[0m\u001b[0;34m:\u001b[0m\u001b[0;34m\u001b[0m\u001b[0;34m\u001b[0m\u001b[0m\n\u001b[0m\u001b[1;32m    134\u001b[0m             raise TypeError(\n\u001b[1;32m    135\u001b[0m                 \u001b[0;34m\"Grad only applies to real scalar-output functions. \"\u001b[0m\u001b[0;34m\u001b[0m\u001b[0;34m\u001b[0m\u001b[0m\n",
      "\u001b[0;32m~/anaconda3/envs/ENV_NAME/lib/python3.8/site-packages/autograd/core.py\u001b[0m in \u001b[0;36mvspace\u001b[0;34m(value)\u001b[0m\n\u001b[1;32m    236\u001b[0m             \u001b[0;32mreturn\u001b[0m \u001b[0mvspace\u001b[0m\u001b[0;34m(\u001b[0m\u001b[0mgetval\u001b[0m\u001b[0;34m(\u001b[0m\u001b[0mvalue\u001b[0m\u001b[0;34m)\u001b[0m\u001b[0;34m)\u001b[0m\u001b[0;34m\u001b[0m\u001b[0;34m\u001b[0m\u001b[0m\n\u001b[1;32m    237\u001b[0m         \u001b[0;32melse\u001b[0m\u001b[0;34m:\u001b[0m\u001b[0;34m\u001b[0m\u001b[0;34m\u001b[0m\u001b[0m\n\u001b[0;32m--> 238\u001b[0;31m             raise TypeError(\"Can't find vector space for value {} of type {}. \"\n\u001b[0m\u001b[1;32m    239\u001b[0m                             \"Valid types are {}\".format(\n\u001b[1;32m    240\u001b[0m                                 value, type(value), VSpace.mappings.keys()))\n",
      "\u001b[0;31mTypeError\u001b[0m: Can't find vector space for value 1.4058367913051657 of type <class 'torch.Tensor'>. Valid types are dict_keys([<class 'autograd.core.SparseObject'>, <class 'list'>, <class 'tuple'>, <class 'dict'>, <class 'numpy.ndarray'>, <class 'float'>, <class 'numpy.float64'>, <class 'numpy.float32'>, <class 'numpy.float16'>, <class 'complex'>, <class 'numpy.complex64'>, <class 'numpy.complex128'>, <class 'pennylane.numpy.tensor.tensor'>])"
     ]
    }
   ],
   "source": [
    "loss_hist=[]\n",
    "fid_hist=[]\n",
    "\n",
    "loss_hist_test=[]\n",
    "fid_hist_test=[]\n",
    "\n",
    "fraud_fid=[]\n",
    "\n",
    "for epoch in range(epochs):\n",
    "    batches = iterate_batches(X=training_data, batch_size=batch_size)\n",
    "    for xbatch in batches:\n",
    "        encoder_params = opt.step(cost, encoder_params, X=xbatch)\n",
    "\n",
    "        \n",
    "    if epoch%5 == 0:\n",
    "        \n",
    "        loss_training = cost(encoder_params, X_training )\n",
    "        fidel = fidelity(encoder_params, X_training )\n",
    "        \n",
    "        loss_hist.append(loss_training)\n",
    "        fid_hist.append(fidel)\n",
    "        print(\"Epoch:{} | Loss:{} | Fidelity:{}\".format(epoch, loss_training, fidel))\n",
    "\n",
    "        loss_test = cost(encoder_params, X_tes )\n",
    "        fidel = fidelity(encoder_params, X_tes )\n",
    "        loss_hist_test.append(loss_test)\n",
    "        fid_hist_test.append(fidel)\n",
    "        print(\"Test-Epoch:{} | Loss:{} | Fidelity:{}\".format(epoch, loss_test, fidel))\n",
    "        \n",
    "        f_fidel = fidelity(encoder_params, fraud_data )\n",
    "        fraud_fid.append(f_fidel)\n",
    "        print(\"Fraud Fidelity:{}\".format(f_fidel))"
   ]
  },
  {
   "cell_type": "code",
   "execution_count": 66,
   "id": "f4fcfdbf",
   "metadata": {},
   "outputs": [
    {
     "ename": "IndexError",
     "evalue": "list index out of range",
     "output_type": "error",
     "traceback": [
      "\u001b[0;31m---------------------------------------------------------------------------\u001b[0m",
      "\u001b[0;31mIndexError\u001b[0m                                Traceback (most recent call last)",
      "\u001b[0;32m/var/folders/_6/ff1hjmgn32786plyc3tgkn8h0000gn/T/ipykernel_89607/3466071450.py\u001b[0m in \u001b[0;36m<module>\u001b[0;34m\u001b[0m\n\u001b[1;32m     10\u001b[0m \u001b[0mplt\u001b[0m\u001b[0;34m.\u001b[0m\u001b[0msavefig\u001b[0m\u001b[0;34m(\u001b[0m\u001b[0;34m\"Fraud 4-3-4 Compression Fidelity e2\"\u001b[0m\u001b[0;34m)\u001b[0m\u001b[0;34m\u001b[0m\u001b[0;34m\u001b[0m\u001b[0m\n\u001b[1;32m     11\u001b[0m \u001b[0;34m\u001b[0m\u001b[0m\n\u001b[0;32m---> 12\u001b[0;31m \u001b[0mprint\u001b[0m\u001b[0;34m(\u001b[0m\u001b[0;34m\"fidelity:\"\u001b[0m\u001b[0;34m,\u001b[0m\u001b[0mfid_hist\u001b[0m\u001b[0;34m[\u001b[0m\u001b[0;34m-\u001b[0m\u001b[0;36m1\u001b[0m\u001b[0;34m]\u001b[0m\u001b[0;34m)\u001b[0m\u001b[0;34m\u001b[0m\u001b[0;34m\u001b[0m\u001b[0m\n\u001b[0m",
      "\u001b[0;31mIndexError\u001b[0m: list index out of range"
     ]
    },
    {
     "data": {
      "image/png": "[encoded data removed]",
      "text/plain": [
       "<Figure size 432x288 with 1 Axes>"
      ]
     },
     "metadata": {
      "needs_background": "light"
     },
     "output_type": "display_data"
    }
   ],
   "source": [
    "fig = plt.figure()\n",
    "plt.plot([x for x in range(0,len(loss_hist)*5,5)],np.array(fid_hist),label=\"train fidelity\")\n",
    "plt.plot([x for x in range(0,len(loss_hist)*5,5)],np.array(fid_hist_test),label=\"test fidelity\")\n",
    "plt.plot([x for x in range(0,len(loss_hist)*5,5)],np.array(fraud_fid),label=\"fraud fidelity\")\n",
    "\n",
    "plt.legend()\n",
    "plt.title(\"Fraud 4-3-4 Compression Fidelity e2 Qiskit\",)\n",
    "plt.xlabel(\"Epoch\")\n",
    "plt.ylabel(\"Fidelity\")\n",
    "plt.savefig(\"Fraud 4-3-4 Compression Fidelity e2 Qiskit\")\n",
    "\n",
    "print(\"fidelity:\",fid_hist[-1])"
   ]
  },
  {
   "cell_type": "code",
   "execution_count": 97,
   "id": "8d58a3df",
   "metadata": {},
   "outputs": [
    {
     "name": "stdout",
     "output_type": "stream",
     "text": [
      "loss: 1.102373216675469\n"
     ]
    },
    {
     "data": {
      "image/png": "[encoded data removed]",
      "text/plain": [
       "<Figure size 432x288 with 1 Axes>"
      ]
     },
     "metadata": {
      "needs_background": "light"
     },
     "output_type": "display_data"
    }
   ],
   "source": [
    "fig = plt.figure()\n",
    "plt.plot([x for x in range(0,len(loss_hist)*5,5)],np.array(loss_hist),label=\"train loss\")\n",
    "plt.plot([x for x in range(0,len(loss_hist)*5,5)],np.array(loss_hist_test),label=\"test loss\")\n",
    "\n",
    "\n",
    "plt.legend()\n",
    "plt.title(\"Fraud 4-3-4 Compression Loss e2 - Qiskit\",)\n",
    "plt.xlabel(\"Epoch\")\n",
    "plt.ylabel(\"Loss\")\n",
    "plt.savefig(\"Fraud 4-3-4 Compression Loss e2 - Qiskit\")\n",
    "\n",
    "print(\"loss:\",loss_hist[-1])"
   ]
  },
  {
   "cell_type": "code",
   "execution_count": 96,
   "id": "037a7ffc",
   "metadata": {},
   "outputs": [
    {
     "data": {
      "text/plain": [
       "17547"
      ]
     },
     "execution_count": 96,
     "metadata": {},
     "output_type": "execute_result"
    }
   ],
   "source": [
    "name = \"fraud_434_training_e2-Braket\"\n",
    "\n",
    "Circuit_prop={   \"shots\":shots, \"nr_trash\":nr_trash, \"nr_latent\":nr_latent, \"nr_ent\":nr_ent  }\n",
    "Training_param = { \"num_samples\" == num_samples,\n",
    "                    \"batch_size\" == batch_size,\n",
    "                    #\"nr_layers\"== nr_layers,\n",
    "                    \"epochs\" == epochs,\n",
    "                    \"learning_rate\" == learning_rate, \n",
    "                    \"beta1\" == beta1,\n",
    "                    \"beta2 \"== beta2,\n",
    "                     \"optimizer\"==\"Adam\"}\n",
    "\n",
    "performance={\"loss_hist\":loss_hist, \"fid_hist\":fid_hist,\n",
    "             \"loss_hist_test\":loss_hist_test, \"fid_hist_test\":fid_hist_test,\n",
    "             \"encoder_params\":encoder_params}\n",
    "\n",
    "experiment_data={\"Circuit_prop\":Circuit_prop,\n",
    "                \"Training_param\":Training_param,\n",
    "                \"performance:\":performance,\n",
    "                \"Name\":name}\n",
    "\n",
    "# open file for writing\n",
    "f = open(name+\".txt\",\"w\")\n",
    "f.write( str(experiment_data) )"
   ]
  },
  {
   "cell_type": "code",
   "execution_count": 101,
   "id": "40eca0dc",
   "metadata": {},
   "outputs": [
    {
     "data": {
      "text/plain": [
       "1386"
      ]
     },
     "execution_count": 101,
     "metadata": {},
     "output_type": "execute_result"
    }
   ],
   "source": [
    "experiment_parameters={\"autoencoder\":\"e2\",\"params\":encoder_params}\n",
    "f=open(\"Params_Fraud_encoder_e2-CorrelatedFeautures-Braket.txt\",\"w\")\n",
    "f.write(str(experiment_parameters))"
   ]
  },
  {
   "cell_type": "code",
   "execution_count": 14,
   "id": "1827f83e",
   "metadata": {},
   "outputs": [
    {
     "name": "stderr",
     "output_type": "stream",
     "text": [
      "ibmqfactory.load_account:WARNING:2022-02-25 13:01:02,918: Credentials are already in use. The existing account in the session will be replaced.\n"
     ]
    }
   ],
   "source": [
    "token = 'bdfb136f41f48dcab8cfc1bad4d78a53ef82fc659bd63e6decfb01526e7897904f5726e4cb3014f34fbb40ab745b733b9fe6219a6d9c28a2ee45cf36da171abb'\n",
    "IBMQ.save_account(token,overwrite=True)  #save your creds\n",
    "IBMQ.load_account()\n",
    "provider=IBMQ.get_provider(hub='ibm-q-community', group='qhack-hackathon', project='16-qubit')\n",
    "dev_qiskit = qml.device('qiskit.ibmq', wires=spec.num_qubits, backend='ibmq_guadalupe',provider=provider)\n",
    "\n"
   ]
  },
  {
   "cell_type": "code",
   "execution_count": 26,
   "id": "90f047d7",
   "metadata": {},
   "outputs": [
    {
     "name": "stderr",
     "output_type": "stream",
     "text": [
      "/Users/seanmcilvane/anaconda3/envs/ENV_NAME/lib/python3.8/site-packages/pennylane/math/multi_dispatch.py:65: UserWarning: Contains tensors of types {'autograd', 'torch'}; dispatch will prioritize TensorFlow and PyTorch over autograd. Consider replacing Autograd with vanilla NumPy.\n",
      "  warnings.warn(\n",
      "/Users/seanmcilvane/anaconda3/envs/ENV_NAME/lib/python3.8/site-packages/pennylane/math/multi_dispatch.py:65: UserWarning: Contains tensors of types {'autograd', 'torch'}; dispatch will prioritize TensorFlow and PyTorch over autograd. Consider replacing Autograd with vanilla NumPy.\n",
      "  warnings.warn(\n"
     ]
    },
    {
     "name": "stdout",
     "output_type": "stream",
     "text": [
      "0.416015625\n",
      "0.748046875\n"
     ]
    }
   ],
   "source": [
    "branch = df \n",
    "non_fraud_df = branch.loc[branch[\"Class\"]!=1][:250]\n",
    "\n",
    "\n",
    "non_fraud = non_fraud_df[feature_list]\n",
    "np_non_fraud = non_fraud.to_numpy()\n",
    "non_fraud_data = [ torch.tensor([np_non_fraud[i]]) for i in range(len(non_fraud.to_numpy()))]\n",
    "\n",
    "non_fraud_flist=[]\n",
    "for b in non_fraud_data:\n",
    "    f=fidelity(encoder_params, [b])\n",
    "    non_fraud_flist.append(f.item())\n",
    "    \n",
    "print(min(non_fraud_flist))\n",
    "print(max(non_fraud_flist))"
   ]
  },
  {
   "cell_type": "code",
   "execution_count": 27,
   "id": "a192fb78",
   "metadata": {},
   "outputs": [
    {
     "name": "stdout",
     "output_type": "stream",
     "text": [
      "0.525390625\n",
      "0.7529296875\n"
     ]
    }
   ],
   "source": [
    "\n",
    "branch = df \n",
    "fraud_df = branch.loc[branch[\"Class\"]!=0][:250]\n",
    "\n",
    "\n",
    "fraud = fraud_df[feature_list]\n",
    "np_fraud = fraud.to_numpy()\n",
    "fraud_data = [ torch.tensor([np_fraud[i]]) for i in range(len(fraud.to_numpy()))]\n",
    "\n",
    "\n",
    "\n",
    "fraud_flist=[]\n",
    "for b in fraud_data:\n",
    "    f=fidelity(encoder_params, [b])\n",
    "    fraud_flist.append(f.item())\n",
    "    \n",
    "print(min(fraud_flist))\n",
    "print(max(fraud_flist))"
   ]
  },
  {
   "cell_type": "code",
   "execution_count": 28,
   "id": "faa08f05",
   "metadata": {},
   "outputs": [
    {
     "data": {
      "image/png": "[encoded data removed]",
      "text/plain": [
       "<Figure size 432x288 with 1 Axes>"
      ]
     },
     "metadata": {
      "needs_background": "light"
     },
     "output_type": "display_data"
    }
   ],
   "source": [
    "\n",
    "plt.hist(non_fraud_flist, bins =100 ,label=\"non_fraud\",color = \"red\",alpha=0.4)\n",
    "plt.hist(fraud_flist, bins = 100 ,label=\"fraud\", color = \"skyblue\",alpha=0.4)\n",
    "plt.title(\"Compression fidelity\",)\n",
    "plt.legend()\n",
    "plt.savefig(\"Compression_fidelity-Qiskit\")\n",
    "plt.show()"
   ]
  },
  {
   "cell_type": "code",
   "execution_count": 29,
   "id": "815aa2cf",
   "metadata": {},
   "outputs": [
    {
     "name": "stdout",
     "output_type": "stream",
     "text": [
      "split: 0.75\n",
      "non fraud classification accuracy: 0.992\n",
      "fraud accuracy: 0.0\n",
      "total accuracy: 0.496\n"
     ]
    }
   ],
   "source": [
    "split=0.75\n",
    "\n",
    "\n",
    "print(\"split:\",split)\n",
    "b_e=[]\n",
    "for i in fraud_flist:\n",
    "    if i<split:\n",
    "        b_e.append(1)\n",
    "    else:\n",
    "        b_e.append(0)\n",
    "ab_ac=sum(b_e)/len(b_e)\n",
    "print(\"non fraud classification accuracy:\",ab_ac)\n",
    "m_e=[]\n",
    "for i in non_fraud_flist:\n",
    "    if i>split:\n",
    "        m_e.append(1)\n",
    "    else:\n",
    "        m_e.append(0)\n",
    "am_ac=sum(m_e)/len(m_e)\n",
    "print(\"fraud accuracy:\",am_ac)\n",
    "t_ac=(sum(b_e)+sum(m_e))/(len(b_e)+len(m_e))\n",
    "print(\"total accuracy:\",t_ac)"
   ]
  },
  {
   "cell_type": "code",
   "execution_count": null,
   "id": "3c23eddb",
   "metadata": {},
   "outputs": [],
   "source": []
  },
  {
   "cell_type": "code",
   "execution_count": null,
   "id": "ef90b47e",
   "metadata": {},
   "outputs": [],
   "source": []
  },
  {
   "cell_type": "code",
   "execution_count": null,
   "id": "8526cfa7",
   "metadata": {},
   "outputs": [],
   "source": []
  }
 ],
 "metadata": {
  "kernelspec": {
   "display_name": "Python 3 (ipykernel)",
   "language": "python",
   "name": "python3"
  },
  "language_info": {
   "codemirror_mode": {
    "name": "ipython",
    "version": 3
   },
   "file_extension": ".py",
   "mimetype": "text/x-python",
   "name": "python",
   "nbconvert_exporter": "python",
   "pygments_lexer": "ipython3",
   "version": "3.8.12"
  }
 },
 "nbformat": 4,
 "nbformat_minor": 5
}
