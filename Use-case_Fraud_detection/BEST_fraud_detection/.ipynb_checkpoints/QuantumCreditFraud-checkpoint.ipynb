{
 "cells": [
  {
   "cell_type": "code",
   "execution_count": 2,
   "id": "4e9c15f7",
   "metadata": {},
   "outputs": [],
   "source": [
    "# Imported Libraries\n",
    "import pennylane as qml\n",
    "from pennylane.optimize import AdamOptimizer\n",
    "from pennylane import numpy as np \n",
    "import pandas as pd \n",
    "import matplotlib.pyplot as plt\n",
    "import seaborn as sns\n",
    "from graphs import plot_correlation_matrix\n",
    "import random\n",
    "\n",
    "import torch\n",
    "from torchvision import datasets, transforms"
   ]
  },
  {
   "cell_type": "code",
   "execution_count": 3,
   "id": "7c792caa",
   "metadata": {},
   "outputs": [],
   "source": [
    "import sys\n",
    "sys.path.append(\"..\") # Adds higher directory to python modules path\n",
    "sys.path.append \n",
    "\n",
    "from qencode.initialize import setAB_amplitude, setAux, setEnt\n",
    "from qencode.encoders import e2_classic\n",
    "from qencode.training_circuits import swap_t\n",
    "from qencode.qubits_arrangement import QubitsArrangement\n",
    "\n",
    "from qencode.utils.mnist import get_dataset"
   ]
  },
  {
   "cell_type": "code",
   "execution_count": 4,
   "id": "36074521",
   "metadata": {},
   "outputs": [
    {
     "name": "stdout",
     "output_type": "stream",
     "text": [
      "Requirement already satisfied: kaggle in /Users/seanmcilvane/anaconda3/envs/ENV_NAME/lib/python3.8/site-packages (1.5.12)\n",
      "Requirement already satisfied: python-slugify in /Users/seanmcilvane/anaconda3/envs/ENV_NAME/lib/python3.8/site-packages (from kaggle) (6.0.1)\n",
      "Requirement already satisfied: tqdm in /Users/seanmcilvane/anaconda3/envs/ENV_NAME/lib/python3.8/site-packages (from kaggle) (4.62.3)\n",
      "Requirement already satisfied: urllib3 in /Users/seanmcilvane/anaconda3/envs/ENV_NAME/lib/python3.8/site-packages (from kaggle) (1.26.7)\n",
      "Requirement already satisfied: certifi in /Users/seanmcilvane/anaconda3/envs/ENV_NAME/lib/python3.8/site-packages (from kaggle) (2021.10.8)\n",
      "Requirement already satisfied: six>=1.10 in /Users/seanmcilvane/anaconda3/envs/ENV_NAME/lib/python3.8/site-packages (from kaggle) (1.16.0)\n",
      "Requirement already satisfied: python-dateutil in /Users/seanmcilvane/anaconda3/envs/ENV_NAME/lib/python3.8/site-packages (from kaggle) (2.8.2)\n",
      "Requirement already satisfied: requests in /Users/seanmcilvane/anaconda3/envs/ENV_NAME/lib/python3.8/site-packages (from kaggle) (2.27.1)\n",
      "Requirement already satisfied: text-unidecode>=1.3 in /Users/seanmcilvane/anaconda3/envs/ENV_NAME/lib/python3.8/site-packages (from python-slugify->kaggle) (1.3)\n",
      "Requirement already satisfied: idna<4,>=2.5 in /Users/seanmcilvane/anaconda3/envs/ENV_NAME/lib/python3.8/site-packages (from requests->kaggle) (3.3)\n",
      "Requirement already satisfied: charset-normalizer~=2.0.0 in /Users/seanmcilvane/anaconda3/envs/ENV_NAME/lib/python3.8/site-packages (from requests->kaggle) (2.0.9)\n"
     ]
    }
   ],
   "source": [
    "!pip install kaggle"
   ]
  },
  {
   "cell_type": "code",
   "execution_count": 5,
   "id": "ca1a2db3",
   "metadata": {},
   "outputs": [
    {
     "ename": "SyntaxError",
     "evalue": "invalid syntax (2387988877.py, line 6)",
     "output_type": "error",
     "traceback": [
      "\u001b[0;36m  File \u001b[0;32m\"/var/folders/_6/ff1hjmgn32786plyc3tgkn8h0000gn/T/ipykernel_90735/2387988877.py\"\u001b[0;36m, line \u001b[0;32m6\u001b[0m\n\u001b[0;31m    https://www.kaggle.com/mlg-ulb/creditcardfraud/download\u001b[0m\n\u001b[0m          ^\u001b[0m\n\u001b[0;31mSyntaxError\u001b[0m\u001b[0;31m:\u001b[0m invalid syntax\n"
     ]
    }
   ],
   "source": [
    "from kaggle.api.kaggle_api_extended import KaggleApi\n",
    "#import KaggleApi\n",
    "api = KaggleApi()\n",
    "api.authenticate()\n",
    "\n",
    "https://www.kaggle.com/mlg-ulb/creditcardfraud/download\n",
    "#downloading datasets for COVID-19 data\n",
    "#api.dataset_download_files('imdevskp/corona-virus-report')\n",
    "api.dataset_download_files('mlg-ulb/creditcardfraud')"
   ]
  },
  {
   "cell_type": "markdown",
   "id": "c31bc6cc",
   "metadata": {},
   "source": [
    "# Credit Card Fraud - A Growing Issue\n",
    "\n",
    "Credit card fraud is a growing issue with \\\\$28.5 billion lost globally due to credit card fraud in 2020 and is expected to exceed \\\\$49 billion by 2030 (1)). In 2020, around 1 out of 4 digital interactions were credit card fraud attempts (1). Since there are so many non fraudulent transactions, it is challenging to detect the fraudulent transactions. In this notebook, we will be using a quantum auto-encoder to perform anomaly detection. \n",
    "\n",
    "We can use the quantum auto encoder to encode the 4 qubit state into a 3 qubit state and then use a decoder to decode the 3 qubit state back into 4 qubit state. The quantum auto encoder is trained on the normal dataset (or in this case the non fraudulent transactions) which means the quantum autoencoder can encode and decode a normal (non fraudulent transaction) with high fidelity. The quantum autoencoder will not be able to encode and decode an anomaly (fraudulent transaction) with high fidelity. So, to tell if a data point is an anomaly, running it through the quantum auto encoder should output a dissimilar state.\n",
    "\n",
    "\n",
    "\n"
   ]
  },
  {
   "cell_type": "markdown",
   "id": "daed41dc",
   "metadata": {},
   "source": [
    "## Step 1: Import the dataset"
   ]
  },
  {
   "cell_type": "code",
   "execution_count": 8,
   "id": "41331d80",
   "metadata": {},
   "outputs": [],
   "source": [
    "df = pd.read_csv('creditcard.csv')"
   ]
  },
  {
   "cell_type": "markdown",
   "id": "660891a9",
   "metadata": {},
   "source": [
    "We are only going to print the first 5 rows because the dataset contains over 280,000 rows. Each row represents a transaction. Time shows the time passed between the current and first transactions and amount shows the dollar amount spent on the transaction. There are also 28 more features represented by V1, V2, ... , V28 which come from principal component analysis. Finally, there is the class, where a '0' represents no fraud committed and a '1' represents a fraudulent transaction"
   ]
  },
  {
   "cell_type": "markdown",
   "id": "5c153904",
   "metadata": {},
   "source": [
    "Let's now check the class distribution"
   ]
  },
  {
   "cell_type": "code",
   "execution_count": 9,
   "id": "65610482",
   "metadata": {},
   "outputs": [
    {
     "name": "stdout",
     "output_type": "stream",
     "text": [
      "No Frauds:  284315\n",
      "Frauds:  492\n"
     ]
    }
   ],
   "source": [
    "print('No Frauds: ', df['Class'].value_counts()[0])\n",
    "print('Frauds: ', df['Class'].value_counts()[1])"
   ]
  },
  {
   "cell_type": "markdown",
   "id": "df9736e2",
   "metadata": {},
   "source": [
    "Credit card fraud is relatively rare, this creates a very imbalanced distribution. A very imbalanced distribution is not ideal as this can lead to overfitting and our model assuming no fraud most of the time. It is also challenging to find the true correlations between the features and class."
   ]
  },
  {
   "cell_type": "code",
   "execution_count": 10,
   "id": "6e2bc92e",
   "metadata": {},
   "outputs": [
    {
     "data": {
      "image/png": "[encoded data removed]",
      "text/plain": [
       "<Figure size 1080x576 with 2 Axes>"
      ]
     },
     "metadata": {
      "needs_background": "light"
     },
     "output_type": "display_data"
    }
   ],
   "source": [
    "plot_correlation_matrix(df, \"Original Correlation Matrix\")"
   ]
  },
  {
   "cell_type": "markdown",
   "id": "58da6ed6",
   "metadata": {},
   "source": [
    "As you can see, nothing can really be inferred from this correlation matrix since the data is so imbalanced. We are going to create a sub sample dataset with equal amounts of non fraudulent data and fraudulent data. We are also going to scale the 'Time' and 'Amount' values for better processing. \n",
    "\n",
    "## Step 2: Make a balanced sub sample "
   ]
  },
  {
   "cell_type": "code",
   "execution_count": 11,
   "id": "83abf40c",
   "metadata": {},
   "outputs": [
    {
     "data": {
      "text/html": [
       "<div>\n",
       "<style scoped>\n",
       "    .dataframe tbody tr th:only-of-type {\n",
       "        vertical-align: middle;\n",
       "    }\n",
       "\n",
       "    .dataframe tbody tr th {\n",
       "        vertical-align: top;\n",
       "    }\n",
       "\n",
       "    .dataframe thead th {\n",
       "        text-align: right;\n",
       "    }\n",
       "</style>\n",
       "<table border=\"1\" class=\"dataframe\">\n",
       "  <thead>\n",
       "    <tr style=\"text-align: right;\">\n",
       "      <th></th>\n",
       "      <th>scaled_amount</th>\n",
       "      <th>scaled_time</th>\n",
       "      <th>V1</th>\n",
       "      <th>V2</th>\n",
       "      <th>V3</th>\n",
       "      <th>V4</th>\n",
       "      <th>V5</th>\n",
       "      <th>V6</th>\n",
       "      <th>V7</th>\n",
       "      <th>V8</th>\n",
       "      <th>...</th>\n",
       "      <th>V20</th>\n",
       "      <th>V21</th>\n",
       "      <th>V22</th>\n",
       "      <th>V23</th>\n",
       "      <th>V24</th>\n",
       "      <th>V25</th>\n",
       "      <th>V26</th>\n",
       "      <th>V27</th>\n",
       "      <th>V28</th>\n",
       "      <th>Class</th>\n",
       "    </tr>\n",
       "  </thead>\n",
       "  <tbody>\n",
       "    <tr>\n",
       "      <th>201223</th>\n",
       "      <td>19.045623</td>\n",
       "      <td>0.576734</td>\n",
       "      <td>-0.631559</td>\n",
       "      <td>-4.492435</td>\n",
       "      <td>-2.158925</td>\n",
       "      <td>2.204688</td>\n",
       "      <td>-1.383964</td>\n",
       "      <td>0.545624</td>\n",
       "      <td>1.393815</td>\n",
       "      <td>-0.406094</td>\n",
       "      <td>...</td>\n",
       "      <td>2.644642</td>\n",
       "      <td>1.001384</td>\n",
       "      <td>-0.043594</td>\n",
       "      <td>-1.215705</td>\n",
       "      <td>-0.925549</td>\n",
       "      <td>-0.428255</td>\n",
       "      <td>-0.649104</td>\n",
       "      <td>-0.199388</td>\n",
       "      <td>0.201592</td>\n",
       "      <td>0</td>\n",
       "    </tr>\n",
       "    <tr>\n",
       "      <th>43773</th>\n",
       "      <td>2.100468</td>\n",
       "      <td>-0.505716</td>\n",
       "      <td>-3.240187</td>\n",
       "      <td>2.978122</td>\n",
       "      <td>-4.162314</td>\n",
       "      <td>3.869124</td>\n",
       "      <td>-3.645256</td>\n",
       "      <td>-0.126271</td>\n",
       "      <td>-4.744730</td>\n",
       "      <td>-0.065331</td>\n",
       "      <td>...</td>\n",
       "      <td>-0.224043</td>\n",
       "      <td>2.601441</td>\n",
       "      <td>0.231910</td>\n",
       "      <td>-0.036490</td>\n",
       "      <td>0.042640</td>\n",
       "      <td>-0.438330</td>\n",
       "      <td>-0.125821</td>\n",
       "      <td>0.421300</td>\n",
       "      <td>0.003146</td>\n",
       "      <td>1</td>\n",
       "    </tr>\n",
       "    <tr>\n",
       "      <th>31273</th>\n",
       "      <td>-0.289387</td>\n",
       "      <td>-0.568569</td>\n",
       "      <td>-0.556041</td>\n",
       "      <td>0.723960</td>\n",
       "      <td>1.981762</td>\n",
       "      <td>-1.380151</td>\n",
       "      <td>-0.064475</td>\n",
       "      <td>-0.819532</td>\n",
       "      <td>0.759580</td>\n",
       "      <td>-0.160444</td>\n",
       "      <td>...</td>\n",
       "      <td>0.128343</td>\n",
       "      <td>-0.066081</td>\n",
       "      <td>0.026516</td>\n",
       "      <td>-0.112766</td>\n",
       "      <td>0.581982</td>\n",
       "      <td>-0.413559</td>\n",
       "      <td>0.659073</td>\n",
       "      <td>0.095309</td>\n",
       "      <td>-0.056204</td>\n",
       "      <td>0</td>\n",
       "    </tr>\n",
       "    <tr>\n",
       "      <th>254395</th>\n",
       "      <td>-0.201355</td>\n",
       "      <td>0.846086</td>\n",
       "      <td>0.202402</td>\n",
       "      <td>1.176270</td>\n",
       "      <td>0.346379</td>\n",
       "      <td>2.882138</td>\n",
       "      <td>1.407133</td>\n",
       "      <td>-0.504355</td>\n",
       "      <td>1.438537</td>\n",
       "      <td>-0.395603</td>\n",
       "      <td>...</td>\n",
       "      <td>-0.206239</td>\n",
       "      <td>0.242560</td>\n",
       "      <td>0.841230</td>\n",
       "      <td>-0.370157</td>\n",
       "      <td>-0.026012</td>\n",
       "      <td>0.491954</td>\n",
       "      <td>0.234576</td>\n",
       "      <td>-0.279788</td>\n",
       "      <td>-0.331933</td>\n",
       "      <td>1</td>\n",
       "    </tr>\n",
       "    <tr>\n",
       "      <th>42549</th>\n",
       "      <td>0.925452</td>\n",
       "      <td>-0.511578</td>\n",
       "      <td>-5.314173</td>\n",
       "      <td>4.145944</td>\n",
       "      <td>-8.532522</td>\n",
       "      <td>8.344392</td>\n",
       "      <td>-5.718008</td>\n",
       "      <td>-3.043536</td>\n",
       "      <td>-10.989185</td>\n",
       "      <td>3.404129</td>\n",
       "      <td>...</td>\n",
       "      <td>1.150017</td>\n",
       "      <td>2.331466</td>\n",
       "      <td>0.862996</td>\n",
       "      <td>-0.614453</td>\n",
       "      <td>0.523648</td>\n",
       "      <td>-0.712593</td>\n",
       "      <td>0.324638</td>\n",
       "      <td>2.245091</td>\n",
       "      <td>0.497321</td>\n",
       "      <td>1</td>\n",
       "    </tr>\n",
       "  </tbody>\n",
       "</table>\n",
       "<p>5 rows × 31 columns</p>\n",
       "</div>"
      ],
      "text/plain": [
       "        scaled_amount  scaled_time        V1        V2        V3        V4  \\\n",
       "201223      19.045623     0.576734 -0.631559 -4.492435 -2.158925  2.204688   \n",
       "43773        2.100468    -0.505716 -3.240187  2.978122 -4.162314  3.869124   \n",
       "31273       -0.289387    -0.568569 -0.556041  0.723960  1.981762 -1.380151   \n",
       "254395      -0.201355     0.846086  0.202402  1.176270  0.346379  2.882138   \n",
       "42549        0.925452    -0.511578 -5.314173  4.145944 -8.532522  8.344392   \n",
       "\n",
       "              V5        V6         V7        V8  ...       V20       V21  \\\n",
       "201223 -1.383964  0.545624   1.393815 -0.406094  ...  2.644642  1.001384   \n",
       "43773  -3.645256 -0.126271  -4.744730 -0.065331  ... -0.224043  2.601441   \n",
       "31273  -0.064475 -0.819532   0.759580 -0.160444  ...  0.128343 -0.066081   \n",
       "254395  1.407133 -0.504355   1.438537 -0.395603  ... -0.206239  0.242560   \n",
       "42549  -5.718008 -3.043536 -10.989185  3.404129  ...  1.150017  2.331466   \n",
       "\n",
       "             V22       V23       V24       V25       V26       V27       V28  \\\n",
       "201223 -0.043594 -1.215705 -0.925549 -0.428255 -0.649104 -0.199388  0.201592   \n",
       "43773   0.231910 -0.036490  0.042640 -0.438330 -0.125821  0.421300  0.003146   \n",
       "31273   0.026516 -0.112766  0.581982 -0.413559  0.659073  0.095309 -0.056204   \n",
       "254395  0.841230 -0.370157 -0.026012  0.491954  0.234576 -0.279788 -0.331933   \n",
       "42549   0.862996 -0.614453  0.523648 -0.712593  0.324638  2.245091  0.497321   \n",
       "\n",
       "        Class  \n",
       "201223      0  \n",
       "43773       1  \n",
       "31273       0  \n",
       "254395      1  \n",
       "42549       1  \n",
       "\n",
       "[5 rows x 31 columns]"
      ]
     },
     "execution_count": 11,
     "metadata": {},
     "output_type": "execute_result"
    }
   ],
   "source": [
    "#from sklearn.preprocessing import StandardScaler, RobustScaler\n",
    "from sklearn.preprocessing import RobustScaler\n",
    "\n",
    "# Scaling amount and time for the subsample\n",
    "df['scaled_amount'] = RobustScaler().fit_transform(df['Amount'].values.reshape(-1,1))\n",
    "df['scaled_time'] = RobustScaler().fit_transform(df['Time'].values.reshape(-1,1))\n",
    "df.drop(['Time','Amount'], axis=1, inplace=True) # Drop the original time and amount values\n",
    "\n",
    "# Add scaled amount and times to the data frame\n",
    "scaled_amount = df['scaled_amount'] \n",
    "scaled_time = df['scaled_time']\n",
    "df.drop(['scaled_amount', 'scaled_time'], axis=1, inplace=True)\n",
    "df.insert(0, 'scaled_amount', scaled_amount)\n",
    "df.insert(1, 'scaled_time', scaled_time)\n",
    "\n",
    "# Create the balanced subsample of 49\n",
    "df = df.sample(frac=1)\n",
    "fraud_df = df.loc[df['Class'] == 1]\n",
    "non_fraud_df = df.loc[df['Class'] == 0][:492]\n",
    "normal_distributed_df = pd.concat([fraud_df, non_fraud_df])\n",
    "sub_sample_df = normal_distributed_df.sample(frac=1, random_state=42)\n",
    "\n",
    "# Display the first 5 rows t ose\n",
    "sub_sample_df.head()"
   ]
  },
  {
   "cell_type": "markdown",
   "id": "7ad10bc0",
   "metadata": {},
   "source": [
    "We can now plot the correlation matrix of our new sub sample to get a better idea of the true correlations between features and 'Class' "
   ]
  },
  {
   "cell_type": "code",
   "execution_count": 12,
   "id": "74488a4c",
   "metadata": {},
   "outputs": [
    {
     "data": {
      "image/png": "[encoded data removed]",
      "text/plain": [
       "<Figure size 1080x576 with 2 Axes>"
      ]
     },
     "metadata": {
      "needs_background": "light"
     },
     "output_type": "display_data"
    }
   ],
   "source": [
    "sub_sample_corr = sub_sample_df.corr()\n",
    "plot_correlation_matrix(sub_sample_corr, \"Sub Sample Correlation Matrix\")"
   ]
  },
  {
   "cell_type": "markdown",
   "id": "a255748e",
   "metadata": {},
   "source": [
    "The correlations are now much more noticeable. \n",
    "\n",
    "## Step 3: Find strongest correlated features\n",
    "Now, we can find the features with the strongest correlation to class. Half are the strongest positive correlations, half are the strongest negative correlations. "
   ]
  },
  {
   "cell_type": "code",
   "execution_count": 13,
   "id": "96d7c417",
   "metadata": {},
   "outputs": [
    {
     "name": "stdout",
     "output_type": "stream",
     "text": [
      "(['V4', 'V14', 'V11', 'V12', 'V2', 'V10', 'V19', 'V16', 'V20', 'V17', 'V21', 'V3', 'V28', 'V9', 'V27', 'V7'], [0.7058120423258473, -0.7497984480205508, 0.6836088756596664, -0.6834901998426971, 0.4969705154054289, -0.6283122439047553, 0.30353677689404146, -0.5866773883131279, 0.18753062007263024, -0.5612584974542567, 0.12148283477239953, -0.5603149314812269, 0.09637720286504278, -0.5419015392071095, 0.07829129438711462, -0.47841674328614375])\n"
     ]
    }
   ],
   "source": [
    "def find_strongest_correlations(dataframe, latent_qubits):\n",
    "    \n",
    "    num_features = latent_qubits**2\n",
    "    \n",
    "    class_correlations = dataframe.loc['Class', :]\n",
    "    class_correlations = class_correlations.drop(index = 'Class')\n",
    "    \n",
    "    feature_list = list(class_correlations.index)\n",
    "    correlation_list = [class_correlations[x] for x in feature_list]\n",
    "    \n",
    "    features = []\n",
    "    correlations = []\n",
    "    \n",
    "    for i in range(int(num_features/2)):\n",
    "        \n",
    "        \n",
    "        correlations.append(max(correlation_list))\n",
    "        features.append(feature_list[correlation_list.index(max(correlation_list))])\n",
    "        \n",
    "        del feature_list[correlation_list.index(max(correlation_list))]\n",
    "        del correlation_list[correlation_list.index(max(correlation_list))]                        \n",
    "                                      \n",
    "        correlations.append(min(correlation_list))\n",
    "        features.append(feature_list[correlation_list.index(min(correlation_list))])\n",
    "        \n",
    "        del feature_list[correlation_list.index(min(correlation_list))]\n",
    "        del correlation_list[correlation_list.index(min(correlation_list))] \n",
    "    \n",
    "    return features, correlations\n",
    "\n",
    "feature_list, correlations = find_strongest_correlations(sub_sample_corr, 4)\n",
    "\n",
    "print(find_strongest_correlations(sub_sample_corr, 4))"
   ]
  },
  {
   "cell_type": "markdown",
   "id": "7691f05b",
   "metadata": {},
   "source": [
    "We now have 16 features that are the most correlated with 'Class'. In this use case, we will be using 4 qubits to represent the data which means we need 2^4 = 16 features to encode into the 4 qubits though amplitude encoding. Later, we will use the quantum autoencoder to encode the 4 qubits into 3 qubits and then use a decoder to decode those 3 qubits back to 4 qubits. \n",
    "\n",
    "We now create a dataframe for all non fraudulent transactions and one for all fraudulent transactions with only the strongest correlated features. The non fraudulent transactions will be used to train the quantum auto encoder parameters. The fraudulent transactions will be used later to check if the quantum auto encoder has a low fidelity for fraudulent transactions. "
   ]
  },
  {
   "cell_type": "code",
   "execution_count": 14,
   "id": "0b638c7e",
   "metadata": {},
   "outputs": [
    {
     "name": "stderr",
     "output_type": "stream",
     "text": [
      "/var/folders/_6/ff1hjmgn32786plyc3tgkn8h0000gn/T/ipykernel_90735/393363302.py:17: UserWarning: Creating a tensor from a list of numpy.ndarrays is extremely slow. Please consider converting the list to a single numpy.ndarray with numpy.array() before converting to a tensor. (Triggered internally at  ../torch/csrc/utils/tensor_new.cpp:201.)\n",
      "  fraud_data = [ torch.tensor([np_fraud[i]]) for i in range(len(fraud.to_numpy()))]\n"
     ]
    },
    {
     "data": {
      "text/html": [
       "<div>\n",
       "<style scoped>\n",
       "    .dataframe tbody tr th:only-of-type {\n",
       "        vertical-align: middle;\n",
       "    }\n",
       "\n",
       "    .dataframe tbody tr th {\n",
       "        vertical-align: top;\n",
       "    }\n",
       "\n",
       "    .dataframe thead th {\n",
       "        text-align: right;\n",
       "    }\n",
       "</style>\n",
       "<table border=\"1\" class=\"dataframe\">\n",
       "  <thead>\n",
       "    <tr style=\"text-align: right;\">\n",
       "      <th></th>\n",
       "      <th>V4</th>\n",
       "      <th>V14</th>\n",
       "      <th>V11</th>\n",
       "      <th>V12</th>\n",
       "      <th>V2</th>\n",
       "      <th>V10</th>\n",
       "      <th>V19</th>\n",
       "      <th>V16</th>\n",
       "      <th>V20</th>\n",
       "      <th>V17</th>\n",
       "      <th>V21</th>\n",
       "      <th>V3</th>\n",
       "      <th>V28</th>\n",
       "      <th>V9</th>\n",
       "      <th>V27</th>\n",
       "      <th>V7</th>\n",
       "    </tr>\n",
       "  </thead>\n",
       "  <tbody>\n",
       "    <tr>\n",
       "      <th>99506</th>\n",
       "      <td>2.756558</td>\n",
       "      <td>-4.732768</td>\n",
       "      <td>2.560700</td>\n",
       "      <td>-3.411983</td>\n",
       "      <td>0.403327</td>\n",
       "      <td>-3.951003</td>\n",
       "      <td>2.690808</td>\n",
       "      <td>-3.306088</td>\n",
       "      <td>1.503688</td>\n",
       "      <td>-4.231022</td>\n",
       "      <td>0.838760</td>\n",
       "      <td>-1.994122</td>\n",
       "      <td>0.252713</td>\n",
       "      <td>-1.447225</td>\n",
       "      <td>0.332421</td>\n",
       "      <td>-1.209045</td>\n",
       "    </tr>\n",
       "    <tr>\n",
       "      <th>235644</th>\n",
       "      <td>3.121459</td>\n",
       "      <td>-6.745561</td>\n",
       "      <td>1.927186</td>\n",
       "      <td>-6.011155</td>\n",
       "      <td>3.846800</td>\n",
       "      <td>-5.175660</td>\n",
       "      <td>0.971906</td>\n",
       "      <td>-4.325132</td>\n",
       "      <td>0.114760</td>\n",
       "      <td>-5.558067</td>\n",
       "      <td>1.096405</td>\n",
       "      <td>-7.604114</td>\n",
       "      <td>0.398348</td>\n",
       "      <td>-2.530507</td>\n",
       "      <td>0.577052</td>\n",
       "      <td>-2.385027</td>\n",
       "    </tr>\n",
       "    <tr>\n",
       "      <th>274475</th>\n",
       "      <td>1.970759</td>\n",
       "      <td>-3.565119</td>\n",
       "      <td>0.874052</td>\n",
       "      <td>-2.513104</td>\n",
       "      <td>2.361594</td>\n",
       "      <td>-2.516628</td>\n",
       "      <td>0.527620</td>\n",
       "      <td>-2.015713</td>\n",
       "      <td>0.190877</td>\n",
       "      <td>-1.731413</td>\n",
       "      <td>0.473211</td>\n",
       "      <td>-3.171195</td>\n",
       "      <td>0.443299</td>\n",
       "      <td>-1.745854</td>\n",
       "      <td>0.683535</td>\n",
       "      <td>-0.055178</td>\n",
       "    </tr>\n",
       "    <tr>\n",
       "      <th>195383</th>\n",
       "      <td>4.833490</td>\n",
       "      <td>-2.306645</td>\n",
       "      <td>-0.000121</td>\n",
       "      <td>-0.054381</td>\n",
       "      <td>-1.237555</td>\n",
       "      <td>0.085662</td>\n",
       "      <td>-2.300798</td>\n",
       "      <td>1.672723</td>\n",
       "      <td>1.277315</td>\n",
       "      <td>1.165737</td>\n",
       "      <td>0.303905</td>\n",
       "      <td>-1.767341</td>\n",
       "      <td>0.144774</td>\n",
       "      <td>-1.046351</td>\n",
       "      <td>-0.117858</td>\n",
       "      <td>1.140149</td>\n",
       "    </tr>\n",
       "    <tr>\n",
       "      <th>17453</th>\n",
       "      <td>6.505862</td>\n",
       "      <td>-4.829552</td>\n",
       "      <td>3.947840</td>\n",
       "      <td>-5.487911</td>\n",
       "      <td>16.434525</td>\n",
       "      <td>-7.800598</td>\n",
       "      <td>0.608930</td>\n",
       "      <td>-5.121162</td>\n",
       "      <td>1.724779</td>\n",
       "      <td>-11.118190</td>\n",
       "      <td>1.812954</td>\n",
       "      <td>-30.558697</td>\n",
       "      <td>0.364530</td>\n",
       "      <td>-3.591491</td>\n",
       "      <td>1.255649</td>\n",
       "      <td>-20.081391</td>\n",
       "    </tr>\n",
       "  </tbody>\n",
       "</table>\n",
       "</div>"
      ],
      "text/plain": [
       "              V4       V14       V11       V12         V2       V10       V19  \\\n",
       "99506   2.756558 -4.732768  2.560700 -3.411983   0.403327 -3.951003  2.690808   \n",
       "235644  3.121459 -6.745561  1.927186 -6.011155   3.846800 -5.175660  0.971906   \n",
       "274475  1.970759 -3.565119  0.874052 -2.513104   2.361594 -2.516628  0.527620   \n",
       "195383  4.833490 -2.306645 -0.000121 -0.054381  -1.237555  0.085662 -2.300798   \n",
       "17453   6.505862 -4.829552  3.947840 -5.487911  16.434525 -7.800598  0.608930   \n",
       "\n",
       "             V16       V20        V17       V21         V3       V28  \\\n",
       "99506  -3.306088  1.503688  -4.231022  0.838760  -1.994122  0.252713   \n",
       "235644 -4.325132  0.114760  -5.558067  1.096405  -7.604114  0.398348   \n",
       "274475 -2.015713  0.190877  -1.731413  0.473211  -3.171195  0.443299   \n",
       "195383  1.672723  1.277315   1.165737  0.303905  -1.767341  0.144774   \n",
       "17453  -5.121162  1.724779 -11.118190  1.812954 -30.558697  0.364530   \n",
       "\n",
       "              V9       V27         V7  \n",
       "99506  -1.447225  0.332421  -1.209045  \n",
       "235644 -2.530507  0.577052  -2.385027  \n",
       "274475 -1.745854  0.683535  -0.055178  \n",
       "195383 -1.046351 -0.117858   1.140149  \n",
       "17453  -3.591491  1.255649 -20.081391  "
      ]
     },
     "execution_count": 14,
     "metadata": {},
     "output_type": "execute_result"
    }
   ],
   "source": [
    "# Dataframe of all non fraudulent transactions\n",
    "branch = df\n",
    "non_fraud = branch[branch[\"Class\"]!=\"1\"]\n",
    "\n",
    "# All examples of non fraudulent data with 16 features\n",
    "non_fraud = non_fraud[feature_list]\n",
    "non_fraud.head()\n",
    "\n",
    "input_data = non_fraud.to_numpy()\n",
    "\n",
    "\n",
    "# Create a tensor dataset with only fraud data and most correlated features \n",
    "# for finding the fidelity of the quantum autoencoder on fraud transactions\n",
    "\n",
    "fraud = fraud_df[feature_list]\n",
    "np_fraud = fraud.to_numpy()\n",
    "fraud_data = [ torch.tensor([np_fraud[i]]) for i in range(len(fraud.to_numpy()))] \n",
    "\n",
    "fraud.head()\n",
    "\n"
   ]
  },
  {
   "cell_type": "markdown",
   "id": "de0f0740",
   "metadata": {},
   "source": [
    "## Step 4: Set up for training \n"
   ]
  },
  {
   "cell_type": "code",
   "execution_count": 15,
   "id": "9b9a0a53",
   "metadata": {},
   "outputs": [
    {
     "name": "stdout",
     "output_type": "stream",
     "text": [
      "Qubits: [0, 1, 2, 3, 4, 5]\n"
     ]
    }
   ],
   "source": [
    "shots = 2500 #The amount of shots used for each epoch of training\n",
    "nr_trash= 1   # Number of qubits 'thrown away'\n",
    "nr_latent= 3  # Number of qubits left after the encoder is used\n",
    "nr_ent = 0\n",
    "\n",
    "epochs = 500   # Number of iterations of training to perform to find the final encoder parameters\n",
    "learning_rate = .005 # Learning rate for the optimizer, dictates how fast the optimizer trains\n",
    "batch_size = 2\n",
    "num_samples = 50  # Number of training samples used for each epoch\n",
    "\n",
    "beta1 = 0.9\n",
    "beta2 = 0.999\n",
    "opt = AdamOptimizer(learning_rate, beta1=beta1, beta2=beta2)\n",
    "\n",
    "# Organizes and specifies our qubits for the device\n",
    "spec = QubitsArrangement(nr_trash, nr_latent, nr_swap=1, nr_ent=nr_ent)\n",
    "print(\"Qubits:\", spec.qubits)\n",
    "\n",
    "#set up the device \n",
    "dev = qml.device(\"default.qubit\", wires=spec.num_qubits)"
   ]
  },
  {
   "cell_type": "code",
   "execution_count": 16,
   "id": "e1fa0ae0",
   "metadata": {},
   "outputs": [],
   "source": [
    "@qml.qnode(dev)\n",
    "def training_circuit_example(init_params, encoder_params, reinit_state):\n",
    "    #initilaization\n",
    "    setAB_amplitude(spec, init_params)\n",
    "\n",
    "    setAux(spec, reinit_state)\n",
    "\n",
    "    setEnt(spec, inputs=[1 / np.sqrt(2), 0, 0, 1 / np.sqrt(2)])\n",
    "\n",
    "    #encoder \n",
    "\n",
    "    for params in encoder_params:\n",
    "        e2_classic(params, [*spec.latent_qubits, *spec.trash_qubits])\n",
    "\n",
    "    #swap test \n",
    "    swap_t(spec)\n",
    "\n",
    "    return [qml.probs(i) for i in spec.swap_qubits]"
   ]
  },
  {
   "cell_type": "code",
   "execution_count": 17,
   "id": "607b59fa",
   "metadata": {},
   "outputs": [],
   "source": [
    "def fid_func(output):\n",
    "    # Implemented as the Fidelity Loss\n",
    "    # output[0] because we take the probability that the state after the \n",
    "    # SWAP test is ket(0), like the reference state\n",
    "    fidelity_loss = 1 / output[0]\n",
    "    return fidelity_loss"
   ]
  },
  {
   "cell_type": "code",
   "execution_count": 18,
   "id": "349e2abb",
   "metadata": {},
   "outputs": [],
   "source": [
    "# Define cost function\n",
    "def cost(encoder_params, X):\n",
    "    reinit_state = [0 for i in range(2 ** len(spec.aux_qubits))]\n",
    "    reinit_state[0] = 1.0\n",
    "    loss = 0.0\n",
    "    for x in X:\n",
    "        output = training_circuit_example(init_params=x[0], encoder_params=encoder_params, reinit_state=reinit_state)[0]\n",
    "        f = fid_func(output)\n",
    "        loss = loss + f\n",
    "    return loss / len(X)"
   ]
  },
  {
   "cell_type": "code",
   "execution_count": 19,
   "id": "c3129d41",
   "metadata": {},
   "outputs": [],
   "source": [
    "# Define fidelity function\n",
    "def fidelity(encoder_params, X):\n",
    "    reinit_state = [0 for i in range(2 ** len(spec.aux_qubits))]\n",
    "    reinit_state[0] = 1.0\n",
    "    loss = 0.0\n",
    "    for x in X:\n",
    "        output = training_circuit_example(init_params=x[0], encoder_params=encoder_params, reinit_state=reinit_state)[0]\n",
    "        f = output[0]\n",
    "        loss = loss + f\n",
    "    return loss / len(X)"
   ]
  },
  {
   "cell_type": "code",
   "execution_count": 20,
   "id": "e9fe6536",
   "metadata": {},
   "outputs": [],
   "source": [
    "def iterate_batches(X, batch_size):\n",
    "    \n",
    "    random.shuffle(X)\n",
    "\n",
    "    batch_list = []\n",
    "    batch = []\n",
    "    for x in X:\n",
    "        if len(batch) < batch_size:\n",
    "            batch.append(x)\n",
    "\n",
    "        else:\n",
    "            batch_list.append(batch)\n",
    "            batch = []\n",
    "    if len(batch) != 0:\n",
    "        batch_list.append(batch)\n",
    "    return batch_list"
   ]
  },
  {
   "cell_type": "code",
   "execution_count": 21,
   "id": "26141da0",
   "metadata": {},
   "outputs": [],
   "source": [
    "\n",
    "training_data = [ torch.tensor([input_data[i]]) for i in range(num_samples)]\n",
    "test_data = [ torch.tensor([input_data[i]]) for i in range(num_samples,num_samples+num_samples)]\n",
    "\n",
    "X_training = training_data\n",
    "X_tes = test_data\n",
    "\n"
   ]
  },
  {
   "cell_type": "code",
   "execution_count": 22,
   "id": "9b4f3a7b",
   "metadata": {},
   "outputs": [
    {
     "name": "stdout",
     "output_type": "stream",
     "text": [
      "[[0.96743905 0.02719748 0.0347076  0.61258318 0.68618924 0.8288673\n",
      "  0.52061942 0.08774855 0.56492648 0.83039931 0.98995428 0.60774225\n",
      "  0.39533013 0.50381893 0.02063321 0.80314402 0.17546194 0.1114451\n",
      "  0.54976003 0.60481062 0.79359827 0.55174935 0.85429317 0.24721597\n",
      "  0.83419957 0.94786469 0.43387083 0.98418713 0.78257843 0.97778437\n",
      "  0.39715379 0.18373266 0.87695588 0.32155162 0.81214181 0.20972098\n",
      "  0.63356747 0.44946032 0.09072232 0.29764029 0.98083648 0.59261772\n",
      "  0.6561016  0.41526054 0.44374884 0.22257151 0.10804229 0.43909906\n",
      "  0.71551611 0.56444547 0.62955512 0.40282777 0.72049381 0.92697913\n",
      "  0.89489664 0.59133114 0.99238454 0.73618435 0.37255714 0.7056064\n",
      "  0.61522963 0.6297832  0.30413796 0.94102013 0.58024456 0.67845302\n",
      "  0.25940931 0.59823834 0.46217088 0.30479251 0.1005328  0.57975488\n",
      "  0.80721462 0.18060027 0.44985554 0.95153561 0.98912191 0.27574185\n",
      "  0.22333582 0.20515001 0.42311793 0.42935388 0.60323251 0.46415326\n",
      "  0.65682081 0.2991735  0.4453616  0.88995689 0.30987026 0.96211389]]\n"
     ]
    }
   ],
   "source": [
    "# initialize random encoder parameters\n",
    "nr_encod_qubits = len(spec.trash_qubits) + len(spec.latent_qubits)\n",
    "nr_par_encoder =  15 * int(nr_encod_qubits*(nr_encod_qubits-1)/2)\n",
    "encoder_params = np.random.uniform(size=(1, nr_par_encoder), requires_grad=True)"
   ]
  },
  {
   "cell_type": "markdown",
   "id": "f23c6572",
   "metadata": {},
   "source": [
    "This block of code executes the training. The training can take a while in some cases espicially with large number of samples and many epochs. The test fidelity represents the quantum auto encoder's fidelity on non fraudulent transactions which we want to be as high as possible. The Fraud fidelity represents the quantum auto encoder's fidelity on fraudulent transactions which we want to be low as possible to make it easier to distinguish between non fraudulent transactions and fraudulent transactions. "
   ]
  },
  {
   "cell_type": "code",
   "execution_count": 88,
   "id": "7727e6f4",
   "metadata": {},
   "outputs": [
    {
     "name": "stderr",
     "output_type": "stream",
     "text": [
      "/Users/seanmcilvane/anaconda3/envs/ENV_NAME/lib/python3.8/site-packages/pennylane/math/multi_dispatch.py:65: UserWarning: Contains tensors of types {'torch', 'autograd'}; dispatch will prioritize TensorFlow and PyTorch over autograd. Consider replacing Autograd with vanilla NumPy.\n",
      "  warnings.warn(\n"
     ]
    },
    {
     "name": "stdout",
     "output_type": "stream",
     "text": [
      "Epoch:0 | Loss:1.335364264984014 | Fidelity:0.7541085889700185\n",
      "Test-Epoch:0 | Loss:1.328802472174457 | Fidelity:0.7587682878315176\n",
      "Fraud Fidelity:0.786195893785666\n",
      "Epoch:5 | Loss:1.1927165994156035 | Fidelity:0.844207391290453\n",
      "Test-Epoch:5 | Loss:1.2110430861668433 | Fidelity:0.8318583542943974\n",
      "Fraud Fidelity:0.740977152938303\n",
      "Epoch:10 | Loss:1.1675660676978752 | Fidelity:0.861989835246137\n",
      "Test-Epoch:10 | Loss:1.1821570285214151 | Fidelity:0.8513381837090337\n",
      "Fraud Fidelity:0.7117093483311484\n",
      "Epoch:15 | Loss:1.1530982043415114 | Fidelity:0.8722087626073691\n",
      "Test-Epoch:15 | Loss:1.1689477370398411 | Fidelity:0.8615656463184211\n",
      "Fraud Fidelity:0.6849220517324669\n",
      "Epoch:20 | Loss:1.141920901173136 | Fidelity:0.8806301422093911\n",
      "Test-Epoch:20 | Loss:1.1558024400733975 | Fidelity:0.8718172935061521\n",
      "Fraud Fidelity:0.6703747443484509\n",
      "Epoch:25 | Loss:1.1346077533163836 | Fidelity:0.8848587470242683\n",
      "Test-Epoch:25 | Loss:1.1515882337270056 | Fidelity:0.8747029832434766\n",
      "Fraud Fidelity:0.6580375551765593\n",
      "Epoch:30 | Loss:1.128813128537766 | Fidelity:0.8892018611914907\n",
      "Test-Epoch:30 | Loss:1.1460002226059602 | Fidelity:0.8788685208718892\n",
      "Fraud Fidelity:0.6619047276709457\n",
      "Epoch:35 | Loss:1.12421185641485 | Fidelity:0.8928100515242382\n",
      "Test-Epoch:35 | Loss:1.1425405116521983 | Fidelity:0.8820791262948677\n",
      "Fraud Fidelity:0.662122871620744\n",
      "Epoch:40 | Loss:1.1248260072026657 | Fidelity:0.8914800055347066\n",
      "Test-Epoch:40 | Loss:1.1494658920343672 | Fidelity:0.8762280169732135\n",
      "Fraud Fidelity:0.6596229407706534\n",
      "Epoch:45 | Loss:1.1190611147088232 | Fidelity:0.8971010305403666\n",
      "Test-Epoch:45 | Loss:1.1358263982992713 | Fidelity:0.8876765922131767\n",
      "Fraud Fidelity:0.6567606141352563\n",
      "Epoch:50 | Loss:1.1184945216849767 | Fidelity:0.8978342485163968\n",
      "Test-Epoch:50 | Loss:1.136665358512018 | Fidelity:0.8875391581317719\n",
      "Fraud Fidelity:0.6616984562333512\n",
      "Epoch:55 | Loss:1.1183741944978798 | Fidelity:0.8983417980963472\n",
      "Test-Epoch:55 | Loss:1.1318065804760868 | Fidelity:0.8915303848931092\n",
      "Fraud Fidelity:0.6549223139173348\n",
      "Epoch:60 | Loss:1.1170608147570973 | Fidelity:0.8992055875638516\n",
      "Test-Epoch:60 | Loss:1.1343337577715638 | Fidelity:0.8894652869209537\n",
      "Fraud Fidelity:0.6560029681395354\n",
      "Epoch:65 | Loss:1.1177334649071864 | Fidelity:0.8979178047373638\n",
      "Test-Epoch:65 | Loss:1.140337500169699 | Fidelity:0.8844914831610515\n",
      "Fraud Fidelity:0.6627946888626832\n",
      "Epoch:70 | Loss:1.1162380964248841 | Fidelity:0.8990053008618533\n",
      "Test-Epoch:70 | Loss:1.1385885486228418 | Fidelity:0.8855596130960355\n",
      "Fraud Fidelity:0.6570520787178259\n",
      "Epoch:75 | Loss:1.1165478105793314 | Fidelity:0.8986492881677165\n",
      "Test-Epoch:75 | Loss:1.1376646018625862 | Fidelity:0.8858150028811798\n",
      "Fraud Fidelity:0.6442823872654792\n",
      "Epoch:80 | Loss:1.1161180336517986 | Fidelity:0.8989439820649738\n",
      "Test-Epoch:80 | Loss:1.1378613390031773 | Fidelity:0.8857342162318104\n",
      "Fraud Fidelity:0.64590267960999\n",
      "Epoch:85 | Loss:1.115367456568439 | Fidelity:0.8998053119303819\n",
      "Test-Epoch:85 | Loss:1.1389245149833969 | Fidelity:0.8854202886306745\n",
      "Fraud Fidelity:0.6525349252505647\n",
      "Epoch:90 | Loss:1.1146615892034257 | Fidelity:0.9004447370221123\n",
      "Test-Epoch:90 | Loss:1.1378445656427447 | Fidelity:0.8863245042301263\n",
      "Fraud Fidelity:0.6468044168753866\n",
      "Epoch:95 | Loss:1.114958157215196 | Fidelity:0.9007324329181148\n",
      "Test-Epoch:95 | Loss:1.1362211364392107 | Fidelity:0.8882511000817608\n",
      "Fraud Fidelity:0.6544689818504719\n",
      "Epoch:100 | Loss:1.114100438950628 | Fidelity:0.9011905142032979\n",
      "Test-Epoch:100 | Loss:1.1343158093703223 | Fidelity:0.8891234284007298\n",
      "Fraud Fidelity:0.6495910806251707\n",
      "Epoch:105 | Loss:1.1141162454760105 | Fidelity:0.9005584379089175\n",
      "Test-Epoch:105 | Loss:1.140451182170133 | Fidelity:0.8841961226159486\n",
      "Fraud Fidelity:0.6483422456302088\n",
      "Epoch:110 | Loss:1.1142692007612713 | Fidelity:0.9011088878930308\n",
      "Test-Epoch:110 | Loss:1.139147125133766 | Fidelity:0.8861807153334267\n",
      "Fraud Fidelity:0.6597258539605999\n",
      "Epoch:115 | Loss:1.1130326786823141 | Fidelity:0.9017075975469194\n",
      "Test-Epoch:115 | Loss:1.1384334448988045 | Fidelity:0.8860656629207763\n",
      "Fraud Fidelity:0.6531210824258721\n",
      "Epoch:120 | Loss:1.1140550816293462 | Fidelity:0.9005837915294557\n",
      "Test-Epoch:120 | Loss:1.1392940553220992 | Fidelity:0.8852335095738769\n",
      "Fraud Fidelity:0.6498476568257551\n",
      "Epoch:125 | Loss:1.1132324163819716 | Fidelity:0.9021458276015741\n",
      "Test-Epoch:125 | Loss:1.135635931848171 | Fidelity:0.8887607618874841\n",
      "Fraud Fidelity:0.6489506463839522\n",
      "Epoch:130 | Loss:1.1126168242422787 | Fidelity:0.9025683783065095\n",
      "Test-Epoch:130 | Loss:1.1356881712843083 | Fidelity:0.8886038646599131\n",
      "Fraud Fidelity:0.6540284192104537\n",
      "Epoch:135 | Loss:1.1119535457182135 | Fidelity:0.9026608724201407\n",
      "Test-Epoch:135 | Loss:1.1390163454045545 | Fidelity:0.8858451571812097\n",
      "Fraud Fidelity:0.6520219751886417\n",
      "Epoch:140 | Loss:1.1123720978274134 | Fidelity:0.902578105029121\n",
      "Test-Epoch:140 | Loss:1.1396109420770526 | Fidelity:0.886001932222195\n",
      "Fraud Fidelity:0.6570723902864352\n",
      "Epoch:145 | Loss:1.1114940445068642 | Fidelity:0.9030843168407355\n",
      "Test-Epoch:145 | Loss:1.1368846860283848 | Fidelity:0.8875494611653408\n",
      "Fraud Fidelity:0.6498269014203772\n",
      "Epoch:150 | Loss:1.11177143988464 | Fidelity:0.9025849648158824\n",
      "Test-Epoch:150 | Loss:1.140455361873796 | Fidelity:0.884941904238969\n",
      "Fraud Fidelity:0.6637916579656169\n",
      "Epoch:155 | Loss:1.110777456712321 | Fidelity:0.9036157788634865\n",
      "Test-Epoch:155 | Loss:1.1382309959515675 | Fidelity:0.8866745905771348\n",
      "Fraud Fidelity:0.6470030531820424\n",
      "Epoch:160 | Loss:1.1099578935667243 | Fidelity:0.90471089026127\n",
      "Test-Epoch:160 | Loss:1.1364644262009123 | Fidelity:0.8882750983182385\n",
      "Fraud Fidelity:0.6552693017190747\n",
      "Epoch:165 | Loss:1.109359428036664 | Fidelity:0.9053497448165158\n",
      "Test-Epoch:165 | Loss:1.1341222693112334 | Fidelity:0.89028130625104\n",
      "Fraud Fidelity:0.6561407104926419\n",
      "Epoch:170 | Loss:1.1091609901672814 | Fidelity:0.9052379477390287\n",
      "Test-Epoch:170 | Loss:1.1350128375963642 | Fidelity:0.8891278330850975\n",
      "Fraud Fidelity:0.6514660819622028\n",
      "Epoch:175 | Loss:1.1087986634297975 | Fidelity:0.9051740390275583\n",
      "Test-Epoch:175 | Loss:1.1396586093377479 | Fidelity:0.8857671166803337\n",
      "Fraud Fidelity:0.6557506828436193\n",
      "Epoch:180 | Loss:1.1086030699297336 | Fidelity:0.9051978265751702\n",
      "Test-Epoch:180 | Loss:1.138338277179273 | Fidelity:0.8861707341554558\n",
      "Fraud Fidelity:0.6570708011234111\n",
      "Epoch:185 | Loss:1.1076591887332459 | Fidelity:0.906220527650682\n",
      "Test-Epoch:185 | Loss:1.1352356421325331 | Fidelity:0.8887705250443872\n",
      "Fraud Fidelity:0.6524866153844541\n",
      "Epoch:190 | Loss:1.1082367089829863 | Fidelity:0.9052488688098687\n",
      "Test-Epoch:190 | Loss:1.1375443639625122 | Fidelity:0.8863941275822899\n",
      "Fraud Fidelity:0.653251433953393\n",
      "Epoch:195 | Loss:1.107416393533602 | Fidelity:0.906230756808013\n",
      "Test-Epoch:195 | Loss:1.1367557614688808 | Fidelity:0.8878361872576968\n",
      "Fraud Fidelity:0.6637607224056039\n",
      "Epoch:200 | Loss:1.1064294970097752 | Fidelity:0.9074256642791407\n",
      "Test-Epoch:200 | Loss:1.136127246564049 | Fidelity:0.8882158021695402\n",
      "Fraud Fidelity:0.6582714519828494\n",
      "Epoch:205 | Loss:1.1062638763546477 | Fidelity:0.9072230516794931\n",
      "Test-Epoch:205 | Loss:1.1376993629212613 | Fidelity:0.8870338768260396\n",
      "Fraud Fidelity:0.6654041763999669\n",
      "Epoch:210 | Loss:1.1060682204356742 | Fidelity:0.9073390273777295\n",
      "Test-Epoch:210 | Loss:1.136616111644799 | Fidelity:0.8875957405829632\n",
      "Fraud Fidelity:0.6598001479166234\n",
      "Epoch:215 | Loss:1.1061792940403463 | Fidelity:0.9073151323812069\n",
      "Test-Epoch:215 | Loss:1.1373975092800368 | Fidelity:0.8871341570231963\n",
      "Fraud Fidelity:0.6639473471722901\n",
      "Epoch:220 | Loss:1.1057882768493776 | Fidelity:0.908109622606745\n",
      "Test-Epoch:220 | Loss:1.1362093662978499 | Fidelity:0.8884545189992845\n",
      "Fraud Fidelity:0.6618672089840714\n",
      "Epoch:225 | Loss:1.1048748266426172 | Fidelity:0.9083611313710346\n",
      "Test-Epoch:225 | Loss:1.1381742521755454 | Fidelity:0.8866398142004592\n",
      "Fraud Fidelity:0.6645465553517929\n",
      "Epoch:230 | Loss:1.104746116793187 | Fidelity:0.9085315462185474\n",
      "Test-Epoch:230 | Loss:1.1360126935080326 | Fidelity:0.8883297229485886\n",
      "Fraud Fidelity:0.6595549515335791\n",
      "Epoch:235 | Loss:1.104400711351606 | Fidelity:0.9088429909157263\n",
      "Test-Epoch:235 | Loss:1.1370986224862427 | Fidelity:0.8874798095381975\n",
      "Fraud Fidelity:0.6599544342057494\n",
      "Epoch:240 | Loss:1.104265028746235 | Fidelity:0.9088689982209732\n",
      "Test-Epoch:240 | Loss:1.1336027145185008 | Fidelity:0.8897220735800626\n"
     ]
    },
    {
     "name": "stdout",
     "output_type": "stream",
     "text": [
      "Fraud Fidelity:0.658490241690578\n",
      "Epoch:245 | Loss:1.1044020667453598 | Fidelity:0.9088539721460454\n",
      "Test-Epoch:245 | Loss:1.1332185444112632 | Fidelity:0.8898786030206631\n",
      "Fraud Fidelity:0.6559253761635387\n",
      "Epoch:250 | Loss:1.1038984449238292 | Fidelity:0.9095858777495933\n",
      "Test-Epoch:250 | Loss:1.1337716925644639 | Fidelity:0.8895787092197323\n",
      "Fraud Fidelity:0.6649120006146942\n",
      "Epoch:255 | Loss:1.1039196705622825 | Fidelity:0.9096671857791894\n",
      "Test-Epoch:255 | Loss:1.1316826708262981 | Fidelity:0.8915674194537749\n",
      "Fraud Fidelity:0.6600857385212989\n",
      "Epoch:260 | Loss:1.1037065608965393 | Fidelity:0.9097718544131986\n",
      "Test-Epoch:260 | Loss:1.1337768684791107 | Fidelity:0.8899424383146206\n",
      "Fraud Fidelity:0.6660829990597439\n",
      "Epoch:265 | Loss:1.1039063461727456 | Fidelity:0.9094479172752472\n",
      "Test-Epoch:265 | Loss:1.132166371000332 | Fidelity:0.8906300443785004\n",
      "Fraud Fidelity:0.6597277567469267\n",
      "Epoch:270 | Loss:1.104572495632579 | Fidelity:0.9090324300800493\n",
      "Test-Epoch:270 | Loss:1.1330733608642678 | Fidelity:0.8902199386207073\n",
      "Fraud Fidelity:0.6526065225936386\n",
      "Epoch:275 | Loss:1.1029396351595242 | Fidelity:0.9100046355477245\n",
      "Test-Epoch:275 | Loss:1.1336213814572071 | Fidelity:0.8895896068485439\n",
      "Fraud Fidelity:0.6592689159726665\n",
      "Epoch:280 | Loss:1.1027989637617908 | Fidelity:0.9100422310182779\n",
      "Test-Epoch:280 | Loss:1.1353775542201439 | Fidelity:0.8879006870219892\n",
      "Fraud Fidelity:0.6577893185111297\n",
      "Epoch:285 | Loss:1.10269907043493 | Fidelity:0.9103933308049177\n",
      "Test-Epoch:285 | Loss:1.1331856509357328 | Fidelity:0.8898059231480133\n",
      "Fraud Fidelity:0.6616674303376652\n",
      "Epoch:290 | Loss:1.1027702992077715 | Fidelity:0.9102231472177152\n",
      "Test-Epoch:290 | Loss:1.1333827385751107 | Fidelity:0.8897785654116016\n",
      "Fraud Fidelity:0.6605396380824919\n",
      "Epoch:295 | Loss:1.1031336173735986 | Fidelity:0.9098804557152929\n",
      "Test-Epoch:295 | Loss:1.1337627913644779 | Fidelity:0.8889574809587744\n",
      "Fraud Fidelity:0.6663535371464895\n",
      "Epoch:300 | Loss:1.102372381480745 | Fidelity:0.9104618571452668\n",
      "Test-Epoch:300 | Loss:1.134786243989579 | Fidelity:0.8881291335930486\n",
      "Fraud Fidelity:0.6568496429609018\n",
      "Epoch:305 | Loss:1.1023931083194185 | Fidelity:0.9100386708452681\n",
      "Test-Epoch:305 | Loss:1.136202483953258 | Fidelity:0.8866942024578525\n",
      "Fraud Fidelity:0.6537253041247879\n",
      "Epoch:310 | Loss:1.1030136907905506 | Fidelity:0.9098545354606986\n",
      "Test-Epoch:310 | Loss:1.1333120484230335 | Fidelity:0.8891762258741287\n",
      "Fraud Fidelity:0.6488995770279535\n",
      "Epoch:315 | Loss:1.1045053086388357 | Fidelity:0.9084874738638163\n",
      "Test-Epoch:315 | Loss:1.135100239691122 | Fidelity:0.8875915249303494\n",
      "Fraud Fidelity:0.6662464635106171\n",
      "Epoch:320 | Loss:1.1019827354577125 | Fidelity:0.9104691339005712\n",
      "Test-Epoch:320 | Loss:1.1350501019117245 | Fidelity:0.8876198652380493\n",
      "Fraud Fidelity:0.6564100282330155\n",
      "Epoch:325 | Loss:1.1016787381301598 | Fidelity:0.9109480099490416\n",
      "Test-Epoch:325 | Loss:1.133828212943124 | Fidelity:0.8885051980376075\n",
      "Fraud Fidelity:0.655855490368762\n",
      "Epoch:330 | Loss:1.102258616399495 | Fidelity:0.9104997791931446\n",
      "Test-Epoch:330 | Loss:1.1345284541195402 | Fidelity:0.8878443518639909\n",
      "Fraud Fidelity:0.6606181588948851\n",
      "Epoch:335 | Loss:1.1030088481822677 | Fidelity:0.9102958740034108\n",
      "Test-Epoch:335 | Loss:1.132695638919605 | Fidelity:0.8897860007292226\n",
      "Fraud Fidelity:0.650298717885609\n",
      "Epoch:340 | Loss:1.1015865445095017 | Fidelity:0.9113093936330796\n",
      "Test-Epoch:340 | Loss:1.1346783737984132 | Fidelity:0.8879324774782731\n",
      "Fraud Fidelity:0.6554345241795927\n",
      "Epoch:345 | Loss:1.1015535941259322 | Fidelity:0.9109501230657816\n",
      "Test-Epoch:345 | Loss:1.1333488496711297 | Fidelity:0.889028545956923\n",
      "Fraud Fidelity:0.6549858253357559\n",
      "Epoch:350 | Loss:1.1014767673419217 | Fidelity:0.910982813156886\n",
      "Test-Epoch:350 | Loss:1.1345022847519248 | Fidelity:0.88798778287945\n",
      "Fraud Fidelity:0.6561583653204319\n",
      "Epoch:355 | Loss:1.101436647035129 | Fidelity:0.9113033346367599\n",
      "Test-Epoch:355 | Loss:1.1321257977092767 | Fidelity:0.8899304157822593\n",
      "Fraud Fidelity:0.6487006227592523\n",
      "Epoch:360 | Loss:1.1025216176017578 | Fidelity:0.910502503865025\n",
      "Test-Epoch:360 | Loss:1.13129622660859 | Fidelity:0.8906220018713443\n",
      "Fraud Fidelity:0.6504060117281126\n",
      "Epoch:365 | Loss:1.1018731820393541 | Fidelity:0.9110495781412495\n",
      "Test-Epoch:365 | Loss:1.13339148815624 | Fidelity:0.8890620772177371\n",
      "Fraud Fidelity:0.6603669586796119\n",
      "Epoch:370 | Loss:1.1010586512728002 | Fidelity:0.9115910818524955\n",
      "Test-Epoch:370 | Loss:1.1317744119340538 | Fidelity:0.8902329206939915\n",
      "Fraud Fidelity:0.6520467707941391\n",
      "Epoch:375 | Loss:1.1010075443574596 | Fidelity:0.9115667923841254\n",
      "Test-Epoch:375 | Loss:1.1325436310054209 | Fidelity:0.8894382293539768\n",
      "Fraud Fidelity:0.6483649856317271\n",
      "Epoch:380 | Loss:1.1010589710369691 | Fidelity:0.9115611591031407\n",
      "Test-Epoch:380 | Loss:1.1322884125025043 | Fidelity:0.8899113202858203\n",
      "Fraud Fidelity:0.6499088714487705\n",
      "Epoch:385 | Loss:1.1012018384230595 | Fidelity:0.9116772262949955\n",
      "Test-Epoch:385 | Loss:1.1332956772254565 | Fidelity:0.8890064671951474\n",
      "Fraud Fidelity:0.6530809670098234\n",
      "Epoch:390 | Loss:1.101262498138076 | Fidelity:0.9115029536100026\n",
      "Test-Epoch:390 | Loss:1.132003563636822 | Fidelity:0.8899722166064313\n",
      "Fraud Fidelity:0.6435818779537007\n",
      "Epoch:395 | Loss:1.1010830524460042 | Fidelity:0.911169106561435\n",
      "Test-Epoch:395 | Loss:1.1342321478138986 | Fidelity:0.8881261079337044\n",
      "Fraud Fidelity:0.6414933556766892\n",
      "Epoch:400 | Loss:1.101038911798887 | Fidelity:0.911281814116017\n",
      "Test-Epoch:400 | Loss:1.1335313370751552 | Fidelity:0.8885858439869184\n",
      "Fraud Fidelity:0.6468133790931798\n",
      "Epoch:405 | Loss:1.102238162269392 | Fidelity:0.9106265178981943\n",
      "Test-Epoch:405 | Loss:1.1353037532720784 | Fidelity:0.8873909001186802\n",
      "Fraud Fidelity:0.6590159027215324\n",
      "Epoch:410 | Loss:1.1007200925878444 | Fidelity:0.9117484938432767\n",
      "Test-Epoch:410 | Loss:1.1320195234843315 | Fidelity:0.8899041229016912\n",
      "Fraud Fidelity:0.649533436690249\n",
      "Epoch:415 | Loss:1.1008261606295742 | Fidelity:0.911486785650863\n",
      "Test-Epoch:415 | Loss:1.1335011614741122 | Fidelity:0.8885355213336739\n",
      "Fraud Fidelity:0.652870158735078\n",
      "Epoch:420 | Loss:1.1009791814081755 | Fidelity:0.911559946098366\n",
      "Test-Epoch:420 | Loss:1.1318357449020218 | Fidelity:0.8901688439726909\n",
      "Fraud Fidelity:0.6486282348362106\n",
      "Epoch:425 | Loss:1.1009831050854983 | Fidelity:0.9110323286992336\n",
      "Test-Epoch:425 | Loss:1.1335697947702288 | Fidelity:0.8882792126502855\n",
      "Fraud Fidelity:0.6446232562412084\n",
      "Epoch:430 | Loss:1.1006987448798686 | Fidelity:0.9113152957449572\n",
      "Test-Epoch:430 | Loss:1.1345717079430717 | Fidelity:0.8875191390241117\n",
      "Fraud Fidelity:0.646898615957392\n",
      "Epoch:435 | Loss:1.1010189507048254 | Fidelity:0.9114865262954304\n",
      "Test-Epoch:435 | Loss:1.1321803368976797 | Fidelity:0.8898049192899739\n",
      "Fraud Fidelity:0.6463467125311539\n",
      "Epoch:440 | Loss:1.1008777964672525 | Fidelity:0.9117320992827435\n",
      "Test-Epoch:440 | Loss:1.1319360140080743 | Fidelity:0.8900278668780188\n",
      "Fraud Fidelity:0.650755018322139\n",
      "Epoch:445 | Loss:1.1017898498004342 | Fidelity:0.9107445602118998\n",
      "Test-Epoch:445 | Loss:1.136626752170023 | Fidelity:0.8860611635885851\n",
      "Fraud Fidelity:0.6542927534872948\n",
      "Epoch:450 | Loss:1.100942735863955 | Fidelity:0.9117901081048427\n",
      "Test-Epoch:450 | Loss:1.1322291324073124 | Fidelity:0.8898030126278285\n",
      "Fraud Fidelity:0.6478629797160956\n",
      "Epoch:455 | Loss:1.1007864679871602 | Fidelity:0.9115993551673285\n",
      "Test-Epoch:455 | Loss:1.1336357014062783 | Fidelity:0.8881925266351979\n",
      "Fraud Fidelity:0.6398618810264216\n",
      "Epoch:460 | Loss:1.1009229270847616 | Fidelity:0.9115810211206551\n",
      "Test-Epoch:460 | Loss:1.1317442301273875 | Fidelity:0.8903579194426727\n",
      "Fraud Fidelity:0.6485301149107559\n",
      "Epoch:465 | Loss:1.100743037665009 | Fidelity:0.9117084018410552\n",
      "Test-Epoch:465 | Loss:1.1339691572073207 | Fidelity:0.8883388756555342\n",
      "Fraud Fidelity:0.6534803422968994\n",
      "Epoch:470 | Loss:1.1012493673024515 | Fidelity:0.9115507029158297\n",
      "Test-Epoch:470 | Loss:1.132520723097214 | Fidelity:0.8898868322827063\n",
      "Fraud Fidelity:0.6504855406753816\n",
      "Epoch:475 | Loss:1.1004204639796473 | Fidelity:0.9120215604616329\n",
      "Test-Epoch:475 | Loss:1.1329067155373092 | Fidelity:0.8892347141556816\n",
      "Fraud Fidelity:0.6501951307304591\n",
      "Epoch:480 | Loss:1.1011280764380877 | Fidelity:0.9117619206553378\n",
      "Test-Epoch:480 | Loss:1.1315110010956548 | Fidelity:0.890326773675167\n",
      "Fraud Fidelity:0.6443836209046672\n"
     ]
    },
    {
     "name": "stdout",
     "output_type": "stream",
     "text": [
      "Epoch:485 | Loss:1.1012351201298114 | Fidelity:0.911525103686857\n",
      "Test-Epoch:485 | Loss:1.1335418265267516 | Fidelity:0.8885940663741949\n",
      "Fraud Fidelity:0.6432426293302571\n",
      "Epoch:490 | Loss:1.1013802660169187 | Fidelity:0.9116296953177949\n",
      "Test-Epoch:490 | Loss:1.1297339303273577 | Fidelity:0.8919824082580513\n",
      "Fraud Fidelity:0.6407106941527793\n",
      "Epoch:495 | Loss:1.102373216675469 | Fidelity:0.9106666637654454\n",
      "Test-Epoch:495 | Loss:1.1322508603451962 | Fidelity:0.8899816636865318\n",
      "Fraud Fidelity:0.6605577337977114\n"
     ]
    }
   ],
   "source": [
    "loss_hist=[]\n",
    "fid_hist=[]\n",
    "\n",
    "loss_hist_test=[]\n",
    "fid_hist_test=[]\n",
    "\n",
    "fraud_fid=[]\n",
    "\n",
    "for epoch in range(epochs):\n",
    "    batches = iterate_batches(X=training_data, batch_size=batch_size)\n",
    "    for xbatch in batches:\n",
    "        encoder_params = opt.step(cost, encoder_params, X=xbatch)\n",
    "\n",
    "        \n",
    "    if epoch%5 == 0:\n",
    "        \n",
    "        loss_training = cost(encoder_params, X_training )\n",
    "        fidel = fidelity(encoder_params, X_training )\n",
    "        \n",
    "        loss_hist.append(loss_training)\n",
    "        fid_hist.append(fidel)\n",
    "        print(\"Epoch:{} | Loss:{} | Fidelity:{}\".format(epoch, loss_training, fidel))\n",
    "\n",
    "        loss_test = cost(encoder_params, X_tes )\n",
    "        fidel = fidelity(encoder_params, X_tes )\n",
    "        loss_hist_test.append(loss_test)\n",
    "        fid_hist_test.append(fidel)\n",
    "        print(\"Test-Epoch:{} | Loss:{} | Fidelity:{}\".format(epoch, loss_test, fidel))\n",
    "        \n",
    "        f_fidel = fidelity(encoder_params, fraud_data )\n",
    "        fraud_fid.append(f_fidel)\n",
    "        print(\"Fraud Fidelity:{}\".format(f_fidel))"
   ]
  },
  {
   "cell_type": "code",
   "execution_count": 99,
   "id": "f4fcfdbf",
   "metadata": {},
   "outputs": [
    {
     "name": "stdout",
     "output_type": "stream",
     "text": [
      "fidelity: 0.9106666637654454\n"
     ]
    },
    {
     "data": {
      "image/png": "[encoded data removed]",
      "text/plain": [
       "<Figure size 432x288 with 1 Axes>"
      ]
     },
     "metadata": {
      "needs_background": "light"
     },
     "output_type": "display_data"
    }
   ],
   "source": [
    "fig = plt.figure()\n",
    "plt.plot([x for x in range(0,len(loss_hist)*5,5)],np.array(fid_hist),label=\"train fidelity\")\n",
    "plt.plot([x for x in range(0,len(loss_hist)*5,5)],np.array(fid_hist_test),label=\"test fidelity\")\n",
    "plt.plot([x for x in range(0,len(loss_hist)*5,5)],np.array(fraud_fid),label=\"fraud fidelity\")\n",
    "\n",
    "plt.legend()\n",
    "plt.title(\"Fraud 4-3-4 Compression Fidelity e2\",)\n",
    "plt.xlabel(\"Epoch\")\n",
    "plt.ylabel(\"Fidelity\")\n",
    "plt.savefig(\"Fraud 4-3-4 Compression Fidelity e2\")\n",
    "\n",
    "print(\"fidelity:\",fid_hist[-1])"
   ]
  },
  {
   "cell_type": "code",
   "execution_count": 97,
   "id": "8d58a3df",
   "metadata": {},
   "outputs": [
    {
     "name": "stdout",
     "output_type": "stream",
     "text": [
      "loss: 1.102373216675469\n"
     ]
    },
    {
     "data": {
      "image/png": "[encoded data removed]",
      "text/plain": [
       "<Figure size 432x288 with 1 Axes>"
      ]
     },
     "metadata": {
      "needs_background": "light"
     },
     "output_type": "display_data"
    }
   ],
   "source": [
    "fig = plt.figure()\n",
    "plt.plot([x for x in range(0,len(loss_hist)*5,5)],np.array(loss_hist),label=\"train loss\")\n",
    "plt.plot([x for x in range(0,len(loss_hist)*5,5)],np.array(loss_hist_test),label=\"test loss\")\n",
    "\n",
    "\n",
    "plt.legend()\n",
    "plt.title(\"Fraud 4-3-4 Compression Loss e2\",)\n",
    "plt.xlabel(\"Epoch\")\n",
    "plt.ylabel(\"Loss\")\n",
    "plt.savefig(\"Fraud 4-3-4 Compression Loss e2\")\n",
    "\n",
    "print(\"loss:\",loss_hist[-1])"
   ]
  },
  {
   "cell_type": "code",
   "execution_count": 96,
   "id": "037a7ffc",
   "metadata": {},
   "outputs": [
    {
     "data": {
      "text/plain": [
       "17547"
      ]
     },
     "execution_count": 96,
     "metadata": {},
     "output_type": "execute_result"
    }
   ],
   "source": [
    "name = \"fraud_434_training_e2\"\n",
    "\n",
    "Circuit_prop={   \"shots\":shots, \"nr_trash\":nr_trash, \"nr_latent\":nr_latent, \"nr_ent\":nr_ent  }\n",
    "Training_param = { \"num_samples\" == num_samples,\n",
    "                    \"batch_size\" == batch_size,\n",
    "                    #\"nr_layers\"== nr_layers,\n",
    "                    \"epochs\" == epochs,\n",
    "                    \"learning_rate\" == learning_rate, \n",
    "                    \"beta1\" == beta1,\n",
    "                    \"beta2 \"== beta2,\n",
    "                     \"optimizer\"==\"Adam\"}\n",
    "\n",
    "performance={\"loss_hist\":loss_hist, \"fid_hist\":fid_hist,\n",
    "             \"loss_hist_test\":loss_hist_test, \"fid_hist_test\":fid_hist_test,\n",
    "             \"encoder_params\":encoder_params}\n",
    "\n",
    "experiment_data={\"Circuit_prop\":Circuit_prop,\n",
    "                \"Training_param\":Training_param,\n",
    "                \"performance:\":performance,\n",
    "                \"Name\":name}\n",
    "\n",
    "# open file for writing\n",
    "f = open(name+\".txt\",\"w\")\n",
    "f.write( str(experiment_data) )"
   ]
  },
  {
   "cell_type": "code",
   "execution_count": 101,
   "id": "40eca0dc",
   "metadata": {},
   "outputs": [
    {
     "data": {
      "text/plain": [
       "1386"
      ]
     },
     "execution_count": 101,
     "metadata": {},
     "output_type": "execute_result"
    }
   ],
   "source": [
    "experiment_parameters={\"autoencoder\":\"e2\",\"params\":encoder_params}\n",
    "f=open(\"Params_Fraud_encoder_e2-CorrelatedFeautures.txt\",\"w\")\n",
    "f.write(str(experiment_parameters))"
   ]
  },
  {
   "cell_type": "code",
   "execution_count": 144,
   "id": "90f047d7",
   "metadata": {},
   "outputs": [
    {
     "name": "stdout",
     "output_type": "stream",
     "text": [
      "0.52082426012579\n",
      "0.9739451826962489\n"
     ]
    }
   ],
   "source": [
    "branch = df \n",
    "non_fraud_df = branch.loc[branch[\"Class\"]!=1][:492]\n",
    "\n",
    "\n",
    "non_fraud = non_fraud_df[feature_list]\n",
    "np_non_fraud = non_fraud.to_numpy()\n",
    "non_fraud_data = [ torch.tensor([np_non_fraud[i]]) for i in range(len(non_fraud.to_numpy()))]\n",
    "\n",
    "non_fraud_flist=[]\n",
    "for b in non_fraud_data:\n",
    "    f=fidelity(encoder_params, [b])\n",
    "    non_fraud_flist.append(f.item())\n",
    "    \n",
    "print(min(non_fraud_flist))\n",
    "print(max(non_fraud_flist))"
   ]
  },
  {
   "cell_type": "code",
   "execution_count": 136,
   "id": "a192fb78",
   "metadata": {},
   "outputs": [
    {
     "name": "stderr",
     "output_type": "stream",
     "text": [
      "/Users/seanmcilvane/anaconda3/envs/ENV_NAME/lib/python3.8/site-packages/pennylane/math/multi_dispatch.py:65: UserWarning: Contains tensors of types {'torch', 'autograd'}; dispatch will prioritize TensorFlow and PyTorch over autograd. Consider replacing Autograd with vanilla NumPy.\n",
      "  warnings.warn(\n"
     ]
    },
    {
     "name": "stdout",
     "output_type": "stream",
     "text": [
      "0.5213199366767333\n",
      "0.9336154283701765\n"
     ]
    }
   ],
   "source": [
    "#np_ilegal= ilegal.to_numpy()\n",
    "#ilegal_data = [ torch.tensor([np_ilegal[i]]) for i in range(len(ilegal.to_numpy()))]\n",
    "\n",
    "\n",
    "fraud_flist=[]\n",
    "for b in fraud_data:\n",
    "    f=fidelity(encoder_params, [b])\n",
    "    fraud_flist.append(f.item())\n",
    "    \n",
    "print(min(fraud_flist))\n",
    "print(max(fraud_flist))"
   ]
  },
  {
   "cell_type": "code",
   "execution_count": 146,
   "id": "faa08f05",
   "metadata": {},
   "outputs": [
    {
     "data": {
      "image/png": "[encoded data removed]",
      "text/plain": [
       "<Figure size 432x288 with 1 Axes>"
      ]
     },
     "metadata": {
      "needs_background": "light"
     },
     "output_type": "display_data"
    }
   ],
   "source": [
    "\n",
    "plt.hist(non_fraud_flist, bins =100 ,label=\"non_fraud\",color = \"red\",alpha=0.4)\n",
    "plt.hist(fraud_flist, bins = 100 ,label=\"fraud\", color = \"skyblue\",alpha=0.4)\n",
    "plt.title(\"Compression fidelity\",)\n",
    "plt.legend()\n",
    "plt.savefig(\"Compression_fidelity\")\n",
    "plt.show()"
   ]
  },
  {
   "cell_type": "code",
   "execution_count": null,
   "id": "af55c69c",
   "metadata": {},
   "outputs": [],
   "source": []
  }
 ],
 "metadata": {
  "kernelspec": {
   "display_name": "Python 3 (ipykernel)",
   "language": "python",
   "name": "python3"
  },
  "language_info": {
   "codemirror_mode": {
    "name": "ipython",
    "version": 3
   },
   "file_extension": ".py",
   "mimetype": "text/x-python",
   "name": "python",
   "nbconvert_exporter": "python",
   "pygments_lexer": "ipython3",
   "version": "3.8.12"
  }
 },
 "nbformat": 4,
 "nbformat_minor": 5
}
