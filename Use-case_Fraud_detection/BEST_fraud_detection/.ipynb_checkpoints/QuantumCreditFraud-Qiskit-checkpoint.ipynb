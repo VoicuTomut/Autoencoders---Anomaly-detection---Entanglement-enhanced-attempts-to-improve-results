{
 "cells": [
  {
   "cell_type": "code",
   "execution_count": 1,
   "id": "4e9c15f7",
   "metadata": {},
   "outputs": [],
   "source": [
    "# Imported Libraries\n",
    "import pennylane as qml\n",
    "from pennylane.optimize import AdamOptimizer\n",
    "from pennylane import numpy as np \n",
    "import numpy as np\n",
    "import pandas as pd \n",
    "import matplotlib.pyplot as plt\n",
    "import seaborn as sns\n",
    "from graphs import plot_correlation_matrix\n",
    "import random\n",
    "\n",
    "import torch\n",
    "from torchvision import datasets, transforms\n",
    "\n",
    "# Import libraries to be able to run on IBM quantum computers\n",
    "from qiskit import Aer\n",
    "from qiskit import *\n"
   ]
  },
  {
   "cell_type": "code",
   "execution_count": 2,
   "id": "7c792caa",
   "metadata": {},
   "outputs": [],
   "source": [
    "import sys\n",
    "sys.path.append(\"..\") # Adds higher directory to python modules path\n",
    "sys.path.append \n",
    "\n",
    "from qencode.initialize import setAB_amplitude, setAux, setEnt\n",
    "from qencode.encoders import e2_classic\n",
    "from qencode.training_circuits import swap_t\n",
    "from qencode.qubits_arrangement import QubitsArrangement\n",
    "\n",
    "from qencode.utils.mnist import get_dataset"
   ]
  },
  {
   "cell_type": "code",
   "execution_count": 3,
   "id": "36074521",
   "metadata": {},
   "outputs": [
    {
     "name": "stdout",
     "output_type": "stream",
     "text": [
      "Requirement already satisfied: kaggle in /Users/seanmcilvane/anaconda3/envs/ENV_NAME/lib/python3.8/site-packages (1.5.12)\n",
      "Requirement already satisfied: six>=1.10 in /Users/seanmcilvane/anaconda3/envs/ENV_NAME/lib/python3.8/site-packages (from kaggle) (1.16.0)\n",
      "Requirement already satisfied: python-dateutil in /Users/seanmcilvane/anaconda3/envs/ENV_NAME/lib/python3.8/site-packages (from kaggle) (2.8.2)\n",
      "Requirement already satisfied: python-slugify in /Users/seanmcilvane/anaconda3/envs/ENV_NAME/lib/python3.8/site-packages (from kaggle) (6.0.1)\n",
      "Requirement already satisfied: urllib3 in /Users/seanmcilvane/anaconda3/envs/ENV_NAME/lib/python3.8/site-packages (from kaggle) (1.26.7)\n",
      "Requirement already satisfied: tqdm in /Users/seanmcilvane/anaconda3/envs/ENV_NAME/lib/python3.8/site-packages (from kaggle) (4.62.3)\n",
      "Requirement already satisfied: requests in /Users/seanmcilvane/anaconda3/envs/ENV_NAME/lib/python3.8/site-packages (from kaggle) (2.27.1)\n",
      "Requirement already satisfied: certifi in /Users/seanmcilvane/anaconda3/envs/ENV_NAME/lib/python3.8/site-packages (from kaggle) (2021.10.8)\n",
      "Requirement already satisfied: text-unidecode>=1.3 in /Users/seanmcilvane/anaconda3/envs/ENV_NAME/lib/python3.8/site-packages (from python-slugify->kaggle) (1.3)\n",
      "Requirement already satisfied: idna<4,>=2.5 in /Users/seanmcilvane/anaconda3/envs/ENV_NAME/lib/python3.8/site-packages (from requests->kaggle) (3.3)\n",
      "Requirement already satisfied: charset-normalizer~=2.0.0 in /Users/seanmcilvane/anaconda3/envs/ENV_NAME/lib/python3.8/site-packages (from requests->kaggle) (2.0.9)\n"
     ]
    }
   ],
   "source": [
    "!pip install kaggle"
   ]
  },
  {
   "cell_type": "code",
   "execution_count": 4,
   "id": "ca1a2db3",
   "metadata": {},
   "outputs": [
    {
     "ename": "SyntaxError",
     "evalue": "invalid syntax (2387988877.py, line 6)",
     "output_type": "error",
     "traceback": [
      "\u001b[0;36m  File \u001b[0;32m\"/var/folders/_6/ff1hjmgn32786plyc3tgkn8h0000gn/T/ipykernel_78996/2387988877.py\"\u001b[0;36m, line \u001b[0;32m6\u001b[0m\n\u001b[0;31m    https://www.kaggle.com/mlg-ulb/creditcardfraud/download\u001b[0m\n\u001b[0m          ^\u001b[0m\n\u001b[0;31mSyntaxError\u001b[0m\u001b[0;31m:\u001b[0m invalid syntax\n"
     ]
    }
   ],
   "source": [
    "from kaggle.api.kaggle_api_extended import KaggleApi\n",
    "#import KaggleApi\n",
    "api = KaggleApi()\n",
    "api.authenticate()\n",
    "\n",
    "https://www.kaggle.com/mlg-ulb/creditcardfraud/download\n",
    "#downloading datasets for COVID-19 data\n",
    "#api.dataset_download_files('imdevskp/corona-virus-report')\n",
    "api.dataset_download_files('mlg-ulb/creditcardfraud')"
   ]
  },
  {
   "cell_type": "markdown",
   "id": "c31bc6cc",
   "metadata": {},
   "source": [
    "# Credit Card Fraud - A Growing Issue\n",
    "\n",
    "Credit card fraud is a growing issue with \\\\$28.5 billion lost globally due to credit card fraud in 2020 and is expected to exceed \\\\$49 billion by 2030 [1]). In 2020, around 1 out of 4 digital interactions were credit card fraud attempts (Cite Arkose Labs). Since there are so many non fraudulent transactions, it is challenging to detect the fraudulent transactions. In this notebook, we will be using a quantum auto-encoder to perform anomaly detection. \n",
    "\n",
    "We can use the quantum auto encoder to encode the 4 qubit state into a 3 qubit state and then use a decoder to decode the 3 qubit state back into 4 qubit state. The quantum auto encoder is trained on the normal dataset (or in this case the non fraudulent transactions) which means the quantum auto \n",
    "To tell if a datapoint is an anomaly, "
   ]
  },
  {
   "cell_type": "markdown",
   "id": "daed41dc",
   "metadata": {},
   "source": [
    "Import the dataset"
   ]
  },
  {
   "cell_type": "code",
   "execution_count": 3,
   "id": "41331d80",
   "metadata": {},
   "outputs": [],
   "source": [
    "df = pd.read_csv('creditcard.csv')"
   ]
  },
  {
   "cell_type": "markdown",
   "id": "660891a9",
   "metadata": {},
   "source": [
    "We are only going to print the first 5 rows because the dataset contains over 280,000 rows. Each row represents a transaction. Time shows the time passed between the current and first transactions and amount shows the dollar amount spent on the transaction. There are also 28 more features represented by V1, V2, ... , V28 which come from principal component analysis. Finally, there is the class, where a '0' represents no fraud committed and a '1' represents a fraudulent transaction"
   ]
  },
  {
   "cell_type": "markdown",
   "id": "5c153904",
   "metadata": {},
   "source": [
    "Let's now check the class distribution"
   ]
  },
  {
   "cell_type": "code",
   "execution_count": 4,
   "id": "65610482",
   "metadata": {},
   "outputs": [
    {
     "name": "stdout",
     "output_type": "stream",
     "text": [
      "No Frauds:  284315\n",
      "Frauds:  492\n"
     ]
    }
   ],
   "source": [
    "print('No Frauds: ', df['Class'].value_counts()[0])\n",
    "print('Frauds: ', df['Class'].value_counts()[1])"
   ]
  },
  {
   "cell_type": "markdown",
   "id": "df9736e2",
   "metadata": {},
   "source": [
    "Credit card fraud is relatively rare, this creates a very imbalanced distribution. A very imbalanced distribution is not ideal as this can lead to overfitting and our model assuming no fraud most of the time. It is also challenging to find the true correlations between the features and class."
   ]
  },
  {
   "cell_type": "code",
   "execution_count": 5,
   "id": "6e2bc92e",
   "metadata": {},
   "outputs": [
    {
     "data": {
      "image/png": "[encoded data removed]",
      "text/plain": [
       "<Figure size 1080x576 with 2 Axes>"
      ]
     },
     "metadata": {
      "needs_background": "light"
     },
     "output_type": "display_data"
    }
   ],
   "source": [
    "plot_correlation_matrix(df, \"Original Correlation Matrix\")"
   ]
  },
  {
   "cell_type": "markdown",
   "id": "58da6ed6",
   "metadata": {},
   "source": [
    "As you can see, nothing can really be inferred from this correlation matrix since the data is so imbalanced. We are going to create a sub sample dataset with equal amounts of non fraudulent data and fraudulent data. We are also going to scale the 'Time' and 'Amount' values for better processing. "
   ]
  },
  {
   "cell_type": "code",
   "execution_count": 6,
   "id": "83abf40c",
   "metadata": {},
   "outputs": [
    {
     "data": {
      "text/html": [
       "<div>\n",
       "<style scoped>\n",
       "    .dataframe tbody tr th:only-of-type {\n",
       "        vertical-align: middle;\n",
       "    }\n",
       "\n",
       "    .dataframe tbody tr th {\n",
       "        vertical-align: top;\n",
       "    }\n",
       "\n",
       "    .dataframe thead th {\n",
       "        text-align: right;\n",
       "    }\n",
       "</style>\n",
       "<table border=\"1\" class=\"dataframe\">\n",
       "  <thead>\n",
       "    <tr style=\"text-align: right;\">\n",
       "      <th></th>\n",
       "      <th>scaled_amount</th>\n",
       "      <th>scaled_time</th>\n",
       "      <th>V1</th>\n",
       "      <th>V2</th>\n",
       "      <th>V3</th>\n",
       "      <th>V4</th>\n",
       "      <th>V5</th>\n",
       "      <th>V6</th>\n",
       "      <th>V7</th>\n",
       "      <th>V8</th>\n",
       "      <th>...</th>\n",
       "      <th>V20</th>\n",
       "      <th>V21</th>\n",
       "      <th>V22</th>\n",
       "      <th>V23</th>\n",
       "      <th>V24</th>\n",
       "      <th>V25</th>\n",
       "      <th>V26</th>\n",
       "      <th>V27</th>\n",
       "      <th>V28</th>\n",
       "      <th>Class</th>\n",
       "    </tr>\n",
       "  </thead>\n",
       "  <tbody>\n",
       "    <tr>\n",
       "      <th>242681</th>\n",
       "      <td>-0.300007</td>\n",
       "      <td>0.786029</td>\n",
       "      <td>2.031947</td>\n",
       "      <td>-0.821637</td>\n",
       "      <td>-2.652358</td>\n",
       "      <td>-2.622719</td>\n",
       "      <td>1.198420</td>\n",
       "      <td>1.019142</td>\n",
       "      <td>-0.158356</td>\n",
       "      <td>0.356812</td>\n",
       "      <td>...</td>\n",
       "      <td>-0.444011</td>\n",
       "      <td>0.176852</td>\n",
       "      <td>0.847428</td>\n",
       "      <td>-0.058484</td>\n",
       "      <td>-2.741013</td>\n",
       "      <td>0.249078</td>\n",
       "      <td>-0.500242</td>\n",
       "      <td>0.065075</td>\n",
       "      <td>-0.106475</td>\n",
       "      <td>0</td>\n",
       "    </tr>\n",
       "    <tr>\n",
       "      <th>154234</th>\n",
       "      <td>-0.293440</td>\n",
       "      <td>0.190698</td>\n",
       "      <td>-23.984747</td>\n",
       "      <td>16.697832</td>\n",
       "      <td>-22.209875</td>\n",
       "      <td>9.584969</td>\n",
       "      <td>-16.230439</td>\n",
       "      <td>2.596333</td>\n",
       "      <td>-33.239328</td>\n",
       "      <td>-21.560039</td>\n",
       "      <td>...</td>\n",
       "      <td>5.804551</td>\n",
       "      <td>-12.615023</td>\n",
       "      <td>5.774087</td>\n",
       "      <td>2.750221</td>\n",
       "      <td>0.513411</td>\n",
       "      <td>-1.608804</td>\n",
       "      <td>-0.459624</td>\n",
       "      <td>-4.626127</td>\n",
       "      <td>-0.334561</td>\n",
       "      <td>1</td>\n",
       "    </tr>\n",
       "    <tr>\n",
       "      <th>240913</th>\n",
       "      <td>-0.159435</td>\n",
       "      <td>0.776724</td>\n",
       "      <td>-0.252855</td>\n",
       "      <td>1.854028</td>\n",
       "      <td>0.149808</td>\n",
       "      <td>4.220783</td>\n",
       "      <td>0.971928</td>\n",
       "      <td>1.143980</td>\n",
       "      <td>0.301781</td>\n",
       "      <td>0.497178</td>\n",
       "      <td>...</td>\n",
       "      <td>0.305682</td>\n",
       "      <td>0.381329</td>\n",
       "      <td>1.283597</td>\n",
       "      <td>-0.242327</td>\n",
       "      <td>0.100820</td>\n",
       "      <td>-0.339168</td>\n",
       "      <td>0.627014</td>\n",
       "      <td>0.360196</td>\n",
       "      <td>0.206837</td>\n",
       "      <td>0</td>\n",
       "    </tr>\n",
       "    <tr>\n",
       "      <th>87354</th>\n",
       "      <td>-0.041361</td>\n",
       "      <td>-0.270750</td>\n",
       "      <td>-1.522305</td>\n",
       "      <td>1.505152</td>\n",
       "      <td>0.372364</td>\n",
       "      <td>2.286869</td>\n",
       "      <td>-0.526519</td>\n",
       "      <td>0.998593</td>\n",
       "      <td>-1.087556</td>\n",
       "      <td>-0.027248</td>\n",
       "      <td>...</td>\n",
       "      <td>0.412801</td>\n",
       "      <td>0.332216</td>\n",
       "      <td>0.493981</td>\n",
       "      <td>-0.080198</td>\n",
       "      <td>-0.253327</td>\n",
       "      <td>-0.477800</td>\n",
       "      <td>0.991740</td>\n",
       "      <td>-0.952554</td>\n",
       "      <td>-0.390364</td>\n",
       "      <td>1</td>\n",
       "    </tr>\n",
       "    <tr>\n",
       "      <th>150680</th>\n",
       "      <td>1.146231</td>\n",
       "      <td>0.107931</td>\n",
       "      <td>-12.833631</td>\n",
       "      <td>7.508790</td>\n",
       "      <td>-20.491952</td>\n",
       "      <td>7.465780</td>\n",
       "      <td>-11.575304</td>\n",
       "      <td>-5.140999</td>\n",
       "      <td>-14.020564</td>\n",
       "      <td>8.332120</td>\n",
       "      <td>...</td>\n",
       "      <td>-1.378923</td>\n",
       "      <td>2.966842</td>\n",
       "      <td>0.615344</td>\n",
       "      <td>-0.766495</td>\n",
       "      <td>0.431261</td>\n",
       "      <td>-0.104975</td>\n",
       "      <td>-0.010091</td>\n",
       "      <td>-2.400811</td>\n",
       "      <td>-0.720557</td>\n",
       "      <td>1</td>\n",
       "    </tr>\n",
       "  </tbody>\n",
       "</table>\n",
       "<p>5 rows × 31 columns</p>\n",
       "</div>"
      ],
      "text/plain": [
       "        scaled_amount  scaled_time         V1         V2         V3        V4  \\\n",
       "242681      -0.300007     0.786029   2.031947  -0.821637  -2.652358 -2.622719   \n",
       "154234      -0.293440     0.190698 -23.984747  16.697832 -22.209875  9.584969   \n",
       "240913      -0.159435     0.776724  -0.252855   1.854028   0.149808  4.220783   \n",
       "87354       -0.041361    -0.270750  -1.522305   1.505152   0.372364  2.286869   \n",
       "150680       1.146231     0.107931 -12.833631   7.508790 -20.491952  7.465780   \n",
       "\n",
       "               V5        V6         V7         V8  ...       V20        V21  \\\n",
       "242681   1.198420  1.019142  -0.158356   0.356812  ... -0.444011   0.176852   \n",
       "154234 -16.230439  2.596333 -33.239328 -21.560039  ...  5.804551 -12.615023   \n",
       "240913   0.971928  1.143980   0.301781   0.497178  ...  0.305682   0.381329   \n",
       "87354   -0.526519  0.998593  -1.087556  -0.027248  ...  0.412801   0.332216   \n",
       "150680 -11.575304 -5.140999 -14.020564   8.332120  ... -1.378923   2.966842   \n",
       "\n",
       "             V22       V23       V24       V25       V26       V27       V28  \\\n",
       "242681  0.847428 -0.058484 -2.741013  0.249078 -0.500242  0.065075 -0.106475   \n",
       "154234  5.774087  2.750221  0.513411 -1.608804 -0.459624 -4.626127 -0.334561   \n",
       "240913  1.283597 -0.242327  0.100820 -0.339168  0.627014  0.360196  0.206837   \n",
       "87354   0.493981 -0.080198 -0.253327 -0.477800  0.991740 -0.952554 -0.390364   \n",
       "150680  0.615344 -0.766495  0.431261 -0.104975 -0.010091 -2.400811 -0.720557   \n",
       "\n",
       "        Class  \n",
       "242681      0  \n",
       "154234      1  \n",
       "240913      0  \n",
       "87354       1  \n",
       "150680      1  \n",
       "\n",
       "[5 rows x 31 columns]"
      ]
     },
     "execution_count": 6,
     "metadata": {},
     "output_type": "execute_result"
    }
   ],
   "source": [
    "#from sklearn.preprocessing import StandardScaler, RobustScaler\n",
    "from sklearn.preprocessing import RobustScaler\n",
    "\n",
    "# Scaling amount and time for the subsample\n",
    "df['scaled_amount'] = RobustScaler().fit_transform(df['Amount'].values.reshape(-1,1))\n",
    "df['scaled_time'] = RobustScaler().fit_transform(df['Time'].values.reshape(-1,1))\n",
    "df.drop(['Time','Amount'], axis=1, inplace=True) # Drop the original time and amount values\n",
    "\n",
    "# Add scaled amount and times to the data frame\n",
    "scaled_amount = df['scaled_amount'] \n",
    "scaled_time = df['scaled_time']\n",
    "df.drop(['scaled_amount', 'scaled_time'], axis=1, inplace=True)\n",
    "df.insert(0, 'scaled_amount', scaled_amount)\n",
    "df.insert(1, 'scaled_time', scaled_time)\n",
    "\n",
    "# Create the balanced subsample of 49\n",
    "df = df.sample(frac=1)\n",
    "fraud_df = df.loc[df['Class'] == 1]\n",
    "non_fraud_df = df.loc[df['Class'] == 0][:492]\n",
    "normal_distributed_df = pd.concat([fraud_df, non_fraud_df])\n",
    "sub_sample_df = normal_distributed_df.sample(frac=1, random_state=42)\n",
    "\n",
    "# Display the first 5 rows\n",
    "sub_sample_df.head()"
   ]
  },
  {
   "cell_type": "markdown",
   "id": "7ad10bc0",
   "metadata": {},
   "source": [
    "We can now plot the correlation matrix of our new sub sample to get a better idea of the true correlations between features and 'Class' "
   ]
  },
  {
   "cell_type": "code",
   "execution_count": 7,
   "id": "74488a4c",
   "metadata": {},
   "outputs": [
    {
     "data": {
      "image/png": "[encoded data removed]",
      "text/plain": [
       "<Figure size 1080x576 with 2 Axes>"
      ]
     },
     "metadata": {
      "needs_background": "light"
     },
     "output_type": "display_data"
    }
   ],
   "source": [
    "sub_sample_corr = sub_sample_df.corr()\n",
    "plot_correlation_matrix(sub_sample_corr, \"Sub Sample Correlation Matrix\")"
   ]
  },
  {
   "cell_type": "markdown",
   "id": "a255748e",
   "metadata": {},
   "source": [
    "The correlations are now much more noticeable. Now, we can find the features with the strongest correlation to class. Half are the strongest positive correlations, half are the strongest negative correlations. "
   ]
  },
  {
   "cell_type": "code",
   "execution_count": 8,
   "id": "96d7c417",
   "metadata": {},
   "outputs": [
    {
     "name": "stdout",
     "output_type": "stream",
     "text": [
      "(['V4', 'V14', 'V11', 'V12', 'V2', 'V10', 'V19', 'V16', 'V20', 'V3', 'V21', 'V17', 'V28', 'V9', 'scaled_amount', 'V7'], [0.716555653097563, -0.7488396939142886, 0.6876134809333297, -0.6866943974037563, 0.4980343315026967, -0.6242429447724004, 0.2502967059496005, -0.5993587803479843, 0.17690098138071295, -0.5678962930229039, 0.12836644399759556, -0.5576315595248692, 0.09562332052075266, -0.5525204556308222, 0.08451351349845346, -0.4778216509003078])\n"
     ]
    }
   ],
   "source": [
    "def find_strongest_correlations(dataframe, latent_qubits):\n",
    "    \n",
    "    num_features = latent_qubits**2\n",
    "    \n",
    "    class_correlations = dataframe.loc['Class', :]\n",
    "    class_correlations = class_correlations.drop(index = 'Class')\n",
    "    \n",
    "    feature_list = list(class_correlations.index)\n",
    "    correlation_list = [class_correlations[x] for x in feature_list]\n",
    "    \n",
    "    features = []\n",
    "    correlations = []\n",
    "    \n",
    "    for i in range(int(num_features/2)):\n",
    "        \n",
    "        \n",
    "        correlations.append(max(correlation_list))\n",
    "        features.append(feature_list[correlation_list.index(max(correlation_list))])\n",
    "        \n",
    "        del feature_list[correlation_list.index(max(correlation_list))]\n",
    "        del correlation_list[correlation_list.index(max(correlation_list))]                        \n",
    "                                      \n",
    "        correlations.append(min(correlation_list))\n",
    "        features.append(feature_list[correlation_list.index(min(correlation_list))])\n",
    "        \n",
    "        del feature_list[correlation_list.index(min(correlation_list))]\n",
    "        del correlation_list[correlation_list.index(min(correlation_list))] \n",
    "    \n",
    "    return features, correlations\n",
    "\n",
    "feature_list, correlations = find_strongest_correlations(sub_sample_corr, 4)\n",
    "\n",
    "print(find_strongest_correlations(sub_sample_corr, 4))"
   ]
  },
  {
   "cell_type": "markdown",
   "id": "7691f05b",
   "metadata": {},
   "source": [
    "We now have 16 features that are the most correlated with 'Class'. In this use case, we will be using 4 qubits to represent the data which means we need 2^4 = 16 features to encode into the 4 qubits though amplitude encoding. Later, we will use the quantum autoencoder to encode the 4 qubits into 3 qubits and then use a decoder to decode those 3 qubits back to 4 qubits. "
   ]
  },
  {
   "cell_type": "code",
   "execution_count": 9,
   "id": "0b638c7e",
   "metadata": {},
   "outputs": [],
   "source": [
    "# Dataframe of all non fraudulent transactions\n",
    "branch = df\n",
    "non_fraud = branch[branch[\"Class\"]!=\"1\"]\n",
    "\n",
    "# All examples of non fraudulent data with 16 features\n",
    "non_fraud = non_fraud[feature_list]\n",
    "non_fraud.head()\n",
    "\n",
    "input_data = non_fraud.to_numpy()"
   ]
  },
  {
   "cell_type": "markdown",
   "id": "de0f0740",
   "metadata": {},
   "source": [
    "# Training \n"
   ]
  },
  {
   "cell_type": "code",
   "execution_count": 12,
   "id": "9b9a0a53",
   "metadata": {},
   "outputs": [
    {
     "name": "stdout",
     "output_type": "stream",
     "text": [
      "Qubits: [0, 1, 2, 3, 4, 5]\n"
     ]
    }
   ],
   "source": [
    "shots = 2500 #The amount of shots used for each epoch of training\n",
    "nr_trash= 1   # Number of qubits 'thrown away'\n",
    "nr_latent= 3  # Number of qubits left after the encoder is used\n",
    "nr_ent = 0\n",
    "\n",
    "epochs = 500   # Number of iterations of training to perform to find the final encoder parameters\n",
    "learning_rate = .005 # Learning rate for the optimizer, dictates how fast the optimizer trains\n",
    "batch_size = 2\n",
    "num_samples = 50  # Number of training samples used for each epoch\n",
    "\n",
    "beta1 = 0.9\n",
    "beta2 = 0.999\n",
    "opt = AdamOptimizer(learning_rate, beta1=beta1, beta2=beta2)\n",
    "\n",
    "# Organizes and specifies our qubits for the device\n",
    "spec = QubitsArrangement(nr_trash, nr_latent, nr_swap=1, nr_ent=nr_ent)\n",
    "print(\"Qubits:\", spec.qubits)\n",
    "\n",
    "#set up the device \n",
    "#dev = qml.device('qiskit.ibmq', wires=spec.num_qubits, backend = 'ibmq_qasm_simulator', ibmqx_token = \"6e4f256437ce3d5584d80d4225e0a36d6130e4de2c02729f534738aa2af1339597611d259697cea67e328ad92c5e0904cbff534000873532d8d4ede831471985\")\n",
    "dev = qml.device('qiskit.aer', wires=spec.num_qubits, backend = 'qasm_simulator')\n"
   ]
  },
  {
   "cell_type": "code",
   "execution_count": 13,
   "id": "e1fa0ae0",
   "metadata": {},
   "outputs": [],
   "source": [
    "@qml.qnode(dev)\n",
    "def training_circuit_example(init_params, encoder_params, reinit_state):\n",
    "    #initilaization\n",
    "    setAB_amplitude(spec, init_params)\n",
    "\n",
    "    setAux(spec, reinit_state)\n",
    "\n",
    "    setEnt(spec, inputs=[1 / np.sqrt(2), 0, 0, 1 / np.sqrt(2)])\n",
    "\n",
    "    #encoder \n",
    "\n",
    "    for params in encoder_params:\n",
    "        e2_classic(params, [*spec.latent_qubits, *spec.trash_qubits])\n",
    "\n",
    "    #swap test \n",
    "    swap_t(spec)\n",
    "\n",
    "    return [qml.probs(i) for i in spec.swap_qubits]"
   ]
  },
  {
   "cell_type": "code",
   "execution_count": 14,
   "id": "607b59fa",
   "metadata": {},
   "outputs": [],
   "source": [
    "def fid_func(output):\n",
    "    # Implemented as the Fidelity Loss\n",
    "    # output[0] because we take the probability that the state after the \n",
    "    # SWAP test is ket(0), like the reference state\n",
    "    fidelity_loss = 1 / output[0]\n",
    "    return fidelity_loss"
   ]
  },
  {
   "cell_type": "code",
   "execution_count": 15,
   "id": "349e2abb",
   "metadata": {},
   "outputs": [],
   "source": [
    "# Define cost function\n",
    "def cost(encoder_params, X):\n",
    "    reinit_state = [0 for i in range(2 ** len(spec.aux_qubits))]\n",
    "    reinit_state[0] = 1.0\n",
    "    loss = 0.0\n",
    "    for x in X:\n",
    "        output = training_circuit_example(init_params=x[0], encoder_params=encoder_params, reinit_state=reinit_state)[0]\n",
    "        f = fid_func(output)\n",
    "        loss = loss + f\n",
    "    return loss / len(X)"
   ]
  },
  {
   "cell_type": "code",
   "execution_count": 16,
   "id": "c3129d41",
   "metadata": {},
   "outputs": [],
   "source": [
    "# Define fidelity function\n",
    "def fidelity(encoder_params, X):\n",
    "    reinit_state = [0 for i in range(2 ** len(spec.aux_qubits))]\n",
    "    reinit_state[0] = 1.0\n",
    "    loss = 0.0\n",
    "    for x in X:\n",
    "        output = training_circuit_example(init_params=x[0], encoder_params=encoder_params, reinit_state=reinit_state)[0]\n",
    "        f = output[0]\n",
    "        loss = loss + f\n",
    "    return loss / len(X)"
   ]
  },
  {
   "cell_type": "code",
   "execution_count": 17,
   "id": "e9fe6536",
   "metadata": {},
   "outputs": [],
   "source": [
    "def iterate_batches(X, batch_size):\n",
    "    \n",
    "    random.shuffle(X)\n",
    "\n",
    "    batch_list = []\n",
    "    batch = []\n",
    "    for x in X:\n",
    "        if len(batch) < batch_size:\n",
    "            batch.append(x)\n",
    "\n",
    "        else:\n",
    "            batch_list.append(batch)\n",
    "            batch = []\n",
    "    if len(batch) != 0:\n",
    "        batch_list.append(batch)\n",
    "    return batch_list"
   ]
  },
  {
   "cell_type": "code",
   "execution_count": 18,
   "id": "26141da0",
   "metadata": {},
   "outputs": [
    {
     "name": "stderr",
     "output_type": "stream",
     "text": [
      "/var/folders/_6/ff1hjmgn32786plyc3tgkn8h0000gn/T/ipykernel_90897/3115814363.py:1: UserWarning: Creating a tensor from a list of numpy.ndarrays is extremely slow. Please consider converting the list to a single numpy.ndarray with numpy.array() before converting to a tensor. (Triggered internally at  ../torch/csrc/utils/tensor_new.cpp:201.)\n",
      "  training_data = [ torch.tensor([input_data[i]]) for i in range(num_samples)]\n"
     ]
    }
   ],
   "source": [
    "\n",
    "training_data = [ torch.tensor([input_data[i]]) for i in range(num_samples)]\n",
    "test_data = [ torch.tensor([input_data[i]]) for i in range(num_samples,num_samples+num_samples)]\n",
    "\n",
    "X_training = training_data\n",
    "X_tes = test_data\n",
    "\n"
   ]
  },
  {
   "cell_type": "code",
   "execution_count": 30,
   "id": "9b4f3a7b",
   "metadata": {},
   "outputs": [],
   "source": [
    "# initialize random encoder parameters\n",
    "from pennylane import numpy as np\n",
    "nr_encod_qubits = len(spec.trash_qubits) + len(spec.latent_qubits)\n",
    "nr_par_encoder =  15 * int(nr_encod_qubits*(nr_encod_qubits-1)/2)\n",
    "encoder_params = np.random.uniform(size=(1, nr_par_encoder), requires_grad=True)\n",
    "encoder_params1 = encoder_params"
   ]
  },
  {
   "cell_type": "code",
   "execution_count": 29,
   "id": "4645415b",
   "metadata": {},
   "outputs": [
    {
     "data": {
      "text/html": [
       "<div>\n",
       "<style scoped>\n",
       "    .dataframe tbody tr th:only-of-type {\n",
       "        vertical-align: middle;\n",
       "    }\n",
       "\n",
       "    .dataframe tbody tr th {\n",
       "        vertical-align: top;\n",
       "    }\n",
       "\n",
       "    .dataframe thead th {\n",
       "        text-align: right;\n",
       "    }\n",
       "</style>\n",
       "<table border=\"1\" class=\"dataframe\">\n",
       "  <thead>\n",
       "    <tr style=\"text-align: right;\">\n",
       "      <th></th>\n",
       "      <th>V4</th>\n",
       "      <th>V14</th>\n",
       "      <th>V11</th>\n",
       "      <th>V12</th>\n",
       "      <th>V2</th>\n",
       "      <th>V10</th>\n",
       "      <th>V19</th>\n",
       "      <th>V16</th>\n",
       "      <th>V20</th>\n",
       "      <th>V3</th>\n",
       "      <th>V21</th>\n",
       "      <th>V17</th>\n",
       "      <th>V28</th>\n",
       "      <th>V9</th>\n",
       "      <th>scaled_amount</th>\n",
       "      <th>V7</th>\n",
       "    </tr>\n",
       "  </thead>\n",
       "  <tbody>\n",
       "    <tr>\n",
       "      <th>10801</th>\n",
       "      <td>11.270352</td>\n",
       "      <td>-15.066374</td>\n",
       "      <td>10.545263</td>\n",
       "      <td>-15.022700</td>\n",
       "      <td>6.503185</td>\n",
       "      <td>-13.670545</td>\n",
       "      <td>0.579200</td>\n",
       "      <td>-8.668739</td>\n",
       "      <td>1.101250</td>\n",
       "      <td>-17.712632</td>\n",
       "      <td>-2.475962</td>\n",
       "      <td>-12.804141</td>\n",
       "      <td>-0.992916</td>\n",
       "      <td>-6.815273</td>\n",
       "      <td>-0.293440</td>\n",
       "      <td>-16.535807</td>\n",
       "    </tr>\n",
       "    <tr>\n",
       "      <th>154720</th>\n",
       "      <td>8.416295</td>\n",
       "      <td>-9.909168</td>\n",
       "      <td>7.051065</td>\n",
       "      <td>-10.137529</td>\n",
       "      <td>5.678134</td>\n",
       "      <td>-6.864164</td>\n",
       "      <td>1.525732</td>\n",
       "      <td>-5.022557</td>\n",
       "      <td>-0.064780</td>\n",
       "      <td>-9.775528</td>\n",
       "      <td>1.128472</td>\n",
       "      <td>-8.522975</td>\n",
       "      <td>-0.946184</td>\n",
       "      <td>-3.879793</td>\n",
       "      <td>1.365751</td>\n",
       "      <td>-6.899839</td>\n",
       "    </tr>\n",
       "    <tr>\n",
       "      <th>29687</th>\n",
       "      <td>0.817253</td>\n",
       "      <td>-0.895434</td>\n",
       "      <td>0.024370</td>\n",
       "      <td>-1.073812</td>\n",
       "      <td>1.491270</td>\n",
       "      <td>-0.121653</td>\n",
       "      <td>0.386761</td>\n",
       "      <td>-0.103527</td>\n",
       "      <td>-1.029965</td>\n",
       "      <td>0.005222</td>\n",
       "      <td>2.839596</td>\n",
       "      <td>2.031196</td>\n",
       "      <td>0.152440</td>\n",
       "      <td>-0.003159</td>\n",
       "      <td>-0.296793</td>\n",
       "      <td>-0.974073</td>\n",
       "    </tr>\n",
       "    <tr>\n",
       "      <th>274475</th>\n",
       "      <td>1.970759</td>\n",
       "      <td>-3.565119</td>\n",
       "      <td>0.874052</td>\n",
       "      <td>-2.513104</td>\n",
       "      <td>2.361594</td>\n",
       "      <td>-2.516628</td>\n",
       "      <td>0.527620</td>\n",
       "      <td>-2.015713</td>\n",
       "      <td>0.190877</td>\n",
       "      <td>-3.171195</td>\n",
       "      <td>0.473211</td>\n",
       "      <td>-1.731413</td>\n",
       "      <td>0.443299</td>\n",
       "      <td>-1.745854</td>\n",
       "      <td>0.250122</td>\n",
       "      <td>-0.055178</td>\n",
       "    </tr>\n",
       "    <tr>\n",
       "      <th>40525</th>\n",
       "      <td>4.777701</td>\n",
       "      <td>-7.208312</td>\n",
       "      <td>1.844093</td>\n",
       "      <td>-2.425933</td>\n",
       "      <td>2.844795</td>\n",
       "      <td>-2.042168</td>\n",
       "      <td>-2.889770</td>\n",
       "      <td>2.375296</td>\n",
       "      <td>-0.059264</td>\n",
       "      <td>-4.050680</td>\n",
       "      <td>-0.176541</td>\n",
       "      <td>6.443510</td>\n",
       "      <td>0.160769</td>\n",
       "      <td>-2.450198</td>\n",
       "      <td>-0.293440</td>\n",
       "      <td>1.744086</td>\n",
       "    </tr>\n",
       "  </tbody>\n",
       "</table>\n",
       "</div>"
      ],
      "text/plain": [
       "               V4        V14        V11        V12        V2        V10  \\\n",
       "10801   11.270352 -15.066374  10.545263 -15.022700  6.503185 -13.670545   \n",
       "154720   8.416295  -9.909168   7.051065 -10.137529  5.678134  -6.864164   \n",
       "29687    0.817253  -0.895434   0.024370  -1.073812  1.491270  -0.121653   \n",
       "274475   1.970759  -3.565119   0.874052  -2.513104  2.361594  -2.516628   \n",
       "40525    4.777701  -7.208312   1.844093  -2.425933  2.844795  -2.042168   \n",
       "\n",
       "             V19       V16       V20         V3       V21        V17  \\\n",
       "10801   0.579200 -8.668739  1.101250 -17.712632 -2.475962 -12.804141   \n",
       "154720  1.525732 -5.022557 -0.064780  -9.775528  1.128472  -8.522975   \n",
       "29687   0.386761 -0.103527 -1.029965   0.005222  2.839596   2.031196   \n",
       "274475  0.527620 -2.015713  0.190877  -3.171195  0.473211  -1.731413   \n",
       "40525  -2.889770  2.375296 -0.059264  -4.050680 -0.176541   6.443510   \n",
       "\n",
       "             V28        V9  scaled_amount         V7  \n",
       "10801  -0.992916 -6.815273      -0.293440 -16.535807  \n",
       "154720 -0.946184 -3.879793       1.365751  -6.899839  \n",
       "29687   0.152440 -0.003159      -0.296793  -0.974073  \n",
       "274475  0.443299 -1.745854       0.250122  -0.055178  \n",
       "40525   0.160769 -2.450198      -0.293440   1.744086  "
      ]
     },
     "execution_count": 29,
     "metadata": {},
     "output_type": "execute_result"
    }
   ],
   "source": [
    "# Create a tensor dataset with only fraud data and most correlated features \n",
    "# for finding the fidelity of the quantum autoencoder on fraud transactions\n",
    "\n",
    "fraud = fraud_df[feature_list]\n",
    "np_fraud = fraud.to_numpy()\n",
    "fraud_data = [ torch.tensor([np_fraud[i]]) for i in range(len(fraud.to_numpy()))] \n",
    "\n",
    "fraud.head()\n"
   ]
  },
  {
   "cell_type": "code",
   "execution_count": 31,
   "id": "7727e6f4",
   "metadata": {},
   "outputs": [
    {
     "name": "stderr",
     "output_type": "stream",
     "text": [
      "/Users/seanmcilvane/anaconda3/envs/ENV_NAME/lib/python3.8/site-packages/pennylane/math/multi_dispatch.py:65: UserWarning: Contains tensors of types {'autograd', 'torch'}; dispatch will prioritize TensorFlow and PyTorch over autograd. Consider replacing Autograd with vanilla NumPy.\n",
      "  warnings.warn(\n",
      "/Users/seanmcilvane/anaconda3/envs/ENV_NAME/lib/python3.8/site-packages/autograd/tracer.py:14: UserWarning: Output seems independent of input.\n",
      "  warnings.warn(\"Output seems independent of input.\")\n"
     ]
    },
    {
     "name": "stdout",
     "output_type": "stream",
     "text": [
      "Epoch:0 | Loss:1.3547295011994869 | Fidelity:0.75248046875\n",
      "Test-Epoch:0 | Loss:1.3801003703411203 | Fidelity:0.73013671875\n",
      "Fraud Fidelity:0.6997884114583334\n",
      "Epoch:5 | Loss:1.3415826691530517 | Fidelity:0.75546875\n",
      "Test-Epoch:5 | Loss:1.3765683506065047 | Fidelity:0.7283984375\n"
     ]
    },
    {
     "ename": "KeyboardInterrupt",
     "evalue": "",
     "output_type": "error",
     "traceback": [
      "\u001b[0;31m---------------------------------------------------------------------------\u001b[0m",
      "\u001b[0;31mKeyboardInterrupt\u001b[0m                         Traceback (most recent call last)",
      "\u001b[0;32m/var/folders/_6/ff1hjmgn32786plyc3tgkn8h0000gn/T/ipykernel_90897/257100918.py\u001b[0m in \u001b[0;36m<module>\u001b[0;34m\u001b[0m\n\u001b[1;32m     29\u001b[0m         \u001b[0mprint\u001b[0m\u001b[0;34m(\u001b[0m\u001b[0;34m\"Test-Epoch:{} | Loss:{} | Fidelity:{}\"\u001b[0m\u001b[0;34m.\u001b[0m\u001b[0mformat\u001b[0m\u001b[0;34m(\u001b[0m\u001b[0mepoch\u001b[0m\u001b[0;34m,\u001b[0m \u001b[0mloss_test\u001b[0m\u001b[0;34m,\u001b[0m \u001b[0mfidel\u001b[0m\u001b[0;34m)\u001b[0m\u001b[0;34m)\u001b[0m\u001b[0;34m\u001b[0m\u001b[0;34m\u001b[0m\u001b[0m\n\u001b[1;32m     30\u001b[0m \u001b[0;34m\u001b[0m\u001b[0m\n\u001b[0;32m---> 31\u001b[0;31m         \u001b[0mf_fidel\u001b[0m \u001b[0;34m=\u001b[0m \u001b[0mfidelity\u001b[0m\u001b[0;34m(\u001b[0m\u001b[0mencoder_params1\u001b[0m\u001b[0;34m,\u001b[0m \u001b[0mfraud_data\u001b[0m \u001b[0;34m)\u001b[0m\u001b[0;34m\u001b[0m\u001b[0;34m\u001b[0m\u001b[0m\n\u001b[0m\u001b[1;32m     32\u001b[0m         \u001b[0mfraud_fid\u001b[0m\u001b[0;34m.\u001b[0m\u001b[0mappend\u001b[0m\u001b[0;34m(\u001b[0m\u001b[0mf_fidel\u001b[0m\u001b[0;34m)\u001b[0m\u001b[0;34m\u001b[0m\u001b[0;34m\u001b[0m\u001b[0m\n\u001b[1;32m     33\u001b[0m         \u001b[0mprint\u001b[0m\u001b[0;34m(\u001b[0m\u001b[0;34m\"Fraud Fidelity:{}\"\u001b[0m\u001b[0;34m.\u001b[0m\u001b[0mformat\u001b[0m\u001b[0;34m(\u001b[0m\u001b[0mf_fidel\u001b[0m\u001b[0;34m)\u001b[0m\u001b[0;34m)\u001b[0m\u001b[0;34m\u001b[0m\u001b[0;34m\u001b[0m\u001b[0m\n",
      "\u001b[0;32m/var/folders/_6/ff1hjmgn32786plyc3tgkn8h0000gn/T/ipykernel_90897/1758307353.py\u001b[0m in \u001b[0;36mfidelity\u001b[0;34m(encoder_params, X)\u001b[0m\n\u001b[1;32m      5\u001b[0m     \u001b[0mloss\u001b[0m \u001b[0;34m=\u001b[0m \u001b[0;36m0.0\u001b[0m\u001b[0;34m\u001b[0m\u001b[0;34m\u001b[0m\u001b[0m\n\u001b[1;32m      6\u001b[0m     \u001b[0;32mfor\u001b[0m \u001b[0mx\u001b[0m \u001b[0;32min\u001b[0m \u001b[0mX\u001b[0m\u001b[0;34m:\u001b[0m\u001b[0;34m\u001b[0m\u001b[0;34m\u001b[0m\u001b[0m\n\u001b[0;32m----> 7\u001b[0;31m         \u001b[0moutput\u001b[0m \u001b[0;34m=\u001b[0m \u001b[0mtraining_circuit_example\u001b[0m\u001b[0;34m(\u001b[0m\u001b[0minit_params\u001b[0m\u001b[0;34m=\u001b[0m\u001b[0mx\u001b[0m\u001b[0;34m[\u001b[0m\u001b[0;36m0\u001b[0m\u001b[0;34m]\u001b[0m\u001b[0;34m,\u001b[0m \u001b[0mencoder_params\u001b[0m\u001b[0;34m=\u001b[0m\u001b[0mencoder_params\u001b[0m\u001b[0;34m,\u001b[0m \u001b[0mreinit_state\u001b[0m\u001b[0;34m=\u001b[0m\u001b[0mreinit_state\u001b[0m\u001b[0;34m)\u001b[0m\u001b[0;34m[\u001b[0m\u001b[0;36m0\u001b[0m\u001b[0;34m]\u001b[0m\u001b[0;34m\u001b[0m\u001b[0;34m\u001b[0m\u001b[0m\n\u001b[0m\u001b[1;32m      8\u001b[0m         \u001b[0mf\u001b[0m \u001b[0;34m=\u001b[0m \u001b[0moutput\u001b[0m\u001b[0;34m[\u001b[0m\u001b[0;36m0\u001b[0m\u001b[0;34m]\u001b[0m\u001b[0;34m\u001b[0m\u001b[0;34m\u001b[0m\u001b[0m\n\u001b[1;32m      9\u001b[0m         \u001b[0mloss\u001b[0m \u001b[0;34m=\u001b[0m \u001b[0mloss\u001b[0m \u001b[0;34m+\u001b[0m \u001b[0mf\u001b[0m\u001b[0;34m\u001b[0m\u001b[0;34m\u001b[0m\u001b[0m\n",
      "\u001b[0;32m~/anaconda3/envs/ENV_NAME/lib/python3.8/site-packages/pennylane/qnode.py\u001b[0m in \u001b[0;36m__call__\u001b[0;34m(self, *args, **kwargs)\u001b[0m\n\u001b[1;32m    558\u001b[0m         \u001b[0mself\u001b[0m\u001b[0;34m.\u001b[0m\u001b[0m_tape_cached\u001b[0m \u001b[0;34m=\u001b[0m \u001b[0musing_custom_cache\u001b[0m \u001b[0;32mand\u001b[0m \u001b[0mself\u001b[0m\u001b[0;34m.\u001b[0m\u001b[0mtape\u001b[0m\u001b[0;34m.\u001b[0m\u001b[0mhash\u001b[0m \u001b[0;32min\u001b[0m \u001b[0mcache\u001b[0m\u001b[0;34m\u001b[0m\u001b[0;34m\u001b[0m\u001b[0m\n\u001b[1;32m    559\u001b[0m \u001b[0;34m\u001b[0m\u001b[0m\n\u001b[0;32m--> 560\u001b[0;31m         res = qml.execute(\n\u001b[0m\u001b[1;32m    561\u001b[0m             \u001b[0;34m[\u001b[0m\u001b[0mself\u001b[0m\u001b[0;34m.\u001b[0m\u001b[0mtape\u001b[0m\u001b[0;34m]\u001b[0m\u001b[0;34m,\u001b[0m\u001b[0;34m\u001b[0m\u001b[0;34m\u001b[0m\u001b[0m\n\u001b[1;32m    562\u001b[0m             \u001b[0mdevice\u001b[0m\u001b[0;34m=\u001b[0m\u001b[0mself\u001b[0m\u001b[0;34m.\u001b[0m\u001b[0mdevice\u001b[0m\u001b[0;34m,\u001b[0m\u001b[0;34m\u001b[0m\u001b[0;34m\u001b[0m\u001b[0m\n",
      "\u001b[0;32m~/anaconda3/envs/ENV_NAME/lib/python3.8/site-packages/pennylane/interfaces/batch/__init__.py\u001b[0m in \u001b[0;36mexecute\u001b[0;34m(tapes, device, gradient_fn, interface, mode, gradient_kwargs, cache, cachesize, max_diff, override_shots, expand_fn, max_expansion, device_batch_transform)\u001b[0m\n\u001b[1;32m    410\u001b[0m         ) from e\n\u001b[1;32m    411\u001b[0m \u001b[0;34m\u001b[0m\u001b[0m\n\u001b[0;32m--> 412\u001b[0;31m     res = _execute(\n\u001b[0m\u001b[1;32m    413\u001b[0m         \u001b[0mtapes\u001b[0m\u001b[0;34m,\u001b[0m \u001b[0mdevice\u001b[0m\u001b[0;34m,\u001b[0m \u001b[0mexecute_fn\u001b[0m\u001b[0;34m,\u001b[0m \u001b[0mgradient_fn\u001b[0m\u001b[0;34m,\u001b[0m \u001b[0mgradient_kwargs\u001b[0m\u001b[0;34m,\u001b[0m \u001b[0m_n\u001b[0m\u001b[0;34m=\u001b[0m\u001b[0;36m1\u001b[0m\u001b[0;34m,\u001b[0m \u001b[0mmax_diff\u001b[0m\u001b[0;34m=\u001b[0m\u001b[0mmax_diff\u001b[0m\u001b[0;34m,\u001b[0m \u001b[0mmode\u001b[0m\u001b[0;34m=\u001b[0m\u001b[0m_mode\u001b[0m\u001b[0;34m\u001b[0m\u001b[0;34m\u001b[0m\u001b[0m\n\u001b[1;32m    414\u001b[0m     )\n",
      "\u001b[0;32m~/anaconda3/envs/ENV_NAME/lib/python3.8/site-packages/pennylane/interfaces/batch/autograd.py\u001b[0m in \u001b[0;36mexecute\u001b[0;34m(tapes, device, execute_fn, gradient_fn, gradient_kwargs, _n, max_diff, mode)\u001b[0m\n\u001b[1;32m     62\u001b[0m     )\n\u001b[1;32m     63\u001b[0m \u001b[0;34m\u001b[0m\u001b[0m\n\u001b[0;32m---> 64\u001b[0;31m     return _execute(\n\u001b[0m\u001b[1;32m     65\u001b[0m         \u001b[0mparameters\u001b[0m\u001b[0;34m,\u001b[0m\u001b[0;34m\u001b[0m\u001b[0;34m\u001b[0m\u001b[0m\n\u001b[1;32m     66\u001b[0m         \u001b[0mtapes\u001b[0m\u001b[0;34m=\u001b[0m\u001b[0mtapes\u001b[0m\u001b[0;34m,\u001b[0m\u001b[0;34m\u001b[0m\u001b[0;34m\u001b[0m\u001b[0m\n",
      "\u001b[0;32m~/anaconda3/envs/ENV_NAME/lib/python3.8/site-packages/autograd/tracer.py\u001b[0m in \u001b[0;36mf_wrapped\u001b[0;34m(*args, **kwargs)\u001b[0m\n\u001b[1;32m     46\u001b[0m             \u001b[0;32mreturn\u001b[0m \u001b[0mnew_box\u001b[0m\u001b[0;34m(\u001b[0m\u001b[0mans\u001b[0m\u001b[0;34m,\u001b[0m \u001b[0mtrace\u001b[0m\u001b[0;34m,\u001b[0m \u001b[0mnode\u001b[0m\u001b[0;34m)\u001b[0m\u001b[0;34m\u001b[0m\u001b[0;34m\u001b[0m\u001b[0m\n\u001b[1;32m     47\u001b[0m         \u001b[0;32melse\u001b[0m\u001b[0;34m:\u001b[0m\u001b[0;34m\u001b[0m\u001b[0;34m\u001b[0m\u001b[0m\n\u001b[0;32m---> 48\u001b[0;31m             \u001b[0;32mreturn\u001b[0m \u001b[0mf_raw\u001b[0m\u001b[0;34m(\u001b[0m\u001b[0;34m*\u001b[0m\u001b[0margs\u001b[0m\u001b[0;34m,\u001b[0m \u001b[0;34m**\u001b[0m\u001b[0mkwargs\u001b[0m\u001b[0;34m)\u001b[0m\u001b[0;34m\u001b[0m\u001b[0;34m\u001b[0m\u001b[0m\n\u001b[0m\u001b[1;32m     49\u001b[0m     \u001b[0mf_wrapped\u001b[0m\u001b[0;34m.\u001b[0m\u001b[0mfun\u001b[0m \u001b[0;34m=\u001b[0m \u001b[0mf_raw\u001b[0m\u001b[0;34m\u001b[0m\u001b[0;34m\u001b[0m\u001b[0m\n\u001b[1;32m     50\u001b[0m     \u001b[0mf_wrapped\u001b[0m\u001b[0;34m.\u001b[0m\u001b[0m_is_autograd_primitive\u001b[0m \u001b[0;34m=\u001b[0m \u001b[0;32mTrue\u001b[0m\u001b[0;34m\u001b[0m\u001b[0;34m\u001b[0m\u001b[0m\n",
      "\u001b[0;32m~/anaconda3/envs/ENV_NAME/lib/python3.8/site-packages/pennylane/interfaces/batch/autograd.py\u001b[0m in \u001b[0;36m_execute\u001b[0;34m(parameters, tapes, device, execute_fn, gradient_fn, gradient_kwargs, _n, max_diff)\u001b[0m\n\u001b[1;32m    106\u001b[0m     \"\"\"\n\u001b[1;32m    107\u001b[0m     \u001b[0;32mwith\u001b[0m \u001b[0mqml\u001b[0m\u001b[0;34m.\u001b[0m\u001b[0mtape\u001b[0m\u001b[0;34m.\u001b[0m\u001b[0mUnwrap\u001b[0m\u001b[0;34m(\u001b[0m\u001b[0;34m*\u001b[0m\u001b[0mtapes\u001b[0m\u001b[0;34m)\u001b[0m\u001b[0;34m:\u001b[0m\u001b[0;34m\u001b[0m\u001b[0;34m\u001b[0m\u001b[0m\n\u001b[0;32m--> 108\u001b[0;31m         \u001b[0mres\u001b[0m\u001b[0;34m,\u001b[0m \u001b[0mjacs\u001b[0m \u001b[0;34m=\u001b[0m \u001b[0mexecute_fn\u001b[0m\u001b[0;34m(\u001b[0m\u001b[0mtapes\u001b[0m\u001b[0;34m,\u001b[0m \u001b[0;34m**\u001b[0m\u001b[0mgradient_kwargs\u001b[0m\u001b[0;34m)\u001b[0m\u001b[0;34m\u001b[0m\u001b[0;34m\u001b[0m\u001b[0m\n\u001b[0m\u001b[1;32m    109\u001b[0m \u001b[0;34m\u001b[0m\u001b[0m\n\u001b[1;32m    110\u001b[0m     \u001b[0;32mfor\u001b[0m \u001b[0mi\u001b[0m\u001b[0;34m,\u001b[0m \u001b[0mr\u001b[0m \u001b[0;32min\u001b[0m \u001b[0menumerate\u001b[0m\u001b[0;34m(\u001b[0m\u001b[0mres\u001b[0m\u001b[0;34m)\u001b[0m\u001b[0;34m:\u001b[0m\u001b[0;34m\u001b[0m\u001b[0;34m\u001b[0m\u001b[0m\n",
      "\u001b[0;32m~/anaconda3/envs/ENV_NAME/lib/python3.8/site-packages/pennylane/interfaces/batch/__init__.py\u001b[0m in \u001b[0;36mwrapper\u001b[0;34m(tapes, **kwargs)\u001b[0m\n\u001b[1;32m    171\u001b[0m         \u001b[0;32melse\u001b[0m\u001b[0;34m:\u001b[0m\u001b[0;34m\u001b[0m\u001b[0;34m\u001b[0m\u001b[0m\n\u001b[1;32m    172\u001b[0m             \u001b[0;31m# execute all unique tapes that do not exist in the cache\u001b[0m\u001b[0;34m\u001b[0m\u001b[0;34m\u001b[0m\u001b[0;34m\u001b[0m\u001b[0m\n\u001b[0;32m--> 173\u001b[0;31m             \u001b[0mres\u001b[0m \u001b[0;34m=\u001b[0m \u001b[0mfn\u001b[0m\u001b[0;34m(\u001b[0m\u001b[0mexecution_tapes\u001b[0m\u001b[0;34m.\u001b[0m\u001b[0mvalues\u001b[0m\u001b[0;34m(\u001b[0m\u001b[0;34m)\u001b[0m\u001b[0;34m,\u001b[0m \u001b[0;34m**\u001b[0m\u001b[0mkwargs\u001b[0m\u001b[0;34m)\u001b[0m\u001b[0;34m\u001b[0m\u001b[0;34m\u001b[0m\u001b[0m\n\u001b[0m\u001b[1;32m    174\u001b[0m \u001b[0;34m\u001b[0m\u001b[0m\n\u001b[1;32m    175\u001b[0m         \u001b[0mfinal_res\u001b[0m \u001b[0;34m=\u001b[0m \u001b[0;34m[\u001b[0m\u001b[0;34m]\u001b[0m\u001b[0;34m\u001b[0m\u001b[0;34m\u001b[0m\u001b[0m\n",
      "\u001b[0;32m~/anaconda3/envs/ENV_NAME/lib/python3.8/site-packages/pennylane/interfaces/batch/__init__.py\u001b[0m in \u001b[0;36mfn\u001b[0;34m(tapes, **kwargs)\u001b[0m\n\u001b[1;32m    123\u001b[0m         \u001b[0;32mdef\u001b[0m \u001b[0mfn\u001b[0m\u001b[0;34m(\u001b[0m\u001b[0mtapes\u001b[0m\u001b[0;34m,\u001b[0m \u001b[0;34m**\u001b[0m\u001b[0mkwargs\u001b[0m\u001b[0;34m)\u001b[0m\u001b[0;34m:\u001b[0m  \u001b[0;31m# pylint: disable=function-redefined\u001b[0m\u001b[0;34m\u001b[0m\u001b[0;34m\u001b[0m\u001b[0m\n\u001b[1;32m    124\u001b[0m             \u001b[0mtapes\u001b[0m \u001b[0;34m=\u001b[0m \u001b[0;34m[\u001b[0m\u001b[0mexpand_fn\u001b[0m\u001b[0;34m(\u001b[0m\u001b[0mtape\u001b[0m\u001b[0;34m)\u001b[0m \u001b[0;32mfor\u001b[0m \u001b[0mtape\u001b[0m \u001b[0;32min\u001b[0m \u001b[0mtapes\u001b[0m\u001b[0;34m]\u001b[0m\u001b[0;34m\u001b[0m\u001b[0;34m\u001b[0m\u001b[0m\n\u001b[0;32m--> 125\u001b[0;31m             \u001b[0;32mreturn\u001b[0m \u001b[0moriginal_fn\u001b[0m\u001b[0;34m(\u001b[0m\u001b[0mtapes\u001b[0m\u001b[0;34m,\u001b[0m \u001b[0;34m**\u001b[0m\u001b[0mkwargs\u001b[0m\u001b[0;34m)\u001b[0m\u001b[0;34m\u001b[0m\u001b[0;34m\u001b[0m\u001b[0m\n\u001b[0m\u001b[1;32m    126\u001b[0m \u001b[0;34m\u001b[0m\u001b[0m\n\u001b[1;32m    127\u001b[0m     \u001b[0;34m@\u001b[0m\u001b[0mwraps\u001b[0m\u001b[0;34m(\u001b[0m\u001b[0mfn\u001b[0m\u001b[0;34m)\u001b[0m\u001b[0;34m\u001b[0m\u001b[0;34m\u001b[0m\u001b[0m\n",
      "\u001b[0;32m~/anaconda3/envs/ENV_NAME/lib/python3.8/contextlib.py\u001b[0m in \u001b[0;36minner\u001b[0;34m(*args, **kwds)\u001b[0m\n\u001b[1;32m     73\u001b[0m         \u001b[0;32mdef\u001b[0m \u001b[0minner\u001b[0m\u001b[0;34m(\u001b[0m\u001b[0;34m*\u001b[0m\u001b[0margs\u001b[0m\u001b[0;34m,\u001b[0m \u001b[0;34m**\u001b[0m\u001b[0mkwds\u001b[0m\u001b[0;34m)\u001b[0m\u001b[0;34m:\u001b[0m\u001b[0;34m\u001b[0m\u001b[0;34m\u001b[0m\u001b[0m\n\u001b[1;32m     74\u001b[0m             \u001b[0;32mwith\u001b[0m \u001b[0mself\u001b[0m\u001b[0;34m.\u001b[0m\u001b[0m_recreate_cm\u001b[0m\u001b[0;34m(\u001b[0m\u001b[0;34m)\u001b[0m\u001b[0;34m:\u001b[0m\u001b[0;34m\u001b[0m\u001b[0;34m\u001b[0m\u001b[0m\n\u001b[0;32m---> 75\u001b[0;31m                 \u001b[0;32mreturn\u001b[0m \u001b[0mfunc\u001b[0m\u001b[0;34m(\u001b[0m\u001b[0;34m*\u001b[0m\u001b[0margs\u001b[0m\u001b[0;34m,\u001b[0m \u001b[0;34m**\u001b[0m\u001b[0mkwds\u001b[0m\u001b[0;34m)\u001b[0m\u001b[0;34m\u001b[0m\u001b[0;34m\u001b[0m\u001b[0m\n\u001b[0m\u001b[1;32m     76\u001b[0m         \u001b[0;32mreturn\u001b[0m \u001b[0minner\u001b[0m\u001b[0;34m\u001b[0m\u001b[0;34m\u001b[0m\u001b[0m\n\u001b[1;32m     77\u001b[0m \u001b[0;34m\u001b[0m\u001b[0m\n",
      "\u001b[0;32m~/anaconda3/envs/ENV_NAME/lib/python3.8/site-packages/pennylane_qiskit/qiskit_device.py\u001b[0m in \u001b[0;36mbatch_execute\u001b[0;34m(self, circuits)\u001b[0m\n\u001b[1;32m    424\u001b[0m         \u001b[0;31m# pylint: disable=missing-function-docstring\u001b[0m\u001b[0;34m\u001b[0m\u001b[0;34m\u001b[0m\u001b[0;34m\u001b[0m\u001b[0m\n\u001b[1;32m    425\u001b[0m \u001b[0;34m\u001b[0m\u001b[0m\n\u001b[0;32m--> 426\u001b[0;31m         \u001b[0mcompiled_circuits\u001b[0m \u001b[0;34m=\u001b[0m \u001b[0mself\u001b[0m\u001b[0;34m.\u001b[0m\u001b[0mcompile_circuits\u001b[0m\u001b[0;34m(\u001b[0m\u001b[0mcircuits\u001b[0m\u001b[0;34m)\u001b[0m\u001b[0;34m\u001b[0m\u001b[0;34m\u001b[0m\u001b[0m\n\u001b[0m\u001b[1;32m    427\u001b[0m \u001b[0;34m\u001b[0m\u001b[0m\n\u001b[1;32m    428\u001b[0m         \u001b[0;31m# Send the batch of circuit objects using backend.run\u001b[0m\u001b[0;34m\u001b[0m\u001b[0;34m\u001b[0m\u001b[0;34m\u001b[0m\u001b[0m\n",
      "\u001b[0;32m~/anaconda3/envs/ENV_NAME/lib/python3.8/site-packages/pennylane_qiskit/qiskit_device.py\u001b[0m in \u001b[0;36mcompile_circuits\u001b[0;34m(self, circuits)\u001b[0m\n\u001b[1;32m    415\u001b[0m             \u001b[0mself\u001b[0m\u001b[0;34m.\u001b[0m\u001b[0mcreate_circuit_object\u001b[0m\u001b[0;34m(\u001b[0m\u001b[0mcircuit\u001b[0m\u001b[0;34m.\u001b[0m\u001b[0moperations\u001b[0m\u001b[0;34m,\u001b[0m \u001b[0mrotations\u001b[0m\u001b[0;34m=\u001b[0m\u001b[0mcircuit\u001b[0m\u001b[0;34m.\u001b[0m\u001b[0mdiagonalizing_gates\u001b[0m\u001b[0;34m)\u001b[0m\u001b[0;34m\u001b[0m\u001b[0;34m\u001b[0m\u001b[0m\n\u001b[1;32m    416\u001b[0m \u001b[0;34m\u001b[0m\u001b[0m\n\u001b[0;32m--> 417\u001b[0;31m             \u001b[0mcompiled_circ\u001b[0m \u001b[0;34m=\u001b[0m \u001b[0mself\u001b[0m\u001b[0;34m.\u001b[0m\u001b[0mcompile\u001b[0m\u001b[0;34m(\u001b[0m\u001b[0;34m)\u001b[0m\u001b[0;34m\u001b[0m\u001b[0;34m\u001b[0m\u001b[0m\n\u001b[0m\u001b[1;32m    418\u001b[0m             \u001b[0mcompiled_circ\u001b[0m\u001b[0;34m.\u001b[0m\u001b[0mname\u001b[0m \u001b[0;34m=\u001b[0m \u001b[0;34mf\"circ{len(compiled_circuits)}\"\u001b[0m\u001b[0;34m\u001b[0m\u001b[0;34m\u001b[0m\u001b[0m\n\u001b[1;32m    419\u001b[0m             \u001b[0mcompiled_circuits\u001b[0m\u001b[0;34m.\u001b[0m\u001b[0mappend\u001b[0m\u001b[0;34m(\u001b[0m\u001b[0mcompiled_circ\u001b[0m\u001b[0;34m)\u001b[0m\u001b[0;34m\u001b[0m\u001b[0;34m\u001b[0m\u001b[0m\n",
      "\u001b[0;32m~/anaconda3/envs/ENV_NAME/lib/python3.8/site-packages/pennylane_qiskit/qiskit_device.py\u001b[0m in \u001b[0;36mcompile\u001b[0;34m(self)\u001b[0m\n\u001b[1;32m    325\u001b[0m         \"\"\"\n\u001b[1;32m    326\u001b[0m         \u001b[0mcompile_backend\u001b[0m \u001b[0;34m=\u001b[0m \u001b[0mself\u001b[0m\u001b[0;34m.\u001b[0m\u001b[0mcompile_backend\u001b[0m \u001b[0;32mor\u001b[0m \u001b[0mself\u001b[0m\u001b[0;34m.\u001b[0m\u001b[0mbackend\u001b[0m\u001b[0;34m\u001b[0m\u001b[0;34m\u001b[0m\u001b[0m\n\u001b[0;32m--> 327\u001b[0;31m         \u001b[0mcompiled_circuits\u001b[0m \u001b[0;34m=\u001b[0m \u001b[0mtranspile\u001b[0m\u001b[0;34m(\u001b[0m\u001b[0mself\u001b[0m\u001b[0;34m.\u001b[0m\u001b[0m_circuit\u001b[0m\u001b[0;34m,\u001b[0m \u001b[0mbackend\u001b[0m\u001b[0;34m=\u001b[0m\u001b[0mcompile_backend\u001b[0m\u001b[0;34m,\u001b[0m \u001b[0;34m**\u001b[0m\u001b[0mself\u001b[0m\u001b[0;34m.\u001b[0m\u001b[0mtranspile_args\u001b[0m\u001b[0;34m)\u001b[0m\u001b[0;34m\u001b[0m\u001b[0;34m\u001b[0m\u001b[0m\n\u001b[0m\u001b[1;32m    328\u001b[0m         \u001b[0;32mreturn\u001b[0m \u001b[0mcompiled_circuits\u001b[0m\u001b[0;34m\u001b[0m\u001b[0;34m\u001b[0m\u001b[0m\n\u001b[1;32m    329\u001b[0m \u001b[0;34m\u001b[0m\u001b[0m\n",
      "\u001b[0;32m~/anaconda3/envs/ENV_NAME/lib/python3.8/site-packages/qiskit/compiler/transpiler.py\u001b[0m in \u001b[0;36mtranspile\u001b[0;34m(circuits, backend, basis_gates, inst_map, coupling_map, backend_properties, initial_layout, layout_method, routing_method, translation_method, scheduling_method, instruction_durations, dt, approximation_degree, timing_constraints, seed_transpiler, optimization_level, pass_manager, callback, output_name, unitary_synthesis_method, unitary_synthesis_plugin_config, target)\u001b[0m\n\u001b[1;32m    333\u001b[0m \u001b[0;34m\u001b[0m\u001b[0m\n\u001b[1;32m    334\u001b[0m     \u001b[0;31m# Transpile circuits in parallel\u001b[0m\u001b[0;34m\u001b[0m\u001b[0;34m\u001b[0m\u001b[0;34m\u001b[0m\u001b[0m\n\u001b[0;32m--> 335\u001b[0;31m     \u001b[0mcircuits\u001b[0m \u001b[0;34m=\u001b[0m \u001b[0mparallel_map\u001b[0m\u001b[0;34m(\u001b[0m\u001b[0m_transpile_circuit\u001b[0m\u001b[0;34m,\u001b[0m \u001b[0mlist\u001b[0m\u001b[0;34m(\u001b[0m\u001b[0mzip\u001b[0m\u001b[0;34m(\u001b[0m\u001b[0mcircuits\u001b[0m\u001b[0;34m,\u001b[0m \u001b[0mtranspile_args\u001b[0m\u001b[0;34m)\u001b[0m\u001b[0;34m)\u001b[0m\u001b[0;34m)\u001b[0m\u001b[0;34m\u001b[0m\u001b[0;34m\u001b[0m\u001b[0m\n\u001b[0m\u001b[1;32m    336\u001b[0m \u001b[0;34m\u001b[0m\u001b[0m\n\u001b[1;32m    337\u001b[0m     \u001b[0mend_time\u001b[0m \u001b[0;34m=\u001b[0m \u001b[0mtime\u001b[0m\u001b[0;34m(\u001b[0m\u001b[0;34m)\u001b[0m\u001b[0;34m\u001b[0m\u001b[0;34m\u001b[0m\u001b[0m\n",
      "\u001b[0;32m~/anaconda3/envs/ENV_NAME/lib/python3.8/site-packages/qiskit/tools/parallel.py\u001b[0m in \u001b[0;36mparallel_map\u001b[0;34m(task, values, task_args, task_kwargs, num_processes)\u001b[0m\n\u001b[1;32m    130\u001b[0m         \u001b[0;32mreturn\u001b[0m \u001b[0;34m[\u001b[0m\u001b[0;34m]\u001b[0m\u001b[0;34m\u001b[0m\u001b[0;34m\u001b[0m\u001b[0m\n\u001b[1;32m    131\u001b[0m     \u001b[0;32mif\u001b[0m \u001b[0mlen\u001b[0m\u001b[0;34m(\u001b[0m\u001b[0mvalues\u001b[0m\u001b[0;34m)\u001b[0m \u001b[0;34m==\u001b[0m \u001b[0;36m1\u001b[0m\u001b[0;34m:\u001b[0m\u001b[0;34m\u001b[0m\u001b[0;34m\u001b[0m\u001b[0m\n\u001b[0;32m--> 132\u001b[0;31m         \u001b[0;32mreturn\u001b[0m \u001b[0;34m[\u001b[0m\u001b[0mtask\u001b[0m\u001b[0;34m(\u001b[0m\u001b[0mvalues\u001b[0m\u001b[0;34m[\u001b[0m\u001b[0;36m0\u001b[0m\u001b[0;34m]\u001b[0m\u001b[0;34m,\u001b[0m \u001b[0;34m*\u001b[0m\u001b[0mtask_args\u001b[0m\u001b[0;34m,\u001b[0m \u001b[0;34m**\u001b[0m\u001b[0mtask_kwargs\u001b[0m\u001b[0;34m)\u001b[0m\u001b[0;34m]\u001b[0m\u001b[0;34m\u001b[0m\u001b[0;34m\u001b[0m\u001b[0m\n\u001b[0m\u001b[1;32m    133\u001b[0m \u001b[0;34m\u001b[0m\u001b[0m\n\u001b[1;32m    134\u001b[0m     \u001b[0mPublisher\u001b[0m\u001b[0;34m(\u001b[0m\u001b[0;34m)\u001b[0m\u001b[0;34m.\u001b[0m\u001b[0mpublish\u001b[0m\u001b[0;34m(\u001b[0m\u001b[0;34m\"terra.parallel.start\"\u001b[0m\u001b[0;34m,\u001b[0m \u001b[0mlen\u001b[0m\u001b[0;34m(\u001b[0m\u001b[0mvalues\u001b[0m\u001b[0;34m)\u001b[0m\u001b[0;34m)\u001b[0m\u001b[0;34m\u001b[0m\u001b[0;34m\u001b[0m\u001b[0m\n",
      "\u001b[0;32m~/anaconda3/envs/ENV_NAME/lib/python3.8/site-packages/qiskit/compiler/transpiler.py\u001b[0m in \u001b[0;36m_transpile_circuit\u001b[0;34m(circuit_config_tuple)\u001b[0m\n\u001b[1;32m    427\u001b[0m         \u001b[0;32mraise\u001b[0m \u001b[0mTranspilerError\u001b[0m\u001b[0;34m(\u001b[0m\u001b[0;34m\"optimization_level can range from 0 to 3.\"\u001b[0m\u001b[0;34m)\u001b[0m\u001b[0;34m\u001b[0m\u001b[0;34m\u001b[0m\u001b[0m\n\u001b[1;32m    428\u001b[0m \u001b[0;34m\u001b[0m\u001b[0m\n\u001b[0;32m--> 429\u001b[0;31m     result = pass_manager.run(\n\u001b[0m\u001b[1;32m    430\u001b[0m         \u001b[0mcircuit\u001b[0m\u001b[0;34m,\u001b[0m \u001b[0mcallback\u001b[0m\u001b[0;34m=\u001b[0m\u001b[0mtranspile_config\u001b[0m\u001b[0;34m[\u001b[0m\u001b[0;34m\"callback\"\u001b[0m\u001b[0;34m]\u001b[0m\u001b[0;34m,\u001b[0m \u001b[0moutput_name\u001b[0m\u001b[0;34m=\u001b[0m\u001b[0mtranspile_config\u001b[0m\u001b[0;34m[\u001b[0m\u001b[0;34m\"output_name\"\u001b[0m\u001b[0;34m]\u001b[0m\u001b[0;34m\u001b[0m\u001b[0;34m\u001b[0m\u001b[0m\n\u001b[1;32m    431\u001b[0m     )\n",
      "\u001b[0;32m~/anaconda3/envs/ENV_NAME/lib/python3.8/site-packages/qiskit/transpiler/passmanager.py\u001b[0m in \u001b[0;36mrun\u001b[0;34m(self, circuits, output_name, callback)\u001b[0m\n\u001b[1;32m    216\u001b[0m             \u001b[0;32mreturn\u001b[0m \u001b[0mcircuits\u001b[0m\u001b[0;34m\u001b[0m\u001b[0;34m\u001b[0m\u001b[0m\n\u001b[1;32m    217\u001b[0m         \u001b[0;32mif\u001b[0m \u001b[0misinstance\u001b[0m\u001b[0;34m(\u001b[0m\u001b[0mcircuits\u001b[0m\u001b[0;34m,\u001b[0m \u001b[0mQuantumCircuit\u001b[0m\u001b[0;34m)\u001b[0m\u001b[0;34m:\u001b[0m\u001b[0;34m\u001b[0m\u001b[0;34m\u001b[0m\u001b[0m\n\u001b[0;32m--> 218\u001b[0;31m             \u001b[0;32mreturn\u001b[0m \u001b[0mself\u001b[0m\u001b[0;34m.\u001b[0m\u001b[0m_run_single_circuit\u001b[0m\u001b[0;34m(\u001b[0m\u001b[0mcircuits\u001b[0m\u001b[0;34m,\u001b[0m \u001b[0moutput_name\u001b[0m\u001b[0;34m,\u001b[0m \u001b[0mcallback\u001b[0m\u001b[0;34m)\u001b[0m\u001b[0;34m\u001b[0m\u001b[0;34m\u001b[0m\u001b[0m\n\u001b[0m\u001b[1;32m    219\u001b[0m         \u001b[0;32mif\u001b[0m \u001b[0mlen\u001b[0m\u001b[0;34m(\u001b[0m\u001b[0mcircuits\u001b[0m\u001b[0;34m)\u001b[0m \u001b[0;34m==\u001b[0m \u001b[0;36m1\u001b[0m\u001b[0;34m:\u001b[0m\u001b[0;34m\u001b[0m\u001b[0;34m\u001b[0m\u001b[0m\n\u001b[1;32m    220\u001b[0m             \u001b[0;32mreturn\u001b[0m \u001b[0mself\u001b[0m\u001b[0;34m.\u001b[0m\u001b[0m_run_single_circuit\u001b[0m\u001b[0;34m(\u001b[0m\u001b[0mcircuits\u001b[0m\u001b[0;34m[\u001b[0m\u001b[0;36m0\u001b[0m\u001b[0;34m]\u001b[0m\u001b[0;34m,\u001b[0m \u001b[0moutput_name\u001b[0m\u001b[0;34m,\u001b[0m \u001b[0mcallback\u001b[0m\u001b[0;34m)\u001b[0m\u001b[0;34m\u001b[0m\u001b[0;34m\u001b[0m\u001b[0m\n",
      "\u001b[0;32m~/anaconda3/envs/ENV_NAME/lib/python3.8/site-packages/qiskit/transpiler/passmanager.py\u001b[0m in \u001b[0;36m_run_single_circuit\u001b[0;34m(self, circuit, output_name, callback)\u001b[0m\n\u001b[1;32m    271\u001b[0m         \"\"\"\n\u001b[1;32m    272\u001b[0m         \u001b[0mrunning_passmanager\u001b[0m \u001b[0;34m=\u001b[0m \u001b[0mself\u001b[0m\u001b[0;34m.\u001b[0m\u001b[0m_create_running_passmanager\u001b[0m\u001b[0;34m(\u001b[0m\u001b[0;34m)\u001b[0m\u001b[0;34m\u001b[0m\u001b[0;34m\u001b[0m\u001b[0m\n\u001b[0;32m--> 273\u001b[0;31m         \u001b[0mresult\u001b[0m \u001b[0;34m=\u001b[0m \u001b[0mrunning_passmanager\u001b[0m\u001b[0;34m.\u001b[0m\u001b[0mrun\u001b[0m\u001b[0;34m(\u001b[0m\u001b[0mcircuit\u001b[0m\u001b[0;34m,\u001b[0m \u001b[0moutput_name\u001b[0m\u001b[0;34m=\u001b[0m\u001b[0moutput_name\u001b[0m\u001b[0;34m,\u001b[0m \u001b[0mcallback\u001b[0m\u001b[0;34m=\u001b[0m\u001b[0mcallback\u001b[0m\u001b[0;34m)\u001b[0m\u001b[0;34m\u001b[0m\u001b[0;34m\u001b[0m\u001b[0m\n\u001b[0m\u001b[1;32m    274\u001b[0m         \u001b[0mself\u001b[0m\u001b[0;34m.\u001b[0m\u001b[0mproperty_set\u001b[0m \u001b[0;34m=\u001b[0m \u001b[0mrunning_passmanager\u001b[0m\u001b[0;34m.\u001b[0m\u001b[0mproperty_set\u001b[0m\u001b[0;34m\u001b[0m\u001b[0;34m\u001b[0m\u001b[0m\n\u001b[1;32m    275\u001b[0m         \u001b[0;32mreturn\u001b[0m \u001b[0mresult\u001b[0m\u001b[0;34m\u001b[0m\u001b[0;34m\u001b[0m\u001b[0m\n",
      "\u001b[0;32m~/anaconda3/envs/ENV_NAME/lib/python3.8/site-packages/qiskit/transpiler/runningpassmanager.py\u001b[0m in \u001b[0;36mrun\u001b[0;34m(***failed resolving arguments***)\u001b[0m\n\u001b[1;32m    121\u001b[0m         \u001b[0;32mfor\u001b[0m \u001b[0mpassset\u001b[0m \u001b[0;32min\u001b[0m \u001b[0mself\u001b[0m\u001b[0;34m.\u001b[0m\u001b[0mworking_list\u001b[0m\u001b[0;34m:\u001b[0m\u001b[0;34m\u001b[0m\u001b[0;34m\u001b[0m\u001b[0m\n\u001b[1;32m    122\u001b[0m             \u001b[0;32mfor\u001b[0m \u001b[0mpass_\u001b[0m \u001b[0;32min\u001b[0m \u001b[0mpassset\u001b[0m\u001b[0;34m:\u001b[0m\u001b[0;34m\u001b[0m\u001b[0;34m\u001b[0m\u001b[0m\n\u001b[0;32m--> 123\u001b[0;31m                 \u001b[0mdag\u001b[0m \u001b[0;34m=\u001b[0m \u001b[0mself\u001b[0m\u001b[0;34m.\u001b[0m\u001b[0m_do_pass\u001b[0m\u001b[0;34m(\u001b[0m\u001b[0mpass_\u001b[0m\u001b[0;34m,\u001b[0m \u001b[0mdag\u001b[0m\u001b[0;34m,\u001b[0m \u001b[0mpassset\u001b[0m\u001b[0;34m.\u001b[0m\u001b[0moptions\u001b[0m\u001b[0;34m)\u001b[0m\u001b[0;34m\u001b[0m\u001b[0;34m\u001b[0m\u001b[0m\n\u001b[0m\u001b[1;32m    124\u001b[0m \u001b[0;34m\u001b[0m\u001b[0m\n\u001b[1;32m    125\u001b[0m         \u001b[0mcircuit\u001b[0m \u001b[0;34m=\u001b[0m \u001b[0mdag_to_circuit\u001b[0m\u001b[0;34m(\u001b[0m\u001b[0mdag\u001b[0m\u001b[0;34m)\u001b[0m\u001b[0;34m\u001b[0m\u001b[0;34m\u001b[0m\u001b[0m\n",
      "\u001b[0;32m~/anaconda3/envs/ENV_NAME/lib/python3.8/site-packages/qiskit/transpiler/runningpassmanager.py\u001b[0m in \u001b[0;36m_do_pass\u001b[0;34m(self, pass_, dag, options)\u001b[0m\n\u001b[1;32m    152\u001b[0m         \u001b[0;31m# Run the pass itself, if not already run\u001b[0m\u001b[0;34m\u001b[0m\u001b[0;34m\u001b[0m\u001b[0;34m\u001b[0m\u001b[0m\n\u001b[1;32m    153\u001b[0m         \u001b[0;32mif\u001b[0m \u001b[0mpass_\u001b[0m \u001b[0;32mnot\u001b[0m \u001b[0;32min\u001b[0m \u001b[0mself\u001b[0m\u001b[0;34m.\u001b[0m\u001b[0mvalid_passes\u001b[0m\u001b[0;34m:\u001b[0m\u001b[0;34m\u001b[0m\u001b[0;34m\u001b[0m\u001b[0m\n\u001b[0;32m--> 154\u001b[0;31m             \u001b[0mdag\u001b[0m \u001b[0;34m=\u001b[0m \u001b[0mself\u001b[0m\u001b[0;34m.\u001b[0m\u001b[0m_run_this_pass\u001b[0m\u001b[0;34m(\u001b[0m\u001b[0mpass_\u001b[0m\u001b[0;34m,\u001b[0m \u001b[0mdag\u001b[0m\u001b[0;34m)\u001b[0m\u001b[0;34m\u001b[0m\u001b[0;34m\u001b[0m\u001b[0m\n\u001b[0m\u001b[1;32m    155\u001b[0m \u001b[0;34m\u001b[0m\u001b[0m\n\u001b[1;32m    156\u001b[0m             \u001b[0;31m# update the valid_passes property\u001b[0m\u001b[0;34m\u001b[0m\u001b[0;34m\u001b[0m\u001b[0;34m\u001b[0m\u001b[0m\n",
      "\u001b[0;32m~/anaconda3/envs/ENV_NAME/lib/python3.8/site-packages/qiskit/transpiler/runningpassmanager.py\u001b[0m in \u001b[0;36m_run_this_pass\u001b[0;34m(self, pass_, dag)\u001b[0m\n\u001b[1;32m    164\u001b[0m             \u001b[0;31m# Measure time if we have a callback or logging set\u001b[0m\u001b[0;34m\u001b[0m\u001b[0;34m\u001b[0m\u001b[0;34m\u001b[0m\u001b[0m\n\u001b[1;32m    165\u001b[0m             \u001b[0mstart_time\u001b[0m \u001b[0;34m=\u001b[0m \u001b[0mtime\u001b[0m\u001b[0;34m(\u001b[0m\u001b[0;34m)\u001b[0m\u001b[0;34m\u001b[0m\u001b[0;34m\u001b[0m\u001b[0m\n\u001b[0;32m--> 166\u001b[0;31m             \u001b[0mnew_dag\u001b[0m \u001b[0;34m=\u001b[0m \u001b[0mpass_\u001b[0m\u001b[0;34m.\u001b[0m\u001b[0mrun\u001b[0m\u001b[0;34m(\u001b[0m\u001b[0mdag\u001b[0m\u001b[0;34m)\u001b[0m\u001b[0;34m\u001b[0m\u001b[0;34m\u001b[0m\u001b[0m\n\u001b[0m\u001b[1;32m    167\u001b[0m             \u001b[0mend_time\u001b[0m \u001b[0;34m=\u001b[0m \u001b[0mtime\u001b[0m\u001b[0;34m(\u001b[0m\u001b[0;34m)\u001b[0m\u001b[0;34m\u001b[0m\u001b[0;34m\u001b[0m\u001b[0m\n\u001b[1;32m    168\u001b[0m             \u001b[0mrun_time\u001b[0m \u001b[0;34m=\u001b[0m \u001b[0mend_time\u001b[0m \u001b[0;34m-\u001b[0m \u001b[0mstart_time\u001b[0m\u001b[0;34m\u001b[0m\u001b[0;34m\u001b[0m\u001b[0m\n",
      "\u001b[0;32m~/anaconda3/envs/ENV_NAME/lib/python3.8/site-packages/qiskit/transpiler/passes/optimization/optimize_1q_decomposition.py\u001b[0m in \u001b[0;36mrun\u001b[0;34m(self, dag)\u001b[0m\n\u001b[1;32m    166\u001b[0m                     \u001b[0;32mcontinue\u001b[0m\u001b[0;34m\u001b[0m\u001b[0;34m\u001b[0m\u001b[0m\n\u001b[1;32m    167\u001b[0m \u001b[0;34m\u001b[0m\u001b[0m\n\u001b[0;32m--> 168\u001b[0;31m             \u001b[0mnew_basis\u001b[0m\u001b[0;34m,\u001b[0m \u001b[0mnew_circ\u001b[0m \u001b[0;34m=\u001b[0m \u001b[0mself\u001b[0m\u001b[0;34m.\u001b[0m\u001b[0m_resynthesize_run\u001b[0m\u001b[0;34m(\u001b[0m\u001b[0mrun\u001b[0m\u001b[0;34m)\u001b[0m\u001b[0;34m\u001b[0m\u001b[0;34m\u001b[0m\u001b[0m\n\u001b[0m\u001b[1;32m    169\u001b[0m \u001b[0;34m\u001b[0m\u001b[0m\n\u001b[1;32m    170\u001b[0m             \u001b[0;32mif\u001b[0m \u001b[0mnew_circ\u001b[0m \u001b[0;32mis\u001b[0m \u001b[0;32mnot\u001b[0m \u001b[0;32mNone\u001b[0m \u001b[0;32mand\u001b[0m \u001b[0mself\u001b[0m\u001b[0;34m.\u001b[0m\u001b[0m_substitution_checks\u001b[0m\u001b[0;34m(\u001b[0m\u001b[0mdag\u001b[0m\u001b[0;34m,\u001b[0m \u001b[0mrun\u001b[0m\u001b[0;34m,\u001b[0m \u001b[0mnew_circ\u001b[0m\u001b[0;34m,\u001b[0m \u001b[0mnew_basis\u001b[0m\u001b[0;34m)\u001b[0m\u001b[0;34m:\u001b[0m\u001b[0;34m\u001b[0m\u001b[0;34m\u001b[0m\u001b[0m\n",
      "\u001b[0;32m~/anaconda3/envs/ENV_NAME/lib/python3.8/site-packages/qiskit/transpiler/passes/optimization/optimize_1q_decomposition.py\u001b[0m in \u001b[0;36m_resynthesize_run\u001b[0;34m(self, run)\u001b[0m\n\u001b[1;32m     76\u001b[0m             \u001b[0moperator\u001b[0m \u001b[0;34m=\u001b[0m \u001b[0mgate\u001b[0m\u001b[0;34m.\u001b[0m\u001b[0mop\u001b[0m\u001b[0;34m.\u001b[0m\u001b[0mto_matrix\u001b[0m\u001b[0;34m(\u001b[0m\u001b[0;34m)\u001b[0m\u001b[0;34m.\u001b[0m\u001b[0mdot\u001b[0m\u001b[0;34m(\u001b[0m\u001b[0moperator\u001b[0m\u001b[0;34m)\u001b[0m\u001b[0;34m\u001b[0m\u001b[0;34m\u001b[0m\u001b[0m\n\u001b[1;32m     77\u001b[0m \u001b[0;34m\u001b[0m\u001b[0m\n\u001b[0;32m---> 78\u001b[0;31m         \u001b[0mnew_circs\u001b[0m \u001b[0;34m=\u001b[0m \u001b[0;34m{\u001b[0m\u001b[0mk\u001b[0m\u001b[0;34m:\u001b[0m \u001b[0mv\u001b[0m\u001b[0;34m.\u001b[0m\u001b[0m_decompose\u001b[0m\u001b[0;34m(\u001b[0m\u001b[0moperator\u001b[0m\u001b[0;34m)\u001b[0m \u001b[0;32mfor\u001b[0m \u001b[0mk\u001b[0m\u001b[0;34m,\u001b[0m \u001b[0mv\u001b[0m \u001b[0;32min\u001b[0m \u001b[0mself\u001b[0m\u001b[0;34m.\u001b[0m\u001b[0m_decomposers\u001b[0m\u001b[0;34m.\u001b[0m\u001b[0mitems\u001b[0m\u001b[0;34m(\u001b[0m\u001b[0;34m)\u001b[0m\u001b[0;34m}\u001b[0m\u001b[0;34m\u001b[0m\u001b[0;34m\u001b[0m\u001b[0m\n\u001b[0m\u001b[1;32m     79\u001b[0m \u001b[0;34m\u001b[0m\u001b[0m\n\u001b[1;32m     80\u001b[0m         \u001b[0mnew_basis\u001b[0m\u001b[0;34m,\u001b[0m \u001b[0mnew_circ\u001b[0m \u001b[0;34m=\u001b[0m \u001b[0;32mNone\u001b[0m\u001b[0;34m,\u001b[0m \u001b[0;32mNone\u001b[0m\u001b[0;34m\u001b[0m\u001b[0;34m\u001b[0m\u001b[0m\n",
      "\u001b[0;32m~/anaconda3/envs/ENV_NAME/lib/python3.8/site-packages/qiskit/transpiler/passes/optimization/optimize_1q_decomposition.py\u001b[0m in \u001b[0;36m<dictcomp>\u001b[0;34m(.0)\u001b[0m\n\u001b[1;32m     76\u001b[0m             \u001b[0moperator\u001b[0m \u001b[0;34m=\u001b[0m \u001b[0mgate\u001b[0m\u001b[0;34m.\u001b[0m\u001b[0mop\u001b[0m\u001b[0;34m.\u001b[0m\u001b[0mto_matrix\u001b[0m\u001b[0;34m(\u001b[0m\u001b[0;34m)\u001b[0m\u001b[0;34m.\u001b[0m\u001b[0mdot\u001b[0m\u001b[0;34m(\u001b[0m\u001b[0moperator\u001b[0m\u001b[0;34m)\u001b[0m\u001b[0;34m\u001b[0m\u001b[0;34m\u001b[0m\u001b[0m\n\u001b[1;32m     77\u001b[0m \u001b[0;34m\u001b[0m\u001b[0m\n\u001b[0;32m---> 78\u001b[0;31m         \u001b[0mnew_circs\u001b[0m \u001b[0;34m=\u001b[0m \u001b[0;34m{\u001b[0m\u001b[0mk\u001b[0m\u001b[0;34m:\u001b[0m \u001b[0mv\u001b[0m\u001b[0;34m.\u001b[0m\u001b[0m_decompose\u001b[0m\u001b[0;34m(\u001b[0m\u001b[0moperator\u001b[0m\u001b[0;34m)\u001b[0m \u001b[0;32mfor\u001b[0m \u001b[0mk\u001b[0m\u001b[0;34m,\u001b[0m \u001b[0mv\u001b[0m \u001b[0;32min\u001b[0m \u001b[0mself\u001b[0m\u001b[0;34m.\u001b[0m\u001b[0m_decomposers\u001b[0m\u001b[0;34m.\u001b[0m\u001b[0mitems\u001b[0m\u001b[0;34m(\u001b[0m\u001b[0;34m)\u001b[0m\u001b[0;34m}\u001b[0m\u001b[0;34m\u001b[0m\u001b[0;34m\u001b[0m\u001b[0m\n\u001b[0m\u001b[1;32m     79\u001b[0m \u001b[0;34m\u001b[0m\u001b[0m\n\u001b[1;32m     80\u001b[0m         \u001b[0mnew_basis\u001b[0m\u001b[0;34m,\u001b[0m \u001b[0mnew_circ\u001b[0m \u001b[0;34m=\u001b[0m \u001b[0;32mNone\u001b[0m\u001b[0;34m,\u001b[0m \u001b[0;32mNone\u001b[0m\u001b[0;34m\u001b[0m\u001b[0;34m\u001b[0m\u001b[0m\n",
      "\u001b[0;32m~/anaconda3/envs/ENV_NAME/lib/python3.8/site-packages/qiskit/quantum_info/synthesis/one_qubit_decompose.py\u001b[0m in \u001b[0;36m_decompose\u001b[0;34m(self, unitary, simplify, atol)\u001b[0m\n\u001b[1;32m    166\u001b[0m     \u001b[0;32mdef\u001b[0m \u001b[0m_decompose\u001b[0m\u001b[0;34m(\u001b[0m\u001b[0mself\u001b[0m\u001b[0;34m,\u001b[0m \u001b[0munitary\u001b[0m\u001b[0;34m,\u001b[0m \u001b[0msimplify\u001b[0m\u001b[0;34m=\u001b[0m\u001b[0;32mTrue\u001b[0m\u001b[0;34m,\u001b[0m \u001b[0matol\u001b[0m\u001b[0;34m=\u001b[0m\u001b[0mDEFAULT_ATOL\u001b[0m\u001b[0;34m)\u001b[0m\u001b[0;34m:\u001b[0m\u001b[0;34m\u001b[0m\u001b[0;34m\u001b[0m\u001b[0m\n\u001b[1;32m    167\u001b[0m         \u001b[0mtheta\u001b[0m\u001b[0;34m,\u001b[0m \u001b[0mphi\u001b[0m\u001b[0;34m,\u001b[0m \u001b[0mlam\u001b[0m\u001b[0;34m,\u001b[0m \u001b[0mphase\u001b[0m \u001b[0;34m=\u001b[0m \u001b[0mself\u001b[0m\u001b[0;34m.\u001b[0m\u001b[0m_params\u001b[0m\u001b[0;34m(\u001b[0m\u001b[0munitary\u001b[0m\u001b[0;34m)\u001b[0m\u001b[0;34m\u001b[0m\u001b[0;34m\u001b[0m\u001b[0m\n\u001b[0;32m--> 168\u001b[0;31m         \u001b[0mcircuit\u001b[0m \u001b[0;34m=\u001b[0m \u001b[0mself\u001b[0m\u001b[0;34m.\u001b[0m\u001b[0m_circuit\u001b[0m\u001b[0;34m(\u001b[0m\u001b[0mtheta\u001b[0m\u001b[0;34m,\u001b[0m \u001b[0mphi\u001b[0m\u001b[0;34m,\u001b[0m \u001b[0mlam\u001b[0m\u001b[0;34m,\u001b[0m \u001b[0mphase\u001b[0m\u001b[0;34m,\u001b[0m \u001b[0msimplify\u001b[0m\u001b[0;34m=\u001b[0m\u001b[0msimplify\u001b[0m\u001b[0;34m,\u001b[0m \u001b[0matol\u001b[0m\u001b[0;34m=\u001b[0m\u001b[0matol\u001b[0m\u001b[0;34m)\u001b[0m\u001b[0;34m\u001b[0m\u001b[0;34m\u001b[0m\u001b[0m\n\u001b[0m\u001b[1;32m    169\u001b[0m         \u001b[0;32mreturn\u001b[0m \u001b[0mcircuit\u001b[0m\u001b[0;34m\u001b[0m\u001b[0;34m\u001b[0m\u001b[0m\n\u001b[1;32m    170\u001b[0m \u001b[0;34m\u001b[0m\u001b[0m\n",
      "\u001b[0;32m~/anaconda3/envs/ENV_NAME/lib/python3.8/site-packages/qiskit/quantum_info/synthesis/one_qubit_decompose.py\u001b[0m in \u001b[0;36m_circuit_xyx\u001b[0;34m(self, theta, phi, lam, phase, simplify, atol, allow_non_canonical)\u001b[0m\n\u001b[1;32m    414\u001b[0m         \u001b[0mself\u001b[0m\u001b[0;34m,\u001b[0m \u001b[0mtheta\u001b[0m\u001b[0;34m,\u001b[0m \u001b[0mphi\u001b[0m\u001b[0;34m,\u001b[0m \u001b[0mlam\u001b[0m\u001b[0;34m,\u001b[0m \u001b[0mphase\u001b[0m\u001b[0;34m,\u001b[0m \u001b[0msimplify\u001b[0m\u001b[0;34m=\u001b[0m\u001b[0;32mTrue\u001b[0m\u001b[0;34m,\u001b[0m \u001b[0matol\u001b[0m\u001b[0;34m=\u001b[0m\u001b[0mDEFAULT_ATOL\u001b[0m\u001b[0;34m,\u001b[0m \u001b[0mallow_non_canonical\u001b[0m\u001b[0;34m=\u001b[0m\u001b[0;32mTrue\u001b[0m\u001b[0;34m\u001b[0m\u001b[0;34m\u001b[0m\u001b[0m\n\u001b[1;32m    415\u001b[0m     ):\n\u001b[0;32m--> 416\u001b[0;31m         return self._circuit_kak(\n\u001b[0m\u001b[1;32m    417\u001b[0m             \u001b[0mtheta\u001b[0m\u001b[0;34m,\u001b[0m\u001b[0;34m\u001b[0m\u001b[0;34m\u001b[0m\u001b[0m\n\u001b[1;32m    418\u001b[0m             \u001b[0mphi\u001b[0m\u001b[0;34m,\u001b[0m\u001b[0;34m\u001b[0m\u001b[0;34m\u001b[0m\u001b[0m\n",
      "\u001b[0;32m~/anaconda3/envs/ENV_NAME/lib/python3.8/site-packages/qiskit/quantum_info/synthesis/one_qubit_decompose.py\u001b[0m in \u001b[0;36m_circuit_kak\u001b[0;34m(theta, phi, lam, phase, simplify, atol, allow_non_canonical, k_gate, a_gate)\u001b[0m\n\u001b[1;32m    330\u001b[0m         \"\"\"\n\u001b[1;32m    331\u001b[0m         \u001b[0mgphase\u001b[0m \u001b[0;34m=\u001b[0m \u001b[0mphase\u001b[0m \u001b[0;34m-\u001b[0m \u001b[0;34m(\u001b[0m\u001b[0mphi\u001b[0m \u001b[0;34m+\u001b[0m \u001b[0mlam\u001b[0m\u001b[0;34m)\u001b[0m \u001b[0;34m/\u001b[0m \u001b[0;36m2\u001b[0m\u001b[0;34m\u001b[0m\u001b[0;34m\u001b[0m\u001b[0m\n\u001b[0;32m--> 332\u001b[0;31m         \u001b[0mqr\u001b[0m \u001b[0;34m=\u001b[0m \u001b[0mQuantumRegister\u001b[0m\u001b[0;34m(\u001b[0m\u001b[0;36m1\u001b[0m\u001b[0;34m,\u001b[0m \u001b[0;34m\"qr\"\u001b[0m\u001b[0;34m)\u001b[0m\u001b[0;34m\u001b[0m\u001b[0;34m\u001b[0m\u001b[0m\n\u001b[0m\u001b[1;32m    333\u001b[0m         \u001b[0mcircuit\u001b[0m \u001b[0;34m=\u001b[0m \u001b[0mQuantumCircuit\u001b[0m\u001b[0;34m(\u001b[0m\u001b[0mqr\u001b[0m\u001b[0;34m)\u001b[0m\u001b[0;34m\u001b[0m\u001b[0;34m\u001b[0m\u001b[0m\n\u001b[1;32m    334\u001b[0m         \u001b[0;32mif\u001b[0m \u001b[0;32mnot\u001b[0m \u001b[0msimplify\u001b[0m\u001b[0;34m:\u001b[0m\u001b[0;34m\u001b[0m\u001b[0;34m\u001b[0m\u001b[0m\n",
      "\u001b[0;32m~/anaconda3/envs/ENV_NAME/lib/python3.8/site-packages/qiskit/circuit/register.py\u001b[0m in \u001b[0;36m__init__\u001b[0;34m(self, size, name, bits)\u001b[0m\n\u001b[1;32m    110\u001b[0m \u001b[0;34m\u001b[0m\u001b[0m\n\u001b[1;32m    111\u001b[0m         \u001b[0mself\u001b[0m\u001b[0;34m.\u001b[0m\u001b[0m_hash\u001b[0m \u001b[0;34m=\u001b[0m \u001b[0mhash\u001b[0m\u001b[0;34m(\u001b[0m\u001b[0;34m(\u001b[0m\u001b[0mtype\u001b[0m\u001b[0;34m(\u001b[0m\u001b[0mself\u001b[0m\u001b[0;34m)\u001b[0m\u001b[0;34m,\u001b[0m \u001b[0mself\u001b[0m\u001b[0;34m.\u001b[0m\u001b[0m_name\u001b[0m\u001b[0;34m,\u001b[0m \u001b[0mself\u001b[0m\u001b[0;34m.\u001b[0m\u001b[0m_size\u001b[0m\u001b[0;34m)\u001b[0m\u001b[0;34m)\u001b[0m\u001b[0;34m\u001b[0m\u001b[0;34m\u001b[0m\u001b[0m\n\u001b[0;32m--> 112\u001b[0;31m         \u001b[0mself\u001b[0m\u001b[0;34m.\u001b[0m\u001b[0m_repr\u001b[0m \u001b[0;34m=\u001b[0m \u001b[0;34m\"%s(%d, '%s')\"\u001b[0m \u001b[0;34m%\u001b[0m \u001b[0;34m(\u001b[0m\u001b[0mself\u001b[0m\u001b[0;34m.\u001b[0m\u001b[0m__class__\u001b[0m\u001b[0;34m.\u001b[0m\u001b[0m__qualname__\u001b[0m\u001b[0;34m,\u001b[0m \u001b[0mself\u001b[0m\u001b[0;34m.\u001b[0m\u001b[0msize\u001b[0m\u001b[0;34m,\u001b[0m \u001b[0mself\u001b[0m\u001b[0;34m.\u001b[0m\u001b[0mname\u001b[0m\u001b[0;34m)\u001b[0m\u001b[0;34m\u001b[0m\u001b[0;34m\u001b[0m\u001b[0m\n\u001b[0m\u001b[1;32m    113\u001b[0m         \u001b[0;32mif\u001b[0m \u001b[0mbits\u001b[0m \u001b[0;32mis\u001b[0m \u001b[0;32mnot\u001b[0m \u001b[0;32mNone\u001b[0m\u001b[0;34m:\u001b[0m\u001b[0;34m\u001b[0m\u001b[0;34m\u001b[0m\u001b[0m\n\u001b[1;32m    114\u001b[0m             \u001b[0;31m# pylint: disable=isinstance-second-argument-not-valid-type\u001b[0m\u001b[0;34m\u001b[0m\u001b[0;34m\u001b[0m\u001b[0;34m\u001b[0m\u001b[0m\n",
      "\u001b[0;32m~/anaconda3/envs/ENV_NAME/lib/python3.8/site-packages/qiskit/circuit/register.py\u001b[0m in \u001b[0;36msize\u001b[0;34m(self)\u001b[0m\n\u001b[1;32m    131\u001b[0m         \u001b[0;32mreturn\u001b[0m \u001b[0mself\u001b[0m\u001b[0;34m.\u001b[0m\u001b[0m_name\u001b[0m\u001b[0;34m\u001b[0m\u001b[0;34m\u001b[0m\u001b[0m\n\u001b[1;32m    132\u001b[0m \u001b[0;34m\u001b[0m\u001b[0m\n\u001b[0;32m--> 133\u001b[0;31m     \u001b[0;34m@\u001b[0m\u001b[0mproperty\u001b[0m\u001b[0;34m\u001b[0m\u001b[0;34m\u001b[0m\u001b[0m\n\u001b[0m\u001b[1;32m    134\u001b[0m     \u001b[0;32mdef\u001b[0m \u001b[0msize\u001b[0m\u001b[0;34m(\u001b[0m\u001b[0mself\u001b[0m\u001b[0;34m)\u001b[0m\u001b[0;34m:\u001b[0m\u001b[0;34m\u001b[0m\u001b[0;34m\u001b[0m\u001b[0m\n\u001b[1;32m    135\u001b[0m         \u001b[0;34m\"\"\"Get the register size.\"\"\"\u001b[0m\u001b[0;34m\u001b[0m\u001b[0;34m\u001b[0m\u001b[0m\n",
      "\u001b[0;31mKeyboardInterrupt\u001b[0m: "
     ]
    }
   ],
   "source": [
    "loss_hist=[]\n",
    "fid_hist=[]\n",
    "\n",
    "loss_hist_test=[]\n",
    "fid_hist_test=[]\n",
    "\n",
    "fraud_fid=[]\n",
    "\n",
    "\n",
    "for epoch in range(epochs):\n",
    "    batches = iterate_batches(X=training_data, batch_size=batch_size)\n",
    "    for xbatch in batches:\n",
    "        encoder_params = opt.step(cost, encoder_params, X=xbatch)\n",
    "\n",
    "        \n",
    "    if epoch%5 == 0:\n",
    "        \n",
    "        loss_training = cost(encoder_params, X_training )\n",
    "        fidel = fidelity(encoder_params, X_training )\n",
    "        \n",
    "        loss_hist.append(loss_training)\n",
    "        fid_hist.append(fidel)\n",
    "        print(\"Epoch:{} | Loss:{} | Fidelity:{}\".format(epoch, loss_training, fidel))\n",
    "\n",
    "        loss_test = cost(encoder_params, X_tes )\n",
    "        fidel = fidelity(encoder_params, X_tes )\n",
    "        loss_hist_test.append(loss_test)\n",
    "        fid_hist_test.append(fidel)\n",
    "        print(\"Test-Epoch:{} | Loss:{} | Fidelity:{}\".format(epoch, loss_test, fidel))\n",
    "        \n",
    "        f_fidel = fidelity(encoder_params, fraud_data )\n",
    "        fraud_fid.append(f_fidel)\n",
    "        print(\"Fraud Fidelity:{}\".format(f_fidel))"
   ]
  },
  {
   "cell_type": "code",
   "execution_count": 99,
   "id": "f4fcfdbf",
   "metadata": {},
   "outputs": [
    {
     "name": "stdout",
     "output_type": "stream",
     "text": [
      "fidelity: 0.9106666637654454\n"
     ]
    },
    {
     "data": {
      "image/png": "[encoded data removed]",
      "text/plain": [
       "<Figure size 432x288 with 1 Axes>"
      ]
     },
     "metadata": {
      "needs_background": "light"
     },
     "output_type": "display_data"
    }
   ],
   "source": [
    "fig = plt.figure()\n",
    "plt.plot([x for x in range(0,len(loss_hist)*5,5)],np.array(fid_hist),label=\"train fidelity\")\n",
    "plt.plot([x for x in range(0,len(loss_hist)*5,5)],np.array(fid_hist_test),label=\"test fidelity\")\n",
    "plt.plot([x for x in range(0,len(loss_hist)*5,5)],np.array(fraud_fid),label=\"fraud fidelity\")\n",
    "\n",
    "plt.legend()\n",
    "plt.title(\"Fraud 4-3-4 Compression Fidelity e2\",)\n",
    "plt.xlabel(\"Epoch\")\n",
    "plt.ylabel(\"Fidelity\")\n",
    "plt.savefig(\"Fraud 4-3-4 Compression Fidelity e2\")\n",
    "\n",
    "print(\"fidelity:\",fid_hist[-1])"
   ]
  },
  {
   "cell_type": "code",
   "execution_count": 97,
   "id": "8d58a3df",
   "metadata": {},
   "outputs": [
    {
     "name": "stdout",
     "output_type": "stream",
     "text": [
      "loss: 1.102373216675469\n"
     ]
    },
    {
     "data": {
      "image/png": "[encoded data removed]",
      "text/plain": [
       "<Figure size 432x288 with 1 Axes>"
      ]
     },
     "metadata": {
      "needs_background": "light"
     },
     "output_type": "display_data"
    }
   ],
   "source": [
    "fig = plt.figure()\n",
    "plt.plot([x for x in range(0,len(loss_hist)*5,5)],np.array(loss_hist),label=\"train loss\")\n",
    "plt.plot([x for x in range(0,len(loss_hist)*5,5)],np.array(loss_hist_test),label=\"test loss\")\n",
    "\n",
    "\n",
    "plt.legend()\n",
    "plt.title(\"Fraud 4-3-4 Compression Loss e2\",)\n",
    "plt.xlabel(\"Epoch\")\n",
    "plt.ylabel(\"Loss\")\n",
    "plt.savefig(\"Fraud 4-3-4 Compression Loss e2\")\n",
    "\n",
    "print(\"loss:\",loss_hist[-1])"
   ]
  },
  {
   "cell_type": "code",
   "execution_count": 96,
   "id": "037a7ffc",
   "metadata": {},
   "outputs": [
    {
     "data": {
      "text/plain": [
       "17547"
      ]
     },
     "execution_count": 96,
     "metadata": {},
     "output_type": "execute_result"
    }
   ],
   "source": [
    "name = \"fraud_434_training_e2\"\n",
    "\n",
    "Circuit_prop={   \"shots\":shots, \"nr_trash\":nr_trash, \"nr_latent\":nr_latent, \"nr_ent\":nr_ent  }\n",
    "Training_param = { \"num_samples\" == num_samples,\n",
    "                    \"batch_size\" == batch_size,\n",
    "                    #\"nr_layers\"== nr_layers,\n",
    "                    \"epochs\" == epochs,\n",
    "                    \"learning_rate\" == learning_rate, \n",
    "                    \"beta1\" == beta1,\n",
    "                    \"beta2 \"== beta2,\n",
    "                     \"optimizer\"==\"Adam\"}\n",
    "\n",
    "performance={\"loss_hist\":loss_hist, \"fid_hist\":fid_hist,\n",
    "             \"loss_hist_test\":loss_hist_test, \"fid_hist_test\":fid_hist_test,\n",
    "             \"encoder_params\":encoder_params}\n",
    "\n",
    "experiment_data={\"Circuit_prop\":Circuit_prop,\n",
    "                \"Training_param\":Training_param,\n",
    "                \"performance:\":performance,\n",
    "                \"Name\":name}\n",
    "\n",
    "# open file for writing\n",
    "f = open(name+\".txt\",\"w\")\n",
    "f.write( str(experiment_data) )"
   ]
  },
  {
   "cell_type": "code",
   "execution_count": 101,
   "id": "40eca0dc",
   "metadata": {},
   "outputs": [
    {
     "data": {
      "text/plain": [
       "1386"
      ]
     },
     "execution_count": 101,
     "metadata": {},
     "output_type": "execute_result"
    }
   ],
   "source": [
    "experiment_parameters={\"autoencoder\":\"e2\",\"params\":encoder_params}\n",
    "f=open(\"Params_Fraud_encoder_e2-CorrelatedFeautures.txt\",\"w\")\n",
    "f.write(str(experiment_parameters))"
   ]
  },
  {
   "cell_type": "code",
   "execution_count": 144,
   "id": "90f047d7",
   "metadata": {},
   "outputs": [
    {
     "name": "stdout",
     "output_type": "stream",
     "text": [
      "0.52082426012579\n",
      "0.9739451826962489\n"
     ]
    }
   ],
   "source": [
    "branch = df \n",
    "non_fraud_df = branch.loc[branch[\"Class\"]!=1][:492]\n",
    "\n",
    "\n",
    "non_fraud = non_fraud_df[feature_list]\n",
    "np_non_fraud = non_fraud.to_numpy()\n",
    "non_fraud_data = [ torch.tensor([np_non_fraud[i]]) for i in range(len(non_fraud.to_numpy()))]\n",
    "\n",
    "non_fraud_flist=[]\n",
    "for b in non_fraud_data:\n",
    "    f=fidelity(encoder_params, [b])\n",
    "    non_fraud_flist.append(f.item())\n",
    "    \n",
    "print(min(non_fraud_flist))\n",
    "print(max(non_fraud_flist))"
   ]
  },
  {
   "cell_type": "code",
   "execution_count": 136,
   "id": "a192fb78",
   "metadata": {},
   "outputs": [
    {
     "name": "stderr",
     "output_type": "stream",
     "text": [
      "/Users/seanmcilvane/anaconda3/envs/ENV_NAME/lib/python3.8/site-packages/pennylane/math/multi_dispatch.py:65: UserWarning: Contains tensors of types {'torch', 'autograd'}; dispatch will prioritize TensorFlow and PyTorch over autograd. Consider replacing Autograd with vanilla NumPy.\n",
      "  warnings.warn(\n"
     ]
    },
    {
     "name": "stdout",
     "output_type": "stream",
     "text": [
      "0.5213199366767333\n",
      "0.9336154283701765\n"
     ]
    }
   ],
   "source": [
    "#np_ilegal= ilegal.to_numpy()\n",
    "#ilegal_data = [ torch.tensor([np_ilegal[i]]) for i in range(len(ilegal.to_numpy()))]\n",
    "\n",
    "\n",
    "fraud_flist=[]\n",
    "for b in fraud_data:\n",
    "    f=fidelity(encoder_params, [b])\n",
    "    fraud_flist.append(f.item())\n",
    "    \n",
    "print(min(fraud_flist))\n",
    "print(max(fraud_flist))"
   ]
  },
  {
   "cell_type": "code",
   "execution_count": 146,
   "id": "faa08f05",
   "metadata": {},
   "outputs": [
    {
     "data": {
      "image/png": "[encoded data removed]",
      "text/plain": [
       "<Figure size 432x288 with 1 Axes>"
      ]
     },
     "metadata": {
      "needs_background": "light"
     },
     "output_type": "display_data"
    }
   ],
   "source": [
    "\n",
    "plt.hist(non_fraud_flist, bins =100 ,label=\"non_fraud\",color = \"red\",alpha=0.4)\n",
    "plt.hist(fraud_flist, bins = 100 ,label=\"fraud\", color = \"skyblue\",alpha=0.4)\n",
    "plt.title(\"Compression fidelity\",)\n",
    "plt.legend()\n",
    "plt.savefig(\"Compression_fidelity\")\n",
    "plt.show()"
   ]
  },
  {
   "cell_type": "code",
   "execution_count": null,
   "id": "815aa2cf",
   "metadata": {},
   "outputs": [],
   "source": []
  },
  {
   "cell_type": "code",
   "execution_count": null,
   "id": "3c23eddb",
   "metadata": {},
   "outputs": [],
   "source": []
  },
  {
   "cell_type": "code",
   "execution_count": null,
   "id": "ef90b47e",
   "metadata": {},
   "outputs": [],
   "source": []
  },
  {
   "cell_type": "code",
   "execution_count": null,
   "id": "8526cfa7",
   "metadata": {},
   "outputs": [],
   "source": []
  }
 ],
 "metadata": {
  "kernelspec": {
   "display_name": "Python 3 (ipykernel)",
   "language": "python",
   "name": "python3"
  },
  "language_info": {
   "codemirror_mode": {
    "name": "ipython",
    "version": 3
   },
   "file_extension": ".py",
   "mimetype": "text/x-python",
   "name": "python",
   "nbconvert_exporter": "python",
   "pygments_lexer": "ipython3",
   "version": "3.8.12"
  }
 },
 "nbformat": 4,
 "nbformat_minor": 5
}
