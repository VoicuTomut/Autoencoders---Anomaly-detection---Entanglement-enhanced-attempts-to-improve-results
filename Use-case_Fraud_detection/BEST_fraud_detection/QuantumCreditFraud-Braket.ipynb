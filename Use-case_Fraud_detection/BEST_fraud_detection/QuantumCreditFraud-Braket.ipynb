{
 "cells": [
  {
   "cell_type": "code",
   "execution_count": 1,
   "id": "4e9c15f7",
   "metadata": {},
   "outputs": [],
   "source": [
    "# Imported Libraries\n",
    "import pennylane as qml\n",
    "from pennylane.optimize import AdamOptimizer\n",
    "from pennylane import numpy as np \n",
    "import pandas as pd \n",
    "import matplotlib.pyplot as plt\n",
    "import seaborn as sns\n",
    "from graphs import plot_correlation_matrix\n",
    "import random\n",
    "import torch\n",
    "from torchvision import datasets, transforms"
   ]
  },
  {
   "cell_type": "code",
   "execution_count": 2,
   "id": "421243af",
   "metadata": {},
   "outputs": [
    {
     "name": "stdout",
     "output_type": "stream",
     "text": [
      "Requirement already satisfied: amazon-braket-pennylane-plugin in /Users/seanmcilvane/anaconda3/envs/ENV_NAME/lib/python3.8/site-packages (1.5.6)\n",
      "Requirement already satisfied: amazon-braket-sdk in /Users/seanmcilvane/anaconda3/envs/ENV_NAME/lib/python3.8/site-packages (from amazon-braket-pennylane-plugin) (1.15.0)\n",
      "Requirement already satisfied: pennylane>=0.18.0 in /Users/seanmcilvane/anaconda3/envs/ENV_NAME/lib/python3.8/site-packages (from amazon-braket-pennylane-plugin) (0.21.0)\n",
      "Requirement already satisfied: pennylane-lightning>=0.21 in /Users/seanmcilvane/anaconda3/envs/ENV_NAME/lib/python3.8/site-packages (from pennylane>=0.18.0->amazon-braket-pennylane-plugin) (0.21.0)\n",
      "Requirement already satisfied: autograd in /Users/seanmcilvane/anaconda3/envs/ENV_NAME/lib/python3.8/site-packages (from pennylane>=0.18.0->amazon-braket-pennylane-plugin) (1.3)\n",
      "Requirement already satisfied: appdirs in /Users/seanmcilvane/anaconda3/envs/ENV_NAME/lib/python3.8/site-packages (from pennylane>=0.18.0->amazon-braket-pennylane-plugin) (1.4.4)\n",
      "Requirement already satisfied: scipy in /Users/seanmcilvane/anaconda3/envs/ENV_NAME/lib/python3.8/site-packages (from pennylane>=0.18.0->amazon-braket-pennylane-plugin) (1.7.3)\n",
      "Requirement already satisfied: retworkx in /Users/seanmcilvane/anaconda3/envs/ENV_NAME/lib/python3.8/site-packages (from pennylane>=0.18.0->amazon-braket-pennylane-plugin) (0.10.2)\n",
      "Requirement already satisfied: networkx in /Users/seanmcilvane/anaconda3/envs/ENV_NAME/lib/python3.8/site-packages (from pennylane>=0.18.0->amazon-braket-pennylane-plugin) (2.5.1)\n",
      "Requirement already satisfied: semantic-version==2.6 in /Users/seanmcilvane/anaconda3/envs/ENV_NAME/lib/python3.8/site-packages (from pennylane>=0.18.0->amazon-braket-pennylane-plugin) (2.6.0)\n",
      "Requirement already satisfied: cachetools in /Users/seanmcilvane/anaconda3/envs/ENV_NAME/lib/python3.8/site-packages (from pennylane>=0.18.0->amazon-braket-pennylane-plugin) (4.2.4)\n",
      "Requirement already satisfied: toml in /Users/seanmcilvane/anaconda3/envs/ENV_NAME/lib/python3.8/site-packages (from pennylane>=0.18.0->amazon-braket-pennylane-plugin) (0.10.2)\n",
      "Requirement already satisfied: autoray in /Users/seanmcilvane/anaconda3/envs/ENV_NAME/lib/python3.8/site-packages (from pennylane>=0.18.0->amazon-braket-pennylane-plugin) (0.2.5)\n",
      "Requirement already satisfied: numpy in /Users/seanmcilvane/anaconda3/envs/ENV_NAME/lib/python3.8/site-packages (from pennylane>=0.18.0->amazon-braket-pennylane-plugin) (1.22.2)\n",
      "Requirement already satisfied: ninja in /Users/seanmcilvane/anaconda3/envs/ENV_NAME/lib/python3.8/site-packages (from pennylane-lightning>=0.21->pennylane>=0.18.0->amazon-braket-pennylane-plugin) (1.10.2.3)\n",
      "Requirement already satisfied: boto3 in /Users/seanmcilvane/anaconda3/envs/ENV_NAME/lib/python3.8/site-packages (from amazon-braket-sdk->amazon-braket-pennylane-plugin) (1.21.7)\n",
      "Requirement already satisfied: boltons in /Users/seanmcilvane/anaconda3/envs/ENV_NAME/lib/python3.8/site-packages (from amazon-braket-sdk->amazon-braket-pennylane-plugin) (21.0.0)\n",
      "Requirement already satisfied: coverage==5.5 in /Users/seanmcilvane/anaconda3/envs/ENV_NAME/lib/python3.8/site-packages (from amazon-braket-sdk->amazon-braket-pennylane-plugin) (5.5)\n",
      "Requirement already satisfied: amazon-braket-default-simulator in /Users/seanmcilvane/anaconda3/envs/ENV_NAME/lib/python3.8/site-packages (from amazon-braket-sdk->amazon-braket-pennylane-plugin) (1.5.0)\n",
      "Requirement already satisfied: nest-asyncio in /Users/seanmcilvane/anaconda3/envs/ENV_NAME/lib/python3.8/site-packages (from amazon-braket-sdk->amazon-braket-pennylane-plugin) (1.5.4)\n",
      "Requirement already satisfied: backoff in /Users/seanmcilvane/anaconda3/envs/ENV_NAME/lib/python3.8/site-packages (from amazon-braket-sdk->amazon-braket-pennylane-plugin) (1.11.1)\n",
      "Requirement already satisfied: opt-einsum in /Users/seanmcilvane/anaconda3/envs/ENV_NAME/lib/python3.8/site-packages (from amazon-braket-default-simulator->amazon-braket-sdk->amazon-braket-pennylane-plugin) (3.3.0)\n",
      "Requirement already satisfied: amazon-braket-schemas in /Users/seanmcilvane/anaconda3/envs/ENV_NAME/lib/python3.8/site-packages (from amazon-braket-default-simulator->amazon-braket-sdk->amazon-braket-pennylane-plugin) (1.7.1)\n",
      "Requirement already satisfied: pydantic<2.0.0,>=1.8.2 in /Users/seanmcilvane/anaconda3/envs/ENV_NAME/lib/python3.8/site-packages (from amazon-braket-schemas->amazon-braket-default-simulator->amazon-braket-sdk->amazon-braket-pennylane-plugin) (1.9.0)\n",
      "Requirement already satisfied: typing-extensions>=3.7.4.3 in /Users/seanmcilvane/anaconda3/envs/ENV_NAME/lib/python3.8/site-packages (from pydantic<2.0.0,>=1.8.2->amazon-braket-schemas->amazon-braket-default-simulator->amazon-braket-sdk->amazon-braket-pennylane-plugin) (4.0.1)\n",
      "Requirement already satisfied: future>=0.15.2 in /Users/seanmcilvane/anaconda3/envs/ENV_NAME/lib/python3.8/site-packages (from autograd->pennylane>=0.18.0->amazon-braket-pennylane-plugin) (0.18.2)\n",
      "Requirement already satisfied: s3transfer<0.6.0,>=0.5.0 in /Users/seanmcilvane/anaconda3/envs/ENV_NAME/lib/python3.8/site-packages (from boto3->amazon-braket-sdk->amazon-braket-pennylane-plugin) (0.5.2)\n",
      "Requirement already satisfied: botocore<1.25.0,>=1.24.7 in /Users/seanmcilvane/anaconda3/envs/ENV_NAME/lib/python3.8/site-packages (from boto3->amazon-braket-sdk->amazon-braket-pennylane-plugin) (1.24.7)\n",
      "Requirement already satisfied: jmespath<1.0.0,>=0.7.1 in /Users/seanmcilvane/anaconda3/envs/ENV_NAME/lib/python3.8/site-packages (from boto3->amazon-braket-sdk->amazon-braket-pennylane-plugin) (0.10.0)\n",
      "Requirement already satisfied: urllib3<1.27,>=1.25.4 in /Users/seanmcilvane/anaconda3/envs/ENV_NAME/lib/python3.8/site-packages (from botocore<1.25.0,>=1.24.7->boto3->amazon-braket-sdk->amazon-braket-pennylane-plugin) (1.26.7)\n",
      "Requirement already satisfied: python-dateutil<3.0.0,>=2.1 in /Users/seanmcilvane/anaconda3/envs/ENV_NAME/lib/python3.8/site-packages (from botocore<1.25.0,>=1.24.7->boto3->amazon-braket-sdk->amazon-braket-pennylane-plugin) (2.8.2)\n",
      "Requirement already satisfied: six>=1.5 in /Users/seanmcilvane/anaconda3/envs/ENV_NAME/lib/python3.8/site-packages (from python-dateutil<3.0.0,>=2.1->botocore<1.25.0,>=1.24.7->boto3->amazon-braket-sdk->amazon-braket-pennylane-plugin) (1.16.0)\n",
      "Requirement already satisfied: decorator<5,>=4.3 in /Users/seanmcilvane/anaconda3/envs/ENV_NAME/lib/python3.8/site-packages (from networkx->pennylane>=0.18.0->amazon-braket-pennylane-plugin) (4.4.2)\n"
     ]
    }
   ],
   "source": [
    "!pip install amazon-braket-pennylane-plugin"
   ]
  },
  {
   "cell_type": "code",
   "execution_count": 2,
   "id": "7c792caa",
   "metadata": {},
   "outputs": [],
   "source": [
    "import sys\n",
    "sys.path.append(\"..\") # Adds higher directory to python modules path\n",
    "sys.path.append \n",
    "\n",
    "from qencode.initialize import setAB_amplitude, setAux, setEnt\n",
    "from qencode.encoders import e2_classic\n",
    "from qencode.training_circuits import swap_t\n",
    "from qencode.qubits_arrangement import QubitsArrangement\n",
    "\n",
    "from qencode.utils.mnist import get_dataset"
   ]
  },
  {
   "cell_type": "code",
   "execution_count": 3,
   "id": "36074521",
   "metadata": {},
   "outputs": [
    {
     "name": "stdout",
     "output_type": "stream",
     "text": [
      "Requirement already satisfied: kaggle in /Users/seanmcilvane/anaconda3/envs/ENV_NAME/lib/python3.8/site-packages (1.5.12)\n",
      "Requirement already satisfied: six>=1.10 in /Users/seanmcilvane/anaconda3/envs/ENV_NAME/lib/python3.8/site-packages (from kaggle) (1.16.0)\n",
      "Requirement already satisfied: python-dateutil in /Users/seanmcilvane/anaconda3/envs/ENV_NAME/lib/python3.8/site-packages (from kaggle) (2.8.2)\n",
      "Requirement already satisfied: python-slugify in /Users/seanmcilvane/anaconda3/envs/ENV_NAME/lib/python3.8/site-packages (from kaggle) (6.0.1)\n",
      "Requirement already satisfied: urllib3 in /Users/seanmcilvane/anaconda3/envs/ENV_NAME/lib/python3.8/site-packages (from kaggle) (1.26.7)\n",
      "Requirement already satisfied: tqdm in /Users/seanmcilvane/anaconda3/envs/ENV_NAME/lib/python3.8/site-packages (from kaggle) (4.62.3)\n",
      "Requirement already satisfied: requests in /Users/seanmcilvane/anaconda3/envs/ENV_NAME/lib/python3.8/site-packages (from kaggle) (2.27.1)\n",
      "Requirement already satisfied: certifi in /Users/seanmcilvane/anaconda3/envs/ENV_NAME/lib/python3.8/site-packages (from kaggle) (2021.10.8)\n",
      "Requirement already satisfied: text-unidecode>=1.3 in /Users/seanmcilvane/anaconda3/envs/ENV_NAME/lib/python3.8/site-packages (from python-slugify->kaggle) (1.3)\n",
      "Requirement already satisfied: idna<4,>=2.5 in /Users/seanmcilvane/anaconda3/envs/ENV_NAME/lib/python3.8/site-packages (from requests->kaggle) (3.3)\n",
      "Requirement already satisfied: charset-normalizer~=2.0.0 in /Users/seanmcilvane/anaconda3/envs/ENV_NAME/lib/python3.8/site-packages (from requests->kaggle) (2.0.9)\n"
     ]
    }
   ],
   "source": [
    "!pip install kaggle"
   ]
  },
  {
   "cell_type": "code",
   "execution_count": 4,
   "id": "ca1a2db3",
   "metadata": {},
   "outputs": [
    {
     "ename": "SyntaxError",
     "evalue": "invalid syntax (2387988877.py, line 6)",
     "output_type": "error",
     "traceback": [
      "\u001b[0;36m  File \u001b[0;32m\"/var/folders/_6/ff1hjmgn32786plyc3tgkn8h0000gn/T/ipykernel_78996/2387988877.py\"\u001b[0;36m, line \u001b[0;32m6\u001b[0m\n\u001b[0;31m    https://www.kaggle.com/mlg-ulb/creditcardfraud/download\u001b[0m\n\u001b[0m          ^\u001b[0m\n\u001b[0;31mSyntaxError\u001b[0m\u001b[0;31m:\u001b[0m invalid syntax\n"
     ]
    }
   ],
   "source": [
    "from kaggle.api.kaggle_api_extended import KaggleApi\n",
    "#import KaggleApi\n",
    "api = KaggleApi()\n",
    "api.authenticate()\n",
    "\n",
    "https://www.kaggle.com/mlg-ulb/creditcardfraud/download\n",
    "#downloading datasets for COVID-19 data\n",
    "#api.dataset_download_files('imdevskp/corona-virus-report')\n",
    "api.dataset_download_files('mlg-ulb/creditcardfraud')"
   ]
  },
  {
   "cell_type": "markdown",
   "id": "c31bc6cc",
   "metadata": {},
   "source": [
    "# Credit Card Fraud - A Growing Issue\n",
    "\n",
    "Credit card fraud is a growing issue with \\\\$28.5 billion lost globally due to credit card fraud in 2020 and is expected to exceed \\\\$49 billion by 2030 [1]). In 2020, around 1 out of 4 digital interactions were credit card fraud attempts (Cite Arkose Labs). Since there are so many non fraudulent transactions, it is challenging to detect the fraudulent transactions. In this notebook, we will be using a quantum auto-encoder to perform anomaly detection. \n",
    "\n",
    "We can use the quantum auto encoder to encode the 4 qubit state into a 3 qubit state and then use a decoder to decode the 3 qubit state back into 4 qubit state. The quantum auto encoder is trained on the normal dataset (or in this case the non fraudulent transactions) which means the quantum auto \n",
    "To tell if a datapoint is an anomaly, "
   ]
  },
  {
   "cell_type": "markdown",
   "id": "daed41dc",
   "metadata": {},
   "source": [
    "Import the dataset"
   ]
  },
  {
   "cell_type": "code",
   "execution_count": 3,
   "id": "41331d80",
   "metadata": {},
   "outputs": [],
   "source": [
    "df = pd.read_csv('creditcard.csv')"
   ]
  },
  {
   "cell_type": "markdown",
   "id": "660891a9",
   "metadata": {},
   "source": [
    "We are only going to print the first 5 rows because the dataset contains over 280,000 rows. Each row represents a transaction. Time shows the time passed between the current and first transactions and amount shows the dollar amount spent on the transaction. There are also 28 more features represented by V1, V2, ... , V28 which come from principal component analysis. Finally, there is the class, where a '0' represents no fraud committed and a '1' represents a fraudulent transaction"
   ]
  },
  {
   "cell_type": "markdown",
   "id": "5c153904",
   "metadata": {},
   "source": [
    "Let's now check the class distribution"
   ]
  },
  {
   "cell_type": "code",
   "execution_count": 4,
   "id": "65610482",
   "metadata": {},
   "outputs": [
    {
     "name": "stdout",
     "output_type": "stream",
     "text": [
      "No Frauds:  284315\n",
      "Frauds:  492\n"
     ]
    }
   ],
   "source": [
    "print('No Frauds: ', df['Class'].value_counts()[0])\n",
    "print('Frauds: ', df['Class'].value_counts()[1])"
   ]
  },
  {
   "cell_type": "markdown",
   "id": "df9736e2",
   "metadata": {},
   "source": [
    "Credit card fraud is relatively rare, this creates a very imbalanced distribution. A very imbalanced distribution is not ideal as this can lead to overfitting and our model assuming no fraud most of the time. It is also challenging to find the true correlations between the features and class."
   ]
  },
  {
   "cell_type": "code",
   "execution_count": 5,
   "id": "6e2bc92e",
   "metadata": {},
   "outputs": [
    {
     "data": {
      "image/png": "[encoded data removed]",
      "text/plain": [
       "<Figure size 1080x576 with 2 Axes>"
      ]
     },
     "metadata": {
      "needs_background": "light"
     },
     "output_type": "display_data"
    }
   ],
   "source": [
    "plot_correlation_matrix(df, \"Original Correlation Matrix\")"
   ]
  },
  {
   "cell_type": "markdown",
   "id": "58da6ed6",
   "metadata": {},
   "source": [
    "As you can see, nothing can really be inferred from this correlation matrix since the data is so imbalanced. We are going to create a sub sample dataset with equal amounts of non fraudulent data and fraudulent data. We are also going to scale the 'Time' and 'Amount' values for better processing. "
   ]
  },
  {
   "cell_type": "code",
   "execution_count": 6,
   "id": "83abf40c",
   "metadata": {},
   "outputs": [
    {
     "data": {
      "text/html": [
       "<div>\n",
       "<style scoped>\n",
       "    .dataframe tbody tr th:only-of-type {\n",
       "        vertical-align: middle;\n",
       "    }\n",
       "\n",
       "    .dataframe tbody tr th {\n",
       "        vertical-align: top;\n",
       "    }\n",
       "\n",
       "    .dataframe thead th {\n",
       "        text-align: right;\n",
       "    }\n",
       "</style>\n",
       "<table border=\"1\" class=\"dataframe\">\n",
       "  <thead>\n",
       "    <tr style=\"text-align: right;\">\n",
       "      <th></th>\n",
       "      <th>scaled_amount</th>\n",
       "      <th>scaled_time</th>\n",
       "      <th>V1</th>\n",
       "      <th>V2</th>\n",
       "      <th>V3</th>\n",
       "      <th>V4</th>\n",
       "      <th>V5</th>\n",
       "      <th>V6</th>\n",
       "      <th>V7</th>\n",
       "      <th>V8</th>\n",
       "      <th>...</th>\n",
       "      <th>V20</th>\n",
       "      <th>V21</th>\n",
       "      <th>V22</th>\n",
       "      <th>V23</th>\n",
       "      <th>V24</th>\n",
       "      <th>V25</th>\n",
       "      <th>V26</th>\n",
       "      <th>V27</th>\n",
       "      <th>V28</th>\n",
       "      <th>Class</th>\n",
       "    </tr>\n",
       "  </thead>\n",
       "  <tbody>\n",
       "    <tr>\n",
       "      <th>98428</th>\n",
       "      <td>1.089779</td>\n",
       "      <td>-0.211856</td>\n",
       "      <td>1.160044</td>\n",
       "      <td>-0.502045</td>\n",
       "      <td>-1.323895</td>\n",
       "      <td>-1.007272</td>\n",
       "      <td>1.835233</td>\n",
       "      <td>3.178687</td>\n",
       "      <td>-0.465938</td>\n",
       "      <td>0.745029</td>\n",
       "      <td>...</td>\n",
       "      <td>0.249511</td>\n",
       "      <td>-0.103236</td>\n",
       "      <td>-0.657050</td>\n",
       "      <td>-0.075141</td>\n",
       "      <td>1.064829</td>\n",
       "      <td>0.368211</td>\n",
       "      <td>0.933411</td>\n",
       "      <td>-0.097661</td>\n",
       "      <td>0.014694</td>\n",
       "      <td>0</td>\n",
       "    </tr>\n",
       "    <tr>\n",
       "      <th>263877</th>\n",
       "      <td>-0.302103</td>\n",
       "      <td>0.898295</td>\n",
       "      <td>-3.387601</td>\n",
       "      <td>3.977881</td>\n",
       "      <td>-6.978585</td>\n",
       "      <td>1.657766</td>\n",
       "      <td>-1.100500</td>\n",
       "      <td>-3.599487</td>\n",
       "      <td>-3.686651</td>\n",
       "      <td>1.942252</td>\n",
       "      <td>...</td>\n",
       "      <td>-0.004301</td>\n",
       "      <td>1.043587</td>\n",
       "      <td>0.262189</td>\n",
       "      <td>-0.479224</td>\n",
       "      <td>-0.326638</td>\n",
       "      <td>-0.156939</td>\n",
       "      <td>0.113807</td>\n",
       "      <td>0.354124</td>\n",
       "      <td>0.287592</td>\n",
       "      <td>1</td>\n",
       "    </tr>\n",
       "    <tr>\n",
       "      <th>14269</th>\n",
       "      <td>-0.279746</td>\n",
       "      <td>-0.697377</td>\n",
       "      <td>-0.843296</td>\n",
       "      <td>1.198857</td>\n",
       "      <td>0.491466</td>\n",
       "      <td>0.388659</td>\n",
       "      <td>-0.226582</td>\n",
       "      <td>-0.546848</td>\n",
       "      <td>0.078037</td>\n",
       "      <td>0.346951</td>\n",
       "      <td>...</td>\n",
       "      <td>-0.107965</td>\n",
       "      <td>-0.003226</td>\n",
       "      <td>-0.069866</td>\n",
       "      <td>0.430511</td>\n",
       "      <td>0.058275</td>\n",
       "      <td>-1.479138</td>\n",
       "      <td>-0.030468</td>\n",
       "      <td>-0.045583</td>\n",
       "      <td>0.260462</td>\n",
       "      <td>0</td>\n",
       "    </tr>\n",
       "    <tr>\n",
       "      <th>96789</th>\n",
       "      <td>1.110878</td>\n",
       "      <td>-0.220350</td>\n",
       "      <td>-3.593476</td>\n",
       "      <td>0.781442</td>\n",
       "      <td>-1.822448</td>\n",
       "      <td>0.605761</td>\n",
       "      <td>-1.194656</td>\n",
       "      <td>-0.517195</td>\n",
       "      <td>-1.722523</td>\n",
       "      <td>0.128890</td>\n",
       "      <td>...</td>\n",
       "      <td>-0.478219</td>\n",
       "      <td>0.351792</td>\n",
       "      <td>0.391249</td>\n",
       "      <td>-0.252875</td>\n",
       "      <td>-0.498042</td>\n",
       "      <td>0.010172</td>\n",
       "      <td>0.909929</td>\n",
       "      <td>-1.478767</td>\n",
       "      <td>0.722673</td>\n",
       "      <td>1</td>\n",
       "    </tr>\n",
       "    <tr>\n",
       "      <th>15539</th>\n",
       "      <td>1.089779</td>\n",
       "      <td>-0.678591</td>\n",
       "      <td>-22.561699</td>\n",
       "      <td>13.208904</td>\n",
       "      <td>-24.643819</td>\n",
       "      <td>6.232532</td>\n",
       "      <td>-16.905611</td>\n",
       "      <td>-4.497439</td>\n",
       "      <td>-16.810184</td>\n",
       "      <td>14.955107</td>\n",
       "      <td>...</td>\n",
       "      <td>1.621444</td>\n",
       "      <td>1.765987</td>\n",
       "      <td>-1.635517</td>\n",
       "      <td>-0.998317</td>\n",
       "      <td>0.138972</td>\n",
       "      <td>1.559350</td>\n",
       "      <td>-0.222125</td>\n",
       "      <td>1.504425</td>\n",
       "      <td>0.445920</td>\n",
       "      <td>1</td>\n",
       "    </tr>\n",
       "  </tbody>\n",
       "</table>\n",
       "<p>5 rows × 31 columns</p>\n",
       "</div>"
      ],
      "text/plain": [
       "        scaled_amount  scaled_time         V1         V2         V3        V4  \\\n",
       "98428        1.089779    -0.211856   1.160044  -0.502045  -1.323895 -1.007272   \n",
       "263877      -0.302103     0.898295  -3.387601   3.977881  -6.978585  1.657766   \n",
       "14269       -0.279746    -0.697377  -0.843296   1.198857   0.491466  0.388659   \n",
       "96789        1.110878    -0.220350  -3.593476   0.781442  -1.822448  0.605761   \n",
       "15539        1.089779    -0.678591 -22.561699  13.208904 -24.643819  6.232532   \n",
       "\n",
       "               V5        V6         V7         V8  ...       V20       V21  \\\n",
       "98428    1.835233  3.178687  -0.465938   0.745029  ...  0.249511 -0.103236   \n",
       "263877  -1.100500 -3.599487  -3.686651   1.942252  ... -0.004301  1.043587   \n",
       "14269   -0.226582 -0.546848   0.078037   0.346951  ... -0.107965 -0.003226   \n",
       "96789   -1.194656 -0.517195  -1.722523   0.128890  ... -0.478219  0.351792   \n",
       "15539  -16.905611 -4.497439 -16.810184  14.955107  ...  1.621444  1.765987   \n",
       "\n",
       "             V22       V23       V24       V25       V26       V27       V28  \\\n",
       "98428  -0.657050 -0.075141  1.064829  0.368211  0.933411 -0.097661  0.014694   \n",
       "263877  0.262189 -0.479224 -0.326638 -0.156939  0.113807  0.354124  0.287592   \n",
       "14269  -0.069866  0.430511  0.058275 -1.479138 -0.030468 -0.045583  0.260462   \n",
       "96789   0.391249 -0.252875 -0.498042  0.010172  0.909929 -1.478767  0.722673   \n",
       "15539  -1.635517 -0.998317  0.138972  1.559350 -0.222125  1.504425  0.445920   \n",
       "\n",
       "        Class  \n",
       "98428       0  \n",
       "263877      1  \n",
       "14269       0  \n",
       "96789       1  \n",
       "15539       1  \n",
       "\n",
       "[5 rows x 31 columns]"
      ]
     },
     "execution_count": 6,
     "metadata": {},
     "output_type": "execute_result"
    }
   ],
   "source": [
    "#from sklearn.preprocessing import StandardScaler, RobustScaler\n",
    "from sklearn.preprocessing import RobustScaler\n",
    "\n",
    "# Scaling amount and time for the subsample\n",
    "df['scaled_amount'] = RobustScaler().fit_transform(df['Amount'].values.reshape(-1,1))\n",
    "df['scaled_time'] = RobustScaler().fit_transform(df['Time'].values.reshape(-1,1))\n",
    "df.drop(['Time','Amount'], axis=1, inplace=True) # Drop the original time and amount values\n",
    "\n",
    "# Add scaled amount and times to the data frame\n",
    "scaled_amount = df['scaled_amount'] \n",
    "scaled_time = df['scaled_time']\n",
    "df.drop(['scaled_amount', 'scaled_time'], axis=1, inplace=True)\n",
    "df.insert(0, 'scaled_amount', scaled_amount)\n",
    "df.insert(1, 'scaled_time', scaled_time)\n",
    "\n",
    "# Create the balanced subsample of 49\n",
    "df = df.sample(frac=1)\n",
    "fraud_df = df.loc[df['Class'] == 1]\n",
    "non_fraud_df = df.loc[df['Class'] == 0][:492]\n",
    "normal_distributed_df = pd.concat([fraud_df, non_fraud_df])\n",
    "sub_sample_df = normal_distributed_df.sample(frac=1, random_state=42)\n",
    "\n",
    "# Display the first 5 rows t ose\n",
    "sub_sample_df.head()"
   ]
  },
  {
   "cell_type": "markdown",
   "id": "7ad10bc0",
   "metadata": {},
   "source": [
    "We can now plot the correlation matrix of our new sub sample to get a better idea of the true correlations between features and 'Class' "
   ]
  },
  {
   "cell_type": "code",
   "execution_count": 7,
   "id": "74488a4c",
   "metadata": {},
   "outputs": [
    {
     "data": {
      "image/png": "[encoded data removed]",
      "text/plain": [
       "<Figure size 1080x576 with 2 Axes>"
      ]
     },
     "metadata": {
      "needs_background": "light"
     },
     "output_type": "display_data"
    }
   ],
   "source": [
    "sub_sample_corr = sub_sample_df.corr()\n",
    "plot_correlation_matrix(sub_sample_corr, \"Sub Sample Correlation Matrix\")"
   ]
  },
  {
   "cell_type": "markdown",
   "id": "a255748e",
   "metadata": {},
   "source": [
    "The correlations are now much more noticeable. Now, we can find the features with the strongest correlation to class. Half are the strongest positive correlations, half are the strongest negative correlations. "
   ]
  },
  {
   "cell_type": "code",
   "execution_count": 8,
   "id": "96d7c417",
   "metadata": {},
   "outputs": [
    {
     "name": "stdout",
     "output_type": "stream",
     "text": [
      "(['V4', 'V14', 'V11', 'V12', 'V2', 'V10', 'V19', 'V16', 'V20', 'V3', 'V21', 'V17', 'V27', 'V9', 'V28', 'V18'], [0.7063729473125226, -0.7511494769661266, 0.6929335659621342, -0.6818393625716042, 0.47891118495864465, -0.6254374127518708, 0.2435479447557844, -0.5964721976920019, 0.13865005268447583, -0.5685630428477686, 0.1250463770504002, -0.5593230119444491, 0.10000506130850238, -0.5480599633297011, 0.0980278188329535, -0.4759479186102518])\n"
     ]
    }
   ],
   "source": [
    "def find_strongest_correlations(dataframe, latent_qubits):\n",
    "    \n",
    "    num_features = latent_qubits**2\n",
    "    \n",
    "    class_correlations = dataframe.loc['Class', :]\n",
    "    class_correlations = class_correlations.drop(index = 'Class')\n",
    "    \n",
    "    feature_list = list(class_correlations.index)\n",
    "    correlation_list = [class_correlations[x] for x in feature_list]\n",
    "    \n",
    "    features = []\n",
    "    correlations = []\n",
    "    \n",
    "    for i in range(int(num_features/2)):\n",
    "        \n",
    "        \n",
    "        correlations.append(max(correlation_list))\n",
    "        features.append(feature_list[correlation_list.index(max(correlation_list))])\n",
    "        \n",
    "        del feature_list[correlation_list.index(max(correlation_list))]\n",
    "        del correlation_list[correlation_list.index(max(correlation_list))]                        \n",
    "                                      \n",
    "        correlations.append(min(correlation_list))\n",
    "        features.append(feature_list[correlation_list.index(min(correlation_list))])\n",
    "        \n",
    "        del feature_list[correlation_list.index(min(correlation_list))]\n",
    "        del correlation_list[correlation_list.index(min(correlation_list))] \n",
    "    \n",
    "    return features, correlations\n",
    "\n",
    "feature_list, correlations = find_strongest_correlations(sub_sample_corr, 4)\n",
    "\n",
    "print(find_strongest_correlations(sub_sample_corr, 4))"
   ]
  },
  {
   "cell_type": "markdown",
   "id": "7691f05b",
   "metadata": {},
   "source": [
    "We now have 16 features that are the most correlated with 'Class'. In this use case, we will be using 4 qubits to represent the data which means we will need 2$^{4}$ = 16 features to encode into the 4 qubits though amplitude encoding. Later, we will use the quantum autoencoder to encode the 4 qubits into 3 qubits and then use a decoder to decode those 3 qubits back to 4 qubits. "
   ]
  },
  {
   "cell_type": "code",
   "execution_count": 9,
   "id": "0b638c7e",
   "metadata": {},
   "outputs": [],
   "source": [
    "# Dataframe of all non fraudulent transactions\n",
    "branch = df\n",
    "non_fraud = branch[branch[\"Class\"]!=\"1\"]\n",
    "\n",
    "# All examples of non fraudulent data with 16 features\n",
    "non_fraud = non_fraud[feature_list]\n",
    "non_fraud.head()\n",
    "\n",
    "input_data = non_fraud.to_numpy()"
   ]
  },
  {
   "cell_type": "markdown",
   "id": "de0f0740",
   "metadata": {},
   "source": [
    "# Training \n"
   ]
  },
  {
   "cell_type": "code",
   "execution_count": 10,
   "id": "9b9a0a53",
   "metadata": {},
   "outputs": [
    {
     "name": "stdout",
     "output_type": "stream",
     "text": [
      "Qubits: [0, 1, 2, 3, 4, 5]\n"
     ]
    }
   ],
   "source": [
    "shots = 2500 #The amount of shots used for each epoch of training\n",
    "nr_trash= 1   # Number of qubits 'thrown away'\n",
    "nr_latent= 3  # Number of qubits left after the encoder is used\n",
    "nr_ent = 0\n",
    "\n",
    "epochs = 500   # Number of iterations of training to perform to find the final encoder parameters\n",
    "learning_rate = .005 # Learning rate for the optimizer, dictates how fast the optimizer trains\n",
    "batch_size = 2\n",
    "num_samples = 50  # Number of training samples used for each epoch\n",
    "\n",
    "beta1 = 0.9\n",
    "beta2 = 0.999\n",
    "opt = AdamOptimizer(learning_rate, beta1=beta1, beta2=beta2)\n",
    "\n",
    "# Organizes and specifies our qubits for the device\n",
    "spec = QubitsArrangement(nr_trash, nr_latent, nr_swap=1, nr_ent=nr_ent)\n",
    "\n",
    "\n",
    "#set up the device \n",
    "\n",
    "#dev = qml.device(\"default.qubit\", wires=spec.num_qubits)\n",
    "dev = qml.device(\"braket.local.qubit\", wires=spec.num_qubits, shots = 2500)\n",
    "\n",
    "print(\"Qubits:\", spec.qubits)"
   ]
  },
  {
   "cell_type": "code",
   "execution_count": 11,
   "id": "e1fa0ae0",
   "metadata": {},
   "outputs": [],
   "source": [
    "@qml.qnode(dev, interface = \"autograd\")\n",
    "def training_circuit_example(init_params, encoder_params, reinit_state):\n",
    "    #initilaization\n",
    "    setAB_amplitude(spec, init_params)\n",
    "\n",
    "    setAux(spec, reinit_state)\n",
    "\n",
    "    setEnt(spec, inputs=[1 / np.sqrt(2), 0, 0, 1 / np.sqrt(2)])\n",
    "\n",
    "    #encoder \n",
    "\n",
    "    for params in encoder_params:\n",
    "        e2_classic(params, [*spec.latent_qubits, *spec.trash_qubits])\n",
    "\n",
    "    #swap test \n",
    "    swap_t(spec)\n",
    "\n",
    "    return [qml.probs(i) for i in spec.swap_qubits]\n"
   ]
  },
  {
   "cell_type": "code",
   "execution_count": 12,
   "id": "607b59fa",
   "metadata": {},
   "outputs": [],
   "source": [
    "def fid_func(output):\n",
    "    # Implemented as the Fidelity Loss\n",
    "    # output[0] because we take the probability that the state after the \n",
    "    # SWAP test is ket(0), like the reference state\n",
    "    fidelity_loss = 1 / output[0]\n",
    "    return fidelity_loss"
   ]
  },
  {
   "cell_type": "code",
   "execution_count": 13,
   "id": "349e2abb",
   "metadata": {},
   "outputs": [],
   "source": [
    "# Define cost function\n",
    "def cost(encoder_params, X):\n",
    "    reinit_state = [0 for i in range(2 ** len(spec.aux_qubits))]\n",
    "    reinit_state[0] = 1.0\n",
    "    loss = 0.0\n",
    "    for x in X:\n",
    "        output = training_circuit_example(init_params=x[0], encoder_params=encoder_params, reinit_state=reinit_state)[0]\n",
    "        f = fid_func(output)\n",
    "        loss = loss + f\n",
    "    return loss / len(X)"
   ]
  },
  {
   "cell_type": "code",
   "execution_count": 14,
   "id": "c3129d41",
   "metadata": {},
   "outputs": [],
   "source": [
    "# Define fidelity function\n",
    "def fidelity(encoder_params, X):\n",
    "    reinit_state = [0 for i in range(2 ** len(spec.aux_qubits))]\n",
    "    reinit_state[0] = 1.0\n",
    "    loss = 0.0\n",
    "    for x in X:\n",
    "        output = training_circuit_example(init_params=x[0], encoder_params=encoder_params, reinit_state=reinit_state)[0]\n",
    "        f = output[0]\n",
    "        loss = loss + f\n",
    "    return loss / len(X)"
   ]
  },
  {
   "cell_type": "code",
   "execution_count": 15,
   "id": "e9fe6536",
   "metadata": {},
   "outputs": [],
   "source": [
    "def iterate_batches(X, batch_size):\n",
    "    \n",
    "    random.shuffle(X)\n",
    "\n",
    "    batch_list = []\n",
    "    batch = []\n",
    "    for x in X:\n",
    "        if len(batch) < batch_size:\n",
    "            batch.append(x)\n",
    "\n",
    "        else:\n",
    "            batch_list.append(batch)\n",
    "            batch = []\n",
    "    if len(batch) != 0:\n",
    "        batch_list.append(batch)\n",
    "    return batch_list"
   ]
  },
  {
   "cell_type": "code",
   "execution_count": 16,
   "id": "26141da0",
   "metadata": {},
   "outputs": [
    {
     "name": "stderr",
     "output_type": "stream",
     "text": [
      "/var/folders/_6/ff1hjmgn32786plyc3tgkn8h0000gn/T/ipykernel_91766/3115814363.py:1: UserWarning: Creating a tensor from a list of numpy.ndarrays is extremely slow. Please consider converting the list to a single numpy.ndarray with numpy.array() before converting to a tensor. (Triggered internally at  ../torch/csrc/utils/tensor_new.cpp:201.)\n",
      "  training_data = [ torch.tensor([input_data[i]]) for i in range(num_samples)]\n"
     ]
    }
   ],
   "source": [
    "\n",
    "training_data = [ torch.tensor([input_data[i]]) for i in range(num_samples)]\n",
    "test_data = [ torch.tensor([input_data[i]]) for i in range(num_samples,num_samples+num_samples)]\n",
    "\n",
    "X_training = training_data\n",
    "X_tes = test_data\n",
    "\n"
   ]
  },
  {
   "cell_type": "code",
   "execution_count": 17,
   "id": "9b4f3a7b",
   "metadata": {},
   "outputs": [
    {
     "name": "stdout",
     "output_type": "stream",
     "text": [
      "[[0.404397   0.500689   0.68069451 0.31482481 0.44734173 0.79233291\n",
      "  0.22338525 0.67462075 0.74195747 0.37788078 0.50921059 0.66357225\n",
      "  0.92247816 0.46422173 0.59662842 0.30089456 0.63058638 0.0234479\n",
      "  0.56767398 0.00118296 0.84730782 0.06938371 0.95985148 0.11485378\n",
      "  0.67739035 0.27103957 0.35238272 0.00532998 0.27571832 0.66603093\n",
      "  0.74668423 0.56413657 0.15501206 0.62810226 0.97536354 0.39018298\n",
      "  0.44147833 0.02180299 0.21794566 0.72076985 0.83530114 0.13298431\n",
      "  0.28679901 0.81492788 0.1186889  0.128538   0.53355754 0.05267758\n",
      "  0.21545904 0.93244068 0.18883123 0.90213784 0.60396655 0.96781492\n",
      "  0.32690532 0.89538031 0.83939777 0.40187126 0.39271271 0.45782342\n",
      "  0.75603765 0.10247156 0.21425024 0.73604944 0.61514442 0.45369025\n",
      "  0.95540179 0.9300279  0.94520139 0.57252849 0.40921645 0.22639008\n",
      "  0.4192895  0.28974222 0.84595851 0.86057145 0.56358202 0.56035639\n",
      "  0.72357518 0.36911197 0.41658579 0.08640071 0.49613673 0.25370141\n",
      "  0.74287782 0.48253837 0.40859258 0.22708666 0.95230241 0.36112493]]\n"
     ]
    }
   ],
   "source": [
    "# initialize random encoder parameters\n",
    "nr_encod_qubits = len(spec.trash_qubits) + len(spec.latent_qubits)\n",
    "nr_par_encoder =  15 * int(nr_encod_qubits*(nr_encod_qubits-1)/2)\n",
    "encoder_params = np.random.uniform(size=(1, nr_par_encoder), requires_grad=True)\n",
    "print(encoder_params)"
   ]
  },
  {
   "cell_type": "code",
   "execution_count": 107,
   "id": "3ac43f52",
   "metadata": {},
   "outputs": [
    {
     "data": {
      "text/plain": [
       "'\\nprint(encoder_params)\\n\\n#reinit_state = [0 for i in range(2 ** 4)]\\n#reinit_state[0] = 1.0\\nprint(reinit_state)\\nprint(len(spec.aux_qubits))\\n#print(training_circuit_example(encoder_params, encoder_params, reinit_state = reinit_state))\\n'"
      ]
     },
     "execution_count": 107,
     "metadata": {},
     "output_type": "execute_result"
    }
   ],
   "source": [
    "'''\n",
    "print(encoder_params)\n",
    "\n",
    "#reinit_state = [0 for i in range(2 ** 4)]\n",
    "#reinit_state[0] = 1.0\n",
    "print(reinit_state)\n",
    "print(len(spec.aux_qubits))\n",
    "#print(training_circuit_example(encoder_params, encoder_params, reinit_state = reinit_state))\n",
    "'''"
   ]
  },
  {
   "cell_type": "code",
   "execution_count": 18,
   "id": "4645415b",
   "metadata": {},
   "outputs": [
    {
     "data": {
      "text/html": [
       "<div>\n",
       "<style scoped>\n",
       "    .dataframe tbody tr th:only-of-type {\n",
       "        vertical-align: middle;\n",
       "    }\n",
       "\n",
       "    .dataframe tbody tr th {\n",
       "        vertical-align: top;\n",
       "    }\n",
       "\n",
       "    .dataframe thead th {\n",
       "        text-align: right;\n",
       "    }\n",
       "</style>\n",
       "<table border=\"1\" class=\"dataframe\">\n",
       "  <thead>\n",
       "    <tr style=\"text-align: right;\">\n",
       "      <th></th>\n",
       "      <th>V4</th>\n",
       "      <th>V14</th>\n",
       "      <th>V11</th>\n",
       "      <th>V12</th>\n",
       "      <th>V2</th>\n",
       "      <th>V10</th>\n",
       "      <th>V19</th>\n",
       "      <th>V16</th>\n",
       "      <th>V20</th>\n",
       "      <th>V3</th>\n",
       "      <th>V21</th>\n",
       "      <th>V17</th>\n",
       "      <th>V27</th>\n",
       "      <th>V9</th>\n",
       "      <th>V28</th>\n",
       "      <th>V18</th>\n",
       "    </tr>\n",
       "  </thead>\n",
       "  <tbody>\n",
       "    <tr>\n",
       "      <th>15225</th>\n",
       "      <td>6.115541</td>\n",
       "      <td>-8.578973</td>\n",
       "      <td>5.730816</td>\n",
       "      <td>-8.088034</td>\n",
       "      <td>12.095893</td>\n",
       "      <td>-8.859194</td>\n",
       "      <td>1.230143</td>\n",
       "      <td>-6.947746</td>\n",
       "      <td>1.582930</td>\n",
       "      <td>-22.464083</td>\n",
       "      <td>1.750730</td>\n",
       "      <td>-13.472897</td>\n",
       "      <td>1.597621</td>\n",
       "      <td>-3.974162</td>\n",
       "      <td>0.476920</td>\n",
       "      <td>-4.940211</td>\n",
       "    </tr>\n",
       "    <tr>\n",
       "      <th>163149</th>\n",
       "      <td>1.008733</td>\n",
       "      <td>-5.765823</td>\n",
       "      <td>3.586042</td>\n",
       "      <td>-4.053358</td>\n",
       "      <td>1.088689</td>\n",
       "      <td>-3.514133</td>\n",
       "      <td>1.717095</td>\n",
       "      <td>-4.921865</td>\n",
       "      <td>0.327490</td>\n",
       "      <td>-2.393388</td>\n",
       "      <td>0.802316</td>\n",
       "      <td>-9.567268</td>\n",
       "      <td>0.024928</td>\n",
       "      <td>-0.978626</td>\n",
       "      <td>-0.077820</td>\n",
       "      <td>-2.772974</td>\n",
       "    </tr>\n",
       "    <tr>\n",
       "      <th>149145</th>\n",
       "      <td>1.367442</td>\n",
       "      <td>-1.880619</td>\n",
       "      <td>0.382172</td>\n",
       "      <td>-2.262933</td>\n",
       "      <td>3.738235</td>\n",
       "      <td>0.369936</td>\n",
       "      <td>-0.581356</td>\n",
       "      <td>0.235477</td>\n",
       "      <td>-2.140874</td>\n",
       "      <td>-2.317843</td>\n",
       "      <td>10.005998</td>\n",
       "      <td>3.321569</td>\n",
       "      <td>-0.152502</td>\n",
       "      <td>3.353525</td>\n",
       "      <td>-0.138866</td>\n",
       "      <td>1.906271</td>\n",
       "    </tr>\n",
       "    <tr>\n",
       "      <th>76609</th>\n",
       "      <td>6.991214</td>\n",
       "      <td>-7.974251</td>\n",
       "      <td>4.774148</td>\n",
       "      <td>-8.245898</td>\n",
       "      <td>2.791030</td>\n",
       "      <td>-7.864506</td>\n",
       "      <td>2.836993</td>\n",
       "      <td>-7.244340</td>\n",
       "      <td>-0.460390</td>\n",
       "      <td>-7.682767</td>\n",
       "      <td>-0.090527</td>\n",
       "      <td>-12.760094</td>\n",
       "      <td>-0.028252</td>\n",
       "      <td>-4.495679</td>\n",
       "      <td>-0.156270</td>\n",
       "      <td>-4.824740</td>\n",
       "    </tr>\n",
       "    <tr>\n",
       "      <th>120505</th>\n",
       "      <td>4.035987</td>\n",
       "      <td>-8.658268</td>\n",
       "      <td>3.775578</td>\n",
       "      <td>-7.498783</td>\n",
       "      <td>3.418911</td>\n",
       "      <td>-6.447202</td>\n",
       "      <td>1.884044</td>\n",
       "      <td>-6.173331</td>\n",
       "      <td>0.342122</td>\n",
       "      <td>-5.074445</td>\n",
       "      <td>1.168618</td>\n",
       "      <td>-10.708018</td>\n",
       "      <td>0.328672</td>\n",
       "      <td>-3.097379</td>\n",
       "      <td>0.835395</td>\n",
       "      <td>-3.504894</td>\n",
       "    </tr>\n",
       "  </tbody>\n",
       "</table>\n",
       "</div>"
      ],
      "text/plain": [
       "              V4       V14       V11       V12         V2       V10       V19  \\\n",
       "15225   6.115541 -8.578973  5.730816 -8.088034  12.095893 -8.859194  1.230143   \n",
       "163149  1.008733 -5.765823  3.586042 -4.053358   1.088689 -3.514133  1.717095   \n",
       "149145  1.367442 -1.880619  0.382172 -2.262933   3.738235  0.369936 -0.581356   \n",
       "76609   6.991214 -7.974251  4.774148 -8.245898   2.791030 -7.864506  2.836993   \n",
       "120505  4.035987 -8.658268  3.775578 -7.498783   3.418911 -6.447202  1.884044   \n",
       "\n",
       "             V16       V20         V3        V21        V17       V27  \\\n",
       "15225  -6.947746  1.582930 -22.464083   1.750730 -13.472897  1.597621   \n",
       "163149 -4.921865  0.327490  -2.393388   0.802316  -9.567268  0.024928   \n",
       "149145  0.235477 -2.140874  -2.317843  10.005998   3.321569 -0.152502   \n",
       "76609  -7.244340 -0.460390  -7.682767  -0.090527 -12.760094 -0.028252   \n",
       "120505 -6.173331  0.342122  -5.074445   1.168618 -10.708018  0.328672   \n",
       "\n",
       "              V9       V28       V18  \n",
       "15225  -3.974162  0.476920 -4.940211  \n",
       "163149 -0.978626 -0.077820 -2.772974  \n",
       "149145  3.353525 -0.138866  1.906271  \n",
       "76609  -4.495679 -0.156270 -4.824740  \n",
       "120505 -3.097379  0.835395 -3.504894  "
      ]
     },
     "execution_count": 18,
     "metadata": {},
     "output_type": "execute_result"
    }
   ],
   "source": [
    "# Create a tensor dataset with only fraud data and most correlated features \n",
    "# for finding the fidelity of the quantum autoencoder on fraud transactions\n",
    "\n",
    "fraud = fraud_df[feature_list]\n",
    "np_fraud = fraud.to_numpy()\n",
    "fraud_data = [ torch.tensor([np_fraud[i]]) for i in range(len(fraud.to_numpy()))] \n",
    "\n",
    "fraud.head()\n"
   ]
  },
  {
   "cell_type": "code",
   "execution_count": null,
   "id": "7727e6f4",
   "metadata": {},
   "outputs": [
    {
     "name": "stderr",
     "output_type": "stream",
     "text": [
      "/Users/seanmcilvane/anaconda3/envs/ENV_NAME/lib/python3.8/site-packages/pennylane/math/multi_dispatch.py:65: UserWarning: Contains tensors of types {'torch', 'autograd'}; dispatch will prioritize TensorFlow and PyTorch over autograd. Consider replacing Autograd with vanilla NumPy.\n",
      "  warnings.warn(\n",
      "/Users/seanmcilvane/anaconda3/envs/ENV_NAME/lib/python3.8/site-packages/autograd/tracer.py:14: UserWarning: Output seems independent of input.\n",
      "  warnings.warn(\"Output seems independent of input.\")\n"
     ]
    },
    {
     "name": "stdout",
     "output_type": "stream",
     "text": [
      "Epoch:0 | Loss:1.3189655945645082 | Fidelity:0.7666239999999999\n",
      "Test-Epoch:0 | Loss:1.330390811929182 | Fidelity:0.7549360000000002\n",
      "Fraud Fidelity:0.7242813008130082\n",
      "Epoch:5 | Loss:1.3158360002425586 | Fidelity:0.7658959999999998\n",
      "Test-Epoch:5 | Loss:1.3333302244782226 | Fidelity:0.7530880000000001\n",
      "Fraud Fidelity:0.723818699186992\n",
      "Epoch:10 | Loss:1.3177308767114397 | Fidelity:0.7654720000000002\n",
      "Test-Epoch:10 | Loss:1.3290340516280232 | Fidelity:0.753792\n",
      "Fraud Fidelity:0.7239073170731705\n",
      "Epoch:15 | Loss:1.3148536673565905 | Fidelity:0.7635439999999999\n",
      "Test-Epoch:15 | Loss:1.3346171117091277 | Fidelity:0.7556639999999999\n",
      "Fraud Fidelity:0.7240268292682924\n",
      "Epoch:20 | Loss:1.3198629198452798 | Fidelity:0.7650559999999997\n",
      "Test-Epoch:20 | Loss:1.3289886366249604 | Fidelity:0.7555199999999997\n",
      "Fraud Fidelity:0.7241934959349586\n"
     ]
    }
   ],
   "source": [
    "loss_hist=[]\n",
    "fid_hist=[]\n",
    "\n",
    "loss_hist_test=[]\n",
    "fid_hist_test=[]\n",
    "\n",
    "fraud_fid=[]\n",
    "\n",
    "for epoch in range(epochs):\n",
    "    batches = iterate_batches(X=training_data, batch_size=batch_size)\n",
    "    for xbatch in batches:\n",
    "        encoder_params = opt.step(cost, encoder_params, X=xbatch)\n",
    "\n",
    "        \n",
    "    if epoch%5 == 0:\n",
    "        \n",
    "        loss_training = cost(encoder_params, X_training )\n",
    "        fidel = fidelity(encoder_params, X_training )\n",
    "        \n",
    "        loss_hist.append(loss_training)\n",
    "        fid_hist.append(fidel)\n",
    "        print(\"Epoch:{} | Loss:{} | Fidelity:{}\".format(epoch, loss_training, fidel))\n",
    "\n",
    "        loss_test = cost(encoder_params, X_tes )\n",
    "        fidel = fidelity(encoder_params, X_tes )\n",
    "        loss_hist_test.append(loss_test)\n",
    "        fid_hist_test.append(fidel)\n",
    "        print(\"Test-Epoch:{} | Loss:{} | Fidelity:{}\".format(epoch, loss_test, fidel))\n",
    "        \n",
    "        f_fidel = fidelity(encoder_params, fraud_data )\n",
    "        fraud_fid.append(f_fidel)\n",
    "        print(\"Fraud Fidelity:{}\".format(f_fidel))"
   ]
  },
  {
   "cell_type": "code",
   "execution_count": 66,
   "id": "f4fcfdbf",
   "metadata": {},
   "outputs": [
    {
     "ename": "IndexError",
     "evalue": "list index out of range",
     "output_type": "error",
     "traceback": [
      "\u001b[0;31m---------------------------------------------------------------------------\u001b[0m",
      "\u001b[0;31mIndexError\u001b[0m                                Traceback (most recent call last)",
      "\u001b[0;32m/var/folders/_6/ff1hjmgn32786plyc3tgkn8h0000gn/T/ipykernel_89607/3466071450.py\u001b[0m in \u001b[0;36m<module>\u001b[0;34m\u001b[0m\n\u001b[1;32m     10\u001b[0m \u001b[0mplt\u001b[0m\u001b[0;34m.\u001b[0m\u001b[0msavefig\u001b[0m\u001b[0;34m(\u001b[0m\u001b[0;34m\"Fraud 4-3-4 Compression Fidelity e2\"\u001b[0m\u001b[0;34m)\u001b[0m\u001b[0;34m\u001b[0m\u001b[0;34m\u001b[0m\u001b[0m\n\u001b[1;32m     11\u001b[0m \u001b[0;34m\u001b[0m\u001b[0m\n\u001b[0;32m---> 12\u001b[0;31m \u001b[0mprint\u001b[0m\u001b[0;34m(\u001b[0m\u001b[0;34m\"fidelity:\"\u001b[0m\u001b[0;34m,\u001b[0m\u001b[0mfid_hist\u001b[0m\u001b[0;34m[\u001b[0m\u001b[0;34m-\u001b[0m\u001b[0;36m1\u001b[0m\u001b[0;34m]\u001b[0m\u001b[0;34m)\u001b[0m\u001b[0;34m\u001b[0m\u001b[0;34m\u001b[0m\u001b[0m\n\u001b[0m",
      "\u001b[0;31mIndexError\u001b[0m: list index out of range"
     ]
    },
    {
     "data": {
      "image/png": "[encoded data removed]",
      "text/plain": [
       "<Figure size 432x288 with 1 Axes>"
      ]
     },
     "metadata": {
      "needs_background": "light"
     },
     "output_type": "display_data"
    }
   ],
   "source": [
    "fig = plt.figure()\n",
    "plt.plot([x for x in range(0,len(loss_hist)*5,5)],np.array(fid_hist),label=\"train fidelity\")\n",
    "plt.plot([x for x in range(0,len(loss_hist)*5,5)],np.array(fid_hist_test),label=\"test fidelity\")\n",
    "plt.plot([x for x in range(0,len(loss_hist)*5,5)],np.array(fraud_fid),label=\"fraud fidelity\")\n",
    "\n",
    "plt.legend()\n",
    "plt.title(\"Fraud 4-3-4 Compression Fidelity e2 Braket\",)\n",
    "plt.xlabel(\"Epoch\")\n",
    "plt.ylabel(\"Fidelity\")\n",
    "plt.savefig(\"Fraud 4-3-4 Compression Fidelity e2 Braket\")\n",
    "\n",
    "print(\"fidelity:\",fid_hist[-1])"
   ]
  },
  {
   "cell_type": "code",
   "execution_count": 97,
   "id": "8d58a3df",
   "metadata": {},
   "outputs": [
    {
     "name": "stdout",
     "output_type": "stream",
     "text": [
      "loss: 1.102373216675469\n"
     ]
    },
    {
     "data": {
      "image/png": "[encoded data removed]",
      "text/plain": [
       "<Figure size 432x288 with 1 Axes>"
      ]
     },
     "metadata": {
      "needs_background": "light"
     },
     "output_type": "display_data"
    }
   ],
   "source": [
    "fig = plt.figure()\n",
    "plt.plot([x for x in range(0,len(loss_hist)*5,5)],np.array(loss_hist),label=\"train loss\")\n",
    "plt.plot([x for x in range(0,len(loss_hist)*5,5)],np.array(loss_hist_test),label=\"test loss\")\n",
    "\n",
    "\n",
    "plt.legend()\n",
    "plt.title(\"Fraud 4-3-4 Compression Loss e2\",)\n",
    "plt.xlabel(\"Epoch\")\n",
    "plt.ylabel(\"Loss\")\n",
    "plt.savefig(\"Fraud 4-3-4 Compression Loss e2\")\n",
    "\n",
    "print(\"loss:\",loss_hist[-1])"
   ]
  },
  {
   "cell_type": "code",
   "execution_count": 96,
   "id": "037a7ffc",
   "metadata": {},
   "outputs": [
    {
     "data": {
      "text/plain": [
       "17547"
      ]
     },
     "execution_count": 96,
     "metadata": {},
     "output_type": "execute_result"
    }
   ],
   "source": [
    "name = \"fraud_434_training_e2\"\n",
    "\n",
    "Circuit_prop={   \"shots\":shots, \"nr_trash\":nr_trash, \"nr_latent\":nr_latent, \"nr_ent\":nr_ent  }\n",
    "Training_param = { \"num_samples\" == num_samples,\n",
    "                    \"batch_size\" == batch_size,\n",
    "                    #\"nr_layers\"== nr_layers,\n",
    "                    \"epochs\" == epochs,\n",
    "                    \"learning_rate\" == learning_rate, \n",
    "                    \"beta1\" == beta1,\n",
    "                    \"beta2 \"== beta2,\n",
    "                     \"optimizer\"==\"Adam\"}\n",
    "\n",
    "performance={\"loss_hist\":loss_hist, \"fid_hist\":fid_hist,\n",
    "             \"loss_hist_test\":loss_hist_test, \"fid_hist_test\":fid_hist_test,\n",
    "             \"encoder_params\":encoder_params}\n",
    "\n",
    "experiment_data={\"Circuit_prop\":Circuit_prop,\n",
    "                \"Training_param\":Training_param,\n",
    "                \"performance:\":performance,\n",
    "                \"Name\":name}\n",
    "\n",
    "# open file for writing\n",
    "f = open(name+\".txt\",\"w\")\n",
    "f.write( str(experiment_data) )"
   ]
  },
  {
   "cell_type": "code",
   "execution_count": 101,
   "id": "40eca0dc",
   "metadata": {},
   "outputs": [
    {
     "data": {
      "text/plain": [
       "1386"
      ]
     },
     "execution_count": 101,
     "metadata": {},
     "output_type": "execute_result"
    }
   ],
   "source": [
    "experiment_parameters={\"autoencoder\":\"e2\",\"params\":encoder_params}\n",
    "f=open(\"Params_Fraud_encoder_e2-CorrelatedFeautures.txt\",\"w\")\n",
    "f.write(str(experiment_parameters))"
   ]
  },
  {
   "cell_type": "code",
   "execution_count": 144,
   "id": "90f047d7",
   "metadata": {},
   "outputs": [
    {
     "name": "stdout",
     "output_type": "stream",
     "text": [
      "0.52082426012579\n",
      "0.9739451826962489\n"
     ]
    }
   ],
   "source": [
    "branch = df \n",
    "non_fraud_df = branch.loc[branch[\"Class\"]!=1][:492]\n",
    "\n",
    "\n",
    "non_fraud = non_fraud_df[feature_list]\n",
    "np_non_fraud = non_fraud.to_numpy()\n",
    "non_fraud_data = [ torch.tensor([np_non_fraud[i]]) for i in range(len(non_fraud.to_numpy()))]\n",
    "\n",
    "non_fraud_flist=[]\n",
    "for b in non_fraud_data:\n",
    "    f=fidelity(encoder_params, [b])\n",
    "    non_fraud_flist.append(f.item())\n",
    "    \n",
    "print(min(non_fraud_flist))\n",
    "print(max(non_fraud_flist))"
   ]
  },
  {
   "cell_type": "code",
   "execution_count": 136,
   "id": "a192fb78",
   "metadata": {},
   "outputs": [
    {
     "name": "stderr",
     "output_type": "stream",
     "text": [
      "/Users/seanmcilvane/anaconda3/envs/ENV_NAME/lib/python3.8/site-packages/pennylane/math/multi_dispatch.py:65: UserWarning: Contains tensors of types {'torch', 'autograd'}; dispatch will prioritize TensorFlow and PyTorch over autograd. Consider replacing Autograd with vanilla NumPy.\n",
      "  warnings.warn(\n"
     ]
    },
    {
     "name": "stdout",
     "output_type": "stream",
     "text": [
      "0.5213199366767333\n",
      "0.9336154283701765\n"
     ]
    }
   ],
   "source": [
    "#np_ilegal= ilegal.to_numpy()\n",
    "#ilegal_data = [ torch.tensor([np_ilegal[i]]) for i in range(len(ilegal.to_numpy()))]\n",
    "\n",
    "\n",
    "fraud_flist=[]\n",
    "for b in fraud_data:\n",
    "    f=fidelity(encoder_params, [b])\n",
    "    fraud_flist.append(f.item())\n",
    "    \n",
    "print(min(fraud_flist))\n",
    "print(max(fraud_flist))"
   ]
  },
  {
   "cell_type": "code",
   "execution_count": 146,
   "id": "faa08f05",
   "metadata": {},
   "outputs": [
    {
     "data": {
      "image/png": "[encoded data removed]",
      "text/plain": [
       "<Figure size 432x288 with 1 Axes>"
      ]
     },
     "metadata": {
      "needs_background": "light"
     },
     "output_type": "display_data"
    }
   ],
   "source": [
    "\n",
    "plt.hist(non_fraud_flist, bins =100 ,label=\"non_fraud\",color = \"red\",alpha=0.4)\n",
    "plt.hist(fraud_flist, bins = 100 ,label=\"fraud\", color = \"skyblue\",alpha=0.4)\n",
    "plt.title(\"Compression fidelity\",)\n",
    "plt.legend()\n",
    "plt.savefig(\"Compression_fidelity\")\n",
    "plt.show()"
   ]
  },
  {
   "cell_type": "code",
   "execution_count": null,
   "id": "815aa2cf",
   "metadata": {},
   "outputs": [],
   "source": []
  },
  {
   "cell_type": "code",
   "execution_count": null,
   "id": "3c23eddb",
   "metadata": {},
   "outputs": [],
   "source": []
  },
  {
   "cell_type": "code",
   "execution_count": 40,
   "id": "2dae01a4",
   "metadata": {},
   "outputs": [],
   "source": [
    "# Potential stuff for QAOA \n",
    "\n",
    "features, correlations = find_strongest_correlations(sub_sample_corr, 6)\n",
    "\n",
    "norm = sum(abs(x) for x in correlations)\n",
    "print(norm)\n",
    "norm_correlations = [x/norm for x in correlations]\n",
    "print(norm_correlations)\n",
    "\n",
    "\n",
    "\n",
    "\n",
    "# Have to define backend and optimizer\n",
    "backend = Aer.get_backend('qasm_simulator')\n",
    "optimizer = COBYLA(maxiter = 1000, disp = True, tol=.000001)"
   ]
  },
  {
   "cell_type": "markdown",
   "id": "f00981b9",
   "metadata": {},
   "source": [
    "This problem was very challenging but was still fun to work on. I would have done better with more time, but I understand the short time period was an element in the assigment. While I ran out of time, my goal was to implement the QAOA to find a hyperplane to be a binary classifier to discriminate between fraud and no fraud classes. The approach includes using the dual formulation [1]:\n",
    "\\begin{equation}\n",
    "    L = \\sum_{j=1}^{M} y_j*\\alpha_j - \\frac{1}{2} \\sum_{j,k=1}^{M} \\alpha_j*K_{jk}*\\alpha_k  \n",
    "\\end{equation}\n",
    "\n"
   ]
  },
  {
   "cell_type": "markdown",
   "id": "6a8b403b",
   "metadata": {},
   "source": [
    "I then planned on using:\n",
    "\n",
    "\\begin{equation}\n",
    "    w = \\sum_{j=1}^{M} x_j\\alpha_j\n",
    "\\end{equation}\n",
    "\n",
    "and \n",
    "\n",
    "\\begin{equation}\n",
    "    b = y_j - wx_j\n",
    "\\end{equation}\n",
    "\n",
    "to get the parameters for the binary classifier:\n",
    "\n",
    "\\begin{equation}\n",
    "    y(x) = sign(\\sum_{j=1}^{M} \\alpha_jk(x_j,x) + b)\n",
    "\\end{equation}\n",
    "\n"
   ]
  },
  {
   "cell_type": "markdown",
   "id": "47a3bb9d",
   "metadata": {},
   "source": [
    "[1] S. Boyd and L. Vandenberghe, Convex Optimization (Cam-\n",
    "    bridge University Press, 2004)."
   ]
  },
  {
   "cell_type": "code",
   "execution_count": null,
   "id": "ef90b47e",
   "metadata": {},
   "outputs": [],
   "source": []
  },
  {
   "cell_type": "code",
   "execution_count": null,
   "id": "8526cfa7",
   "metadata": {},
   "outputs": [],
   "source": []
  }
 ],
 "metadata": {
  "kernelspec": {
   "display_name": "Python 3 (ipykernel)",
   "language": "python",
   "name": "python3"
  },
  "language_info": {
   "codemirror_mode": {
    "name": "ipython",
    "version": 3
   },
   "file_extension": ".py",
   "mimetype": "text/x-python",
   "name": "python",
   "nbconvert_exporter": "python",
   "pygments_lexer": "ipython3",
   "version": "3.8.12"
  }
 },
 "nbformat": 4,
 "nbformat_minor": 5
}
