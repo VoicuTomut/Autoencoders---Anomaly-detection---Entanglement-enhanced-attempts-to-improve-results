{
 "cells": [
  {
   "cell_type": "markdown",
   "metadata": {
    "id": "LHK3xu_h5R46"
   },
   "source": [
    "### Pip install"
   ]
  },
  {
   "cell_type": "code",
   "execution_count": 1,
   "metadata": {
    "colab": {
     "base_uri": "https://localhost:8080/"
    },
    "executionInfo": {
     "elapsed": 6403,
     "status": "ok",
     "timestamp": 1643636434480,
     "user": {
      "displayName": "Andrei Tomut",
      "photoUrl": "https://lh3.googleusercontent.com/a-/AOh14Gg41AjhvpJrWsjuTWseFfwBFJOCfaBmrNzZIgjGFws=s64",
      "userId": "15187307406392519590"
     },
     "user_tz": -120
    },
    "id": "lMOS5flm5T65",
    "outputId": "65fb13b4-5099-4e18-bc1e-7a787041fea1"
   },
   "outputs": [],
   "source": [
    "#!pip install pennylane --upgrade"
   ]
  },
  {
   "cell_type": "markdown",
   "metadata": {
    "id": "CUHOi_-AvLR0"
   },
   "source": [
    "## Imports"
   ]
  },
  {
   "cell_type": "code",
   "execution_count": 2,
   "metadata": {
    "executionInfo": {
     "elapsed": 8413,
     "status": "ok",
     "timestamp": 1643636442889,
     "user": {
      "displayName": "Andrei Tomut",
      "photoUrl": "https://lh3.googleusercontent.com/a-/AOh14Gg41AjhvpJrWsjuTWseFfwBFJOCfaBmrNzZIgjGFws=s64",
      "userId": "15187307406392519590"
     },
     "user_tz": -120
    },
    "id": "yM1HhROyvShg"
   },
   "outputs": [
    {
     "name": "stderr",
     "output_type": "stream",
     "text": [
      "C:\\Users\\tomut\\anaconda3\\envs\\qhack2022\\lib\\site-packages\\torchvision\\io\\image.py:11: UserWarning: Failed to load image Python extension: Could not find module 'C:\\Users\\tomut\\anaconda3\\envs\\qhack2022\\Lib\\site-packages\\torchvision\\image.pyd' (or one of its dependencies). Try using the full path with constructor syntax.\n",
      "  warn(f\"Failed to load image Python extension: {e}\")\n"
     ]
    }
   ],
   "source": [
    "import numpy\n",
    "import random\n",
    "import timeit\n",
    "\n",
    "import pennylane as qml\n",
    "from pennylane import numpy as np\n",
    "\n",
    "from pennylane.optimize import AdamOptimizer\n",
    "\n",
    "import torch\n",
    "from torchvision import datasets, transforms"
   ]
  },
  {
   "cell_type": "code",
   "execution_count": 3,
   "metadata": {
    "id": "oEeKwD-VMLdB"
   },
   "outputs": [],
   "source": [
    "from qencode.initialize import setAB_angle, setAux, setEnt\n",
    "from qencode.encoders import e1_classic\n",
    "from qencode.training_circuits import swap_t\n",
    "from qencode.qubits_arrangement import QubitsArrangement"
   ]
  },
  {
   "cell_type": "markdown",
   "metadata": {
    "id": "1DXdOXCOXbCW"
   },
   "source": [
    "## Get Data"
   ]
  },
  {
   "cell_type": "code",
   "execution_count": 4,
   "metadata": {
    "executionInfo": {
     "elapsed": 295,
     "status": "ok",
     "timestamp": 1643636528767,
     "user": {
      "displayName": "Andrei Tomut",
      "photoUrl": "https://lh3.googleusercontent.com/a-/AOh14Gg41AjhvpJrWsjuTWseFfwBFJOCfaBmrNzZIgjGFws=s64",
      "userId": "15187307406392519590"
     },
     "user_tz": -120
    },
    "id": "4BdAcqL4XeT3"
   },
   "outputs": [],
   "source": [
    "def get_dataset(img_width, img_height, train):\n",
    "    trainset = datasets.MNIST(root='./dataset', train=train, download=True,\n",
    "                              transform=transforms.Compose(\n",
    "                                  [transforms.Resize((img_width, img_height)), transforms.ToTensor()])\n",
    "                              )\n",
    "    return trainset"
   ]
  },
  {
   "cell_type": "code",
   "execution_count": 5,
   "metadata": {
    "id": "guX_ruXmXvyj"
   },
   "outputs": [
    {
     "data": {
      "text/plain": [
       "(tensor([[[0.1490, 0.1922],\n",
       "          [0.1804, 0.1608]]]),\n",
       " 5)"
      ]
     },
     "execution_count": 5,
     "metadata": {},
     "output_type": "execute_result"
    }
   ],
   "source": [
    "nr_qubits = 4\n",
    "input_data = get_dataset(img_width=2, img_height=int(nr_qubits / 2), train=True)\n",
    "input_data[0]"
   ]
  },
  {
   "cell_type": "markdown",
   "metadata": {
    "id": "i3_M6Km5jPoT"
   },
   "source": [
    "## Training node\n"
   ]
  },
  {
   "cell_type": "code",
   "execution_count": 6,
   "metadata": {
    "colab": {
     "base_uri": "https://localhost:8080/"
    },
    "executionInfo": {
     "elapsed": 269,
     "status": "ok",
     "timestamp": 1643630263864,
     "user": {
      "displayName": "Andrei Tomut",
      "photoUrl": "https://lh3.googleusercontent.com/a-/AOh14Gg41AjhvpJrWsjuTWseFfwBFJOCfaBmrNzZIgjGFws=s64",
      "userId": "15187307406392519590"
     },
     "user_tz": -120
    },
    "id": "l-EAdaahjo6F",
    "outputId": "b13db808-bf24-4381-bd24-847e7c278da7"
   },
   "outputs": [
    {
     "name": "stdout",
     "output_type": "stream",
     "text": [
      "Qubtis: [0, 1, 2, 3, 4, 5]\n"
     ]
    }
   ],
   "source": [
    "shots = 1000\n",
    "spec = QubitsArrangement(nr_trash=1, nr_latent=3, nr_swap=1, nr_ent=0)\n",
    "print(\"Qubtis:\", spec.qubits)\n",
    "\n",
    "#set up the device \n",
    "dev = qml.device(\"default.qubit\", wires=len(spec.qubits))"
   ]
  },
  {
   "cell_type": "code",
   "execution_count": 7,
   "metadata": {
    "id": "0K0aq90xj26t"
   },
   "outputs": [],
   "source": [
    "\n",
    "@qml.qnode(dev)\n",
    "def training_circuit_example(init_params, encoder_params, reinit_state):\n",
    "    #initilaization\n",
    "    setAB_angle(spec, init_params, 'X')\n",
    "\n",
    "    setAux(spec, reinit_state)\n",
    "\n",
    "    setEnt(spec, inputs=[1 / np.sqrt(2), 0, 0, 1 / np.sqrt(2)])\n",
    "\n",
    "    #encoder\n",
    "\n",
    "    for params in encoder_params:\n",
    "        e1_classic(params, [*spec.latent_qubits, *spec.trash_qubits])\n",
    "\n",
    "    #swap test \n",
    "    swap_t(spec)\n",
    "\n",
    "    return [qml.probs(i) for i in spec.swap_qubits]\n"
   ]
  },
  {
   "cell_type": "markdown",
   "metadata": {},
   "source": [
    "## Training parameters "
   ]
  },
  {
   "cell_type": "code",
   "execution_count": 8,
   "metadata": {},
   "outputs": [],
   "source": [
    "epochs = 50\n",
    "learning_rate = 0.0003\n",
    "batch_size = 8\n",
    "num_samples = 64\n",
    "\n",
    "beta1 = 0.9\n",
    "beta2 = 0.999\n",
    "opt = AdamOptimizer(learning_rate, beta1=beta1, beta2=beta2)"
   ]
  },
  {
   "cell_type": "code",
   "execution_count": 9,
   "metadata": {},
   "outputs": [],
   "source": [
    "def fid_func(output):\n",
    "    # Implemented as the Fidelity Loss\n",
    "    # output[0] because we take the probability that the state after the \n",
    "    # SWAP test is ket(0), like the reference state\n",
    "    fidelity_loss = 1 / output[0]\n",
    "    return fidelity_loss"
   ]
  },
  {
   "cell_type": "code",
   "execution_count": 10,
   "metadata": {},
   "outputs": [],
   "source": [
    "def cost(encoder_params, X):\n",
    "    reinit_state = [0 for i in range(2 ** len(spec.aux_qubits))]\n",
    "    reinit_state[0] = 1.0\n",
    "    loss = 0.0\n",
    "    for x in X:\n",
    "        output = training_circuit_example(init_params=x[0], encoder_params=encoder_params, reinit_state=reinit_state)[0]\n",
    "        f = fid_func(output)\n",
    "        loss = loss + f\n",
    "    return loss / len(X)"
   ]
  },
  {
   "cell_type": "code",
   "execution_count": 11,
   "metadata": {},
   "outputs": [],
   "source": [
    "def fidelity(encoder_params, X):\n",
    "    reinit_state = [0 for i in range(2 ** len(spec.aux_qubits))]\n",
    "    reinit_state[0] = 1.0\n",
    "    loss = 0.0\n",
    "    for x in X:\n",
    "        output = training_circuit_example(init_params=x[0], encoder_params=encoder_params, reinit_state=reinit_state)[0]\n",
    "        f = output[0]\n",
    "        loss = loss + f\n",
    "    return loss / len(X)"
   ]
  },
  {
   "cell_type": "code",
   "execution_count": 12,
   "metadata": {},
   "outputs": [],
   "source": [
    "def iterate_batches(X, batch_size):\n",
    "    X = [torch.reshape(x[0], (1, len(spec.latent_qubits) + len(spec.trash_qubits))) for x in X]\n",
    "    random.shuffle(X)\n",
    "\n",
    "    batch_list = []\n",
    "    batch = []\n",
    "    for x in X:\n",
    "        if len(batch) < batch_size:\n",
    "            batch.append(x)\n",
    "\n",
    "        else:\n",
    "            batch_list.append(batch)\n",
    "            batch = []\n",
    "    if len(batch) != 0:\n",
    "        batch_list.append(batch)\n",
    "    return batch_list"
   ]
  },
  {
   "cell_type": "code",
   "execution_count": 13,
   "metadata": {},
   "outputs": [],
   "source": [
    "training_data = [input_data[i] for i in range(num_samples)]"
   ]
  },
  {
   "cell_type": "code",
   "execution_count": 15,
   "metadata": {},
   "outputs": [
    {
     "name": "stdout",
     "output_type": "stream",
     "text": [
      "Epoch:0 |Loss:1.2020792532429878|Fidel:0.8320336562772458\n",
      "Epoch:1 |Loss:1.1991665110449723|Fidel:0.8340518101880596\n",
      "Epoch:2 |Loss:1.1960499765901722|Fidel:0.836222241110299\n",
      "Epoch:3 |Loss:1.19288759664406|Fidel:0.8384362041539796\n",
      "Epoch:4 |Loss:1.1897527610877021|Fidel:0.8406424761957519\n",
      "Epoch:5 |Loss:1.1866830977763272|Fidel:0.8428141779303867\n",
      "Epoch:6 |Loss:1.1836990935508558|Fidel:0.8449361134535786\n",
      "Epoch:7 |Loss:1.180778280786421|Fidel:0.8470234823793554\n",
      "Epoch:8 |Loss:1.1779251570264273|Fidel:0.8490724649551601\n",
      "Epoch:9 |Loss:1.175126329036028|Fidel:0.8510920920681266\n",
      "Epoch:10 |Loss:1.1723665811686035|Fidel:0.8530929041695156\n",
      "Epoch:11 |Loss:1.169662026993692|Fidel:0.8550628754629558\n",
      "Epoch:12 |Loss:1.1670120386755898|Fidel:0.8570019828160237\n",
      "Epoch:13 |Loss:1.1643908055593597|Fidel:0.8589286823092164\n",
      "Epoch:14 |Loss:1.1618228536874893|Fidel:0.8608246783810087\n",
      "Epoch:15 |Loss:1.1592880794231748|Fidel:0.8627044055002483\n",
      "Epoch:16 |Loss:1.156782044589519|Fidel:0.8645708991615184\n",
      "Epoch:17 |Loss:1.15431720707172|Fidel:0.8664146388775539\n",
      "Epoch:18 |Loss:1.1518799821766585|Fidel:0.8682454774635194\n",
      "Epoch:19 |Loss:1.1494595964649479|Fidel:0.8700713273996409\n",
      "Epoch:20 |Loss:1.1470836820057202|Fidel:0.8718711550259853\n",
      "Epoch:21 |Loss:1.1447408739996656|Fidel:0.8736532283256362\n",
      "Epoch:22 |Loss:1.1424070293034116|Fidel:0.8754357098117985\n",
      "Epoch:23 |Loss:1.140106840017502|Fidel:0.8771996549506587\n",
      "Epoch:24 |Loss:1.1378459309910556|Fidel:0.8789404644546763\n",
      "Epoch:25 |Loss:1.135614776689686|Fidel:0.8806651727458077\n",
      "Epoch:26 |Loss:1.1333967544435701|Fidel:0.8823864524534064\n",
      "Epoch:27 |Loss:1.1312163174803664|Fidel:0.8840851792873144\n",
      "Epoch:28 |Loss:1.129070719046446|Fidel:0.8857631856122523\n",
      "Epoch:29 |Loss:1.1269663750203938|Fidel:0.8874151775495424\n",
      "Epoch:30 |Loss:1.1248774932334082|Fidel:0.8890611378230199\n",
      "Epoch:31 |Loss:1.1228066508170866|Fidel:0.8906989284304276\n",
      "Epoch:32 |Loss:1.1207737150062482|Fidel:0.8923126647144297\n",
      "Epoch:33 |Loss:1.1187683531325996|Fidel:0.8939102793398785\n",
      "Epoch:34 |Loss:1.1167876055812151|Fidel:0.8954939304616067\n",
      "Epoch:35 |Loss:1.1148213990081715|Fidel:0.8970715195430975\n",
      "Epoch:36 |Loss:1.112878986745687|Fidel:0.8986354995764704\n",
      "Epoch:37 |Loss:1.1109545814323916|Fidel:0.900190378934004\n",
      "Epoch:38 |Loss:1.1090489254836404|Fidel:0.9017354370667232\n",
      "Epoch:39 |Loss:1.1071824240434078|Fidel:0.9032539388390732\n",
      "Epoch:40 |Loss:1.1053299767828604|Fidel:0.9047660757802357\n",
      "Epoch:41 |Loss:1.1034978390808523|Fidel:0.9062666422548028\n",
      "Epoch:42 |Loss:1.1016950016475158|Fidel:0.907748098858409\n",
      "Epoch:43 |Loss:1.0999151495841257|Fidel:0.9092154521199473\n",
      "Epoch:44 |Loss:1.0981692517520019|Fidel:0.9106594666097294\n",
      "Epoch:45 |Loss:1.0964638264225466|Fidel:0.9120744893378661\n",
      "Epoch:46 |Loss:1.094782792122695|Fidel:0.91347359783174\n",
      "Epoch:47 |Loss:1.0931346489846023|Fidel:0.9148495409716626\n",
      "Epoch:48 |Loss:1.0914955642933328|Fidel:0.9162220276544449\n",
      "Epoch:49 |Loss:1.0898771550195225|Fidel:0.9175812613154655\n"
     ]
    }
   ],
   "source": [
    "# initialize random encoder parameters\n",
    "nr_encod_qubits = len(spec.trash_qubits) + len(spec.latent_qubits)\n",
    "nr_par_encoder = 2 * 3 * nr_encod_qubits + 3 * (nr_encod_qubits - 1) * nr_encod_qubits\n",
    "encoder_params = np.random.uniform(size=(1, nr_par_encoder), requires_grad=True)\n",
    "\n",
    "X = [torch.reshape(x[0], (1, len(spec.latent_qubits) + len(spec.trash_qubits))) for x in training_data]\n",
    "\n",
    "for epoch in range(epochs):\n",
    "    batches = iterate_batches(X=training_data, batch_size=batch_size)\n",
    "    for xbatch in batches:\n",
    "        encoder_params = opt.step(cost, encoder_params, X=xbatch)\n",
    "\n",
    "    loss_training = cost(encoder_params, X)\n",
    "    fidel = fidelity(encoder_params, X)\n",
    "\n",
    "    print(\"Epoch:{} |Loss:{}| Fidel:{}\".format(epoch, loss_training, fidel))"
   ]
  },
  {
   "cell_type": "code",
   "execution_count": null,
   "metadata": {
    "colab": {
     "base_uri": "https://localhost:8080/"
    },
    "executionInfo": {
     "elapsed": 3,
     "status": "ok",
     "timestamp": 1643631247705,
     "user": {
      "displayName": "Andrei Tomut",
      "photoUrl": "https://lh3.googleusercontent.com/a-/AOh14Gg41AjhvpJrWsjuTWseFfwBFJOCfaBmrNzZIgjGFws=s64",
      "userId": "15187307406392519590"
     },
     "user_tz": -120
    },
    "id": "x_46hhTmvYFU",
    "outputId": "1ebe2881-a072-4255-9517-9fd6a87e235a"
   },
   "outputs": [],
   "source": []
  }
 ],
 "metadata": {
  "colab": {
   "authorship_tag": "ABX9TyNgUzc2Tbeb8c3gUIwlCq3P",
   "mount_file_id": "1QCmp8uCqLXslk0FaGRlgRJW5qrPyhU14",
   "name": "encoder_training_example.ipynb",
   "provenance": []
  },
  "kernelspec": {
   "display_name": "Python 3 (ipykernel)",
   "language": "python",
   "name": "python3"
  },
  "language_info": {
   "codemirror_mode": {
    "name": "ipython",
    "version": 3
   },
   "file_extension": ".py",
   "mimetype": "text/x-python",
   "name": "python",
   "nbconvert_exporter": "python",
   "pygments_lexer": "ipython3",
   "version": "3.9.7"
  }
 },
 "nbformat": 4,
 "nbformat_minor": 1
}