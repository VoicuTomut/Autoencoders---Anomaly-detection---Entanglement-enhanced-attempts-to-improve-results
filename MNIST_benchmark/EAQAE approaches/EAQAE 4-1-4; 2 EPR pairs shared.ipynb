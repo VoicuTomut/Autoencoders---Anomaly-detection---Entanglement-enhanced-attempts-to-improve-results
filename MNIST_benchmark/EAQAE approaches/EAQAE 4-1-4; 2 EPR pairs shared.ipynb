{
 "cells": [
  {
   "cell_type": "code",
   "execution_count": null,
   "id": "3827790e",
   "metadata": {},
   "outputs": [],
   "source": [
    "#If you want to obtain the results for the entanglement switched on, please set default for entanglement parameter to 1. "
   ]
  },
  {
   "cell_type": "code",
   "execution_count": 378,
   "id": "84cc2c55",
   "metadata": {},
   "outputs": [],
   "source": [
    "#Making \"from qencode.encoders import e1_classic\" work in the jupyter notebook\n",
    "import sys\n",
    "import os\n",
    "sys.path.insert(0, '../')\n",
    "\n",
    "#importing libraries\n",
    "import pennylane as qml\n",
    "import torch\n",
    "from torchvision import datasets, transforms\n",
    "import argparse\n",
    "from scipy.linalg import sqrtm\n",
    "from pennylane import numpy as np\n",
    "from tqdm import tqdm\n",
    "from torch.utils.data import RandomSampler, SubsetRandomSampler\n",
    "\n",
    "#importing defined functions from the repository\n",
    "from qencode.encoders import e1_classic"
   ]
  },
  {
   "cell_type": "code",
   "execution_count": 408,
   "id": "8f4852c2",
   "metadata": {},
   "outputs": [],
   "source": [
    "#Defining arguments \n",
    "parser = argparse.ArgumentParser()\n",
    "parser.add_argument('--batch_size', default=32)\n",
    "parser.add_argument('--img_width', default=4)\n",
    "parser.add_argument('--img_height', default=4)\n",
    "parser.add_argument('--nr_batches_per_epoch', default=10)\n",
    "parser.add_argument('--entanglement', default=1) #0 = no entanglement, 1= entanglement assisted\n",
    "\n",
    "#args = parser.parse_args()       # running not in notebook\n",
    "args = parser.parse_args(args=[]) # running in notebook "
   ]
  },
  {
   "cell_type": "code",
   "execution_count": 409,
   "id": "d4e48edb",
   "metadata": {},
   "outputs": [],
   "source": [
    "#Importing MNIST dataset\n",
    "def get_dataset(img_width, img_height, train):\n",
    "    trainset = datasets.MNIST(root='./dataset', train=train, download=True,\n",
    "                              transform=transforms.Compose(\n",
    "                                  [transforms.Resize((img_width, img_height)), transforms.ToTensor()])\n",
    "                              )\n",
    "    return trainset\n",
    "\n",
    "#Creating train and test datasets\n",
    "train_loader = torch.utils.data.DataLoader(get_dataset(args.img_width, args.img_height, train=True), \\\n",
    "                                           batch_size=args.batch_size, sampler=RandomSampler(get_dataset(args.img_width, args.img_height, train=True), replacement=True, num_samples=args.nr_batches_per_epoch*args.batch_size))\n",
    "test_loader = torch.utils.data.DataLoader(get_dataset(args.img_width, args.img_height, train=False), batch_size=1, sampler = SubsetRandomSampler([i for i in range(1000)]))"
   ]
  },
  {
   "cell_type": "code",
   "execution_count": 410,
   "id": "3a472616",
   "metadata": {},
   "outputs": [],
   "source": [
    "#defining number of qubits (distinguishing the case with and without entanglement)\n",
    "\n",
    "wires=[0,1,2,3,4,5,6,7] #data_qubits = 1,2,3,4; ref_qubits = 5,6,7; swap_test_qubit=0\n",
    "if args.entanglement == 1:\n",
    "    wires=[0,1,2,3,4,5,6,7,8,9,10,11] #ent qubits = 8,9,10,11\n",
    "\n",
    "#setting up a quantum device \n",
    "dev = qml.device(\"default.qubit\", wires=wires)\n",
    "shots = 1024"
   ]
  },
  {
   "cell_type": "code",
   "execution_count": 411,
   "id": "569e7372",
   "metadata": {},
   "outputs": [],
   "source": [
    "#defining the Quantum Auto Encoder circuit with and without entanglement\n",
    "@qml.qnode(dev)\n",
    "def QAE(inputs,encoder_params,do_what): \n",
    "#do_what=0 train;do_what=1 return the density matrix of initial state; do_what=2 return the density matrix of the decoded state\n",
    "    \n",
    "    \n",
    "    #INITIALIZATION:\n",
    "    #Encode a picture using Amplitude Embedding\n",
    "    qml.AmplitudeEmbedding(inputs, wires=[1,2,3,4],normalize=True)\n",
    "    \n",
    "    #Encode a picture using Angle Embedding\n",
    "    \"\"\"\n",
    "    qml.templates.embeddings.AngleEmbedding(\n",
    "        inputs, wires=[1,2,3,4], rotation=\"X\"\n",
    "    )\n",
    "    \"\"\"\n",
    "    if do_what==1:\n",
    "        return qml.density_matrix([1,2,3,4])\n",
    "    \n",
    "    #Prepare entanglement qubits\n",
    "    if args.entanglement == 1:\n",
    "        \n",
    "        #Creating a Bell state on the 1st pair\n",
    "        qml.Hadamard(wires=8)\n",
    "        qml.CNOT(wires=[8,10])\n",
    "        #Creating a Bell state on the 2nd pair\n",
    "        qml.Hadamard(wires=9)\n",
    "        qml.CNOT(wires=[9,11])\n",
    "    #Reference qubits require no preparation\n",
    "    \n",
    "    #ENCODER\n",
    "    if args.entanglement == 0:\n",
    "        e1_classic(encoder_params,[1,2,3,4]) \n",
    "    elif args.entanglement == 1:\n",
    "        e1_classic(encoder_params,[1,2,3,4,8,9]) \n",
    "\n",
    "        \n",
    "    #OUTPUT for training\n",
    "    if do_what==0:  \n",
    "        #SWAP TEST\n",
    "        qml.Hadamard(0)\n",
    "        qml.CSWAP(wires=[0,1,5])\n",
    "        qml.CSWAP(wires=[0,2,6])\n",
    "        qml.CSWAP(wires=[0,3,7])\n",
    "        if args.entanglement == 1:\n",
    "            qml.CSWAP(wires=[0,8,10])\n",
    "            qml.CSWAP(wires=[0,9,11])\n",
    "        qml.Hadamard(0)\n",
    "        return qml.probs(wires=0)\n",
    "\n",
    "    #DECODER\n",
    "    if args.entanglement == 0:\n",
    "        qml.adjoint(e1_classic)(encoder_params, [5,6,7,4])\n",
    "    elif args.entanglement == 1:\n",
    "        qml.adjoint(e1_classic)(encoder_params, [5,6,7,4,10,11])\n",
    "        \n",
    "    if args.entanglement == 0:\n",
    "        return qml.density_matrix([5,6,7,4])\n",
    "    elif args.entanglement == 1:\n",
    "        return qml.density_matrix([5,6,7,4])\n",
    "\n",
    "    "
   ]
  },
  {
   "cell_type": "code",
   "execution_count": 412,
   "id": "b9c8b1c2",
   "metadata": {},
   "outputs": [],
   "source": [
    "#Calculating the number of parameters in the encoder\n",
    "nr_qubits_encoder = 4\n",
    "if args.entanglement == 1:\n",
    "    nr_qubits_encoder = 6\n",
    "    \n",
    "nr_par_encoder = 2 * 3 * nr_qubits_encoder + 3 * (nr_qubits_encoder - 1) * nr_qubits_encoder"
   ]
  },
  {
   "cell_type": "code",
   "execution_count": 413,
   "id": "42b9c4bc",
   "metadata": {},
   "outputs": [],
   "source": [
    "#Defining the loss function\n",
    "def loss_function(datapoint, params):\n",
    "    circuit_output =  QAE(datapoint,params,0)\n",
    "    return 2*(1 - circuit_output[0])"
   ]
  },
  {
   "cell_type": "code",
   "execution_count": 414,
   "id": "4cb35da0",
   "metadata": {},
   "outputs": [],
   "source": [
    "#Optimizing the parameters of the encoder \n",
    "opt = qml.AdamOptimizer()\n",
    "epochs = 40\n",
    "\n",
    "#Cost function - Imposing fidelity=1 for the trash and reference qubits\n",
    "def cost(params, batch):\n",
    "    loss = 0.0\n",
    "    for datapoint in batch:\n",
    "        loss += loss_function(datapoint, params)\n",
    "    return loss / batch.shape[0]"
   ]
  },
  {
   "cell_type": "code",
   "execution_count": 415,
   "id": "926e7a51",
   "metadata": {},
   "outputs": [],
   "source": [
    "#Initializing parameters\n",
    "params = np.random.normal(size=(nr_par_encoder), requires_grad=True)"
   ]
  },
  {
   "cell_type": "code",
   "execution_count": 416,
   "id": "239c9a3f",
   "metadata": {},
   "outputs": [],
   "source": [
    "#with open('feb22_17_no_ent.npy', 'rb') as f:\n",
    "#    params = np.load(f)"
   ]
  },
  {
   "cell_type": "code",
   "execution_count": 417,
   "id": "0db45c5b",
   "metadata": {},
   "outputs": [
    {
     "name": "stdout",
     "output_type": "stream",
     "text": [
      "Epoch 0\n"
     ]
    },
    {
     "name": "stderr",
     "output_type": "stream",
     "text": [
      "100%|█████████████████████████████████████████████████████████████████████████████████████████████████████████████████████████████████████████████████████████████████████████████████████████████████████████████████████████████████████████████████████████████████████████████████████| 10/10 [01:00<00:00,  6.05s/it]\n"
     ]
    },
    {
     "name": "stdout",
     "output_type": "stream",
     "text": [
      "0.9160364374912936\n",
      "Epoch 1\n"
     ]
    },
    {
     "name": "stderr",
     "output_type": "stream",
     "text": [
      "100%|█████████████████████████████████████████████████████████████████████████████████████████████████████████████████████████████████████████████████████████████████████████████████████████████████████████████████████████████████████████████████████████████████████████████████████| 10/10 [00:58<00:00,  5.84s/it]\n"
     ]
    },
    {
     "name": "stdout",
     "output_type": "stream",
     "text": [
      "0.8637309372523803\n",
      "Epoch 2\n"
     ]
    },
    {
     "name": "stderr",
     "output_type": "stream",
     "text": [
      "100%|█████████████████████████████████████████████████████████████████████████████████████████████████████████████████████████████████████████████████████████████████████████████████████████████████████████████████████████████████████████████████████████████████████████████████████| 10/10 [00:58<00:00,  5.88s/it]\n"
     ]
    },
    {
     "name": "stdout",
     "output_type": "stream",
     "text": [
      "0.8083782784754161\n",
      "Epoch 3\n"
     ]
    },
    {
     "name": "stderr",
     "output_type": "stream",
     "text": [
      "100%|█████████████████████████████████████████████████████████████████████████████████████████████████████████████████████████████████████████████████████████████████████████████████████████████████████████████████████████████████████████████████████████████████████████████████████| 10/10 [00:58<00:00,  5.84s/it]\n"
     ]
    },
    {
     "name": "stdout",
     "output_type": "stream",
     "text": [
      "0.7393983826623483\n",
      "Epoch 4\n"
     ]
    },
    {
     "name": "stderr",
     "output_type": "stream",
     "text": [
      "100%|█████████████████████████████████████████████████████████████████████████████████████████████████████████████████████████████████████████████████████████████████████████████████████████████████████████████████████████████████████████████████████████████████████████████████████| 10/10 [00:58<00:00,  5.89s/it]\n"
     ]
    },
    {
     "name": "stdout",
     "output_type": "stream",
     "text": [
      "0.6609621666394698\n",
      "Epoch 5\n"
     ]
    },
    {
     "name": "stderr",
     "output_type": "stream",
     "text": [
      "100%|█████████████████████████████████████████████████████████████████████████████████████████████████████████████████████████████████████████████████████████████████████████████████████████████████████████████████████████████████████████████████████████████████████████████████████| 10/10 [00:58<00:00,  5.85s/it]\n"
     ]
    },
    {
     "name": "stdout",
     "output_type": "stream",
     "text": [
      "0.573411052130161\n",
      "Epoch 6\n"
     ]
    },
    {
     "name": "stderr",
     "output_type": "stream",
     "text": [
      "100%|█████████████████████████████████████████████████████████████████████████████████████████████████████████████████████████████████████████████████████████████████████████████████████████████████████████████████████████████████████████████████████████████████████████████████████| 10/10 [01:00<00:00,  6.07s/it]\n"
     ]
    },
    {
     "name": "stdout",
     "output_type": "stream",
     "text": [
      "0.5041483708729269\n",
      "Epoch 7\n"
     ]
    },
    {
     "name": "stderr",
     "output_type": "stream",
     "text": [
      "100%|█████████████████████████████████████████████████████████████████████████████████████████████████████████████████████████████████████████████████████████████████████████████████████████████████████████████████████████████████████████████████████████████████████████████████████| 10/10 [01:34<00:00,  9.43s/it]\n"
     ]
    },
    {
     "name": "stdout",
     "output_type": "stream",
     "text": [
      "0.4452371347857449\n",
      "Epoch 8\n"
     ]
    },
    {
     "name": "stderr",
     "output_type": "stream",
     "text": [
      "100%|█████████████████████████████████████████████████████████████████████████████████████████████████████████████████████████████████████████████████████████████████████████████████████████████████████████████████████████████████████████████████████████████████████████████████████| 10/10 [01:22<00:00,  8.30s/it]\n"
     ]
    },
    {
     "name": "stdout",
     "output_type": "stream",
     "text": [
      "0.39893117485754\n",
      "Epoch 9\n"
     ]
    },
    {
     "name": "stderr",
     "output_type": "stream",
     "text": [
      "100%|█████████████████████████████████████████████████████████████████████████████████████████████████████████████████████████████████████████████████████████████████████████████████████████████████████████████████████████████████████████████████████████████████████████████████████| 10/10 [01:19<00:00,  7.91s/it]\n"
     ]
    },
    {
     "name": "stdout",
     "output_type": "stream",
     "text": [
      "0.35670825933766387\n",
      "Epoch 10\n"
     ]
    },
    {
     "name": "stderr",
     "output_type": "stream",
     "text": [
      "100%|█████████████████████████████████████████████████████████████████████████████████████████████████████████████████████████████████████████████████████████████████████████████████████████████████████████████████████████████████████████████████████████████████████████████████████| 10/10 [01:19<00:00,  7.94s/it]\n"
     ]
    },
    {
     "name": "stdout",
     "output_type": "stream",
     "text": [
      "0.30855514152194374\n",
      "Epoch 11\n"
     ]
    },
    {
     "name": "stderr",
     "output_type": "stream",
     "text": [
      "100%|█████████████████████████████████████████████████████████████████████████████████████████████████████████████████████████████████████████████████████████████████████████████████████████████████████████████████████████████████████████████████████████████████████████████████████| 10/10 [01:22<00:00,  8.25s/it]\n"
     ]
    },
    {
     "name": "stdout",
     "output_type": "stream",
     "text": [
      "0.26382873395158973\n",
      "Epoch 12\n"
     ]
    },
    {
     "name": "stderr",
     "output_type": "stream",
     "text": [
      "100%|█████████████████████████████████████████████████████████████████████████████████████████████████████████████████████████████████████████████████████████████████████████████████████████████████████████████████████████████████████████████████████████████████████████████████████| 10/10 [01:20<00:00,  8.05s/it]\n"
     ]
    },
    {
     "name": "stdout",
     "output_type": "stream",
     "text": [
      "0.22854886011572856\n",
      "Epoch 13\n"
     ]
    },
    {
     "name": "stderr",
     "output_type": "stream",
     "text": [
      "100%|█████████████████████████████████████████████████████████████████████████████████████████████████████████████████████████████████████████████████████████████████████████████████████████████████████████████████████████████████████████████████████████████████████████████████████| 10/10 [01:20<00:00,  8.01s/it]\n"
     ]
    },
    {
     "name": "stdout",
     "output_type": "stream",
     "text": [
      "0.20038115004798587\n",
      "Epoch 14\n"
     ]
    },
    {
     "name": "stderr",
     "output_type": "stream",
     "text": [
      "100%|█████████████████████████████████████████████████████████████████████████████████████████████████████████████████████████████████████████████████████████████████████████████████████████████████████████████████████████████████████████████████████████████████████████████████████| 10/10 [01:21<00:00,  8.10s/it]\n"
     ]
    },
    {
     "name": "stdout",
     "output_type": "stream",
     "text": [
      "0.1769666836136357\n",
      "Epoch 15\n"
     ]
    },
    {
     "name": "stderr",
     "output_type": "stream",
     "text": [
      "100%|█████████████████████████████████████████████████████████████████████████████████████████████████████████████████████████████████████████████████████████████████████████████████████████████████████████████████████████████████████████████████████████████████████████████████████| 10/10 [01:20<00:00,  8.09s/it]\n"
     ]
    },
    {
     "name": "stdout",
     "output_type": "stream",
     "text": [
      "0.15931167110643335\n",
      "Epoch 16\n"
     ]
    },
    {
     "name": "stderr",
     "output_type": "stream",
     "text": [
      "100%|█████████████████████████████████████████████████████████████████████████████████████████████████████████████████████████████████████████████████████████████████████████████████████████████████████████████████████████████████████████████████████████████████████████████████████| 10/10 [01:19<00:00,  7.97s/it]\n"
     ]
    },
    {
     "name": "stdout",
     "output_type": "stream",
     "text": [
      "0.14469411152376774\n",
      "Epoch 17\n"
     ]
    },
    {
     "name": "stderr",
     "output_type": "stream",
     "text": [
      "100%|█████████████████████████████████████████████████████████████████████████████████████████████████████████████████████████████████████████████████████████████████████████████████████████████████████████████████████████████████████████████████████████████████████████████████████| 10/10 [01:19<00:00,  7.93s/it]\n"
     ]
    },
    {
     "name": "stdout",
     "output_type": "stream",
     "text": [
      "0.13425594011677602\n",
      "Epoch 18\n"
     ]
    },
    {
     "name": "stderr",
     "output_type": "stream",
     "text": [
      "100%|█████████████████████████████████████████████████████████████████████████████████████████████████████████████████████████████████████████████████████████████████████████████████████████████████████████████████████████████████████████████████████████████████████████████████████| 10/10 [01:18<00:00,  7.86s/it]\n"
     ]
    },
    {
     "name": "stdout",
     "output_type": "stream",
     "text": [
      "0.12235018577631931\n",
      "Epoch 19\n"
     ]
    },
    {
     "name": "stderr",
     "output_type": "stream",
     "text": [
      "100%|█████████████████████████████████████████████████████████████████████████████████████████████████████████████████████████████████████████████████████████████████████████████████████████████████████████████████████████████████████████████████████████████████████████████████████| 10/10 [01:17<00:00,  7.80s/it]\n"
     ]
    },
    {
     "name": "stdout",
     "output_type": "stream",
     "text": [
      "0.11892797408452971\n",
      "Epoch 20\n"
     ]
    },
    {
     "name": "stderr",
     "output_type": "stream",
     "text": [
      "100%|█████████████████████████████████████████████████████████████████████████████████████████████████████████████████████████████████████████████████████████████████████████████████████████████████████████████████████████████████████████████████████████████████████████████████████| 10/10 [01:19<00:00,  7.97s/it]\n"
     ]
    },
    {
     "name": "stdout",
     "output_type": "stream",
     "text": [
      "0.11299315099785415\n",
      "Epoch 21\n"
     ]
    },
    {
     "name": "stderr",
     "output_type": "stream",
     "text": [
      "100%|█████████████████████████████████████████████████████████████████████████████████████████████████████████████████████████████████████████████████████████████████████████████████████████████████████████████████████████████████████████████████████████████████████████████████████| 10/10 [01:19<00:00,  7.95s/it]\n"
     ]
    },
    {
     "name": "stdout",
     "output_type": "stream",
     "text": [
      "0.10421080573699168\n",
      "Epoch 22\n"
     ]
    },
    {
     "name": "stderr",
     "output_type": "stream",
     "text": [
      "100%|█████████████████████████████████████████████████████████████████████████████████████████████████████████████████████████████████████████████████████████████████████████████████████████████████████████████████████████████████████████████████████████████████████████████████████| 10/10 [01:26<00:00,  8.64s/it]\n"
     ]
    },
    {
     "name": "stdout",
     "output_type": "stream",
     "text": [
      "0.1018505674407427\n",
      "Epoch 23\n"
     ]
    },
    {
     "name": "stderr",
     "output_type": "stream",
     "text": [
      "100%|█████████████████████████████████████████████████████████████████████████████████████████████████████████████████████████████████████████████████████████████████████████████████████████████████████████████████████████████████████████████████████████████████████████████████████| 10/10 [01:23<00:00,  8.35s/it]\n"
     ]
    },
    {
     "name": "stdout",
     "output_type": "stream",
     "text": [
      "0.10625314078595653\n",
      "Epoch 24\n"
     ]
    },
    {
     "name": "stderr",
     "output_type": "stream",
     "text": [
      "100%|█████████████████████████████████████████████████████████████████████████████████████████████████████████████████████████████████████████████████████████████████████████████████████████████████████████████████████████████████████████████████████████████████████████████████████| 10/10 [01:19<00:00,  7.91s/it]\n"
     ]
    },
    {
     "name": "stdout",
     "output_type": "stream",
     "text": [
      "0.10097163301683516\n",
      "Epoch 25\n"
     ]
    },
    {
     "name": "stderr",
     "output_type": "stream",
     "text": [
      "100%|█████████████████████████████████████████████████████████████████████████████████████████████████████████████████████████████████████████████████████████████████████████████████████████████████████████████████████████████████████████████████████████████████████████████████████| 10/10 [01:23<00:00,  8.33s/it]\n"
     ]
    },
    {
     "name": "stdout",
     "output_type": "stream",
     "text": [
      "0.1088916354662525\n",
      "Epoch 26\n"
     ]
    },
    {
     "name": "stderr",
     "output_type": "stream",
     "text": [
      "100%|█████████████████████████████████████████████████████████████████████████████████████████████████████████████████████████████████████████████████████████████████████████████████████████████████████████████████████████████████████████████████████████████████████████████████████| 10/10 [01:19<00:00,  7.91s/it]\n"
     ]
    },
    {
     "name": "stdout",
     "output_type": "stream",
     "text": [
      "0.10258336034481534\n",
      "Epoch 27\n"
     ]
    },
    {
     "name": "stderr",
     "output_type": "stream",
     "text": [
      "100%|█████████████████████████████████████████████████████████████████████████████████████████████████████████████████████████████████████████████████████████████████████████████████████████████████████████████████████████████████████████████████████████████████████████████████████| 10/10 [01:19<00:00,  7.91s/it]\n"
     ]
    },
    {
     "name": "stdout",
     "output_type": "stream",
     "text": [
      "0.09912435181514269\n",
      "Epoch 28\n"
     ]
    },
    {
     "name": "stderr",
     "output_type": "stream",
     "text": [
      "100%|█████████████████████████████████████████████████████████████████████████████████████████████████████████████████████████████████████████████████████████████████████████████████████████████████████████████████████████████████████████████████████████████████████████████████████| 10/10 [01:17<00:00,  7.79s/it]\n"
     ]
    },
    {
     "name": "stdout",
     "output_type": "stream",
     "text": [
      "0.09959332582114341\n",
      "Epoch 29\n"
     ]
    },
    {
     "name": "stderr",
     "output_type": "stream",
     "text": [
      "100%|█████████████████████████████████████████████████████████████████████████████████████████████████████████████████████████████████████████████████████████████████████████████████████████████████████████████████████████████████████████████████████████████████████████████████████| 10/10 [01:18<00:00,  7.85s/it]\n"
     ]
    },
    {
     "name": "stdout",
     "output_type": "stream",
     "text": [
      "0.09877272416545453\n",
      "Epoch 30\n"
     ]
    },
    {
     "name": "stderr",
     "output_type": "stream",
     "text": [
      "100%|█████████████████████████████████████████████████████████████████████████████████████████████████████████████████████████████████████████████████████████████████████████████████████████████████████████████████████████████████████████████████████████████████████████████████████| 10/10 [01:14<00:00,  7.43s/it]\n"
     ]
    },
    {
     "name": "stdout",
     "output_type": "stream",
     "text": [
      "0.10429168758793558\n",
      "Epoch 31\n"
     ]
    },
    {
     "name": "stderr",
     "output_type": "stream",
     "text": [
      "100%|█████████████████████████████████████████████████████████████████████████████████████████████████████████████████████████████████████████████████████████████████████████████████████████████████████████████████████████████████████████████████████████████████████████████████████| 10/10 [00:59<00:00,  5.92s/it]\n"
     ]
    },
    {
     "name": "stdout",
     "output_type": "stream",
     "text": [
      "0.10513540102928794\n",
      "Epoch 32\n"
     ]
    },
    {
     "name": "stderr",
     "output_type": "stream",
     "text": [
      "100%|█████████████████████████████████████████████████████████████████████████████████████████████████████████████████████████████████████████████████████████████████████████████████████████████████████████████████████████████████████████████████████████████████████████████████████| 10/10 [01:00<00:00,  6.06s/it]\n"
     ]
    },
    {
     "name": "stdout",
     "output_type": "stream",
     "text": [
      "0.10031729773232093\n",
      "Epoch 33\n"
     ]
    },
    {
     "name": "stderr",
     "output_type": "stream",
     "text": [
      "100%|█████████████████████████████████████████████████████████████████████████████████████████████████████████████████████████████████████████████████████████████████████████████████████████████████████████████████████████████████████████████████████████████████████████████████████| 10/10 [00:58<00:00,  5.89s/it]\n"
     ]
    },
    {
     "name": "stdout",
     "output_type": "stream",
     "text": [
      "0.09459074969740164\n",
      "Epoch 34\n"
     ]
    },
    {
     "name": "stderr",
     "output_type": "stream",
     "text": [
      "100%|█████████████████████████████████████████████████████████████████████████████████████████████████████████████████████████████████████████████████████████████████████████████████████████████████████████████████████████████████████████████████████████████████████████████████████| 10/10 [00:59<00:00,  5.92s/it]\n"
     ]
    },
    {
     "name": "stdout",
     "output_type": "stream",
     "text": [
      "0.09784619664384388\n",
      "Epoch 35\n"
     ]
    },
    {
     "name": "stderr",
     "output_type": "stream",
     "text": [
      "100%|█████████████████████████████████████████████████████████████████████████████████████████████████████████████████████████████████████████████████████████████████████████████████████████████████████████████████████████████████████████████████████████████████████████████████████| 10/10 [00:59<00:00,  5.94s/it]\n"
     ]
    },
    {
     "name": "stdout",
     "output_type": "stream",
     "text": [
      "0.10199019368715981\n",
      "Epoch 36\n"
     ]
    },
    {
     "name": "stderr",
     "output_type": "stream",
     "text": [
      "100%|█████████████████████████████████████████████████████████████████████████████████████████████████████████████████████████████████████████████████████████████████████████████████████████████████████████████████████████████████████████████████████████████████████████████████████| 10/10 [01:00<00:00,  6.01s/it]\n"
     ]
    },
    {
     "name": "stdout",
     "output_type": "stream",
     "text": [
      "0.09745572493689178\n",
      "Epoch 37\n"
     ]
    },
    {
     "name": "stderr",
     "output_type": "stream",
     "text": [
      "100%|█████████████████████████████████████████████████████████████████████████████████████████████████████████████████████████████████████████████████████████████████████████████████████████████████████████████████████████████████████████████████████████████████████████████████████| 10/10 [00:59<00:00,  5.94s/it]\n"
     ]
    },
    {
     "name": "stdout",
     "output_type": "stream",
     "text": [
      "0.10064011155509578\n",
      "Epoch 38\n"
     ]
    },
    {
     "name": "stderr",
     "output_type": "stream",
     "text": [
      "100%|█████████████████████████████████████████████████████████████████████████████████████████████████████████████████████████████████████████████████████████████████████████████████████████████████████████████████████████████████████████████████████████████████████████████████████| 10/10 [00:59<00:00,  5.93s/it]\n"
     ]
    },
    {
     "name": "stdout",
     "output_type": "stream",
     "text": [
      "0.09407442334566138\n",
      "Epoch 39\n"
     ]
    },
    {
     "name": "stderr",
     "output_type": "stream",
     "text": [
      "100%|█████████████████████████████████████████████████████████████████████████████████████████████████████████████████████████████████████████████████████████████████████████████████████████████████████████████████████████████████████████████████████████████████████████████████████| 10/10 [00:59<00:00,  5.96s/it]"
     ]
    },
    {
     "name": "stdout",
     "output_type": "stream",
     "text": [
      "0.09869363268695483\n"
     ]
    },
    {
     "name": "stderr",
     "output_type": "stream",
     "text": [
      "\n"
     ]
    }
   ],
   "source": [
    "#Running the training\n",
    "for i in range(epochs):\n",
    "    print(f'Epoch {i}')\n",
    "    loss = 0\n",
    "    for batch, y in tqdm(train_loader):\n",
    "        batch = batch.reshape(-1, args.img_height*args.img_width)\n",
    "        loss += cost(params,batch)\n",
    "        params = opt.step(cost, params, batch=batch)\n",
    "    print(loss / args.nr_batches_per_epoch)\n",
    "    "
   ]
  },
  {
   "cell_type": "code",
   "execution_count": 419,
   "id": "f189aed9",
   "metadata": {},
   "outputs": [],
   "source": [
    "#Evaluating the faithfulness of the Quantum Auto Encoder\n",
    "\n",
    "def fidelity(rho, sigma):\n",
    "    # Inputs rho and sigma are density matrices\n",
    "    sqrt_sigma = sqrtm(sigma)\n",
    "    fid = np.trace(sqrtm(sqrt_sigma @ rho @ sqrt_sigma))\n",
    "    return fid.real\n",
    "\n",
    "def evaluate_similarity(datapoint, params):\n",
    "    state_before=QAE(datapoint, params, 1)\n",
    "    state_after=QAE(datapoint, params, 2)\n",
    "    return fidelity(state_before, state_after)"
   ]
  },
  {
   "cell_type": "code",
   "execution_count": 420,
   "id": "f5cbe621",
   "metadata": {},
   "outputs": [
    {
     "name": "stderr",
     "output_type": "stream",
     "text": [
      "100%|█████████████████████████████████████████████████████████████████████████████████████████████████████████████████████████████████████████████████████████████████████████████████████████████████████████████████████████████████████████████████████████████████████████████████| 1000/1000 [02:10<00:00,  7.64it/s]\n"
     ]
    }
   ],
   "source": [
    "results = []\n",
    "for batch, y in tqdm(test_loader):\n",
    "    batch = batch.reshape(-1, args.img_height*args.img_width)\n",
    "    results.append(evaluate_similarity(batch[0], params))"
   ]
  },
  {
   "cell_type": "code",
   "execution_count": 420,
   "id": "b50ceab3",
   "metadata": {},
   "outputs": [
    {
     "name": "stderr",
     "output_type": "stream",
     "text": [
      "100%|█████████████████████████████████████████████████████████████████████████████████████████████████████████████████████████████████████████████████████████████████████████████████████████████████████████████████████████████████████████████████████████████████████████████████| 1000/1000 [02:10<00:00,  7.64it/s]\n"
     ]
    }
   ],
   "source": [
    "results_new = []\n",
    "for batch, y in tqdm(test_loader):\n",
    "    batch = batch.reshape(-1, args.img_height*args.img_width)\n",
    "    results_new.append(evaluate_similarity(batch[0], params))"
   ]
  },
  {
   "cell_type": "code",
   "execution_count": 421,
   "id": "86438e97",
   "metadata": {},
   "outputs": [
    {
     "data": {
      "image/png": "[encoded data removed]",
      "text/plain": [
       "<Figure size 432x288 with 1 Axes>"
      ]
     },
     "metadata": {
      "needs_background": "light"
     },
     "output_type": "display_data"
    }
   ],
   "source": [
    "import matplotlib.pyplot as plt\n",
    "plt.hist(results, density=True, color=\"blue\", label=\"no entanglement\")\n",
    "plt.hist(results_new, density=True, color=\"orange\", label=\"entanglement\")\n",
    "plt.legend()\n",
    "plt.show()"
   ]
  },
  {
   "cell_type": "code",
   "execution_count": 422,
   "id": "1f6b3642",
   "metadata": {},
   "outputs": [
    {
     "data": {
      "text/plain": [
       "tensor(0.55461167, requires_grad=True)"
      ]
     },
     "execution_count": 422,
     "metadata": {},
     "output_type": "execute_result"
    }
   ],
   "source": [
    "np.array(results).mean()"
   ]
  },
  {
   "cell_type": "code",
   "execution_count": 423,
   "id": "900786b4",
   "metadata": {},
   "outputs": [
    {
     "data": {
      "text/plain": [
       "tensor(0.54055004, requires_grad=True)"
      ]
     },
     "execution_count": 423,
     "metadata": {},
     "output_type": "execute_result"
    }
   ],
   "source": [
    "np.array(results_new).mean()"
   ]
  }
 ],
 "metadata": {
  "kernelspec": {
   "display_name": "Python 3 (ipykernel)",
   "language": "python",
   "name": "python3"
  },
  "language_info": {
   "codemirror_mode": {
    "name": "ipython",
    "version": 3
   },
   "file_extension": ".py",
   "mimetype": "text/x-python",
   "name": "python",
   "nbconvert_exporter": "python",
   "pygments_lexer": "ipython3",
   "version": "3.9.7"
  }
 },
 "nbformat": 4,
 "nbformat_minor": 5
}
