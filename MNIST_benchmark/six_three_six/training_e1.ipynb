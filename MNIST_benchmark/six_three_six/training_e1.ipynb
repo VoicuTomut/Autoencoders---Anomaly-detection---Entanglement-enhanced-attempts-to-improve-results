{
 "cells": [
  {
   "cell_type": "code",
   "execution_count": null,
   "metadata": {},
   "outputs": [],
   "source": []
  },
  {
   "cell_type": "code",
   "execution_count": null,
   "metadata": {},
   "outputs": [],
   "source": [
    "6->3->6"
   ]
  },
  {
   "cell_type": "markdown",
   "metadata": {},
   "source": [
    "## Imports"
   ]
  },
  {
   "cell_type": "code",
   "execution_count": 1,
   "metadata": {},
   "outputs": [
    {
     "name": "stderr",
     "output_type": "stream",
     "text": [
      "C:\\Users\\tomut\\anaconda3\\envs\\qhack2022\\lib\\site-packages\\torchvision\\io\\image.py:11: UserWarning: Failed to load image Python extension: Could not find module 'C:\\Users\\tomut\\anaconda3\\envs\\qhack2022\\Lib\\site-packages\\torchvision\\image.pyd' (or one of its dependencies). Try using the full path with constructor syntax.\n",
      "  warn(f\"Failed to load image Python extension: {e}\")\n"
     ]
    }
   ],
   "source": [
    "import random\n",
    "\n",
    "import pennylane as qml\n",
    "from pennylane import numpy as np\n",
    "\n",
    "from pennylane.optimize import AdamOptimizer\n",
    "\n",
    "import torch\n",
    "from torchvision import datasets, transforms"
   ]
  },
  {
   "cell_type": "code",
   "execution_count": 2,
   "metadata": {},
   "outputs": [],
   "source": [
    "import sys\n",
    "sys.path.append(\"..\") # Adds higher directory to python modules path\n",
    "\n",
    "from qencode.initialize import setAB_amplitude, setAux, setEnt\n",
    "from qencode.encoders import e1_classic\n",
    "from qencode.training_circuits import swap_t\n",
    "from qencode.qubits_arrangement import QubitsArrangement\n",
    "\n",
    "from qencode.utils.mnist import get_dataset"
   ]
  },
  {
   "cell_type": "markdown",
   "metadata": {},
   "source": [
    "## Get Data"
   ]
  },
  {
   "cell_type": "code",
   "execution_count": 3,
   "metadata": {},
   "outputs": [
    {
     "name": "stdout",
     "output_type": "stream",
     "text": [
      "Original data set size: 60000\n",
      "Final data set szize: 12665\n"
     ]
    }
   ],
   "source": [
    "input_data = get_dataset(img_width=8, img_height=8, train=True)\n",
    "print(\"Original data set size:\", len(input_data))\n",
    "\n",
    "# Select only the pictures with numbers 0 or 1. (jus to compare with literature)\n",
    "filtered_data = [image for image in input_data if image[1] in [0, 1]]\n",
    "input_data = filtered_data\n",
    "print(\"Final data set szize:\", len(input_data))"
   ]
  },
  {
   "cell_type": "code",
   "execution_count": null,
   "metadata": {},
   "outputs": [],
   "source": []
  },
  {
   "cell_type": "markdown",
   "metadata": {},
   "source": [
    "## Training node"
   ]
  },
  {
   "cell_type": "code",
   "execution_count": 45,
   "metadata": {},
   "outputs": [
    {
     "name": "stdout",
     "output_type": "stream",
     "text": [
      "Qubits: [0, 1, 2, 3, 4, 5, 6, 7, 8, 9]\n"
     ]
    }
   ],
   "source": [
    "shots = 2500\n",
    "nr_trash=3\n",
    "nr_latent=3\n",
    "nr_ent=0\n",
    "spec = QubitsArrangement(nr_trash, nr_latent, nr_swap=1, nr_ent=nr_ent)\n",
    "print(\"Qubits:\", spec.qubits)\n",
    "\n",
    "#set up the device \n",
    "dev = qml.device(\"default.qubit\", wires=spec.num_qubits)"
   ]
  },
  {
   "cell_type": "code",
   "execution_count": 27,
   "metadata": {},
   "outputs": [],
   "source": [
    "@qml.qnode(dev)\n",
    "def training_circuit_example(init_params, encoder_params, reinit_state):\n",
    "    #initilaization\n",
    "    setAB_amplitude(spec, *init_params)\n",
    "\n",
    "    setAux(spec, reinit_state)\n",
    "\n",
    "    setEnt(spec, inputs=[1 / np.sqrt(2), 0, 0, 1 / np.sqrt(2)])\n",
    "\n",
    "    #encoder\n",
    "\n",
    "    for params in encoder_params:\n",
    "        e1_classic(params, [*spec.latent_qubits, *spec.trash_qubits])\n",
    "\n",
    "    #swap test \n",
    "    swap_t(spec)\n",
    "\n",
    "    return [qml.probs(i) for i in spec.swap_qubits]"
   ]
  },
  {
   "cell_type": "markdown",
   "metadata": {},
   "source": [
    "## Training parameters "
   ]
  },
  {
   "cell_type": "code",
   "execution_count": 28,
   "metadata": {},
   "outputs": [],
   "source": [
    "epochs = 2000\n",
    "learning_rate = 0.0003\n",
    "batch_size = 5\n",
    "num_samples = 20\n",
    "\n",
    "beta1 = 0.9\n",
    "beta2 = 0.999\n",
    "opt = AdamOptimizer(learning_rate, beta1=beta1, beta2=beta2)"
   ]
  },
  {
   "cell_type": "code",
   "execution_count": 29,
   "metadata": {},
   "outputs": [],
   "source": [
    "def fid_func(output):\n",
    "    # Implemented as the Fidelity Loss\n",
    "    # output[0] because we take the probability that the state after the \n",
    "    # SWAP test is ket(0), like the reference state\n",
    "    fidelity_loss = 1 / output[0]\n",
    "    return fidelity_loss"
   ]
  },
  {
   "cell_type": "code",
   "execution_count": 30,
   "metadata": {},
   "outputs": [],
   "source": [
    "def cost(encoder_params, X):\n",
    "    reinit_state = [0 for i in range(2 ** len(spec.aux_qubits))]\n",
    "    reinit_state[0] = 1.0\n",
    "    loss = 0.0\n",
    "    for x in X:\n",
    "        output = training_circuit_example(init_params=x[0], encoder_params=encoder_params, reinit_state=reinit_state)[0]\n",
    "        f = fid_func(output)\n",
    "        loss = loss + f\n",
    "    return loss / len(X)"
   ]
  },
  {
   "cell_type": "code",
   "execution_count": 31,
   "metadata": {},
   "outputs": [],
   "source": [
    "def fidelity(encoder_params, X):\n",
    "    reinit_state = [0 for i in range(2 ** len(spec.aux_qubits))]\n",
    "    reinit_state[0] = 1.0\n",
    "    loss = 0.0\n",
    "    for x in X:\n",
    "        output = training_circuit_example(init_params=x[0], encoder_params=encoder_params, reinit_state=reinit_state)[0]\n",
    "        f = output[0]\n",
    "        loss = loss + f\n",
    "    return loss / len(X)"
   ]
  },
  {
   "cell_type": "code",
   "execution_count": 32,
   "metadata": {},
   "outputs": [],
   "source": [
    "def iterate_batches(X, batch_size):\n",
    "    X1 = [torch.reshape(x[0], (1, 2 ** (len(spec.latent_qubits) + len(spec.trash_qubits)))) for x in X]\n",
    "    X2 = []\n",
    "    for i in range(len(X1)):\n",
    "        X2.append([X1[1], X[i][1]])\n",
    "    X = X2\n",
    "    random.shuffle(X)\n",
    "\n",
    "    batch_list = []\n",
    "    batch = []\n",
    "    for x in X:\n",
    "        if len(batch) < batch_size:\n",
    "            batch.append(x)\n",
    "\n",
    "        else:\n",
    "            batch_list.append(batch)\n",
    "            batch = []\n",
    "    if len(batch) != 0:\n",
    "        batch_list.append(batch)\n",
    "    return batch_list"
   ]
  },
  {
   "cell_type": "code",
   "execution_count": 33,
   "metadata": {},
   "outputs": [],
   "source": [
    "training_data = [input_data[i] for i in range(num_samples)]\n",
    "test_data = [input_data[i] for i in range(num_samples,num_samples+num_samples)]"
   ]
  },
  {
   "cell_type": "code",
   "execution_count": 34,
   "metadata": {},
   "outputs": [],
   "source": [
    "X1 = [torch.reshape(x[0], (1, 2 ** (len(spec.latent_qubits) + len(spec.trash_qubits)))) for x in training_data]\n",
    "X2 = []\n",
    "for i in range(len(X1)):\n",
    "    X2.append([X1[1], training_data[i][1]])\n",
    "X_training = X2\n",
    "\n",
    "X1 = [torch.reshape(x[0], (1, 2 ** (len(spec.latent_qubits) + len(spec.trash_qubits)))) for x in test_data]\n",
    "X2 = []\n",
    "for i in range(len(X1)):\n",
    "    X2.append([X1[1], training_data[i][1]])\n",
    "X_tes = X2"
   ]
  },
  {
   "cell_type": "code",
   "execution_count": 35,
   "metadata": {},
   "outputs": [],
   "source": [
    "# initialize random encoder parameters\n",
    "nr_encod_qubits = len(spec.trash_qubits) + len(spec.latent_qubits)\n",
    "nr_par_encoder = 2 * 3 * nr_encod_qubits + 3 * (nr_encod_qubits - 1) * nr_encod_qubits\n",
    "encoder_params = np.random.uniform(size=(1, nr_par_encoder), requires_grad=True)\n"
   ]
  },
  {
   "cell_type": "markdown",
   "metadata": {},
   "source": [
    "###  training"
   ]
  },
  {
   "cell_type": "code",
   "execution_count": 36,
   "metadata": {},
   "outputs": [
    {
     "name": "stdout",
     "output_type": "stream",
     "text": [
      "Epoch:0 | Loss:1.822035446614595 | Fidelity:0.5488367429173977\n",
      "Test-Epoch:0 | Loss:1.8070217392687298 | Fidelity:0.5533967734138512\n",
      "Epoch:5 | Loss:1.8103595932809349 | Fidelity:0.5523764470392809\n",
      "Test-Epoch:5 | Loss:1.7952472212563937 | Fidelity:0.5570263460985364\n",
      "Epoch:10 | Loss:1.798475335046874 | Fidelity:0.5560265300907988\n",
      "Test-Epoch:10 | Loss:1.7833010654401924 | Fidelity:0.5607578099849101\n",
      "Epoch:15 | Loss:1.7863565179940502 | Fidelity:0.5597986683660038\n",
      "Test-Epoch:15 | Loss:1.7711392427627284 | Fidelity:0.5646083469079148\n",
      "Epoch:20 | Loss:1.7740125642981366 | Fidelity:0.5636938656044049\n",
      "Test-Epoch:20 | Loss:1.7587486293088408 | Fidelity:0.5685860863430972\n",
      "Epoch:25 | Loss:1.7614676744362179 | Fidelity:0.5677084027784184\n",
      "Test-Epoch:25 | Loss:1.746175597714436 | Fidelity:0.5726800908848442\n",
      "Epoch:30 | Loss:1.7487529152078245 | Fidelity:0.5718360731831336\n",
      "Test-Epoch:30 | Loss:1.733464988837497 | Fidelity:0.5768792600020286\n",
      "Epoch:35 | Loss:1.735897624069566 | Fidelity:0.576070838587613\n",
      "Test-Epoch:35 | Loss:1.720648848005577 | Fidelity:0.5811761075823871\n",
      "Epoch:40 | Loss:1.7229261614824192 | Fidelity:0.5804079259784365\n",
      "Test-Epoch:40 | Loss:1.7077442917510521 | Fidelity:0.5855677602497736\n",
      "Epoch:45 | Loss:1.709857856103388 | Fidelity:0.5848439368398198\n",
      "Test-Epoch:45 | Loss:1.6947586726796164 | Fidelity:0.5900545110761287\n",
      "Epoch:50 | Loss:1.696708016005865 | Fidelity:0.5893765990179319\n",
      "Test-Epoch:50 | Loss:1.6816967619414878 | Fidelity:0.5946375248088832\n",
      "Epoch:55 | Loss:1.6834902361682897 | Fidelity:0.5940040390587897\n",
      "Test-Epoch:55 | Loss:1.6685656013902193 | Fidelity:0.5993171614989656\n",
      "Epoch:60 | Loss:1.6702187938667525 | Fidelity:0.5987239538149862\n",
      "Test-Epoch:60 | Loss:1.655376869950875 | Fidelity:0.604092045837076\n",
      "Epoch:65 | Loss:1.65690981449939 | Fidelity:0.603533150234936\n",
      "Test-Epoch:65 | Loss:1.642147538913391 | Fidelity:0.6089586814237777\n",
      "Epoch:70 | Loss:1.6435812728374912 | Fidelity:0.608427472694181\n",
      "Test-Epoch:70 | Loss:1.628899735288325 | Fidelity:0.6139113282027722\n",
      "Epoch:75 | Loss:1.6302522972308218 | Fidelity:0.6134019879613847\n",
      "Test-Epoch:75 | Loss:1.6156598304786975 | Fidelity:0.6189421690973861\n",
      "Epoch:80 | Loss:1.616942268198383 | Fidelity:0.6184512704428294\n",
      "Test-Epoch:80 | Loss:1.6024563555602431 | Fidelity:0.6240419569183117\n",
      "Epoch:85 | Loss:1.6036701597633567 | Fidelity:0.6235696249081321\n",
      "Test-Epoch:85 | Loss:1.58931747214815 | Fidelity:0.6292009101544589\n",
      "Epoch:90 | Loss:1.5904542857158404 | Fidelity:0.6287511744167575\n",
      "Test-Epoch:90 | Loss:1.576269172387075 | Fidelity:0.6344094127563361\n",
      "Epoch:95 | Loss:1.5773122991505923 | Fidelity:0.633989857644878\n",
      "Test-Epoch:95 | Loss:1.563334579153565 | Fidelity:0.6396583388703837\n",
      "Epoch:100 | Loss:1.5642611388797565 | Fidelity:0.6392794496679427\n",
      "Test-Epoch:100 | Loss:1.5505338692349215 | Fidelity:0.6449391527922117\n",
      "Epoch:105 | Loss:1.5513167101625982 | Fidelity:0.6446136971574213\n",
      "Test-Epoch:105 | Loss:1.5378841646500627 | Fidelity:0.6502440320188511\n",
      "Epoch:110 | Loss:1.5384933355366437 | Fidelity:0.6499865660134229\n",
      "Test-Epoch:110 | Loss:1.525399126878366 | Fidelity:0.6555661284836561\n",
      "Epoch:115 | Loss:1.525803180305132 | Fidelity:0.6553925256598423\n",
      "Test-Epoch:115 | Loss:1.5130884313500568 | Fidelity:0.6608999046458556\n",
      "Epoch:120 | Loss:1.5132558668276603 | Fidelity:0.6608267788159096\n",
      "Test-Epoch:120 | Loss:1.5009574524486962 | Fidelity:0.6662414036910751\n",
      "Epoch:125 | Loss:1.5008584408486392 | Fidelity:0.666285355622589\n",
      "Test-Epoch:125 | Loss:1.489007418948346 | Fidelity:0.671588326071793\n",
      "Epoch:130 | Loss:1.4886158023929674 | Fidelity:0.6717650036983946\n",
      "Test-Epoch:130 | Loss:1.4772361873482351 | Fidelity:0.6769398208387281\n",
      "Epoch:135 | Loss:1.476531616429615 | Fidelity:0.6772628427815783\n",
      "Test-Epoch:135 | Loss:1.465639657023153 | Fidelity:0.6822959485355979\n",
      "Epoch:140 | Loss:1.4646095309716207 | Fidelity:0.6827758381010954\n",
      "Test-Epoch:140 | Loss:1.4542136462983988 | Fidelity:0.6876568670259913\n",
      "Epoch:145 | Loss:1.452854345167494 | Fidelity:0.6883002438105481\n",
      "Test-Epoch:145 | Loss:1.4429557923326852 | Fidelity:0.6930219243816184\n",
      "Epoch:150 | Loss:1.4412727703425547 | Fidelity:0.6938311890554378\n",
      "Test-Epoch:150 | Loss:1.4318669325516717 | Fidelity:0.6983889195750481\n",
      "Epoch:155 | Loss:1.4298736384396205 | Fidelity:0.6993624982773098\n",
      "Test-Epoch:155 | Loss:1.420951621353244 | Fidelity:0.7037537274123727\n",
      "Epoch:160 | Loss:1.4186676410297112 | Fidelity:0.7048867339175863\n",
      "Test-Epoch:160 | Loss:1.4102178005183827 | Fidelity:0.7091103229816051\n",
      "Epoch:165 | Loss:1.4076667760802408 | Fidelity:0.7103953982522616\n",
      "Test-Epoch:165 | Loss:1.399675910782551 | Fidelity:0.7144511042137647\n",
      "Epoch:170 | Loss:1.396883664986689 | Fidelity:0.7158792282172824\n",
      "Test-Epoch:170 | Loss:1.3893377925919266 | Fidelity:0.7197673635109401\n",
      "Epoch:175 | Loss:1.3863308577078224 | Fidelity:0.7213285302279234\n",
      "Test-Epoch:175 | Loss:1.3792156401805111 | Fidelity:0.7250497825482323\n",
      "Epoch:180 | Loss:1.37602020279254 | Fidelity:0.7267335159546113\n",
      "Test-Epoch:180 | Loss:1.3693211483111694 | Fidelity:0.7302888743326095\n",
      "Epoch:185 | Loss:1.365962324178582 | Fidelity:0.7320846133888409\n",
      "Test-Epoch:185 | Loss:1.3596648884769247 | Fidelity:0.735475342839944\n",
      "Epoch:190 | Loss:1.356166218146595 | Fidelity:0.737372739874504\n",
      "Test-Epoch:190 | Loss:1.3502558909848834 | Fidelity:0.740600360773538\n",
      "Epoch:195 | Loss:1.346638964603763 | Fidelity:0.7425895331153147\n",
      "Test-Epoch:195 | Loss:1.3411013864042578 | Fidelity:0.745655779747709\n",
      "Epoch:200 | Loss:1.3373855382641837 | Fidelity:0.7477275410783318\n",
      "Test-Epoch:200 | Loss:1.3322066605315908 | Fidelity:0.7506342894284652\n",
      "Epoch:205 | Loss:1.3284087053901847 | Fidelity:0.7527803724428899\n",
      "Test-Epoch:205 | Loss:1.3235749880917562 | Fidelity:0.755529538558095\n",
      "Epoch:210 | Loss:1.3197089967074194 | Fidelity:0.757742807312013\n",
      "Test-Epoch:210 | Loss:1.315207623396468 | Fidelity:0.7603362254071658\n",
      "Epoch:215 | Loss:1.3112847528473606 | Fidelity:0.7626108652819853\n",
      "Test-Epoch:215 | Loss:1.3071038374922141 | Fidelity:0.7650501599923244\n",
      "Epoch:220 | Loss:1.3031322420281979 | Fidelity:0.7673818264550022\n",
      "Test-Epoch:220 | Loss:1.299261000221758 | Fidelity:0.7696682959230826\n",
      "Epoch:225 | Loss:1.2952458489412673 | Fidelity:0.772054201769802\n",
      "Test-Epoch:225 | Loss:1.2916747119658634 | Fidelity:0.7741887262606935\n",
      "Epoch:230 | Loss:1.2876183290665113 | Fidelity:0.776627652329998\n",
      "Test-Epoch:230 | Loss:1.2843389923691728 | Fidelity:0.778610636242801\n",
      "Epoch:235 | Loss:1.2802411157413405 | Fidelity:0.7811028623470956\n",
      "Test-Epoch:235 | Loss:1.2772465297019129 | Fidelity:0.7829342078802771\n",
      "Epoch:240 | Loss:1.2731046609441674 | Fidelity:0.785481375316287\n",
      "Test-Epoch:240 | Loss:1.2703889836044366 | Fidelity:0.7871604783306055\n",
      "Epoch:245 | Loss:1.2661987871059783 | Fidelity:0.7897654066511923\n",
      "Test-Epoch:245 | Loss:1.2637573192709584 | Fidelity:0.791291163858014\n",
      "Epoch:250 | Loss:1.2595130271863024 | Fidelity:0.7939576474520128\n",
      "Test-Epoch:250 | Loss:1.2573421404369125 | Fidelity:0.7953284693476594\n",
      "Epoch:255 | Loss:1.2530369334188014 | Fidelity:0.7980610733249399\n",
      "Test-Epoch:255 | Loss:1.2511339886639201 | Fidelity:0.79927490505465\n",
      "Epoch:260 | Loss:1.246760340548435 | Fidelity:0.8020787696536061\n",
      "Test-Epoch:260 | Loss:1.2451235875671107 | Fidelity:0.8031331266914105\n",
      "Epoch:265 | Loss:1.2406735757100786 | Fidelity:0.8060137812056386\n",
      "Test-Epoch:265 | Loss:1.2393020263492713 | Fidelity:0.8069058056378676\n",
      "Epoch:270 | Loss:1.2347676129673897 | Fidelity:0.8098689903250719\n",
      "Test-Epoch:270 | Loss:1.23366088948293 | Fidelity:0.8105955279324245\n",
      "Epoch:275 | Loss:1.2290341749739715 | Fidelity:0.813647024926038\n",
      "Test-Epoch:275 | Loss:1.228192344535355 | Fidelity:0.8142047167525014\n",
      "Epoch:280 | Loss:1.223465786967302 | Fidelity:0.8173501953649038\n",
      "Test-Epoch:280 | Loss:1.2228891987382484 | Fidelity:0.8177355732896971\n",
      "Epoch:285 | Loss:1.2180557896695323 | Fidelity:0.8209804579405248\n",
      "Test-Epoch:285 | Loss:1.217744930471015 | Fidelity:0.8211900332963873\n",
      "Epoch:290 | Loss:1.2127983181494304 | Fidelity:0.8245394020053288\n",
      "Test-Epoch:290 | Loss:1.2127536978262898 | Fidelity:0.8245697389275135\n",
      "Epoch:295 | Loss:1.2076882536830074 | Fidelity:0.8280282572512941\n",
      "Test-Epoch:295 | Loss:1.2079103246673553 | Fidelity:0.8278760265381365\n",
      "Epoch:300 | Loss:1.2027211553373212 | Fidelity:0.8314479175512093\n",
      "Test-Epoch:300 | Loss:1.203210265067806 | Fidelity:0.8311099306850128\n"
     ]
    },
    {
     "name": "stdout",
     "output_type": "stream",
     "text": [
      "Epoch:305 | Loss:1.1978931774882609 | Fidelity:0.8347989777325535\n",
      "Test-Epoch:305 | Loss:1.1986495487129223 | Fidelity:0.8342722033089431\n",
      "Epoch:310 | Loss:1.1932009788420856 | Fidelity:0.8380817797940685\n",
      "Test-Epoch:310 | Loss:1.1942247115939035 | Fidelity:0.8373633456850204\n",
      "Epoch:315 | Loss:1.1886416278378829 | Fidelity:0.8412964652928918\n",
      "Test-Epoch:315 | Loss:1.189932717420007 | Fidelity:0.8403836497312083\n",
      "Epoch:320 | Loss:1.1842125086295012 | Fidelity:0.8444430308858232\n",
      "Test-Epoch:320 | Loss:1.185770875400569 | Fidelity:0.8433332448498424\n",
      "Epoch:325 | Loss:1.1799112312161386 | Fidelity:0.8475213842733712\n",
      "Test-Epoch:325 | Loss:1.1817367595387216 | Fidelity:0.8462121465954395\n",
      "Epoch:330 | Loss:1.1757355487084677 | Fidelity:0.8505313980669277\n",
      "Test-Epoch:330 | Loss:1.1778281335918332 | Fidelity:0.8490203039644338\n",
      "Epoch:335 | Loss:1.1716832841502163 | Fidelity:0.8534729593972724\n",
      "Test-Epoch:335 | Loss:1.1740428846469717 | Fidelity:0.8517576428229832\n",
      "Epoch:340 | Loss:1.1677522687214958 | Fidelity:0.8563460134355741\n",
      "Test-Epoch:340 | Loss:1.170378967033734 | Fidelity:0.8544241037878951\n",
      "Epoch:345 | Loss:1.163940292500024 | Fidelity:0.8591505994281741\n",
      "Test-Epoch:345 | Loss:1.1668343571898516 | Fidelity:0.8570196736478973\n",
      "Epoch:350 | Loss:1.1602450682507712 | Fidelity:0.8618868783537577\n",
      "Test-Epoch:350 | Loss:1.1634070191921129 | Fidelity:0.8595444100847998\n",
      "Epoch:355 | Loss:1.1566642079906975 | Fidelity:0.8645551518682788\n",
      "Test-Epoch:355 | Loss:1.16009488000758 | Fidelity:0.8619984599823989\n",
      "Epoch:360 | Loss:1.1531952113968595 | Fidelity:0.8671558727587024\n",
      "Test-Epoch:360 | Loss:1.1568958131129816 | Fidelity:0.8643820719769002\n",
      "Epoch:365 | Loss:1.1498354645639532 | Fidelity:0.8696896476220844\n",
      "Test-Epoch:365 | Loss:1.1538076289494947 | Fidelity:0.8666956041107721\n",
      "Epoch:370 | Loss:1.1465822472274436 | Fidelity:0.8721572328702148\n",
      "Test-Epoch:370 | Loss:1.1508280706827994 | Fidelity:0.8689395275235935\n",
      "Epoch:375 | Loss:1.1434327463780678 | Fidelity:0.8745595254006806\n",
      "Test-Epoch:375 | Loss:1.1479548138711342 | Fidelity:0.8711144270808008\n",
      "Epoch:380 | Loss:1.1403840741971352 | Fidelity:0.8768975493664539\n",
      "Test-Epoch:380 | Loss:1.1451854688544332 | Fidelity:0.8732209997393111\n",
      "Epoch:385 | Loss:1.1374332884065832 | Fidelity:0.8791724404346282\n",
      "Test-Epoch:385 | Loss:1.1425175849197802 | Fidelity:0.8752600513104692\n",
      "Epoch:390 | Loss:1.134577413404752 | Fidelity:0.881385428781895\n",
      "Test-Epoch:390 | Loss:1.139948655538094 | Fidelity:0.8772324921318205\n",
      "Epoch:395 | Loss:1.1318134608954211 | Fidelity:0.8835378218676265\n",
      "Test-Epoch:395 | Loss:1.1374761241816496 | Fidelity:0.8791393320184577\n",
      "Epoch:400 | Loss:1.1291384490668679 | Fidelity:0.8856309877910993\n",
      "Test-Epoch:400 | Loss:1.1350973904097923 | Fidelity:0.8809816747433279\n",
      "Epoch:405 | Loss:1.126549419703693 | Fidelity:0.887666339806932\n",
      "Test-Epoch:405 | Loss:1.1328098160469078 | Fidelity:0.8827607121993652\n",
      "Epoch:410 | Loss:1.1240434528940813 | Fidelity:0.889645322363023\n",
      "Test-Epoch:410 | Loss:1.1306107313738072 | Fidelity:0.8844777183256503\n",
      "Epoch:415 | Loss:1.1216176792183012 | Fidelity:0.891569398849828\n",
      "Test-Epoch:415 | Loss:1.1284974413156446 | Fidelity:0.8861340428332409\n",
      "Epoch:420 | Loss:1.1192692894689704 | Fidelity:0.8934400411132903\n",
      "Test-Epoch:420 | Loss:1.1264672316424187 | Fidelity:0.8877311047405916\n",
      "Epoch:425 | Loss:1.116995542065286 | Fidelity:0.8952587206848067\n",
      "Test-Epoch:425 | Loss:1.124517375208851 | Fidelity:0.8892703857192735\n",
      "Epoch:430 | Loss:1.1147937683901579 | Fidelity:0.8970269016161364\n",
      "Test-Epoch:430 | Loss:1.1226451382550415 | Fidelity:0.8907534232538767\n",
      "Epoch:435 | Loss:1.1126613763111153 | Fidelity:0.8987460347687911\n",
      "Test-Epoch:435 | Loss:1.1208477867741906 | Fidelity:0.8921818036309899\n",
      "Epoch:440 | Loss:1.1105958521525634 | Fidelity:0.9004175533897364\n",
      "Test-Epoch:440 | Loss:1.1191225929335114 | Fidelity:0.8935571547874301\n",
      "Epoch:445 | Loss:1.1085947613765144 | Fidelity:0.9020428698024204\n",
      "Test-Epoch:445 | Loss:1.1174668415133446 | Fidelity:0.8948811390642571\n",
      "Epoch:450 | Loss:1.1066557482085817 | Fidelity:0.9036233730487254\n",
      "Test-Epoch:450 | Loss:1.1158778363106807 | Fidelity:0.8961554459278475\n",
      "Epoch:455 | Loss:1.104776534420464 | Fidelity:0.9051604273298336\n",
      "Test-Epoch:455 | Loss:1.1143529064385687 | Fidelity:0.897381784730982\n",
      "Epoch:460 | Loss:1.1029549174533249 | Fidelity:0.9066553711088721\n",
      "Test-Epoch:460 | Loss:1.1128894124436015 | Fidelity:0.8985618775941745\n",
      "Epoch:465 | Loss:1.1011887680403967 | Fidelity:0.9081095167539118\n",
      "Test-Epoch:465 | Loss:1.1114847521600395 | Fidelity:0.89969745249012\n",
      "Epoch:470 | Loss:1.0994760274634106 | Fidelity:0.9095241506148067\n",
      "Test-Epoch:470 | Loss:1.110136366221146 | Fidelity:0.9007902366120607\n",
      "Epoch:475 | Loss:1.0978147045564524 | Fidelity:0.9109005334411397\n",
      "Test-Epoch:475 | Loss:1.1088417431550739 | Fidelity:0.9018419501006715\n",
      "Epoch:480 | Loss:1.096202872552881 | Fidelity:0.9122399010606126\n",
      "Test-Epoch:480 | Loss:1.10759842400338 | Fidelity:0.9028543001944073\n",
      "Epoch:485 | Loss:1.094638665855682 | Fidelity:0.9135434652477746\n",
      "Test-Epoch:485 | Loss:1.1064040064138572 | Fidelity:0.9038289758559893\n",
      "Epoch:490 | Loss:1.093120276798935 | Fidelity:0.9148124147219863\n",
      "Test-Epoch:490 | Loss:1.1052561481746142 | Fidelity:0.9047676429138626\n",
      "Epoch:495 | Loss:1.091645952457313 | Fidelity:0.9160479162213567\n",
      "Test-Epoch:495 | Loss:1.1041525701723445 | Fidelity:0.9056719397428135\n",
      "Epoch:500 | Loss:1.0902139915514548 | Fidelity:0.917251115606145\n",
      "Test-Epoch:500 | Loss:1.1030910587733371 | Fidelity:0.9065434734934964\n",
      "Epoch:505 | Loss:1.0888227414893499 | Fidelity:0.9184231389511087\n",
      "Test-Epoch:505 | Loss:1.1020694676404665 | Fidelity:0.9073838168668283\n",
      "Epoch:510 | Loss:1.0874705955770199 | Fidelity:0.9195650935916966\n",
      "Test-Epoch:510 | Loss:1.1010857190123615 | Fidelity:0.9081945054168606\n",
      "Epoch:515 | Loss:1.0861559904257434 | Fidelity:0.9206780690939501\n",
      "Test-Epoch:515 | Loss:1.1001378044818266 | Fidelity:0.9089770353551362\n",
      "Epoch:520 | Loss:1.0848774035775368 | Fidelity:0.9217631381226653\n",
      "Test-Epoch:520 | Loss:1.099223785319264 | Fidelity:0.9097328618208124\n",
      "Epoch:525 | Loss:1.083633351365513 | Fidelity:0.922821357186797\n",
      "Test-Epoch:525 | Loss:1.0983417923930217 | Fidelity:0.9104633975743027\n",
      "Epoch:530 | Loss:1.0824223870208673 | Fidelity:0.9238537672454118\n",
      "Test-Epoch:530 | Loss:1.0974900257424518 | Fidelity:0.9111700120677637\n",
      "Epoch:535 | Loss:1.081243099033873 | Fidelity:0.9248613941615295\n",
      "Test-Epoch:535 | Loss:1.0966667538611987 | Fidelity:0.9118540308431445\n",
      "Epoch:540 | Loss:1.080094109771761 | Fidelity:0.9258452489953065\n",
      "Test-Epoch:540 | Loss:1.0958703127478169 | Fidelity:0.9125167352079929\n",
      "Epoch:545 | Loss:1.0789740743525962 | Fidelity:0.9268063281316724\n",
      "Test-Epoch:545 | Loss:1.0950991047789027 | Fidelity:0.913159362140011\n",
      "Epoch:550 | Loss:1.077881679770306 | Fidelity:0.9277456132412393\n",
      "Test-Epoch:550 | Loss:1.094351597456402 | Fidelity:0.9137831043736743\n",
      "Epoch:555 | Loss:1.0768156442626842 | Fidelity:0.9286640710766406\n",
      "Test-Epoch:555 | Loss:1.0936263220762743 | Fidelity:0.9143891106255355\n",
      "Epoch:560 | Loss:1.075774716911006 | Fidelity:0.9295626531095781\n",
      "Test-Epoch:560 | Loss:1.0929218723603538 | Fidelity:0.9149784859189684\n",
      "Epoch:565 | Loss:1.0747576774570753 | Fidelity:0.9304422950167194\n",
      "Test-Epoch:565 | Loss:1.0922369030873775 | Fidelity:0.9155522919737876\n",
      "Epoch:570 | Loss:1.0737633363211407 | Fidelity:0.931303916025049\n",
      "Test-Epoch:570 | Loss:1.091570128753062 | Fidelity:0.916111547631241\n",
      "Epoch:575 | Loss:1.0727905348020106 | Fidelity:0.9321484181295044\n",
      "Test-Epoch:575 | Loss:1.0909203222830022 | Fidelity:0.9166572292899172\n",
      "Epoch:580 | Loss:1.0718381454390538 | Fidelity:0.9329766851975331\n",
      "Test-Epoch:580 | Loss:1.0902863138161414 | Fidelity:0.9171902713332901\n",
      "Epoch:585 | Loss:1.0709050725144391 | Fidelity:0.9337895819767134\n",
      "Test-Epoch:585 | Loss:1.089666989570898 | Fidelity:0.9177115665344612\n",
      "Epoch:590 | Loss:1.0699902526731395 | Fidelity:0.9345879530226713\n",
      "Test-Epoch:590 | Loss:1.0890612908008397 | Fidelity:0.9182219664282177\n",
      "Epoch:595 | Loss:1.0690926556375795 | Fidelity:0.9353726215653639\n",
      "Test-Epoch:595 | Loss:1.0884682128419736 | Fidelity:0.9187222816447861\n",
      "Epoch:600 | Loss:1.0682112849936696 | Fidelity:0.9361443883322448\n",
      "Test-Epoch:600 | Loss:1.0878868042496033 | Fidelity:0.9192132822033583\n",
      "Epoch:605 | Loss:1.0673451790250337 | Fidelity:0.9369040303470053\n"
     ]
    },
    {
     "name": "stdout",
     "output_type": "stream",
     "text": [
      "Test-Epoch:605 | Loss:1.0873161660190207 | Fidelity:0.9196956977668137\n",
      "Epoch:610 | Loss:1.0664934115726605 | Fidelity:0.9376522997225006\n",
      "Test-Epoch:610 | Loss:1.0867554508813675 | Fidelity:0.9201702178617935\n",
      "Epoch:615 | Loss:1.0656550928978172 | Fidelity:0.9383899224661116\n",
      "Test-Epoch:615 | Loss:1.0862038626633654 | Fidelity:0.9206374920707849\n",
      "Epoch:620 | Loss:1.06482937052688 | Fidelity:0.939117597315331\n",
      "Test-Epoch:620 | Loss:1.085660655697748 | Fidelity:0.921098130204696\n",
      "Epoch:625 | Loss:1.0640154300578277 | Fidelity:0.9398359946205398\n",
      "Test-Epoch:625 | Loss:1.0851251342696986 | Fidelity:0.9215527024659803\n",
      "Epoch:630 | Loss:1.0632124959092126 | Fidelity:0.9405457552912256\n",
      "Test-Epoch:630 | Loss:1.0845966520834387 | Fidelity:0.9220017396135844\n",
      "Epoch:635 | Loss:1.0624198319936913 | Fidelity:0.9412474898208958\n",
      "Test-Epoch:635 | Loss:1.0840746117324476 | Fidelity:0.9224457331418459\n",
      "Epoch:640 | Loss:1.0616367422995803 | Fidelity:0.9419417774048864\n",
      "Test-Epoch:640 | Loss:1.083558464156353 | Fidelity:0.9228851354860576\n",
      "Epoch:645 | Loss:1.0608625713652273 | Fidelity:0.9426291651642463\n",
      "Test-Epoch:645 | Loss:1.0830477080673584 | Fidelity:0.9233203602678289\n",
      "Epoch:650 | Loss:1.060096704632482 | Fidelity:0.9433101674876759\n",
      "Test-Epoch:650 | Loss:1.0825418893292578 | Fidelity:0.9237517825934652\n",
      "Epoch:655 | Loss:1.0593385686670103 | Fidelity:0.943985265502343\n",
      "Test-Epoch:655 | Loss:1.0820406002723124 | Fidelity:0.9241797394185894\n",
      "Epoch:660 | Loss:1.058587631234753 | Fidelity:0.9446549066831478\n",
      "Test-Epoch:660 | Loss:1.0815434789278444 | Fidelity:0.9246045299920077\n",
      "Epoch:665 | Loss:1.0578434012255247 | Fidelity:0.9453195046086099\n",
      "Test-Epoch:665 | Loss:1.081050208167197 | Fidelity:0.9250264163913272\n",
      "Epoch:670 | Loss:1.0571054284163357 | Fidelity:0.9459794388702679\n",
      "Test-Epoch:670 | Loss:1.080560514730561 | Fidelity:0.9254456241623362\n",
      "Epoch:675 | Loss:1.0563733030690454 | Fidelity:0.946635055140767\n",
      "Test-Epoch:675 | Loss:1.0800741681324797 | Fidelity:0.9258623430732233\n",
      "Epoch:680 | Loss:1.0556466553588453 | Fidelity:0.9472866654042219\n",
      "Test-Epoch:680 | Loss:1.079590979432196 | Fidelity:0.9262767279937293\n",
      "Epoch:685 | Loss:1.0549251546323615 | Fidelity:0.9479345483504911\n",
      "Test-Epoch:685 | Loss:1.079110799858846 | Fidelity:0.9266888999079667\n",
      "Epoch:690 | Loss:1.0542085084965378 | Fidelity:0.948578949932924\n",
      "Test-Epoch:690 | Loss:1.0786335192833645 | Fidelity:0.9270989470681312\n",
      "Epoch:695 | Loss:1.0534964617421267 | Fidelity:0.9492200840867928\n",
      "Test-Epoch:695 | Loss:1.0781590645314565 | Fidelity:0.9275069262943842\n",
      "Epoch:700 | Loss:1.0527887951084776 | Fidelity:0.9498581336031047\n",
      "Test-Epoch:700 | Loss:1.0776873975344627 | Fidelity:0.92791286442414\n",
      "Epoch:705 | Loss:1.0520853238992733 | Fidelity:0.9504932511497902\n",
      "Test-Epoch:705 | Loss:1.0772185133179375 | Fidelity:0.9283167599115085\n",
      "Epoch:710 | Loss:1.0513858964621225 | Fidelity:0.9511255604293009\n",
      "Test-Epoch:710 | Loss:1.0767524378309408 | Fidelity:0.9287185845749699\n",
      "Epoch:715 | Loss:1.050690392548031 | Fidelity:0.9517551574587998\n",
      "Test-Epoch:715 | Loss:1.0762892256224215 | Fidelity:0.9291182854884535\n",
      "Epoch:720 | Loss:1.049998721569882 | Fidelity:0.9523821119561674\n",
      "Test-Epoch:720 | Loss:1.0758289573746684 | Fidelity:0.9295157870078962\n",
      "Epoch:725 | Loss:1.0493108207819923 | Fidelity:0.9530064688123169\n",
      "Test-Epoch:725 | Loss:1.0753717373074898 | Fidelity:0.9299109929221263\n",
      "Epoch:730 | Loss:1.0486266534052613 | Fidelity:0.9536282496278791\n",
      "Test-Epoch:730 | Loss:1.0749176904703508 | Fidelity:0.9303037887137485\n",
      "Epoch:735 | Loss:1.047946206724404 | Fidelity:0.9542474542903582\n",
      "Test-Epoch:735 | Loss:1.0744669599432943 | Fidelity:0.9306940439125047\n",
      "Epoch:740 | Loss:1.0472694901849375 | Fidelity:0.9548640625665608\n",
      "Test-Epoch:740 | Loss:1.0740197039705834 | Fidelity:0.9310816145207234\n",
      "Epoch:745 | Loss:1.046596533517881 | Fidelity:0.9554780356846223\n",
      "Test-Epoch:745 | Loss:1.0735760930538008 | Fidelity:0.9314663454878985\n",
      "Epoch:750 | Loss:1.0459273849193946 | Fidelity:0.9560893178803859\n",
      "Test-Epoch:750 | Loss:1.073136307033208 | Fidelity:0.9318480732094511\n",
      "Epoch:755 | Loss:1.0452621093107033 | Fidelity:0.9566978378843644\n",
      "Test-Epoch:755 | Loss:1.0727005321875291 | Fidelity:0.9322266280233189\n",
      "Epoch:760 | Loss:1.044600786700529 | Fidelity:0.9573035103281848\n",
      "Test-Epoch:760 | Loss:1.0722689583825407 | Fidelity:0.9326018366776611\n",
      "Epoch:765 | Loss:1.043943510668266 | Fidelity:0.9579062370528689\n",
      "Test-Epoch:765 | Loss:1.0718417762983017 | Fidelity:0.9329735247431635\n",
      "Epoch:770 | Loss:1.0432903869808212 | Fidelity:0.9585059083060287\n",
      "Test-Epoch:770 | Loss:1.0714191747627477 | Fidelity:0.9333415189451294\n",
      "Epoch:775 | Loss:1.0426415323502485 | Fidelity:0.9591024038202962\n",
      "Test-Epoch:775 | Loss:1.0710013382165706 | Fidelity:0.9337056493927435\n",
      "Epoch:780 | Loss:1.041997073332997 | Fidelity:0.9596955937710433\n",
      "Test-Epoch:780 | Loss:1.070588444330228 | Fidelity:0.9340657516863177\n",
      "Epoch:785 | Loss:1.0413571453650452 | Fidelity:0.9602853396175168\n",
      "Test-Epoch:785 | Loss:1.0701806617892093 | Fidelity:0.9344216688873106\n",
      "Epoch:790 | Loss:1.0407218919211796 | Fidelity:0.9608714948371017\n",
      "Test-Epoch:790 | Loss:1.069778148258583 | Fidelity:0.9347732533402645\n",
      "Epoch:795 | Loss:1.0400914637811653 | Fidelity:0.9614539055676741\n",
      "Test-Epoch:795 | Loss:1.0693810485326583 | Fidelity:0.9351203683403039\n",
      "Epoch:800 | Loss:1.0394660183813296 | Fidelity:0.962032411177052\n",
      "Test-Epoch:800 | Loss:1.0689894928710948 | Fidelity:0.9354628896437486\n",
      "Epoch:805 | Loss:1.0388457192270084 | Fidelity:0.9626068447816177\n",
      "Test-Epoch:805 | Loss:1.0686035955190163 | Fidelity:0.935800706822724\n",
      "Epoch:810 | Loss:1.0382307353400542 | Fidelity:0.9631770337375608\n",
      "Test-Epoch:810 | Loss:1.068223453406503 | Fidelity:0.936133724466597\n",
      "Epoch:815 | Loss:1.0376212407157983 | Fidelity:0.9637428001282572\n",
      "Test-Epoch:815 | Loss:1.0678491450221834 | Fidelity:0.9364618632337119\n",
      "Epoch:820 | Loss:1.0370174137656818 | Fidelity:0.9643039612697905\n",
      "Test-Epoch:820 | Loss:1.0674807294567574 | Fidelity:0.936785060755993\n",
      "Epoch:825 | Loss:1.0364194367249409 | Fidelity:0.9648603302539126\n",
      "Test-Epoch:825 | Loss:1.0671182456149944 | Fidelity:0.9371032723966655\n",
      "Epoch:830 | Loss:1.0358274950087887 | Fidelity:0.9654117165440906\n",
      "Test-Epoch:830 | Loss:1.0667617115986814 | Fidelity:0.9374164718579652\n",
      "Epoch:835 | Loss:1.0352417765052437 | Fidelity:0.965957926636025\n",
      "Test-Epoch:835 | Loss:1.066411124267582 | Fidelity:0.9377246516317111\n",
      "Epoch:840 | Loss:1.0346624707975305 | Fidelity:0.9664987647896301\n",
      "Test-Epoch:840 | Loss:1.0660664589900324 | Fidelity:0.938027823281654\n",
      "Epoch:845 | Loss:1.0340897683133448 | Fidelity:0.9670340338354307\n",
      "Test-Epoch:845 | Loss:1.0657276695984037 | Fidelity:0.9383260175433262\n",
      "Epoch:850 | Loss:1.0335238594021479 | Fidelity:0.9675635360546588\n",
      "Test-Epoch:850 | Loss:1.0653946885669279 | Fidelity:0.9386192842251816\n",
      "Epoch:855 | Loss:1.0329649333444233 | Fidelity:0.9680870741297165\n",
      "Test-Epoch:855 | Loss:1.0650674274292202 | Fidelity:0.9389076918948923\n",
      "Epoch:860 | Loss:1.0324131772988199 | Fidelity:0.9686044521597206\n",
      "Test-Epoch:860 | Loss:1.0647457774504685 | Fidelity:0.9391913273368393\n",
      "Epoch:865 | Loss:1.0318687751940772 | Fidelity:0.9691154767348366\n",
      "Test-Epoch:865 | Loss:1.0644296105640936 | Fidelity:0.9394702947713481\n",
      "Epoch:870 | Loss:1.0313319065729991 | Fidelity:0.9696199580626652\n",
      "Test-Epoch:870 | Loss:1.0641187805754553 | Fidelity:0.9397447148326987\n",
      "Epoch:875 | Loss:1.0308027453958257 | Fidelity:0.9701177111397804\n",
      "Test-Epoch:875 | Loss:1.0638131246260412 | Fidelity:0.9400147233110389\n",
      "Epoch:880 | Loss:1.0302814588102716 | Fidelity:0.9706085569614743\n",
      "Test-Epoch:880 | Loss:1.0635124649015781 | Fidelity:0.9402804696722986\n",
      "Epoch:885 | Loss:1.0297682058960465 | Fidelity:0.9710923237621772\n",
      "Test-Epoch:885 | Loss:1.0632166105573808 | Fidelity:0.9405421153792549\n",
      "Epoch:890 | Loss:1.0292631363925484 | Fidelity:0.971568848278087\n",
      "Test-Epoch:890 | Loss:1.0629253598249062 | Fidelity:0.9407998320453357\n",
      "Epoch:895 | Loss:1.0287663894203 | Fidelity:0.9720379770216743\n",
      "Test-Epoch:895 | Loss:1.0626385022558806 | Fidelity:0.9410537994596417\n",
      "Epoch:900 | Loss:1.0282780922091432 | Fidelity:0.9724995675553185\n",
      "Test-Epoch:900 | Loss:1.0623558210548507 | Fidelity:0.9413042035267093\n",
      "Epoch:905 | Loss:1.027798358849317 | Fidelity:0.9729534897482818\n",
      "Test-Epoch:905 | Loss:1.0620770954482843 | Fidelity:0.9415512341671558\n"
     ]
    },
    {
     "name": "stdout",
     "output_type": "stream",
     "text": [
      "Epoch:910 | Loss:1.027327289084894 | Fidelity:0.973399626997901\n",
      "Test-Epoch:910 | Loss:1.0618021030382097 | Fidelity:0.9417950832256118\n",
      "Epoch:915 | Loss:1.0268649671722714 | Fidelity:0.9738378773927299\n",
      "Test-Epoch:915 | Loss:1.0615306220908816 | Fidelity:0.9420359424302942\n",
      "Epoch:920 | Loss:1.0264114608291155 | Fidelity:0.9742681547926395\n",
      "Test-Epoch:920 | Loss:1.0612624337157102 | Fidelity:0.9422740014444709\n",
      "Epoch:925 | Loss:1.025966820300782 | Fidelity:0.9746903897991854\n",
      "Test-Epoch:925 | Loss:1.0609973238959172 | Fidelity:0.942509446044653\n",
      "Epoch:930 | Loss:1.0255310775717383 | Fidelity:0.9751045305889792\n",
      "Test-Epoch:930 | Loss:1.0607350853399533 | Fidelity:0.9427424564536878\n",
      "Epoch:935 | Loss:1.0251042457482966 | Fidelity:0.9755105435838172\n",
      "Test-Epoch:935 | Loss:1.0604755191304753 | Fidelity:0.9429732058500875\n",
      "Epoch:940 | Loss:1.024686318636245 | Fidelity:0.9759084139338372\n",
      "Test-Epoch:940 | Loss:1.0602184361555431 | Fidelity:0.9432018590679284\n",
      "Epoch:945 | Loss:1.0242772705328005 | Fidelity:0.9762981457938904\n",
      "Test-Epoch:945 | Loss:1.0599636583140288 | Fidelity:0.9434285714951717\n",
      "Epoch:950 | Loss:1.0238770562466262 | Fidelity:0.9766797623787407\n",
      "Test-Epoch:950 | Loss:1.0597110194935655 | Fidelity:0.9436534881725576\n",
      "Epoch:955 | Loss:1.0234856113532316 | Fidelity:0.9770533057888532\n",
      "Test-Epoch:955 | Loss:1.0594603663249307 | Fidelity:0.9438767430902703\n",
      "Epoch:960 | Loss:1.0231028526859236 | Fidelity:0.9774188366054574\n",
      "Test-Epoch:960 | Loss:1.0592115587210553 | Fidelity:0.9440984586756681\n",
      "Epoch:965 | Loss:1.0227286790553125 | Fidelity:0.9777764332605724\n",
      "Test-Epoch:965 | Loss:1.058964470212221 | Fidelity:0.9443187454623436\n",
      "Epoch:970 | Loss:1.0223629721833505 | Fidelity:0.9781261911945108\n",
      "Test-Epoch:970 | Loss:1.0587189880913992 | Fidelity:0.9445377019285782\n",
      "Epoch:975 | Loss:1.0220055978317553 | Fidelity:0.978468221819487\n",
      "Test-Epoch:975 | Loss:1.058475013385292 | Fidelity:0.9447554144917663\n",
      "Epoch:980 | Loss:1.0216564070993583 | Fidelity:0.9788026513132294\n",
      "Test-Epoch:980 | Loss:1.0582324606676925 | Fidelity:0.9449719576444003\n",
      "Epoch:985 | Loss:1.0213152378588848 | Fidelity:0.9791296192705691\n",
      "Test-Epoch:985 | Loss:1.057991257732168 | Fidelity:0.9451873942167787\n",
      "Epoch:990 | Loss:1.0209819163010052 | Fidelity:0.9794492772437909\n",
      "Test-Epoch:990 | Loss:1.057751345141355 | Fidelity:0.9454017757513352\n",
      "Epoch:995 | Loss:1.0206562585521686 | Fidelity:0.9797617872039799\n",
      "Test-Epoch:995 | Loss:1.0575126756699071 | Fidelity:0.945615142973606\n"
     ]
    }
   ],
   "source": [
    "loss_hist=[]\n",
    "fid_hist=[]\n",
    "\n",
    "loss_hist_test=[]\n",
    "fid_hist_test=[]\n",
    "\n",
    "for epoch in range(epochs):\n",
    "    batches = iterate_batches(X=training_data, batch_size=batch_size)\n",
    "    for xbatch in batches:\n",
    "        encoder_params = opt.step(cost, encoder_params, X=xbatch)\n",
    "\n",
    "        \n",
    "    if epoch%5 == 0:\n",
    "        \n",
    "        loss_training = cost(encoder_params, X_training )\n",
    "        fidel = fidelity(encoder_params, X_training )\n",
    "        \n",
    "        loss_hist.append(loss_training)\n",
    "        fid_hist.append(fidel)\n",
    "        print(\"Epoch:{} | Loss:{} | Fidelity:{}\".format(epoch, loss_training, fidel))\n",
    "\n",
    "        loss_test = cost(encoder_params, X_tes )\n",
    "        fidel = fidelity(encoder_params, X_tes )\n",
    "        loss_hist_test.append(loss_test)\n",
    "        fid_hist_test.append(fidel)\n",
    "        print(\"Test-Epoch:{} | Loss:{} | Fidelity:{}\".format(epoch, loss_test, fidel))"
   ]
  },
  {
   "cell_type": "code",
   "execution_count": null,
   "metadata": {},
   "outputs": [],
   "source": []
  },
  {
   "cell_type": "markdown",
   "metadata": {},
   "source": [
    "## Rezults"
   ]
  },
  {
   "cell_type": "code",
   "execution_count": 37,
   "metadata": {},
   "outputs": [],
   "source": [
    "import matplotlib.pyplot as plt"
   ]
  },
  {
   "cell_type": "code",
   "execution_count": 52,
   "metadata": {},
   "outputs": [
    {
     "name": "stdout",
     "output_type": "stream",
     "text": [
      "fidelity: 0.9797617872039799\n"
     ]
    },
    {
     "data": {
      "image/png": "[encoded data removed]",
      "text/plain": [
       "<Figure size 432x288 with 1 Axes>"
      ]
     },
     "metadata": {
      "needs_background": "light"
     },
     "output_type": "display_data"
    }
   ],
   "source": [
    "fig = plt.figure()\n",
    "plt.plot([x for x in range(0,len(loss_hist)*5,5)],np.array(fid_hist),label=\"train fid\")\n",
    "plt.plot([x for x in range(0,len(loss_hist)*5,5)],np.array(fid_hist_test),label=\"test fid\")\n",
    "\n",
    "\n",
    "plt.legend()\n",
    "plt.title(\"fidelity e1\",)\n",
    "plt.xlabel(\"epoch\")\n",
    "plt.ylabel(\"fid\")\n",
    "\n",
    "print(\"fidelity:\",fid_hist[-1])"
   ]
  },
  {
   "cell_type": "code",
   "execution_count": 57,
   "metadata": {},
   "outputs": [
    {
     "name": "stdout",
     "output_type": "stream",
     "text": [
      "loss: 1.0206562585521686\n"
     ]
    },
    {
     "data": {
      "image/png": "[encoded data removed]",
      "text/plain": [
       "<Figure size 432x288 with 1 Axes>"
      ]
     },
     "metadata": {
      "needs_background": "light"
     },
     "output_type": "display_data"
    }
   ],
   "source": [
    "fig = plt.figure()\n",
    "plt.plot([x for x in range(0,len(loss_hist)*5,5)],np.array(loss_hist),label=\"train loss\")\n",
    "plt.plot([x for x in range(0,len(loss_hist)*5,5)],np.array(loss_hist_test),label=\"test loss\")\n",
    "\n",
    "\n",
    "plt.legend()\n",
    "plt.title(\"loss e1\",)\n",
    "plt.xlabel(\"epoch\")\n",
    "plt.ylabel(\"loss\")\n",
    "\n",
    "print(\"loss:\",loss_hist[-1])"
   ]
  },
  {
   "cell_type": "code",
   "execution_count": 47,
   "metadata": {},
   "outputs": [
    {
     "data": {
      "text/plain": [
       "34182"
      ]
     },
     "execution_count": 47,
     "metadata": {},
     "output_type": "execute_result"
    }
   ],
   "source": [
    "name = \"training_e1\"\n",
    "\n",
    "Circuit_prop={   \"shots\":shots, \"nr_trash\":nr_trash, \"nr_latent\":nr_latent ,\"nr_ent\":nr_ent  }\n",
    "Training_param = { \"num_samples\": num_samples,\n",
    "                    \"batch_size\": batch_size,\n",
    "                    \"nr_layers\": 1,\n",
    "                    \"epochs\": epochs,\n",
    "                    \"learning_rate\":learning_rate ,\n",
    "                    \"beta1\":beta1,\n",
    "                    \"beta2 \":beta2,\n",
    "                     \"optimizer\":\"Adam\"}\n",
    "\n",
    "performance={\"loss_hist\":loss_hist, \"fid_hist\":fid_hist,\n",
    "             \"loss_hist_test\":loss_hist_test, \"fid_hist_test\":fid_hist_test,\n",
    "             \"encoder_params\":encoder_params}\n",
    "\n",
    "experiment_data={\"Circuit_prop\":Circuit_prop,\n",
    "                \"Training_param\":Training_param,\n",
    "                \"performance:\":performance,\n",
    "                \"Name\":name}\n",
    "\n",
    "# open file for writing\n",
    "f = open(name+\".txt\",\"w\")\n",
    "f.write( str(experiment_data) )"
   ]
  },
  {
   "cell_type": "code",
   "execution_count": null,
   "metadata": {},
   "outputs": [],
   "source": []
  },
  {
   "cell_type": "code",
   "execution_count": null,
   "metadata": {},
   "outputs": [],
   "source": []
  }
 ],
 "metadata": {
  "kernelspec": {
   "display_name": "Python 3 (ipykernel)",
   "language": "python",
   "name": "python3"
  },
  "language_info": {
   "codemirror_mode": {
    "name": "ipython",
    "version": 3
   },
   "file_extension": ".py",
   "mimetype": "text/x-python",
   "name": "python",
   "nbconvert_exporter": "python",
   "pygments_lexer": "ipython3",
   "version": "3.9.7"
  }
 },
 "nbformat": 4,
 "nbformat_minor": 4
}
