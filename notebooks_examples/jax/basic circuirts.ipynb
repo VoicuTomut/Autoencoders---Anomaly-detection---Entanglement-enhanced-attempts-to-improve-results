{
 "cells": [
  {
   "cell_type": "code",
   "execution_count": null,
   "metadata": {
    "executionInfo": {
     "elapsed": 3,
     "status": "ok",
     "timestamp": 1643657992556,
     "user": {
      "displayName": "Andrei Tomut",
      "photoUrl": "https://lh3.googleusercontent.com/a-/AOh14Gg41AjhvpJrWsjuTWseFfwBFJOCfaBmrNzZIgjGFws=s64",
      "userId": "15187307406392519590"
     },
     "user_tz": -120
    },
    "id": "M5NvWnI_5Q2c"
   },
   "outputs": [],
   "source": []
  },
  {
   "cell_type": "markdown",
   "metadata": {
    "id": "LHK3xu_h5R46"
   },
   "source": [
    "### Pip install"
   ]
  },
  {
   "cell_type": "code",
   "execution_count": null,
   "metadata": {},
   "outputs": [],
   "source": [
    "# that's for Google Colab"
   ]
  },
  {
   "cell_type": "code",
   "execution_count": 1,
   "metadata": {
    "colab": {
     "base_uri": "https://localhost:8080/"
    },
    "executionInfo": {
     "elapsed": 11223,
     "status": "ok",
     "timestamp": 1643658003777,
     "user": {
      "displayName": "Andrei Tomut",
      "photoUrl": "https://lh3.googleusercontent.com/a-/AOh14Gg41AjhvpJrWsjuTWseFfwBFJOCfaBmrNzZIgjGFws=s64",
      "userId": "15187307406392519590"
     },
     "user_tz": -120
    },
    "id": "lMOS5flm5T65",
    "outputId": "ce1c2b20-a058-4ace-e3ce-22675731c1bf"
   },
   "outputs": [
    {
     "name": "stdout",
     "output_type": "stream",
     "text": [
      "Collecting pennylane\n",
      "  Downloading PennyLane-0.20.0-py3-none-any.whl (756 kB)\n",
      "\u001b[?25l\r",
      "\u001b[K     |▍                               | 10 kB 16.3 MB/s eta 0:00:01\r",
      "\u001b[K     |▉                               | 20 kB 13.5 MB/s eta 0:00:01\r",
      "\u001b[K     |█▎                              | 30 kB 16.2 MB/s eta 0:00:01\r",
      "\u001b[K     |█▊                              | 40 kB 18.4 MB/s eta 0:00:01\r",
      "\u001b[K     |██▏                             | 51 kB 16.4 MB/s eta 0:00:01\r",
      "\u001b[K     |██▋                             | 61 kB 17.9 MB/s eta 0:00:01\r",
      "\u001b[K     |███                             | 71 kB 15.3 MB/s eta 0:00:01\r",
      "\u001b[K     |███▌                            | 81 kB 16.2 MB/s eta 0:00:01\r",
      "\u001b[K     |████                            | 92 kB 17.5 MB/s eta 0:00:01\r",
      "\u001b[K     |████▎                           | 102 kB 17.6 MB/s eta 0:00:01\r",
      "\u001b[K     |████▊                           | 112 kB 17.6 MB/s eta 0:00:01\r",
      "\u001b[K     |█████▏                          | 122 kB 17.6 MB/s eta 0:00:01\r",
      "\u001b[K     |█████▋                          | 133 kB 17.6 MB/s eta 0:00:01\r",
      "\u001b[K     |██████                          | 143 kB 17.6 MB/s eta 0:00:01\r",
      "\u001b[K     |██████▌                         | 153 kB 17.6 MB/s eta 0:00:01\r",
      "\u001b[K     |███████                         | 163 kB 17.6 MB/s eta 0:00:01\r",
      "\u001b[K     |███████▍                        | 174 kB 17.6 MB/s eta 0:00:01\r",
      "\u001b[K     |███████▉                        | 184 kB 17.6 MB/s eta 0:00:01\r",
      "\u001b[K     |████████▎                       | 194 kB 17.6 MB/s eta 0:00:01\r",
      "\u001b[K     |████████▋                       | 204 kB 17.6 MB/s eta 0:00:01\r",
      "\u001b[K     |█████████                       | 215 kB 17.6 MB/s eta 0:00:01\r",
      "\u001b[K     |█████████▌                      | 225 kB 17.6 MB/s eta 0:00:01\r",
      "\u001b[K     |██████████                      | 235 kB 17.6 MB/s eta 0:00:01\r",
      "\u001b[K     |██████████▍                     | 245 kB 17.6 MB/s eta 0:00:01\r",
      "\u001b[K     |██████████▉                     | 256 kB 17.6 MB/s eta 0:00:01\r",
      "\u001b[K     |███████████▎                    | 266 kB 17.6 MB/s eta 0:00:01\r",
      "\u001b[K     |███████████▊                    | 276 kB 17.6 MB/s eta 0:00:01\r",
      "\u001b[K     |████████████▏                   | 286 kB 17.6 MB/s eta 0:00:01\r",
      "\u001b[K     |████████████▋                   | 296 kB 17.6 MB/s eta 0:00:01\r",
      "\u001b[K     |█████████████                   | 307 kB 17.6 MB/s eta 0:00:01\r",
      "\u001b[K     |█████████████▍                  | 317 kB 17.6 MB/s eta 0:00:01\r",
      "\u001b[K     |█████████████▉                  | 327 kB 17.6 MB/s eta 0:00:01\r",
      "\u001b[K     |██████████████▎                 | 337 kB 17.6 MB/s eta 0:00:01\r",
      "\u001b[K     |██████████████▊                 | 348 kB 17.6 MB/s eta 0:00:01\r",
      "\u001b[K     |███████████████▏                | 358 kB 17.6 MB/s eta 0:00:01\r",
      "\u001b[K     |███████████████▋                | 368 kB 17.6 MB/s eta 0:00:01\r",
      "\u001b[K     |████████████████                | 378 kB 17.6 MB/s eta 0:00:01\r",
      "\u001b[K     |████████████████▌               | 389 kB 17.6 MB/s eta 0:00:01\r",
      "\u001b[K     |█████████████████               | 399 kB 17.6 MB/s eta 0:00:01\r",
      "\u001b[K     |█████████████████▎              | 409 kB 17.6 MB/s eta 0:00:01\r",
      "\u001b[K     |█████████████████▊              | 419 kB 17.6 MB/s eta 0:00:01\r",
      "\u001b[K     |██████████████████▏             | 430 kB 17.6 MB/s eta 0:00:01\r",
      "\u001b[K     |██████████████████▋             | 440 kB 17.6 MB/s eta 0:00:01\r",
      "\u001b[K     |███████████████████             | 450 kB 17.6 MB/s eta 0:00:01\r",
      "\u001b[K     |███████████████████▌            | 460 kB 17.6 MB/s eta 0:00:01\r",
      "\u001b[K     |████████████████████            | 471 kB 17.6 MB/s eta 0:00:01\r",
      "\u001b[K     |████████████████████▍           | 481 kB 17.6 MB/s eta 0:00:01\r",
      "\u001b[K     |████████████████████▉           | 491 kB 17.6 MB/s eta 0:00:01\r",
      "\u001b[K     |█████████████████████▏          | 501 kB 17.6 MB/s eta 0:00:01\r",
      "\u001b[K     |█████████████████████▋          | 512 kB 17.6 MB/s eta 0:00:01\r",
      "\u001b[K     |██████████████████████          | 522 kB 17.6 MB/s eta 0:00:01\r",
      "\u001b[K     |██████████████████████▌         | 532 kB 17.6 MB/s eta 0:00:01\r",
      "\u001b[K     |███████████████████████         | 542 kB 17.6 MB/s eta 0:00:01\r",
      "\u001b[K     |███████████████████████▍        | 552 kB 17.6 MB/s eta 0:00:01\r",
      "\u001b[K     |███████████████████████▉        | 563 kB 17.6 MB/s eta 0:00:01\r",
      "\u001b[K     |████████████████████████▎       | 573 kB 17.6 MB/s eta 0:00:01\r",
      "\u001b[K     |████████████████████████▊       | 583 kB 17.6 MB/s eta 0:00:01\r",
      "\u001b[K     |█████████████████████████▏      | 593 kB 17.6 MB/s eta 0:00:01\r",
      "\u001b[K     |█████████████████████████▌      | 604 kB 17.6 MB/s eta 0:00:01\r",
      "\u001b[K     |██████████████████████████      | 614 kB 17.6 MB/s eta 0:00:01\r",
      "\u001b[K     |██████████████████████████▍     | 624 kB 17.6 MB/s eta 0:00:01\r",
      "\u001b[K     |██████████████████████████▉     | 634 kB 17.6 MB/s eta 0:00:01\r",
      "\u001b[K     |███████████████████████████▎    | 645 kB 17.6 MB/s eta 0:00:01\r",
      "\u001b[K     |███████████████████████████▊    | 655 kB 17.6 MB/s eta 0:00:01\r",
      "\u001b[K     |████████████████████████████▏   | 665 kB 17.6 MB/s eta 0:00:01\r",
      "\u001b[K     |████████████████████████████▋   | 675 kB 17.6 MB/s eta 0:00:01\r",
      "\u001b[K     |█████████████████████████████   | 686 kB 17.6 MB/s eta 0:00:01\r",
      "\u001b[K     |█████████████████████████████▌  | 696 kB 17.6 MB/s eta 0:00:01\r",
      "\u001b[K     |█████████████████████████████▉  | 706 kB 17.6 MB/s eta 0:00:01\r",
      "\u001b[K     |██████████████████████████████▎ | 716 kB 17.6 MB/s eta 0:00:01\r",
      "\u001b[K     |██████████████████████████████▊ | 727 kB 17.6 MB/s eta 0:00:01\r",
      "\u001b[K     |███████████████████████████████▏| 737 kB 17.6 MB/s eta 0:00:01\r",
      "\u001b[K     |███████████████████████████████▋| 747 kB 17.6 MB/s eta 0:00:01\r",
      "\u001b[K     |████████████████████████████████| 756 kB 17.6 MB/s \n",
      "\u001b[?25hRequirement already satisfied: autograd in /usr/local/lib/python3.7/dist-packages (from pennylane) (1.3)\n",
      "Collecting semantic-version==2.6\n",
      "  Downloading semantic_version-2.6.0-py3-none-any.whl (14 kB)\n",
      "Collecting autoray\n",
      "  Downloading autoray-0.2.5-py3-none-any.whl (16 kB)\n",
      "Requirement already satisfied: toml in /usr/local/lib/python3.7/dist-packages (from pennylane) (0.10.2)\n",
      "Requirement already satisfied: appdirs in /usr/local/lib/python3.7/dist-packages (from pennylane) (1.4.4)\n",
      "Collecting pennylane-lightning>=0.18\n",
      "  Downloading PennyLane_Lightning-0.20.2-cp37-cp37m-manylinux2014_x86_64.whl (305 kB)\n",
      "\u001b[K     |████████████████████████████████| 305 kB 29.9 MB/s \n",
      "\u001b[?25hRequirement already satisfied: numpy in /usr/local/lib/python3.7/dist-packages (from pennylane) (1.19.5)\n",
      "Requirement already satisfied: networkx in /usr/local/lib/python3.7/dist-packages (from pennylane) (2.6.3)\n",
      "Requirement already satisfied: cachetools in /usr/local/lib/python3.7/dist-packages (from pennylane) (4.2.4)\n",
      "Requirement already satisfied: scipy in /usr/local/lib/python3.7/dist-packages (from pennylane) (1.4.1)\n",
      "Collecting ninja\n",
      "  Downloading ninja-1.10.2.3-py2.py3-none-manylinux_2_5_x86_64.manylinux1_x86_64.whl (108 kB)\n",
      "\u001b[K     |████████████████████████████████| 108 kB 43.7 MB/s \n",
      "\u001b[?25hRequirement already satisfied: future>=0.15.2 in /usr/local/lib/python3.7/dist-packages (from autograd->pennylane) (0.16.0)\n",
      "Installing collected packages: ninja, semantic-version, pennylane-lightning, autoray, pennylane\n",
      "Successfully installed autoray-0.2.5 ninja-1.10.2.3 pennylane-0.20.0 pennylane-lightning-0.20.2 semantic-version-2.6.0\n"
     ]
    }
   ],
   "source": [
    "#!pip install pennylane --upgrade"
   ]
  },
  {
   "cell_type": "code",
   "execution_count": 1,
   "metadata": {
    "executionInfo": {
     "elapsed": 6,
     "status": "ok",
     "timestamp": 1643658003778,
     "user": {
      "displayName": "Andrei Tomut",
      "photoUrl": "https://lh3.googleusercontent.com/a-/AOh14Gg41AjhvpJrWsjuTWseFfwBFJOCfaBmrNzZIgjGFws=s64",
      "userId": "15187307406392519590"
     },
     "user_tz": -120
    },
    "id": "n-9KBZAxvGnD"
   },
   "outputs": [],
   "source": []
  },
  {
   "cell_type": "markdown",
   "metadata": {
    "id": "CUHOi_-AvLR0"
   },
   "source": [
    "## Imports"
   ]
  },
  {
   "cell_type": "code",
   "execution_count": 2,
   "metadata": {
    "executionInfo": {
     "elapsed": 8889,
     "status": "ok",
     "timestamp": 1643658012662,
     "user": {
      "displayName": "Andrei Tomut",
      "photoUrl": "https://lh3.googleusercontent.com/a-/AOh14Gg41AjhvpJrWsjuTWseFfwBFJOCfaBmrNzZIgjGFws=s64",
      "userId": "15187307406392519590"
     },
     "user_tz": -120
    },
    "id": "yM1HhROyvShg"
   },
   "outputs": [],
   "source": [
    "import numpy \n",
    "\n",
    "import pennylane as qml\n",
    "from pennylane import numpy as np\n"
   ]
  },
  {
   "cell_type": "markdown",
   "metadata": {
    "id": "xnUrBUeQakDa"
   },
   "source": [
    "## Circuit specifications"
   ]
  },
  {
   "cell_type": "code",
   "execution_count": 3,
   "metadata": {
    "executionInfo": {
     "elapsed": 14,
     "status": "ok",
     "timestamp": 1643658012663,
     "user": {
      "displayName": "Andrei Tomut",
      "photoUrl": "https://lh3.googleusercontent.com/a-/AOh14Gg41AjhvpJrWsjuTWseFfwBFJOCfaBmrNzZIgjGFws=s64",
      "userId": "15187307406392519590"
     },
     "user_tz": -120
    },
    "id": "cXpIPJyAawVt"
   },
   "outputs": [],
   "source": [
    "class QubitsArrangement:\n",
    "  def __init__(self, nr_trash, nr_latent, nr_swap=1, nr_ent=2):\n",
    "    self.latent_qubits =[ i for i in range(nr_latent) ] # qubits in register A \n",
    "    self.trash_qubits = [ i for i in range(nr_latent,nr_latent+nr_trash) ]  # qubits in register B\n",
    "    self.aux_qubits = [ i for i in range(nr_latent+nr_trash,nr_latent+2*nr_trash) ]# qubits in a (nr_q(a)=nr_q(B))\n",
    "    self.swap_qubits = [ i for i in range(nr_latent+2*nr_trash,nr_latent+2*nr_trash+nr_swap) ]#qubits used for swap tests \n",
    "    self.ent_qubits = [ i for i in range(nr_latent+2*nr_trash+nr_swap,nr_latent+2*nr_trash+nr_swap+nr_ent) ] #qubits used for entanglement \n",
    "    self.qubits = [i for i in range(nr_latent+2*nr_trash+nr_swap+nr_ent)] # list with all the qubits"
   ]
  },
  {
   "cell_type": "code",
   "execution_count": 4,
   "metadata": {
    "executionInfo": {
     "elapsed": 14,
     "status": "ok",
     "timestamp": 1643658012664,
     "user": {
      "displayName": "Andrei Tomut",
      "photoUrl": "https://lh3.googleusercontent.com/a-/AOh14Gg41AjhvpJrWsjuTWseFfwBFJOCfaBmrNzZIgjGFws=s64",
      "userId": "15187307406392519590"
     },
     "user_tz": -120
    },
    "id": "mtZwdCjMgCLd"
   },
   "outputs": [],
   "source": [
    "spec = QubitsArrangement(nr_trash=1, nr_latent=2, nr_swap=1, nr_ent=0)"
   ]
  },
  {
   "cell_type": "markdown",
   "metadata": {
    "id": "rPRN9K3JvXsd"
   },
   "source": [
    "## Initialization "
   ]
  },
  {
   "cell_type": "code",
   "execution_count": 5,
   "metadata": {
    "executionInfo": {
     "elapsed": 14,
     "status": "ok",
     "timestamp": 1643658012664,
     "user": {
      "displayName": "Andrei Tomut",
      "photoUrl": "https://lh3.googleusercontent.com/a-/AOh14Gg41AjhvpJrWsjuTWseFfwBFJOCfaBmrNzZIgjGFws=s64",
      "userId": "15187307406392519590"
     },
     "user_tz": -120
    },
    "id": "IoDskxhtwY_O"
   },
   "outputs": [],
   "source": [
    "# AB initialization #\n",
    "\n",
    "# Amplitud encoding:\n",
    "def setAB_amplitude(spec, inputs):\n",
    "  \"\"\"\n",
    "  insputs: vector of amplitudes\n",
    "  \"\"\"\n",
    "  qml.templates.embeddings.AmplitudeEmbedding(inputs, wires = [*spec.latent_qubits,*spec.trash_qubits], normalize = True,pad_with=(0.j))\n",
    "\n",
    "# Angle encoding:\n",
    "def setAB_angle(spec, inputs, rotation):\n",
    "  \"\"\"\n",
    "  inputs: vector on angles\n",
    "  \"\"\"\n",
    "  qml.templates.embeddings.AngleEmbedding(inputs, wires =[*spec.latent_qubits,*spec.trash_qubits], rotation=rotation)\n",
    "\n",
    "# State encoding:\n",
    "def setAB_state(spec, inputs):\n",
    "  \"\"\"\n",
    "  insputs: state vector \n",
    "  \"\"\"\n",
    "  qml.MottonenStatePreparation(inputs, wires =[*spec.latent_qubits,*spec.trash_qubits])\n",
    "\n",
    "\n",
    "# Auxiliary Qubits ialization #\n",
    "\n",
    "# prepare the state in witch trash-qubits will be reinitialized:\n",
    "def setAux(spec,inputs):\n",
    "  \"\"\"\n",
    "  insputs: state vector \n",
    "  \"\"\"\n",
    "  qml.MottonenStatePreparation(inputs, wires = spec.aux_qubits)\n",
    "\n",
    "\n",
    "# Entanglement preparation #\n",
    "\n",
    "# Prepare the entagled qubits:\n",
    "# we can aso decide to use  H CX or something else for the final submmision\n",
    "# for tests this option is quite eazy to customize \n",
    "def setEnt(spec,inputs):\n",
    "  \"\"\"\n",
    "  insputs: state vector \n",
    "  \"\"\"\n",
    "  qml.MottonenStatePreparation(inputs, wires = spec.ent_qubits)\n",
    "\n",
    "\n",
    "\n"
   ]
  },
  {
   "cell_type": "markdown",
   "metadata": {
    "id": "9fx8pGA794c8"
   },
   "source": [
    "## Encoder operator "
   ]
  },
  {
   "cell_type": "markdown",
   "metadata": {
    "id": "I4yLg4zP-Lny"
   },
   "source": [
    "### encoder"
   ]
  },
  {
   "cell_type": "code",
   "execution_count": 6,
   "metadata": {
    "executionInfo": {
     "elapsed": 14,
     "status": "ok",
     "timestamp": 1643658012664,
     "user": {
      "displayName": "Andrei Tomut",
      "photoUrl": "https://lh3.googleusercontent.com/a-/AOh14Gg41AjhvpJrWsjuTWseFfwBFJOCfaBmrNzZIgjGFws=s64",
      "userId": "15187307406392519590"
     },
     "user_tz": -120
    },
    "id": "FnrzPmie-OUn"
   },
   "outputs": [],
   "source": [
    "# One of the cicruits from the original paper \n",
    "\n",
    "def e1_classic(params,wires):\n",
    "  \"\"\"\n",
    "  nr_params = 2*3*len(wires)+ 3*(len(wires)-1)*len(wires)\n",
    "  \"\"\"\n",
    "\n",
    "  # Add the first rotational gates:\n",
    "  idx = 0\n",
    "  for i in wires:\n",
    "    # qml.Rot(phi, theta, omega, wire)\n",
    "    qml.Rot(params[idx], params[idx+1], params[idx+2], wires = i)\n",
    "    idx += 3\n",
    "\n",
    "  # Add the controlled rotational gates\n",
    "  for i in wires:\n",
    "    for j in wires:\n",
    "      if i!= j:\n",
    "        qml.CRot(params[idx], params[idx+1], params[idx+2], wires = [i, j])\n",
    "        idx += 3\n",
    "\n",
    "  # Add the last rotational gates:\n",
    "  for i in wires:\n",
    "    # qml.Rot(phi, theta, omega, wire)\n",
    "    qml.Rot(params[idx], params[idx+1], params[idx+2], wires = i)\n",
    "    idx += 3\n",
    "\n"
   ]
  },
  {
   "cell_type": "code",
   "execution_count": 7,
   "metadata": {
    "executionInfo": {
     "elapsed": 14,
     "status": "ok",
     "timestamp": 1643658012665,
     "user": {
      "displayName": "Andrei Tomut",
      "photoUrl": "https://lh3.googleusercontent.com/a-/AOh14Gg41AjhvpJrWsjuTWseFfwBFJOCfaBmrNzZIgjGFws=s64",
      "userId": "15187307406392519590"
     },
     "user_tz": -120
    },
    "id": "Yui8phMoYeR2"
   },
   "outputs": [],
   "source": [
    "# we need totest more circuit configurations"
   ]
  },
  {
   "cell_type": "markdown",
   "metadata": {
    "id": "UGqEaq7t7vNO"
   },
   "source": [
    "### decoder"
   ]
  },
  {
   "cell_type": "code",
   "execution_count": 8,
   "metadata": {
    "executionInfo": {
     "elapsed": 14,
     "status": "ok",
     "timestamp": 1643658012665,
     "user": {
      "displayName": "Andrei Tomut",
      "photoUrl": "https://lh3.googleusercontent.com/a-/AOh14Gg41AjhvpJrWsjuTWseFfwBFJOCfaBmrNzZIgjGFws=s64",
      "userId": "15187307406392519590"
     },
     "user_tz": -120
    },
    "id": "WXPFP-ZY-SNW"
   },
   "outputs": [],
   "source": [
    "# this decodor is basiclay the adjoint of the encoder\n",
    "def decoder_adjoint(encoder_circuit,params, wires):\n",
    "  return qml.adjoint(encoder_circuit)(params, wires)\n",
    "\n",
    "# parametrizad dencoders \n",
    "def d1_classic(params, wires):\n",
    "  \"\"\"\n",
    "  nr_params = 2*3*len(wires)+ 3*(len(wires)-1)*len(wires)\n",
    "  \"\"\"\n",
    "\n",
    "   # Add the first rotational gates:\n",
    "  idx = 0\n",
    "  for i in wires:\n",
    "    # qml.Rot(phi, theta, omega, wire)\n",
    "    qml.Rot(params[idx], params[idx+1], params[idx+2], wires = i)\n",
    "    idx += 3\n",
    "\n",
    "  # Add the controlled rotational gates\n",
    "  for i in wires:\n",
    "    for j in wires:\n",
    "      if i!= j:\n",
    "        qml.CRot(params[idx], params[idx+1], params[idx+2], wires = [i, j])\n",
    "        idx += 3\n",
    "\n",
    "  # Add the last rotational gates:\n",
    "  for i in wires:\n",
    "    # qml.Rot(phi, theta, omega, wire)\n",
    "    qml.Rot(params[idx], params[idx+1], params[idx+2], wires = i)\n",
    "    idx += 3\n",
    "\n"
   ]
  },
  {
   "cell_type": "code",
   "execution_count": 9,
   "metadata": {
    "executionInfo": {
     "elapsed": 15,
     "status": "ok",
     "timestamp": 1643658012666,
     "user": {
      "displayName": "Andrei Tomut",
      "photoUrl": "https://lh3.googleusercontent.com/a-/AOh14Gg41AjhvpJrWsjuTWseFfwBFJOCfaBmrNzZIgjGFws=s64",
      "userId": "15187307406392519590"
     },
     "user_tz": -120
    },
    "id": "QPMpyeusYgmG"
   },
   "outputs": [],
   "source": [
    "# we need totest more circuit configurations"
   ]
  },
  {
   "cell_type": "markdown",
   "metadata": {
    "id": "DSl_9iLJYbgv"
   },
   "source": [
    "## Swap test\n"
   ]
  },
  {
   "cell_type": "code",
   "execution_count": 15,
   "metadata": {
    "executionInfo": {
     "elapsed": 2,
     "status": "ok",
     "timestamp": 1643658259816,
     "user": {
      "displayName": "Andrei Tomut",
      "photoUrl": "https://lh3.googleusercontent.com/a-/AOh14Gg41AjhvpJrWsjuTWseFfwBFJOCfaBmrNzZIgjGFws=s64",
      "userId": "15187307406392519590"
     },
     "user_tz": -120
    },
    "id": "ni5gEsCOYZHR"
   },
   "outputs": [],
   "source": [
    "def swap_t(spec):\n",
    "  for i in spec.swap_qubits:\n",
    "    qml.Hadamard(wires = i)\n",
    "  for i in range(len(spec.trash_qubits)):\n",
    "    qml.CSWAP(wires = [*spec.swap_qubits, spec.aux_qubits[i], spec.trash_qubits[i] ])\n",
    "  for i in spec.swap_qubits:\n",
    "    qml.Hadamard(wires = i)"
   ]
  },
  {
   "cell_type": "markdown",
   "metadata": {
    "id": "3BPKu-1xZBKR"
   },
   "source": [
    "## Additional evaluation methods\n",
    "\n",
    "-> "
   ]
  },
  {
   "cell_type": "code",
   "execution_count": 11,
   "metadata": {
    "executionInfo": {
     "elapsed": 7,
     "status": "ok",
     "timestamp": 1643658013060,
     "user": {
      "displayName": "Andrei Tomut",
      "photoUrl": "https://lh3.googleusercontent.com/a-/AOh14Gg41AjhvpJrWsjuTWseFfwBFJOCfaBmrNzZIgjGFws=s64",
      "userId": "15187307406392519590"
     },
     "user_tz": -120
    },
    "id": "hV7HnV5AjNsk"
   },
   "outputs": [],
   "source": [
    "##"
   ]
  },
  {
   "cell_type": "markdown",
   "metadata": {
    "id": "i3_M6Km5jPoT"
   },
   "source": [
    "## Training node\n"
   ]
  },
  {
   "cell_type": "code",
   "execution_count": 12,
   "metadata": {
    "colab": {
     "base_uri": "https://localhost:8080/"
    },
    "executionInfo": {
     "elapsed": 686,
     "status": "ok",
     "timestamp": 1643658013740,
     "user": {
      "displayName": "Andrei Tomut",
      "photoUrl": "https://lh3.googleusercontent.com/a-/AOh14Gg41AjhvpJrWsjuTWseFfwBFJOCfaBmrNzZIgjGFws=s64",
      "userId": "15187307406392519590"
     },
     "user_tz": -120
    },
    "id": "l-EAdaahjo6F",
    "outputId": "424c9ec8-ff7c-48e6-9ce0-5e80fe44f40d"
   },
   "outputs": [
    {
     "name": "stdout",
     "output_type": "stream",
     "text": [
      "Qubtis: [0, 1, 2, 3, 4, 5, 6, 7, 8]\n"
     ]
    }
   ],
   "source": [
    "spec = QubitsArrangement(nr_trash=2, nr_latent=2, nr_swap=1, nr_ent=2)\n",
    "print(\"Qubtis:\", spec.qubits)\n",
    "\n",
    "#set up the device \n",
    "dev = qml.device(\"default.qubit\", wires=len(spec.qubits))"
   ]
  },
  {
   "cell_type": "code",
   "execution_count": 13,
   "metadata": {
    "executionInfo": {
     "elapsed": 6,
     "status": "ok",
     "timestamp": 1643658013740,
     "user": {
      "displayName": "Andrei Tomut",
      "photoUrl": "https://lh3.googleusercontent.com/a-/AOh14Gg41AjhvpJrWsjuTWseFfwBFJOCfaBmrNzZIgjGFws=s64",
      "userId": "15187307406392519590"
     },
     "user_tz": -120
    },
    "id": "0K0aq90xj26t"
   },
   "outputs": [],
   "source": [
    "\n",
    "@qml.qnode(dev)\n",
    "def training_circuit_example(init_params, encoder_params,reinit_state):\n",
    "\n",
    "  #initilaization \n",
    "  setAB_amplitude(spec, init_params)\n",
    "\n",
    "  setAux(spec,reinit_state)\n",
    "\n",
    "  setEnt(spec,inputs=[1/np.sqrt(2),0,0,1/np.sqrt(2)])  \n",
    "\n",
    "\n",
    "\n",
    "  #encoder \n",
    "  for params in encoder_params:\n",
    "    e1_classic(params,  [*spec.latent_qubits,*spec.trash_qubits])\n",
    "\n",
    "  #swap test \n",
    "  swap_t(spec)\n",
    "\n",
    "  return  [qml.probs(i) for i in spec.swap_qubits]\n"
   ]
  },
  {
   "cell_type": "code",
   "execution_count": 16,
   "metadata": {
    "colab": {
     "base_uri": "https://localhost:8080/"
    },
    "executionInfo": {
     "elapsed": 263,
     "status": "ok",
     "timestamp": 1643658261509,
     "user": {
      "displayName": "Andrei Tomut",
      "photoUrl": "https://lh3.googleusercontent.com/a-/AOh14Gg41AjhvpJrWsjuTWseFfwBFJOCfaBmrNzZIgjGFws=s64",
      "userId": "15187307406392519590"
     },
     "user_tz": -120
    },
    "id": "x_46hhTmvYFU",
    "outputId": "07a6b82c-d0f0-4c35-e9b3-815174e6b379"
   },
   "outputs": [
    {
     "name": "stdout",
     "output_type": "stream",
     "text": [
      " 0: ──╭AmplitudeEmbedding(M0)────────Rot(0.793, 0.759, 0.483)───╭C─────────────────────────╭C──────────────────────────╭C──────────────────────────╭Rot(0.521, 0.152, 0.282)───────────────────────────────────────────────────────╭Rot(0.838, 0.543, 0.669)─────────────────────────────────────────────────────╭Rot(0.324, 0.81, 0.0763)───Rot(0.0322, 0.0998, 0.879)──────────────────────────────────────────────────────────────────────────┤       \n",
      " 1: ──├AmplitudeEmbedding(M0)────────Rot(0.881, 0.13, 0.321)────╰Rot(0.267, 0.032, 0.211)──│───────────────────────────│───────────────────────────╰C─────────────────────────╭C─────────────────────────╭C────────────────────────│──────────────────────────╭Rot(0.686, 0.907, 0.45)───────────────────────────│──────────────────────────╭Rot(0.0471, 0.614, 0.988)────Rot(0.913, 0.743, 0.877)───────────────────────────────────────────────┤       \n",
      " 2: ──├AmplitudeEmbedding(M0)────────Rot(0.464, 0.284, 0.503)──────────────────────────────╰Rot(0.901, 0.392, 0.0331)──│──────────────────────────────────────────────────────╰Rot(0.982, 0.617, 0.169)──│─────────────────────────╰C─────────────────────────╰C────────────────────────╭C───────────────────────│──────────────────────────│────────────────────────────╭Rot(0.0335, 0.316, 0.814)──Rot(0.0254, 0.282, 0.702)──╭SWAP────────────┤       \n",
      " 3: ──╰AmplitudeEmbedding(M0)────────Rot(0.0436, 0.566, 0.432)─────────────────────────────────────────────────────────╰Rot(0.045, 0.0227, 0.285)────────────────────────────────────────────────────────╰Rot(0.624, 0.121, 0.39)───────────────────────────────────────────────────────╰Rot(0.8, 0.411, 0.224)──╰C─────────────────────────╰C───────────────────────────╰C──────────────────────────Rot(0.339, 0.453, 0.859)───│──────╭SWAP─────┤       \n",
      " 4: ──╭MottonenStatePreparation(M1)─────────────────────────────────────────────────────────────────────────────────────────────────────────────────────────────────────────────────────────────────────────────────────────────────────────────────────────────────────────────────────────────────────────────────────────────────────────────────────────────────────────────────────────────────────────────────────────────├SWAP──│─────────┤       \n",
      " 5: ──╰MottonenStatePreparation(M1)─────────────────────────────────────────────────────────────────────────────────────────────────────────────────────────────────────────────────────────────────────────────────────────────────────────────────────────────────────────────────────────────────────────────────────────────────────────────────────────────────────────────────────────────────────────────────────────────│──────├SWAP─────┤       \n",
      " 6: ───H────────────────────────────────────────────────────────────────────────────────────────────────────────────────────────────────────────────────────────────────────────────────────────────────────────────────────────────────────────────────────────────────────────────────────────────────────────────────────────────────────────────────────────────────────────────────────────────────────────────────────────╰C─────╰C─────H──┤ Probs \n",
      " 7: ──╭MottonenStatePreparation(M2)──────────────────────────────────────────────────────────────────────────────────────────────────────────────────────────────────────────────────────────────────────────────────────────────────────────────────────────────────────────────────────────────────────────────────────────────────────────────────────────────────────────────────────────────────────────────────────────────────────────────┤       \n",
      " 8: ──╰MottonenStatePreparation(M2)──────────────────────────────────────────────────────────────────────────────────────────────────────────────────────────────────────────────────────────────────────────────────────────────────────────────────────────────────────────────────────────────────────────────────────────────────────────────────────────────────────────────────────────────────────────────────────────────────────────────┤       \n",
      "M0 =\n",
      "[0.+0.j 0.+0.j 1.+0.j 0.+0.j 0.+0.j 0.+0.j 0.+0.j 0.+0.j 0.+0.j 0.+0.j\n",
      " 0.+0.j 0.+0.j 0.+0.j 0.+0.j 0.+0.j 0.+0.j]\n",
      "M1 =\n",
      "[1 0 0 0]\n",
      "M2 =\n",
      "[0.7071067811865475, 0, 0, 0.7071067811865475]\n",
      "\n"
     ]
    }
   ],
   "source": [
    "nr_encod_qubits = len(spec.trash_qubits)+len(spec.latent_qubits)\n",
    "nr_par_encoder = 2*3*nr_encod_qubits+ 3*(nr_encod_qubits-1)*nr_encod_qubits\n",
    "encoder_params= np.random.uniform(size=(1, nr_par_encoder), requires_grad=True)\n",
    "\n",
    "init_params = [0 for i in range(2**nr_encod_qubits)]\n",
    "init_params[2] = 1\n",
    "\n",
    "\n",
    "reinit_state =  [0 for i in range(2**len(spec.aux_qubits))]\n",
    "reinit_state[0] = 1\n",
    "\n",
    "\n",
    "\n",
    "print(qml.draw(training_circuit_example)(init_params, encoder_params,reinit_state))"
   ]
  },
  {
   "cell_type": "code",
   "execution_count": 14,
   "metadata": {
    "executionInfo": {
     "elapsed": 5,
     "status": "ok",
     "timestamp": 1643658013741,
     "user": {
      "displayName": "Andrei Tomut",
      "photoUrl": "https://lh3.googleusercontent.com/a-/AOh14Gg41AjhvpJrWsjuTWseFfwBFJOCfaBmrNzZIgjGFws=s64",
      "userId": "15187307406392519590"
     },
     "user_tz": -120
    },
    "id": "VriwzAub7S5B"
   },
   "outputs": [],
   "source": []
  },
  {
   "cell_type": "markdown",
   "metadata": {
    "id": "esuMI5OJD7hP"
   },
   "source": [
    "## Training example "
   ]
  },
  {
   "cell_type": "markdown",
   "metadata": {
    "id": "rlNjsZi8Kpe_"
   },
   "source": [
    "# Check the following notebook: \n",
    "-> https://colab.research.google.com/drive/1QCmp8uCqLXslk0FaGRlgRJW5qrPyhU14?usp=sharing"
   ]
  }
 ],
 "metadata": {
  "colab": {
   "authorship_tag": "ABX9TyMi2aTlhz+/vHXy8t5cVGXy",
   "name": "basic circuirts.ipynb",
   "provenance": []
  },
  "kernelspec": {
   "display_name": "Python 3 (ipykernel)",
   "language": "python",
   "name": "python3"
  },
  "language_info": {
   "codemirror_mode": {
    "name": "ipython",
    "version": 3
   },
   "file_extension": ".py",
   "mimetype": "text/x-python",
   "name": "python",
   "nbconvert_exporter": "python",
   "pygments_lexer": "ipython3",
   "version": "3.9.7"
  }
 },
 "nbformat": 4,
 "nbformat_minor": 1
}
