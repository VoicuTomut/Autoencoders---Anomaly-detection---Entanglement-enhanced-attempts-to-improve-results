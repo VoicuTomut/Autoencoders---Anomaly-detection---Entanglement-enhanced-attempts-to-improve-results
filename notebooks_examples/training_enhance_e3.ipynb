{
 "cells": [
  {
   "cell_type": "code",
   "execution_count": 2,
   "metadata": {
    "id": "OgAc6mCDK_mq"
   },
   "outputs": [],
   "source": [
    "# This is work in progres \n",
    "# I used the encodere from the : Quantum autoencoders with enhanced data encoding\n",
    "# paper link:https://arxiv.org/abs/2010.06599\n",
    "\n",
    "# it is working but data and optimization parameters need to be modified for an exact comparison.\n",
    "# Also, as I observed, they used a scalar as an extra feature. I think we can use a vector instead, and maybe we will get better results. "
   ]
  },
  {
   "cell_type": "markdown",
   "metadata": {
    "id": "LHK3xu_h5R46"
   },
   "source": [
    "### Pip install"
   ]
  },
  {
   "cell_type": "code",
   "execution_count": 3,
   "metadata": {
    "colab": {
     "base_uri": "https://localhost:8080/"
    },
    "executionInfo": {
     "elapsed": 6403,
     "status": "ok",
     "timestamp": 1643636434480,
     "user": {
      "displayName": "Andrei Tomut",
      "photoUrl": "https://lh3.googleusercontent.com/a-/AOh14Gg41AjhvpJrWsjuTWseFfwBFJOCfaBmrNzZIgjGFws=s64",
      "userId": "15187307406392519590"
     },
     "user_tz": -120
    },
    "id": "lMOS5flm5T65",
    "outputId": "65fb13b4-5099-4e18-bc1e-7a787041fea1"
   },
   "outputs": [],
   "source": [
    "#!pip install pennylane --upgrade"
   ]
  },
  {
   "cell_type": "markdown",
   "metadata": {
    "id": "CUHOi_-AvLR0"
   },
   "source": [
    "## Imports"
   ]
  },
  {
   "cell_type": "code",
   "execution_count": 42,
   "metadata": {
    "executionInfo": {
     "elapsed": 8413,
     "status": "ok",
     "timestamp": 1643636442889,
     "user": {
      "displayName": "Andrei Tomut",
      "photoUrl": "https://lh3.googleusercontent.com/a-/AOh14Gg41AjhvpJrWsjuTWseFfwBFJOCfaBmrNzZIgjGFws=s64",
      "userId": "15187307406392519590"
     },
     "user_tz": -120
    },
    "id": "yM1HhROyvShg"
   },
   "outputs": [],
   "source": [
    "import random\n",
    "\n",
    "import pennylane as qml\n",
    "from pennylane import numpy as np\n",
    "\n",
    "from pennylane.optimize import AdamOptimizer\n",
    "\n",
    "import torch\n",
    "from torchvision import datasets, transforms"
   ]
  },
  {
   "cell_type": "code",
   "execution_count": 43,
   "metadata": {
    "id": "oEeKwD-VMLdB"
   },
   "outputs": [],
   "source": [
    "from qencode.initialize import setAB_amplitude, setAux, setEnt\n",
    "from qencode.encoders import e3_enhance\n",
    "from qencode.training_circuits import swap_t\n",
    "from qencode.qubits_arrangement import QubitsArrangement"
   ]
  },
  {
   "cell_type": "markdown",
   "metadata": {
    "id": "1DXdOXCOXbCW"
   },
   "source": [
    "## Get Data"
   ]
  },
  {
   "cell_type": "code",
   "execution_count": 44,
   "metadata": {
    "executionInfo": {
     "elapsed": 295,
     "status": "ok",
     "timestamp": 1643636528767,
     "user": {
      "displayName": "Andrei Tomut",
      "photoUrl": "https://lh3.googleusercontent.com/a-/AOh14Gg41AjhvpJrWsjuTWseFfwBFJOCfaBmrNzZIgjGFws=s64",
      "userId": "15187307406392519590"
     },
     "user_tz": -120
    },
    "id": "4BdAcqL4XeT3"
   },
   "outputs": [],
   "source": [
    "def get_dataset(img_width, img_height, train):\n",
    "    trainset = datasets.MNIST(root='./dataset', train=train, download=True,\n",
    "                              transform=transforms.Compose(\n",
    "                                  [transforms.Resize((img_width, img_height)), transforms.ToTensor()])\n",
    "                              )\n",
    "    return trainset"
   ]
  },
  {
   "cell_type": "code",
   "execution_count": 45,
   "metadata": {
    "id": "guX_ruXmXvyj"
   },
   "outputs": [
    {
     "data": {
      "text/plain": "(tensor([[[0.0000, 0.0000, 0.0000, 0.0000, 0.0000, 0.0000, 0.0000, 0.0000],\n          [0.0000, 0.0039, 0.1137, 0.2510, 0.3647, 0.3529, 0.2784, 0.0118],\n          [0.0000, 0.0157, 0.4078, 0.7725, 0.5608, 0.2588, 0.0902, 0.0039],\n          [0.0000, 0.0000, 0.0353, 0.4157, 0.2745, 0.0353, 0.0000, 0.0000],\n          [0.0000, 0.0000, 0.0000, 0.0824, 0.4941, 0.3882, 0.0118, 0.0000],\n          [0.0000, 0.0039, 0.0510, 0.3059, 0.6392, 0.4784, 0.0157, 0.0000],\n          [0.0078, 0.2392, 0.5804, 0.6118, 0.2667, 0.0392, 0.0000, 0.0000],\n          [0.0078, 0.1451, 0.1843, 0.0588, 0.0000, 0.0000, 0.0000, 0.0000]]]),\n 5)"
     },
     "execution_count": 45,
     "metadata": {},
     "output_type": "execute_result"
    }
   ],
   "source": [
    "nr_qubits = 6\n",
    "input_data = get_dataset(img_width=8, img_height=8, train=True)\n",
    "input_data[0]"
   ]
  },
  {
   "cell_type": "code",
   "execution_count": 46,
   "metadata": {},
   "outputs": [
    {
     "data": {
      "text/plain": "60000"
     },
     "execution_count": 46,
     "metadata": {},
     "output_type": "execute_result"
    }
   ],
   "source": [
    "len(input_data)"
   ]
  },
  {
   "cell_type": "code",
   "execution_count": 47,
   "metadata": {},
   "outputs": [
    {
     "data": {
      "text/plain": "12665"
     },
     "execution_count": 47,
     "metadata": {},
     "output_type": "execute_result"
    }
   ],
   "source": [
    "filtered_data = [image for image in input_data if image[1] in [0, 1]]\n",
    "input_data = filtered_data\n",
    "len(filtered_data)"
   ]
  },
  {
   "cell_type": "markdown",
   "metadata": {
    "id": "i3_M6Km5jPoT"
   },
   "source": [
    "## Training node\n"
   ]
  },
  {
   "cell_type": "code",
   "execution_count": 63,
   "metadata": {
    "colab": {
     "base_uri": "https://localhost:8080/"
    },
    "executionInfo": {
     "elapsed": 269,
     "status": "ok",
     "timestamp": 1643630263864,
     "user": {
      "displayName": "Andrei Tomut",
      "photoUrl": "https://lh3.googleusercontent.com/a-/AOh14Gg41AjhvpJrWsjuTWseFfwBFJOCfaBmrNzZIgjGFws=s64",
      "userId": "15187307406392519590"
     },
     "user_tz": -120
    },
    "id": "l-EAdaahjo6F",
    "outputId": "b13db808-bf24-4381-bd24-847e7c278da7"
   },
   "outputs": [
    {
     "name": "stdout",
     "output_type": "stream",
     "text": [
      "Qubits: [0, 1, 2, 3, 4, 5, 6, 7, 8, 9]\n"
     ]
    }
   ],
   "source": [
    "shots = 2500\n",
    "spec = QubitsArrangement(nr_trash=3, nr_latent=3, nr_swap=1, nr_ent=0)\n",
    "print(\"Qubits:\", spec.qubits)\n",
    "\n",
    "#set up the device \n",
    "dev = qml.device(\"default.qubit\", wires=spec.num_qubits)\n",
    "\n",
    "nr_layers = 4"
   ]
  },
  {
   "cell_type": "code",
   "execution_count": 49,
   "metadata": {
    "id": "0K0aq90xj26t"
   },
   "outputs": [],
   "source": [
    "@qml.qnode(dev)\n",
    "def training_circuit_example(init_params, encoder_params, reinit_state, x):\n",
    "    # Initialization\n",
    "    setAB_amplitude(spec, init_params)\n",
    "    setAux(spec, reinit_state)\n",
    "    setEnt(spec, inputs=[1 / np.sqrt(2), 0, 0, 1 / np.sqrt(2)])\n",
    "\n",
    "    #encoder \n",
    "    for params in encoder_params:\n",
    "        e3_enhance(params, x, spec)\n",
    "\n",
    "    #swap test \n",
    "    swap_t(spec)\n",
    "\n",
    "    return [qml.probs(i) for i in spec.swap_qubits]\n"
   ]
  },
  {
   "cell_type": "markdown",
   "metadata": {},
   "source": [
    "## Training parameters "
   ]
  },
  {
   "cell_type": "code",
   "execution_count": 50,
   "metadata": {},
   "outputs": [],
   "source": [
    "epochs = 50\n",
    "learning_rate = 0.0003\n",
    "batch_size = 5\n",
    "num_samples = 20\n",
    "\n",
    "beta1 = 0.9\n",
    "beta2 = 0.999\n",
    "opt = AdamOptimizer(learning_rate, beta1=beta1, beta2=beta2)"
   ]
  },
  {
   "cell_type": "code",
   "execution_count": 51,
   "metadata": {},
   "outputs": [],
   "source": [
    "def fid_func(output):\n",
    "    # Implemented as the Fidelity Loss\n",
    "    # output[0] because we take the probability that the state after the \n",
    "    # SWAP test is ket(0), like the reference state\n",
    "    fidelity_loss = 1 / output[0]\n",
    "    return fidelity_loss"
   ]
  },
  {
   "cell_type": "code",
   "execution_count": 60,
   "metadata": {},
   "outputs": [],
   "source": [
    "def cost(encoder_params, X):\n",
    "    reinit_state = [0 for _ in range(2 ** len(spec.aux_qubits))]\n",
    "    reinit_state[0] = 1.0\n",
    "    loss = 0.0\n",
    "    for x in X:\n",
    "        output = training_circuit_example(init_params=x[0][0],\n",
    "                                          encoder_params=encoder_params,\n",
    "                                          reinit_state=reinit_state, x=x[1])[0]\n",
    "        f = fid_func(output)\n",
    "        loss = loss + f\n",
    "    return loss / len(X)"
   ]
  },
  {
   "cell_type": "code",
   "execution_count": 53,
   "metadata": {},
   "outputs": [],
   "source": [
    "def fidelity(encoder_params, X):\n",
    "    reinit_state = [0 for _ in range(2 ** len(spec.aux_qubits))]\n",
    "    reinit_state[0] = 1.0\n",
    "    loss = 0.0\n",
    "    for x in X:\n",
    "        output = training_circuit_example(init_params=x[0][0],\n",
    "                                          encoder_params=encoder_params,\n",
    "                                          reinit_state=reinit_state, x=x[1])[0]\n",
    "        f = output[0]\n",
    "        loss = loss + f\n",
    "    return loss / len(X)"
   ]
  },
  {
   "cell_type": "code",
   "execution_count": 54,
   "metadata": {},
   "outputs": [],
   "source": [
    "def iterate_batches(X, batch_size):\n",
    "    X1 = [torch.reshape(x[0], (1, 2 ** (len(spec.latent_qubits) + len(spec.trash_qubits)))) for x in X]\n",
    "    X2 = []\n",
    "    for i in range(len(X1)):\n",
    "        X2.append([X1[1], X[i][1]])\n",
    "    X = X2\n",
    "    random.shuffle(X)\n",
    "\n",
    "    batch_list = []\n",
    "    batch = []\n",
    "    for x in X:\n",
    "        if len(batch) < batch_size:\n",
    "            batch.append(x)\n",
    "\n",
    "        else:\n",
    "            batch_list.append(batch)\n",
    "            batch = []\n",
    "    if len(batch) != 0:\n",
    "        batch_list.append(batch)\n",
    "    return batch_list"
   ]
  },
  {
   "cell_type": "code",
   "execution_count": 55,
   "metadata": {},
   "outputs": [],
   "source": [
    "training_data = [input_data[i] for i in range(num_samples)]"
   ]
  },
  {
   "cell_type": "code",
   "execution_count": 56,
   "metadata": {},
   "outputs": [
    {
     "data": {
      "text/plain": "[[tensor([[0.0000, 0.0000, 0.0000, 0.0000, 0.0000, 0.0000, 0.0000, 0.0000, 0.0000,\n           0.0000, 0.0000, 0.0000, 0.0471, 0.3804, 0.0941, 0.0000, 0.0000, 0.0000,\n           0.0000, 0.0039, 0.3294, 0.5725, 0.0627, 0.0000, 0.0000, 0.0000, 0.0000,\n           0.1255, 0.6275, 0.1843, 0.0000, 0.0000, 0.0000, 0.0000, 0.0314, 0.5490,\n           0.4157, 0.0078, 0.0000, 0.0000, 0.0000, 0.0000, 0.2314, 0.6902, 0.1020,\n           0.0000, 0.0000, 0.0000, 0.0000, 0.0039, 0.4157, 0.4353, 0.0078, 0.0000,\n           0.0000, 0.0000, 0.0000, 0.0000, 0.0980, 0.0902, 0.0000, 0.0000, 0.0000,\n           0.0000]]),\n  0],\n [tensor([[0.0000, 0.0000, 0.0000, 0.0000, 0.0000, 0.0000, 0.0000, 0.0000, 0.0000,\n           0.0000, 0.0000, 0.0000, 0.0471, 0.3804, 0.0941, 0.0000, 0.0000, 0.0000,\n           0.0000, 0.0039, 0.3294, 0.5725, 0.0627, 0.0000, 0.0000, 0.0000, 0.0000,\n           0.1255, 0.6275, 0.1843, 0.0000, 0.0000, 0.0000, 0.0000, 0.0314, 0.5490,\n           0.4157, 0.0078, 0.0000, 0.0000, 0.0000, 0.0000, 0.2314, 0.6902, 0.1020,\n           0.0000, 0.0000, 0.0000, 0.0000, 0.0039, 0.4157, 0.4353, 0.0078, 0.0000,\n           0.0000, 0.0000, 0.0000, 0.0000, 0.0980, 0.0902, 0.0000, 0.0000, 0.0000,\n           0.0000]]),\n  0],\n [tensor([[0.0000, 0.0000, 0.0000, 0.0000, 0.0000, 0.0000, 0.0000, 0.0000, 0.0000,\n           0.0000, 0.0000, 0.0000, 0.0471, 0.3804, 0.0941, 0.0000, 0.0000, 0.0000,\n           0.0000, 0.0039, 0.3294, 0.5725, 0.0627, 0.0000, 0.0000, 0.0000, 0.0000,\n           0.1255, 0.6275, 0.1843, 0.0000, 0.0000, 0.0000, 0.0000, 0.0314, 0.5490,\n           0.4157, 0.0078, 0.0000, 0.0000, 0.0000, 0.0000, 0.2314, 0.6902, 0.1020,\n           0.0000, 0.0000, 0.0000, 0.0000, 0.0039, 0.4157, 0.4353, 0.0078, 0.0000,\n           0.0000, 0.0000, 0.0000, 0.0000, 0.0980, 0.0902, 0.0000, 0.0000, 0.0000,\n           0.0000]]),\n  1],\n [tensor([[0.0000, 0.0000, 0.0000, 0.0000, 0.0000, 0.0000, 0.0000, 0.0000, 0.0000,\n           0.0000, 0.0000, 0.0000, 0.0471, 0.3804, 0.0941, 0.0000, 0.0000, 0.0000,\n           0.0000, 0.0039, 0.3294, 0.5725, 0.0627, 0.0000, 0.0000, 0.0000, 0.0000,\n           0.1255, 0.6275, 0.1843, 0.0000, 0.0000, 0.0000, 0.0000, 0.0314, 0.5490,\n           0.4157, 0.0078, 0.0000, 0.0000, 0.0000, 0.0000, 0.2314, 0.6902, 0.1020,\n           0.0000, 0.0000, 0.0000, 0.0000, 0.0039, 0.4157, 0.4353, 0.0078, 0.0000,\n           0.0000, 0.0000, 0.0000, 0.0000, 0.0980, 0.0902, 0.0000, 0.0000, 0.0000,\n           0.0000]]),\n  0],\n [tensor([[0.0000, 0.0000, 0.0000, 0.0000, 0.0000, 0.0000, 0.0000, 0.0000, 0.0000,\n           0.0000, 0.0000, 0.0000, 0.0471, 0.3804, 0.0941, 0.0000, 0.0000, 0.0000,\n           0.0000, 0.0039, 0.3294, 0.5725, 0.0627, 0.0000, 0.0000, 0.0000, 0.0000,\n           0.1255, 0.6275, 0.1843, 0.0000, 0.0000, 0.0000, 0.0000, 0.0314, 0.5490,\n           0.4157, 0.0078, 0.0000, 0.0000, 0.0000, 0.0000, 0.2314, 0.6902, 0.1020,\n           0.0000, 0.0000, 0.0000, 0.0000, 0.0039, 0.4157, 0.4353, 0.0078, 0.0000,\n           0.0000, 0.0000, 0.0000, 0.0000, 0.0980, 0.0902, 0.0000, 0.0000, 0.0000,\n           0.0000]]),\n  0]]"
     },
     "execution_count": 56,
     "metadata": {},
     "output_type": "execute_result"
    }
   ],
   "source": [
    "batches = iterate_batches(X=training_data, batch_size=batch_size)\n",
    "batches[0]"
   ]
  },
  {
   "cell_type": "code",
   "execution_count": 57,
   "metadata": {},
   "outputs": [],
   "source": [
    "X1 = [torch.reshape(x[0], (1, 2 ** (len(spec.latent_qubits) + len(spec.trash_qubits)))) for x in training_data]\n",
    "X2 = []\n",
    "for i in range(len(X1)):\n",
    "    X2.append([X1[1], training_data[i][1]])\n",
    "X = X2\n",
    "\n",
    "#for x in X:\n",
    "#    print(x[0],x[1])"
   ]
  },
  {
   "cell_type": "code",
   "execution_count": 65,
   "metadata": {},
   "outputs": [
    {
     "name": "stdout",
     "output_type": "stream",
     "text": [
      "54\n",
      "Epoch:0 | Loss:1.8787083842368628 | Fidelity:0.532562782076927\n"
     ]
    },
    {
     "ename": "KeyboardInterrupt",
     "evalue": "",
     "output_type": "error",
     "traceback": [
      "\u001B[0;31m---------------------------------------------------------------------------\u001B[0m",
      "\u001B[0;31mKeyboardInterrupt\u001B[0m                         Traceback (most recent call last)",
      "Input \u001B[0;32mIn [65]\u001B[0m, in \u001B[0;36m<module>\u001B[0;34m\u001B[0m\n\u001B[1;32m      8\u001B[0m batches \u001B[38;5;241m=\u001B[39m iterate_batches(X\u001B[38;5;241m=\u001B[39mtraining_data, batch_size\u001B[38;5;241m=\u001B[39mbatch_size)\n\u001B[1;32m      9\u001B[0m \u001B[38;5;28;01mfor\u001B[39;00m xbatch \u001B[38;5;129;01min\u001B[39;00m batches:\n\u001B[0;32m---> 10\u001B[0m     encoder_params \u001B[38;5;241m=\u001B[39m \u001B[43mopt\u001B[49m\u001B[38;5;241;43m.\u001B[39;49m\u001B[43mstep\u001B[49m\u001B[43m(\u001B[49m\u001B[43mcost\u001B[49m\u001B[43m,\u001B[49m\u001B[43m \u001B[49m\u001B[43mencoder_params\u001B[49m\u001B[43m,\u001B[49m\u001B[43m \u001B[49m\u001B[43mX\u001B[49m\u001B[38;5;241;43m=\u001B[39;49m\u001B[43mxbatch\u001B[49m\u001B[43m)\u001B[49m\n\u001B[1;32m     12\u001B[0m loss_training \u001B[38;5;241m=\u001B[39m cost(encoder_params, X)\n\u001B[1;32m     13\u001B[0m fidel \u001B[38;5;241m=\u001B[39m fidelity(encoder_params, X)\n",
      "File \u001B[0;32m~/Software/QuantumAutoEncoders/venv/lib/python3.8/site-packages/pennylane/optimize/gradient_descent.py:129\u001B[0m, in \u001B[0;36mGradientDescentOptimizer.step\u001B[0;34m(self, objective_fn, grad_fn, *args, **kwargs)\u001B[0m\n\u001B[1;32m    111\u001B[0m \u001B[38;5;28;01mdef\u001B[39;00m \u001B[38;5;21mstep\u001B[39m(\u001B[38;5;28mself\u001B[39m, objective_fn, \u001B[38;5;241m*\u001B[39margs, grad_fn\u001B[38;5;241m=\u001B[39m\u001B[38;5;28;01mNone\u001B[39;00m, \u001B[38;5;241m*\u001B[39m\u001B[38;5;241m*\u001B[39mkwargs):\n\u001B[1;32m    112\u001B[0m     \u001B[38;5;124;03m\"\"\"Update trainable arguments with one step of the optimizer.\u001B[39;00m\n\u001B[1;32m    113\u001B[0m \n\u001B[1;32m    114\u001B[0m \u001B[38;5;124;03m    Args:\u001B[39;00m\n\u001B[0;32m   (...)\u001B[0m\n\u001B[1;32m    126\u001B[0m \u001B[38;5;124;03m        If single arg is provided, list [array] is replaced by array.\u001B[39;00m\n\u001B[1;32m    127\u001B[0m \u001B[38;5;124;03m    \"\"\"\u001B[39;00m\n\u001B[0;32m--> 129\u001B[0m     g, _ \u001B[38;5;241m=\u001B[39m \u001B[38;5;28;43mself\u001B[39;49m\u001B[38;5;241;43m.\u001B[39;49m\u001B[43mcompute_grad\u001B[49m\u001B[43m(\u001B[49m\u001B[43mobjective_fn\u001B[49m\u001B[43m,\u001B[49m\u001B[43m \u001B[49m\u001B[43margs\u001B[49m\u001B[43m,\u001B[49m\u001B[43m \u001B[49m\u001B[43mkwargs\u001B[49m\u001B[43m,\u001B[49m\u001B[43m \u001B[49m\u001B[43mgrad_fn\u001B[49m\u001B[38;5;241;43m=\u001B[39;49m\u001B[43mgrad_fn\u001B[49m\u001B[43m)\u001B[49m\n\u001B[1;32m    130\u001B[0m     new_args \u001B[38;5;241m=\u001B[39m \u001B[38;5;28mself\u001B[39m\u001B[38;5;241m.\u001B[39mapply_grad(g, args)\n\u001B[1;32m    132\u001B[0m     \u001B[38;5;66;03m# unwrap from list if one argument, cleaner return\u001B[39;00m\n",
      "File \u001B[0;32m~/Software/QuantumAutoEncoders/venv/lib/python3.8/site-packages/pennylane/optimize/gradient_descent.py:158\u001B[0m, in \u001B[0;36mGradientDescentOptimizer.compute_grad\u001B[0;34m(objective_fn, args, kwargs, grad_fn)\u001B[0m\n\u001B[1;32m    140\u001B[0m \u001B[38;5;124mr\u001B[39m\u001B[38;5;124;03m\"\"\"Compute gradient of the objective function at the given point and return it along with\u001B[39;00m\n\u001B[1;32m    141\u001B[0m \u001B[38;5;124;03mthe objective function forward pass (if available).\u001B[39;00m\n\u001B[1;32m    142\u001B[0m \n\u001B[0;32m   (...)\u001B[0m\n\u001B[1;32m    155\u001B[0m \u001B[38;5;124;03m    will not be evaluted and instead ``None`` will be returned.\u001B[39;00m\n\u001B[1;32m    156\u001B[0m \u001B[38;5;124;03m\"\"\"\u001B[39;00m\n\u001B[1;32m    157\u001B[0m g \u001B[38;5;241m=\u001B[39m get_gradient(objective_fn) \u001B[38;5;28;01mif\u001B[39;00m grad_fn \u001B[38;5;129;01mis\u001B[39;00m \u001B[38;5;28;01mNone\u001B[39;00m \u001B[38;5;28;01melse\u001B[39;00m grad_fn\n\u001B[0;32m--> 158\u001B[0m grad \u001B[38;5;241m=\u001B[39m \u001B[43mg\u001B[49m\u001B[43m(\u001B[49m\u001B[38;5;241;43m*\u001B[39;49m\u001B[43margs\u001B[49m\u001B[43m,\u001B[49m\u001B[43m \u001B[49m\u001B[38;5;241;43m*\u001B[39;49m\u001B[38;5;241;43m*\u001B[39;49m\u001B[43mkwargs\u001B[49m\u001B[43m)\u001B[49m\n\u001B[1;32m    159\u001B[0m forward \u001B[38;5;241m=\u001B[39m \u001B[38;5;28mgetattr\u001B[39m(g, \u001B[38;5;124m\"\u001B[39m\u001B[38;5;124mforward\u001B[39m\u001B[38;5;124m\"\u001B[39m, \u001B[38;5;28;01mNone\u001B[39;00m)\n\u001B[1;32m    161\u001B[0m num_trainable_args \u001B[38;5;241m=\u001B[39m \u001B[38;5;241m0\u001B[39m\n",
      "File \u001B[0;32m~/Software/QuantumAutoEncoders/venv/lib/python3.8/site-packages/pennylane/_grad.py:120\u001B[0m, in \u001B[0;36mgrad.__call__\u001B[0;34m(self, *args, **kwargs)\u001B[0m\n\u001B[1;32m    117\u001B[0m \u001B[38;5;28;01mdef\u001B[39;00m \u001B[38;5;21m__call__\u001B[39m(\u001B[38;5;28mself\u001B[39m, \u001B[38;5;241m*\u001B[39margs, \u001B[38;5;241m*\u001B[39m\u001B[38;5;241m*\u001B[39mkwargs):\n\u001B[1;32m    118\u001B[0m     \u001B[38;5;124;03m\"\"\"Evaluates the gradient function, and saves the function value\u001B[39;00m\n\u001B[1;32m    119\u001B[0m \u001B[38;5;124;03m    calculated during the forward pass in :attr:`.forward`.\"\"\"\u001B[39;00m\n\u001B[0;32m--> 120\u001B[0m     grad_value, ans \u001B[38;5;241m=\u001B[39m \u001B[38;5;28;43mself\u001B[39;49m\u001B[38;5;241;43m.\u001B[39;49m\u001B[43m_get_grad_fn\u001B[49m\u001B[43m(\u001B[49m\u001B[43margs\u001B[49m\u001B[43m)\u001B[49m\u001B[43m(\u001B[49m\u001B[38;5;241;43m*\u001B[39;49m\u001B[43margs\u001B[49m\u001B[43m,\u001B[49m\u001B[43m \u001B[49m\u001B[38;5;241;43m*\u001B[39;49m\u001B[38;5;241;43m*\u001B[39;49m\u001B[43mkwargs\u001B[49m\u001B[43m)\u001B[49m\n\u001B[1;32m    121\u001B[0m     \u001B[38;5;28mself\u001B[39m\u001B[38;5;241m.\u001B[39m_forward \u001B[38;5;241m=\u001B[39m ans\n\u001B[1;32m    122\u001B[0m     \u001B[38;5;28;01mreturn\u001B[39;00m grad_value\n",
      "File \u001B[0;32m~/Software/QuantumAutoEncoders/venv/lib/python3.8/site-packages/autograd/wrap_util.py:20\u001B[0m, in \u001B[0;36munary_to_nary.<locals>.nary_operator.<locals>.nary_f\u001B[0;34m(*args, **kwargs)\u001B[0m\n\u001B[1;32m     18\u001B[0m \u001B[38;5;28;01melse\u001B[39;00m:\n\u001B[1;32m     19\u001B[0m     x \u001B[38;5;241m=\u001B[39m \u001B[38;5;28mtuple\u001B[39m(args[i] \u001B[38;5;28;01mfor\u001B[39;00m i \u001B[38;5;129;01min\u001B[39;00m argnum)\n\u001B[0;32m---> 20\u001B[0m \u001B[38;5;28;01mreturn\u001B[39;00m \u001B[43munary_operator\u001B[49m\u001B[43m(\u001B[49m\u001B[43munary_f\u001B[49m\u001B[43m,\u001B[49m\u001B[43m \u001B[49m\u001B[43mx\u001B[49m\u001B[43m,\u001B[49m\u001B[43m \u001B[49m\u001B[38;5;241;43m*\u001B[39;49m\u001B[43mnary_op_args\u001B[49m\u001B[43m,\u001B[49m\u001B[43m \u001B[49m\u001B[38;5;241;43m*\u001B[39;49m\u001B[38;5;241;43m*\u001B[39;49m\u001B[43mnary_op_kwargs\u001B[49m\u001B[43m)\u001B[49m\n",
      "File \u001B[0;32m~/Software/QuantumAutoEncoders/venv/lib/python3.8/site-packages/pennylane/_grad.py:137\u001B[0m, in \u001B[0;36mgrad._grad_with_forward\u001B[0;34m(fun, x)\u001B[0m\n\u001B[1;32m    131\u001B[0m \u001B[38;5;129m@staticmethod\u001B[39m\n\u001B[1;32m    132\u001B[0m \u001B[38;5;129m@unary_to_nary\u001B[39m\n\u001B[1;32m    133\u001B[0m \u001B[38;5;28;01mdef\u001B[39;00m \u001B[38;5;21m_grad_with_forward\u001B[39m(fun, x):\n\u001B[1;32m    134\u001B[0m     \u001B[38;5;124;03m\"\"\"This function is a replica of ``autograd.grad``, with the only\u001B[39;00m\n\u001B[1;32m    135\u001B[0m \u001B[38;5;124;03m    difference being that it returns both the gradient *and* the forward pass\u001B[39;00m\n\u001B[1;32m    136\u001B[0m \u001B[38;5;124;03m    value.\"\"\"\u001B[39;00m\n\u001B[0;32m--> 137\u001B[0m     vjp, ans \u001B[38;5;241m=\u001B[39m \u001B[43m_make_vjp\u001B[49m\u001B[43m(\u001B[49m\u001B[43mfun\u001B[49m\u001B[43m,\u001B[49m\u001B[43m \u001B[49m\u001B[43mx\u001B[49m\u001B[43m)\u001B[49m\n\u001B[1;32m    139\u001B[0m     \u001B[38;5;28;01mif\u001B[39;00m \u001B[38;5;129;01mnot\u001B[39;00m vspace(ans)\u001B[38;5;241m.\u001B[39msize \u001B[38;5;241m==\u001B[39m \u001B[38;5;241m1\u001B[39m:\n\u001B[1;32m    140\u001B[0m         \u001B[38;5;28;01mraise\u001B[39;00m \u001B[38;5;167;01mTypeError\u001B[39;00m(\n\u001B[1;32m    141\u001B[0m             \u001B[38;5;124m\"\u001B[39m\u001B[38;5;124mGrad only applies to real scalar-output functions. \u001B[39m\u001B[38;5;124m\"\u001B[39m\n\u001B[1;32m    142\u001B[0m             \u001B[38;5;124m\"\u001B[39m\u001B[38;5;124mTry jacobian, elementwise_grad or holomorphic_grad.\u001B[39m\u001B[38;5;124m\"\u001B[39m\n\u001B[1;32m    143\u001B[0m         )\n",
      "File \u001B[0;32m~/Software/QuantumAutoEncoders/venv/lib/python3.8/site-packages/autograd/core.py:10\u001B[0m, in \u001B[0;36mmake_vjp\u001B[0;34m(fun, x)\u001B[0m\n\u001B[1;32m      8\u001B[0m \u001B[38;5;28;01mdef\u001B[39;00m \u001B[38;5;21mmake_vjp\u001B[39m(fun, x):\n\u001B[1;32m      9\u001B[0m     start_node \u001B[38;5;241m=\u001B[39m VJPNode\u001B[38;5;241m.\u001B[39mnew_root()\n\u001B[0;32m---> 10\u001B[0m     end_value, end_node \u001B[38;5;241m=\u001B[39m  \u001B[43mtrace\u001B[49m\u001B[43m(\u001B[49m\u001B[43mstart_node\u001B[49m\u001B[43m,\u001B[49m\u001B[43m \u001B[49m\u001B[43mfun\u001B[49m\u001B[43m,\u001B[49m\u001B[43m \u001B[49m\u001B[43mx\u001B[49m\u001B[43m)\u001B[49m\n\u001B[1;32m     11\u001B[0m     \u001B[38;5;28;01mif\u001B[39;00m end_node \u001B[38;5;129;01mis\u001B[39;00m \u001B[38;5;28;01mNone\u001B[39;00m:\n\u001B[1;32m     12\u001B[0m         \u001B[38;5;28;01mdef\u001B[39;00m \u001B[38;5;21mvjp\u001B[39m(g): \u001B[38;5;28;01mreturn\u001B[39;00m vspace(x)\u001B[38;5;241m.\u001B[39mzeros()\n",
      "File \u001B[0;32m~/Software/QuantumAutoEncoders/venv/lib/python3.8/site-packages/autograd/tracer.py:10\u001B[0m, in \u001B[0;36mtrace\u001B[0;34m(start_node, fun, x)\u001B[0m\n\u001B[1;32m      8\u001B[0m \u001B[38;5;28;01mwith\u001B[39;00m trace_stack\u001B[38;5;241m.\u001B[39mnew_trace() \u001B[38;5;28;01mas\u001B[39;00m t:\n\u001B[1;32m      9\u001B[0m     start_box \u001B[38;5;241m=\u001B[39m new_box(x, t, start_node)\n\u001B[0;32m---> 10\u001B[0m     end_box \u001B[38;5;241m=\u001B[39m \u001B[43mfun\u001B[49m\u001B[43m(\u001B[49m\u001B[43mstart_box\u001B[49m\u001B[43m)\u001B[49m\n\u001B[1;32m     11\u001B[0m     \u001B[38;5;28;01mif\u001B[39;00m isbox(end_box) \u001B[38;5;129;01mand\u001B[39;00m end_box\u001B[38;5;241m.\u001B[39m_trace \u001B[38;5;241m==\u001B[39m start_box\u001B[38;5;241m.\u001B[39m_trace:\n\u001B[1;32m     12\u001B[0m         \u001B[38;5;28;01mreturn\u001B[39;00m end_box\u001B[38;5;241m.\u001B[39m_value, end_box\u001B[38;5;241m.\u001B[39m_node\n",
      "File \u001B[0;32m~/Software/QuantumAutoEncoders/venv/lib/python3.8/site-packages/autograd/wrap_util.py:15\u001B[0m, in \u001B[0;36munary_to_nary.<locals>.nary_operator.<locals>.nary_f.<locals>.unary_f\u001B[0;34m(x)\u001B[0m\n\u001B[1;32m     13\u001B[0m \u001B[38;5;28;01melse\u001B[39;00m:\n\u001B[1;32m     14\u001B[0m     subargs \u001B[38;5;241m=\u001B[39m subvals(args, \u001B[38;5;28mzip\u001B[39m(argnum, x))\n\u001B[0;32m---> 15\u001B[0m \u001B[38;5;28;01mreturn\u001B[39;00m \u001B[43mfun\u001B[49m\u001B[43m(\u001B[49m\u001B[38;5;241;43m*\u001B[39;49m\u001B[43msubargs\u001B[49m\u001B[43m,\u001B[49m\u001B[43m \u001B[49m\u001B[38;5;241;43m*\u001B[39;49m\u001B[38;5;241;43m*\u001B[39;49m\u001B[43mkwargs\u001B[49m\u001B[43m)\u001B[49m\n",
      "Input \u001B[0;32mIn [60]\u001B[0m, in \u001B[0;36mcost\u001B[0;34m(encoder_params, X)\u001B[0m\n\u001B[1;32m      4\u001B[0m loss \u001B[38;5;241m=\u001B[39m \u001B[38;5;241m0.0\u001B[39m\n\u001B[1;32m      5\u001B[0m \u001B[38;5;28;01mfor\u001B[39;00m x \u001B[38;5;129;01min\u001B[39;00m X:\n\u001B[0;32m----> 6\u001B[0m     output \u001B[38;5;241m=\u001B[39m \u001B[43mtraining_circuit_example\u001B[49m\u001B[43m(\u001B[49m\u001B[43minit_params\u001B[49m\u001B[38;5;241;43m=\u001B[39;49m\u001B[43mx\u001B[49m\u001B[43m[\u001B[49m\u001B[38;5;241;43m0\u001B[39;49m\u001B[43m]\u001B[49m\u001B[43m[\u001B[49m\u001B[38;5;241;43m0\u001B[39;49m\u001B[43m]\u001B[49m\u001B[43m,\u001B[49m\n\u001B[1;32m      7\u001B[0m \u001B[43m                                      \u001B[49m\u001B[43mencoder_params\u001B[49m\u001B[38;5;241;43m=\u001B[39;49m\u001B[43mencoder_params\u001B[49m\u001B[43m,\u001B[49m\n\u001B[1;32m      8\u001B[0m \u001B[43m                                      \u001B[49m\u001B[43mreinit_state\u001B[49m\u001B[38;5;241;43m=\u001B[39;49m\u001B[43mreinit_state\u001B[49m\u001B[43m,\u001B[49m\u001B[43m \u001B[49m\u001B[43mx\u001B[49m\u001B[38;5;241;43m=\u001B[39;49m\u001B[43mx\u001B[49m\u001B[43m[\u001B[49m\u001B[38;5;241;43m1\u001B[39;49m\u001B[43m]\u001B[49m\u001B[43m)\u001B[49m[\u001B[38;5;241m0\u001B[39m]\n\u001B[1;32m      9\u001B[0m     f \u001B[38;5;241m=\u001B[39m fid_func(output)\n\u001B[1;32m     10\u001B[0m     loss \u001B[38;5;241m=\u001B[39m loss \u001B[38;5;241m+\u001B[39m f\n",
      "File \u001B[0;32m~/Software/QuantumAutoEncoders/venv/lib/python3.8/site-packages/pennylane/qnode.py:561\u001B[0m, in \u001B[0;36mQNode.__call__\u001B[0;34m(self, *args, **kwargs)\u001B[0m\n\u001B[1;32m    558\u001B[0m \u001B[38;5;66;03m# preprocess the tapes by applying any device-specific transforms\u001B[39;00m\n\u001B[1;32m    559\u001B[0m tapes, processing_fn \u001B[38;5;241m=\u001B[39m \u001B[38;5;28mself\u001B[39m\u001B[38;5;241m.\u001B[39mdevice\u001B[38;5;241m.\u001B[39mbatch_transform(\u001B[38;5;28mself\u001B[39m\u001B[38;5;241m.\u001B[39mtape)\n\u001B[0;32m--> 561\u001B[0m res \u001B[38;5;241m=\u001B[39m \u001B[43mqml\u001B[49m\u001B[38;5;241;43m.\u001B[39;49m\u001B[43mexecute\u001B[49m\u001B[43m(\u001B[49m\n\u001B[1;32m    562\u001B[0m \u001B[43m    \u001B[49m\u001B[43mtapes\u001B[49m\u001B[43m,\u001B[49m\n\u001B[1;32m    563\u001B[0m \u001B[43m    \u001B[49m\u001B[43mdevice\u001B[49m\u001B[38;5;241;43m=\u001B[39;49m\u001B[38;5;28;43mself\u001B[39;49m\u001B[38;5;241;43m.\u001B[39;49m\u001B[43mdevice\u001B[49m\u001B[43m,\u001B[49m\n\u001B[1;32m    564\u001B[0m \u001B[43m    \u001B[49m\u001B[43mgradient_fn\u001B[49m\u001B[38;5;241;43m=\u001B[39;49m\u001B[38;5;28;43mself\u001B[39;49m\u001B[38;5;241;43m.\u001B[39;49m\u001B[43mgradient_fn\u001B[49m\u001B[43m,\u001B[49m\n\u001B[1;32m    565\u001B[0m \u001B[43m    \u001B[49m\u001B[43minterface\u001B[49m\u001B[38;5;241;43m=\u001B[39;49m\u001B[38;5;28;43mself\u001B[39;49m\u001B[38;5;241;43m.\u001B[39;49m\u001B[43minterface\u001B[49m\u001B[43m,\u001B[49m\n\u001B[1;32m    566\u001B[0m \u001B[43m    \u001B[49m\u001B[43mgradient_kwargs\u001B[49m\u001B[38;5;241;43m=\u001B[39;49m\u001B[38;5;28;43mself\u001B[39;49m\u001B[38;5;241;43m.\u001B[39;49m\u001B[43mgradient_kwargs\u001B[49m\u001B[43m,\u001B[49m\n\u001B[1;32m    567\u001B[0m \u001B[43m    \u001B[49m\u001B[43moverride_shots\u001B[49m\u001B[38;5;241;43m=\u001B[39;49m\u001B[43moverride_shots\u001B[49m\u001B[43m,\u001B[49m\n\u001B[1;32m    568\u001B[0m \u001B[43m    \u001B[49m\u001B[38;5;241;43m*\u001B[39;49m\u001B[38;5;241;43m*\u001B[39;49m\u001B[38;5;28;43mself\u001B[39;49m\u001B[38;5;241;43m.\u001B[39;49m\u001B[43mexecute_kwargs\u001B[49m\u001B[43m,\u001B[49m\n\u001B[1;32m    569\u001B[0m \u001B[43m\u001B[49m\u001B[43m)\u001B[49m\n\u001B[1;32m    571\u001B[0m res \u001B[38;5;241m=\u001B[39m processing_fn(res)\n\u001B[1;32m    573\u001B[0m \u001B[38;5;28;01mif\u001B[39;00m override_shots \u001B[38;5;129;01mis\u001B[39;00m \u001B[38;5;129;01mnot\u001B[39;00m \u001B[38;5;28;01mFalse\u001B[39;00m:\n\u001B[1;32m    574\u001B[0m     \u001B[38;5;66;03m# restore the initialization gradient function\u001B[39;00m\n",
      "File \u001B[0;32m~/Software/QuantumAutoEncoders/venv/lib/python3.8/site-packages/pennylane/interfaces/batch/__init__.py:321\u001B[0m, in \u001B[0;36mexecute\u001B[0;34m(tapes, device, gradient_fn, interface, mode, gradient_kwargs, cache, cachesize, max_diff, override_shots, expand_fn, max_expansion)\u001B[0m\n\u001B[1;32m    318\u001B[0m     \u001B[38;5;28;01mreturn\u001B[39;00m res\n\u001B[1;32m    320\u001B[0m \u001B[38;5;28;01mif\u001B[39;00m gradient_fn \u001B[38;5;241m==\u001B[39m \u001B[38;5;124m\"\u001B[39m\u001B[38;5;124mbackprop\u001B[39m\u001B[38;5;124m\"\u001B[39m \u001B[38;5;129;01mor\u001B[39;00m interface \u001B[38;5;129;01mis\u001B[39;00m \u001B[38;5;28;01mNone\u001B[39;00m:\n\u001B[0;32m--> 321\u001B[0m     \u001B[38;5;28;01mreturn\u001B[39;00m \u001B[43mcache_execute\u001B[49m\u001B[43m(\u001B[49m\u001B[43mbatch_execute\u001B[49m\u001B[43m,\u001B[49m\u001B[43m \u001B[49m\u001B[43mcache\u001B[49m\u001B[43m,\u001B[49m\u001B[43m \u001B[49m\u001B[43mreturn_tuple\u001B[49m\u001B[38;5;241;43m=\u001B[39;49m\u001B[38;5;28;43;01mFalse\u001B[39;49;00m\u001B[43m,\u001B[49m\u001B[43m \u001B[49m\u001B[43mexpand_fn\u001B[49m\u001B[38;5;241;43m=\u001B[39;49m\u001B[43mexpand_fn\u001B[49m\u001B[43m)\u001B[49m\u001B[43m(\u001B[49m\u001B[43mtapes\u001B[49m\u001B[43m)\u001B[49m\n\u001B[1;32m    323\u001B[0m \u001B[38;5;66;03m# the default execution function is batch_execute\u001B[39;00m\n\u001B[1;32m    324\u001B[0m execute_fn \u001B[38;5;241m=\u001B[39m cache_execute(batch_execute, cache, expand_fn\u001B[38;5;241m=\u001B[39mexpand_fn)\n",
      "File \u001B[0;32m~/Software/QuantumAutoEncoders/venv/lib/python3.8/site-packages/pennylane/interfaces/batch/__init__.py:168\u001B[0m, in \u001B[0;36mcache_execute.<locals>.wrapper\u001B[0;34m(tapes, **kwargs)\u001B[0m\n\u001B[1;32m    164\u001B[0m         \u001B[38;5;28;01mreturn\u001B[39;00m (res, []) \u001B[38;5;28;01mif\u001B[39;00m return_tuple \u001B[38;5;28;01melse\u001B[39;00m res\n\u001B[1;32m    166\u001B[0m \u001B[38;5;28;01melse\u001B[39;00m:\n\u001B[1;32m    167\u001B[0m     \u001B[38;5;66;03m# execute all unique tapes that do not exist in the cache\u001B[39;00m\n\u001B[0;32m--> 168\u001B[0m     res \u001B[38;5;241m=\u001B[39m \u001B[43mfn\u001B[49m\u001B[43m(\u001B[49m\u001B[43mexecution_tapes\u001B[49m\u001B[38;5;241;43m.\u001B[39;49m\u001B[43mvalues\u001B[49m\u001B[43m(\u001B[49m\u001B[43m)\u001B[49m\u001B[43m,\u001B[49m\u001B[43m \u001B[49m\u001B[38;5;241;43m*\u001B[39;49m\u001B[38;5;241;43m*\u001B[39;49m\u001B[43mkwargs\u001B[49m\u001B[43m)\u001B[49m\n\u001B[1;32m    170\u001B[0m final_res \u001B[38;5;241m=\u001B[39m []\n\u001B[1;32m    172\u001B[0m \u001B[38;5;28;01mfor\u001B[39;00m i, tape \u001B[38;5;129;01min\u001B[39;00m \u001B[38;5;28menumerate\u001B[39m(tapes):\n",
      "File \u001B[0;32m~/Software/QuantumAutoEncoders/venv/lib/python3.8/site-packages/pennylane/interfaces/batch/__init__.py:120\u001B[0m, in \u001B[0;36mcache_execute.<locals>.fn\u001B[0;34m(tapes, **kwargs)\u001B[0m\n\u001B[1;32m    118\u001B[0m \u001B[38;5;28;01mdef\u001B[39;00m \u001B[38;5;21mfn\u001B[39m(tapes, \u001B[38;5;241m*\u001B[39m\u001B[38;5;241m*\u001B[39mkwargs):  \u001B[38;5;66;03m# pylint: disable=function-redefined\u001B[39;00m\n\u001B[1;32m    119\u001B[0m     tapes \u001B[38;5;241m=\u001B[39m [expand_fn(tape) \u001B[38;5;28;01mfor\u001B[39;00m tape \u001B[38;5;129;01min\u001B[39;00m tapes]\n\u001B[0;32m--> 120\u001B[0m     \u001B[38;5;28;01mreturn\u001B[39;00m \u001B[43moriginal_fn\u001B[49m\u001B[43m(\u001B[49m\u001B[43mtapes\u001B[49m\u001B[43m,\u001B[49m\u001B[43m \u001B[49m\u001B[38;5;241;43m*\u001B[39;49m\u001B[38;5;241;43m*\u001B[39;49m\u001B[43mkwargs\u001B[49m\u001B[43m)\u001B[49m\n",
      "File \u001B[0;32m/Library/Developer/CommandLineTools/Library/Frameworks/Python3.framework/Versions/3.8/lib/python3.8/contextlib.py:75\u001B[0m, in \u001B[0;36mContextDecorator.__call__.<locals>.inner\u001B[0;34m(*args, **kwds)\u001B[0m\n\u001B[1;32m     72\u001B[0m \u001B[38;5;129m@wraps\u001B[39m(func)\n\u001B[1;32m     73\u001B[0m \u001B[38;5;28;01mdef\u001B[39;00m \u001B[38;5;21minner\u001B[39m(\u001B[38;5;241m*\u001B[39margs, \u001B[38;5;241m*\u001B[39m\u001B[38;5;241m*\u001B[39mkwds):\n\u001B[1;32m     74\u001B[0m     \u001B[38;5;28;01mwith\u001B[39;00m \u001B[38;5;28mself\u001B[39m\u001B[38;5;241m.\u001B[39m_recreate_cm():\n\u001B[0;32m---> 75\u001B[0m         \u001B[38;5;28;01mreturn\u001B[39;00m \u001B[43mfunc\u001B[49m\u001B[43m(\u001B[49m\u001B[38;5;241;43m*\u001B[39;49m\u001B[43margs\u001B[49m\u001B[43m,\u001B[49m\u001B[43m \u001B[49m\u001B[38;5;241;43m*\u001B[39;49m\u001B[38;5;241;43m*\u001B[39;49m\u001B[43mkwds\u001B[49m\u001B[43m)\u001B[49m\n",
      "File \u001B[0;32m~/Software/QuantumAutoEncoders/venv/lib/python3.8/site-packages/pennylane/_qubit_device.py:278\u001B[0m, in \u001B[0;36mQubitDevice.batch_execute\u001B[0;34m(self, circuits)\u001B[0m\n\u001B[1;32m    273\u001B[0m \u001B[38;5;28;01mfor\u001B[39;00m circuit \u001B[38;5;129;01min\u001B[39;00m circuits:\n\u001B[1;32m    274\u001B[0m     \u001B[38;5;66;03m# we need to reset the device here, else it will\u001B[39;00m\n\u001B[1;32m    275\u001B[0m     \u001B[38;5;66;03m# not start the next computation in the zero state\u001B[39;00m\n\u001B[1;32m    276\u001B[0m     \u001B[38;5;28mself\u001B[39m\u001B[38;5;241m.\u001B[39mreset()\n\u001B[0;32m--> 278\u001B[0m     res \u001B[38;5;241m=\u001B[39m \u001B[38;5;28;43mself\u001B[39;49m\u001B[38;5;241;43m.\u001B[39;49m\u001B[43mexecute\u001B[49m\u001B[43m(\u001B[49m\u001B[43mcircuit\u001B[49m\u001B[43m)\u001B[49m\n\u001B[1;32m    279\u001B[0m     results\u001B[38;5;241m.\u001B[39mappend(res)\n\u001B[1;32m    281\u001B[0m \u001B[38;5;28;01mif\u001B[39;00m \u001B[38;5;28mself\u001B[39m\u001B[38;5;241m.\u001B[39mtracker\u001B[38;5;241m.\u001B[39mactive:\n",
      "File \u001B[0;32m~/Software/QuantumAutoEncoders/venv/lib/python3.8/site-packages/pennylane/_qubit_device.py:194\u001B[0m, in \u001B[0;36mQubitDevice.execute\u001B[0;34m(self, circuit, **kwargs)\u001B[0m\n\u001B[1;32m    191\u001B[0m \u001B[38;5;28mself\u001B[39m\u001B[38;5;241m.\u001B[39mcheck_validity(circuit\u001B[38;5;241m.\u001B[39moperations, circuit\u001B[38;5;241m.\u001B[39mobservables)\n\u001B[1;32m    193\u001B[0m \u001B[38;5;66;03m# apply all circuit operations\u001B[39;00m\n\u001B[0;32m--> 194\u001B[0m \u001B[38;5;28;43mself\u001B[39;49m\u001B[38;5;241;43m.\u001B[39;49m\u001B[43mapply\u001B[49m\u001B[43m(\u001B[49m\u001B[43mcircuit\u001B[49m\u001B[38;5;241;43m.\u001B[39;49m\u001B[43moperations\u001B[49m\u001B[43m,\u001B[49m\u001B[43m \u001B[49m\u001B[43mrotations\u001B[49m\u001B[38;5;241;43m=\u001B[39;49m\u001B[43mcircuit\u001B[49m\u001B[38;5;241;43m.\u001B[39;49m\u001B[43mdiagonalizing_gates\u001B[49m\u001B[43m,\u001B[49m\u001B[43m \u001B[49m\u001B[38;5;241;43m*\u001B[39;49m\u001B[38;5;241;43m*\u001B[39;49m\u001B[43mkwargs\u001B[49m\u001B[43m)\u001B[49m\n\u001B[1;32m    196\u001B[0m \u001B[38;5;66;03m# generate computational basis samples\u001B[39;00m\n\u001B[1;32m    197\u001B[0m \u001B[38;5;28;01mif\u001B[39;00m \u001B[38;5;28mself\u001B[39m\u001B[38;5;241m.\u001B[39mshots \u001B[38;5;129;01mis\u001B[39;00m \u001B[38;5;129;01mnot\u001B[39;00m \u001B[38;5;28;01mNone\u001B[39;00m \u001B[38;5;129;01mor\u001B[39;00m circuit\u001B[38;5;241m.\u001B[39mis_sampled:\n",
      "File \u001B[0;32m~/Software/QuantumAutoEncoders/venv/lib/python3.8/site-packages/pennylane/devices/default_qubit.py:216\u001B[0m, in \u001B[0;36mDefaultQubit.apply\u001B[0;34m(self, operations, rotations, **kwargs)\u001B[0m\n\u001B[1;32m    214\u001B[0m         \u001B[38;5;28mself\u001B[39m\u001B[38;5;241m.\u001B[39m_apply_basis_state(operation\u001B[38;5;241m.\u001B[39mparameters[\u001B[38;5;241m0\u001B[39m], operation\u001B[38;5;241m.\u001B[39mwires)\n\u001B[1;32m    215\u001B[0m     \u001B[38;5;28;01melse\u001B[39;00m:\n\u001B[0;32m--> 216\u001B[0m         \u001B[38;5;28mself\u001B[39m\u001B[38;5;241m.\u001B[39m_state \u001B[38;5;241m=\u001B[39m \u001B[38;5;28;43mself\u001B[39;49m\u001B[38;5;241;43m.\u001B[39;49m\u001B[43m_apply_operation\u001B[49m\u001B[43m(\u001B[49m\u001B[38;5;28;43mself\u001B[39;49m\u001B[38;5;241;43m.\u001B[39;49m\u001B[43m_state\u001B[49m\u001B[43m,\u001B[49m\u001B[43m \u001B[49m\u001B[43moperation\u001B[49m\u001B[43m)\u001B[49m\n\u001B[1;32m    218\u001B[0m \u001B[38;5;66;03m# store the pre-rotated state\u001B[39;00m\n\u001B[1;32m    219\u001B[0m \u001B[38;5;28mself\u001B[39m\u001B[38;5;241m.\u001B[39m_pre_rotated_state \u001B[38;5;241m=\u001B[39m \u001B[38;5;28mself\u001B[39m\u001B[38;5;241m.\u001B[39m_state\n",
      "File \u001B[0;32m~/Software/QuantumAutoEncoders/venv/lib/python3.8/site-packages/pennylane/devices/default_qubit.py:241\u001B[0m, in \u001B[0;36mDefaultQubit._apply_operation\u001B[0;34m(self, state, operation)\u001B[0m\n\u001B[1;32m    238\u001B[0m     axes \u001B[38;5;241m=\u001B[39m \u001B[38;5;28mself\u001B[39m\u001B[38;5;241m.\u001B[39mwires\u001B[38;5;241m.\u001B[39mindices(wires)\n\u001B[1;32m    239\u001B[0m     \u001B[38;5;28;01mreturn\u001B[39;00m \u001B[38;5;28mself\u001B[39m\u001B[38;5;241m.\u001B[39m_apply_ops[operation\u001B[38;5;241m.\u001B[39mbase_name](state, axes, inverse\u001B[38;5;241m=\u001B[39moperation\u001B[38;5;241m.\u001B[39minverse)\n\u001B[0;32m--> 241\u001B[0m matrix \u001B[38;5;241m=\u001B[39m \u001B[38;5;28;43mself\u001B[39;49m\u001B[38;5;241;43m.\u001B[39;49m\u001B[43m_get_unitary_matrix\u001B[49m\u001B[43m(\u001B[49m\u001B[43moperation\u001B[49m\u001B[43m)\u001B[49m\n\u001B[1;32m    243\u001B[0m \u001B[38;5;28;01mif\u001B[39;00m operation \u001B[38;5;129;01min\u001B[39;00m diagonal_in_z_basis:\n\u001B[1;32m    244\u001B[0m     \u001B[38;5;28;01mreturn\u001B[39;00m \u001B[38;5;28mself\u001B[39m\u001B[38;5;241m.\u001B[39m_apply_diagonal_unitary(state, matrix, wires)\n",
      "File \u001B[0;32m~/Software/QuantumAutoEncoders/venv/lib/python3.8/site-packages/pennylane/devices/default_qubit.py:548\u001B[0m, in \u001B[0;36mDefaultQubit._get_unitary_matrix\u001B[0;34m(self, unitary)\u001B[0m\n\u001B[1;32m    545\u001B[0m \u001B[38;5;28;01mif\u001B[39;00m unitary \u001B[38;5;129;01min\u001B[39;00m diagonal_in_z_basis:\n\u001B[1;32m    546\u001B[0m     \u001B[38;5;28;01mreturn\u001B[39;00m unitary\u001B[38;5;241m.\u001B[39meigvals\n\u001B[0;32m--> 548\u001B[0m \u001B[38;5;28;01mreturn\u001B[39;00m \u001B[43munitary\u001B[49m\u001B[38;5;241;43m.\u001B[39;49m\u001B[43mmatrix\u001B[49m\n",
      "File \u001B[0;32m~/Software/QuantumAutoEncoders/venv/lib/python3.8/site-packages/pennylane/operation.py:781\u001B[0m, in \u001B[0;36mOperation.matrix\u001B[0;34m(self)\u001B[0m\n\u001B[1;32m    779\u001B[0m \u001B[38;5;129m@property\u001B[39m\n\u001B[1;32m    780\u001B[0m \u001B[38;5;28;01mdef\u001B[39;00m \u001B[38;5;21mmatrix\u001B[39m(\u001B[38;5;28mself\u001B[39m):\n\u001B[0;32m--> 781\u001B[0m     op_matrix \u001B[38;5;241m=\u001B[39m \u001B[38;5;28;43mself\u001B[39;49m\u001B[38;5;241;43m.\u001B[39;49m\u001B[43m_matrix\u001B[49m\u001B[43m(\u001B[49m\u001B[38;5;241;43m*\u001B[39;49m\u001B[38;5;28;43mself\u001B[39;49m\u001B[38;5;241;43m.\u001B[39;49m\u001B[43mparameters\u001B[49m\u001B[43m)\u001B[49m\n\u001B[1;32m    783\u001B[0m     \u001B[38;5;28;01mif\u001B[39;00m \u001B[38;5;28mself\u001B[39m\u001B[38;5;241m.\u001B[39minverse:\n\u001B[1;32m    784\u001B[0m         \u001B[38;5;28;01mreturn\u001B[39;00m qml\u001B[38;5;241m.\u001B[39mmath\u001B[38;5;241m.\u001B[39mconj(qml\u001B[38;5;241m.\u001B[39mmath\u001B[38;5;241m.\u001B[39mT(op_matrix))\n",
      "File \u001B[0;32m~/Software/QuantumAutoEncoders/venv/lib/python3.8/site-packages/pennylane/ops/qubit/parametric_ops.py:126\u001B[0m, in \u001B[0;36mRY._matrix\u001B[0;34m(cls, *params)\u001B[0m\n\u001B[1;32m    123\u001B[0m c \u001B[38;5;241m=\u001B[39m qml\u001B[38;5;241m.\u001B[39mmath\u001B[38;5;241m.\u001B[39mcos(theta \u001B[38;5;241m/\u001B[39m \u001B[38;5;241m2\u001B[39m)\n\u001B[1;32m    124\u001B[0m s \u001B[38;5;241m=\u001B[39m qml\u001B[38;5;241m.\u001B[39mmath\u001B[38;5;241m.\u001B[39msin(theta \u001B[38;5;241m/\u001B[39m \u001B[38;5;241m2\u001B[39m)\n\u001B[0;32m--> 126\u001B[0m \u001B[38;5;28;01mreturn\u001B[39;00m \u001B[43mqml\u001B[49m\u001B[38;5;241;43m.\u001B[39;49m\u001B[43mmath\u001B[49m\u001B[38;5;241;43m.\u001B[39;49m\u001B[43mdiag\u001B[49m\u001B[43m(\u001B[49m\u001B[43m[\u001B[49m\u001B[43mc\u001B[49m\u001B[43m,\u001B[49m\u001B[43m \u001B[49m\u001B[43mc\u001B[49m\u001B[43m]\u001B[49m\u001B[43m)\u001B[49m \u001B[38;5;241m+\u001B[39m qml\u001B[38;5;241m.\u001B[39mmath\u001B[38;5;241m.\u001B[39mstack(\n\u001B[1;32m    127\u001B[0m     [qml\u001B[38;5;241m.\u001B[39mmath\u001B[38;5;241m.\u001B[39mstack([\u001B[38;5;241m0\u001B[39m, \u001B[38;5;241m-\u001B[39ms]), qml\u001B[38;5;241m.\u001B[39mmath\u001B[38;5;241m.\u001B[39mstack([s, \u001B[38;5;241m0\u001B[39m])]\n\u001B[1;32m    128\u001B[0m )\n",
      "File \u001B[0;32m~/Software/QuantumAutoEncoders/venv/lib/python3.8/site-packages/pennylane/math/multi_dispatch.py:199\u001B[0m, in \u001B[0;36mdiag\u001B[0;34m(values, k)\u001B[0m\n\u001B[1;32m    196\u001B[0m interface \u001B[38;5;241m=\u001B[39m _multi_dispatch(values)\n\u001B[1;32m    198\u001B[0m \u001B[38;5;28;01mif\u001B[39;00m \u001B[38;5;28misinstance\u001B[39m(values, (\u001B[38;5;28mlist\u001B[39m, \u001B[38;5;28mtuple\u001B[39m)):\n\u001B[0;32m--> 199\u001B[0m     values \u001B[38;5;241m=\u001B[39m \u001B[43mnp\u001B[49m\u001B[38;5;241;43m.\u001B[39;49m\u001B[43mstack\u001B[49m\u001B[43m(\u001B[49m\u001B[43mnp\u001B[49m\u001B[38;5;241;43m.\u001B[39;49m\u001B[43mcoerce\u001B[49m\u001B[43m(\u001B[49m\u001B[43mvalues\u001B[49m\u001B[43m,\u001B[49m\u001B[43m \u001B[49m\u001B[43mlike\u001B[49m\u001B[38;5;241;43m=\u001B[39;49m\u001B[43minterface\u001B[49m\u001B[43m)\u001B[49m\u001B[43m,\u001B[49m\u001B[43m \u001B[49m\u001B[43mlike\u001B[49m\u001B[38;5;241;43m=\u001B[39;49m\u001B[43minterface\u001B[49m\u001B[43m)\u001B[49m\n\u001B[1;32m    201\u001B[0m \u001B[38;5;28;01mreturn\u001B[39;00m np\u001B[38;5;241m.\u001B[39mdiag(values, k\u001B[38;5;241m=\u001B[39mk, like\u001B[38;5;241m=\u001B[39minterface)\n",
      "File \u001B[0;32m~/Software/QuantumAutoEncoders/venv/lib/python3.8/site-packages/autoray/autoray.py:84\u001B[0m, in \u001B[0;36mdo\u001B[0;34m(fn, like, *args, **kwargs)\u001B[0m\n\u001B[1;32m     81\u001B[0m \u001B[38;5;28;01melse\u001B[39;00m:\n\u001B[1;32m     82\u001B[0m     backend \u001B[38;5;241m=\u001B[39m infer_backend(like)\n\u001B[0;32m---> 84\u001B[0m \u001B[38;5;28;01mreturn\u001B[39;00m \u001B[43mget_lib_fn\u001B[49m\u001B[43m(\u001B[49m\u001B[43mbackend\u001B[49m\u001B[43m,\u001B[49m\u001B[43m \u001B[49m\u001B[43mfn\u001B[49m\u001B[43m)\u001B[49m\u001B[43m(\u001B[49m\u001B[38;5;241;43m*\u001B[39;49m\u001B[43margs\u001B[49m\u001B[43m,\u001B[49m\u001B[43m \u001B[49m\u001B[38;5;241;43m*\u001B[39;49m\u001B[38;5;241;43m*\u001B[39;49m\u001B[43mkwargs\u001B[49m\u001B[43m)\u001B[49m\n",
      "File \u001B[0;32m~/Software/QuantumAutoEncoders/venv/lib/python3.8/site-packages/pennylane/numpy/wrapper.py:75\u001B[0m, in \u001B[0;36mtensor_wrapper.<locals>._wrapped\u001B[0;34m(*args, **kwargs)\u001B[0m\n\u001B[1;32m     72\u001B[0m         tensor_kwargs[\u001B[38;5;124m\"\u001B[39m\u001B[38;5;124mrequires_grad\u001B[39m\u001B[38;5;124m\"\u001B[39m] \u001B[38;5;241m=\u001B[39m _np\u001B[38;5;241m.\u001B[39many([i\u001B[38;5;241m.\u001B[39mrequires_grad \u001B[38;5;28;01mfor\u001B[39;00m i \u001B[38;5;129;01min\u001B[39;00m tensor_args])\n\u001B[1;32m     74\u001B[0m \u001B[38;5;66;03m# evaluate the original object\u001B[39;00m\n\u001B[0;32m---> 75\u001B[0m res \u001B[38;5;241m=\u001B[39m \u001B[43mobj\u001B[49m\u001B[43m(\u001B[49m\u001B[38;5;241;43m*\u001B[39;49m\u001B[43margs\u001B[49m\u001B[43m,\u001B[49m\u001B[43m \u001B[49m\u001B[38;5;241;43m*\u001B[39;49m\u001B[38;5;241;43m*\u001B[39;49m\u001B[43mkwargs\u001B[49m\u001B[43m)\u001B[49m\n\u001B[1;32m     77\u001B[0m \u001B[38;5;28;01mif\u001B[39;00m \u001B[38;5;28misinstance\u001B[39m(res, _np\u001B[38;5;241m.\u001B[39mndarray):\n\u001B[1;32m     78\u001B[0m     \u001B[38;5;66;03m# only if the output of the object is a ndarray,\u001B[39;00m\n\u001B[1;32m     79\u001B[0m     \u001B[38;5;66;03m# then convert to a PennyLane tensor\u001B[39;00m\n\u001B[1;32m     80\u001B[0m     res \u001B[38;5;241m=\u001B[39m tensor(res, \u001B[38;5;241m*\u001B[39m\u001B[38;5;241m*\u001B[39mtensor_kwargs)\n",
      "File \u001B[0;32m~/Software/QuantumAutoEncoders/venv/lib/python3.8/site-packages/autograd/numpy/numpy_wrapper.py:88\u001B[0m, in \u001B[0;36mstack\u001B[0;34m(arrays, axis)\u001B[0m\n\u001B[1;32m     83\u001B[0m \u001B[38;5;28;01mdef\u001B[39;00m \u001B[38;5;21mstack\u001B[39m(arrays, axis\u001B[38;5;241m=\u001B[39m\u001B[38;5;241m0\u001B[39m):\n\u001B[1;32m     84\u001B[0m     \u001B[38;5;66;03m# this code is basically copied from numpy/core/shape_base.py's stack\u001B[39;00m\n\u001B[1;32m     85\u001B[0m     \u001B[38;5;66;03m# we need it here because we want to re-implement stack in terms of the\u001B[39;00m\n\u001B[1;32m     86\u001B[0m     \u001B[38;5;66;03m# primitives defined in this file\u001B[39;00m\n\u001B[0;32m---> 88\u001B[0m     arrays \u001B[38;5;241m=\u001B[39m [array(arr) \u001B[38;5;28;01mfor\u001B[39;00m arr \u001B[38;5;129;01min\u001B[39;00m arrays]\n\u001B[1;32m     89\u001B[0m     \u001B[38;5;28;01mif\u001B[39;00m \u001B[38;5;129;01mnot\u001B[39;00m arrays:\n\u001B[1;32m     90\u001B[0m         \u001B[38;5;28;01mraise\u001B[39;00m \u001B[38;5;167;01mValueError\u001B[39;00m(\u001B[38;5;124m'\u001B[39m\u001B[38;5;124mneed at least one array to stack\u001B[39m\u001B[38;5;124m'\u001B[39m)\n",
      "File \u001B[0;32m~/Software/QuantumAutoEncoders/venv/lib/python3.8/site-packages/autograd/numpy/numpy_wrapper.py:88\u001B[0m, in \u001B[0;36m<listcomp>\u001B[0;34m(.0)\u001B[0m\n\u001B[1;32m     83\u001B[0m \u001B[38;5;28;01mdef\u001B[39;00m \u001B[38;5;21mstack\u001B[39m(arrays, axis\u001B[38;5;241m=\u001B[39m\u001B[38;5;241m0\u001B[39m):\n\u001B[1;32m     84\u001B[0m     \u001B[38;5;66;03m# this code is basically copied from numpy/core/shape_base.py's stack\u001B[39;00m\n\u001B[1;32m     85\u001B[0m     \u001B[38;5;66;03m# we need it here because we want to re-implement stack in terms of the\u001B[39;00m\n\u001B[1;32m     86\u001B[0m     \u001B[38;5;66;03m# primitives defined in this file\u001B[39;00m\n\u001B[0;32m---> 88\u001B[0m     arrays \u001B[38;5;241m=\u001B[39m [\u001B[43marray\u001B[49m\u001B[43m(\u001B[49m\u001B[43marr\u001B[49m\u001B[43m)\u001B[49m \u001B[38;5;28;01mfor\u001B[39;00m arr \u001B[38;5;129;01min\u001B[39;00m arrays]\n\u001B[1;32m     89\u001B[0m     \u001B[38;5;28;01mif\u001B[39;00m \u001B[38;5;129;01mnot\u001B[39;00m arrays:\n\u001B[1;32m     90\u001B[0m         \u001B[38;5;28;01mraise\u001B[39;00m \u001B[38;5;167;01mValueError\u001B[39;00m(\u001B[38;5;124m'\u001B[39m\u001B[38;5;124mneed at least one array to stack\u001B[39m\u001B[38;5;124m'\u001B[39m)\n",
      "File \u001B[0;32m~/Software/QuantumAutoEncoders/venv/lib/python3.8/site-packages/autograd/numpy/numpy_wrapper.py:60\u001B[0m, in \u001B[0;36marray\u001B[0;34m(A, *args, **kwargs)\u001B[0m\n\u001B[1;32m     58\u001B[0m     \u001B[38;5;28;01mreturn\u001B[39;00m array_from_args(args, kwargs, \u001B[38;5;241m*\u001B[39m\u001B[38;5;28mmap\u001B[39m(array, A))\n\u001B[1;32m     59\u001B[0m \u001B[38;5;28;01melse\u001B[39;00m:\n\u001B[0;32m---> 60\u001B[0m     \u001B[38;5;28;01mreturn\u001B[39;00m \u001B[43m_array_from_scalar_or_array\u001B[49m\u001B[43m(\u001B[49m\u001B[43margs\u001B[49m\u001B[43m,\u001B[49m\u001B[43m \u001B[49m\u001B[43mkwargs\u001B[49m\u001B[43m,\u001B[49m\u001B[43m \u001B[49m\u001B[43mA\u001B[49m\u001B[43m)\u001B[49m\n",
      "File \u001B[0;32m~/Software/QuantumAutoEncoders/venv/lib/python3.8/site-packages/autograd/tracer.py:45\u001B[0m, in \u001B[0;36mprimitive.<locals>.f_wrapped\u001B[0;34m(*args, **kwargs)\u001B[0m\n\u001B[1;32m     43\u001B[0m     argnums \u001B[38;5;241m=\u001B[39m \u001B[38;5;28mtuple\u001B[39m(argnum    \u001B[38;5;28;01mfor\u001B[39;00m argnum, _   \u001B[38;5;129;01min\u001B[39;00m boxed_args)\n\u001B[1;32m     44\u001B[0m     ans \u001B[38;5;241m=\u001B[39m f_wrapped(\u001B[38;5;241m*\u001B[39margvals, \u001B[38;5;241m*\u001B[39m\u001B[38;5;241m*\u001B[39mkwargs)\n\u001B[0;32m---> 45\u001B[0m     node \u001B[38;5;241m=\u001B[39m \u001B[43mnode_constructor\u001B[49m\u001B[43m(\u001B[49m\u001B[43mans\u001B[49m\u001B[43m,\u001B[49m\u001B[43m \u001B[49m\u001B[43mf_wrapped\u001B[49m\u001B[43m,\u001B[49m\u001B[43m \u001B[49m\u001B[43margvals\u001B[49m\u001B[43m,\u001B[49m\u001B[43m \u001B[49m\u001B[43mkwargs\u001B[49m\u001B[43m,\u001B[49m\u001B[43m \u001B[49m\u001B[43margnums\u001B[49m\u001B[43m,\u001B[49m\u001B[43m \u001B[49m\u001B[43mparents\u001B[49m\u001B[43m)\u001B[49m\n\u001B[1;32m     46\u001B[0m     \u001B[38;5;28;01mreturn\u001B[39;00m new_box(ans, trace, node)\n\u001B[1;32m     47\u001B[0m \u001B[38;5;28;01melse\u001B[39;00m:\n",
      "File \u001B[0;32m~/Software/QuantumAutoEncoders/venv/lib/python3.8/site-packages/autograd/core.py:36\u001B[0m, in \u001B[0;36mVJPNode.__init__\u001B[0;34m(self, value, fun, args, kwargs, parent_argnums, parents)\u001B[0m\n\u001B[1;32m     33\u001B[0m     fun_name \u001B[38;5;241m=\u001B[39m \u001B[38;5;28mgetattr\u001B[39m(fun, \u001B[38;5;124m'\u001B[39m\u001B[38;5;124m__name__\u001B[39m\u001B[38;5;124m'\u001B[39m, fun)\n\u001B[1;32m     34\u001B[0m     \u001B[38;5;28;01mraise\u001B[39;00m \u001B[38;5;167;01mNotImplementedError\u001B[39;00m(\u001B[38;5;124m\"\u001B[39m\u001B[38;5;124mVJP of \u001B[39m\u001B[38;5;132;01m{}\u001B[39;00m\u001B[38;5;124m wrt argnums \u001B[39m\u001B[38;5;132;01m{}\u001B[39;00m\u001B[38;5;124m not defined\u001B[39m\u001B[38;5;124m\"\u001B[39m\n\u001B[1;32m     35\u001B[0m                               \u001B[38;5;241m.\u001B[39mformat(fun_name, parent_argnums))\n\u001B[0;32m---> 36\u001B[0m \u001B[38;5;28mself\u001B[39m\u001B[38;5;241m.\u001B[39mvjp \u001B[38;5;241m=\u001B[39m \u001B[43mvjpmaker\u001B[49m\u001B[43m(\u001B[49m\u001B[43mparent_argnums\u001B[49m\u001B[43m,\u001B[49m\u001B[43m \u001B[49m\u001B[43mvalue\u001B[49m\u001B[43m,\u001B[49m\u001B[43m \u001B[49m\u001B[43margs\u001B[49m\u001B[43m,\u001B[49m\u001B[43m \u001B[49m\u001B[43mkwargs\u001B[49m\u001B[43m)\u001B[49m\n",
      "File \u001B[0;32m~/Software/QuantumAutoEncoders/venv/lib/python3.8/site-packages/autograd/core.py:56\u001B[0m, in \u001B[0;36mdefvjp.<locals>.vjp_argnums\u001B[0;34m(argnums, ans, args, kwargs)\u001B[0m\n\u001B[1;32m     53\u001B[0m argnums \u001B[38;5;241m=\u001B[39m kwargs\u001B[38;5;241m.\u001B[39mget(\u001B[38;5;124m'\u001B[39m\u001B[38;5;124margnums\u001B[39m\u001B[38;5;124m'\u001B[39m, count())\n\u001B[1;32m     54\u001B[0m vjps_dict \u001B[38;5;241m=\u001B[39m {argnum : translate_vjp(vjpmaker, fun, argnum)\n\u001B[1;32m     55\u001B[0m              \u001B[38;5;28;01mfor\u001B[39;00m argnum, vjpmaker \u001B[38;5;129;01min\u001B[39;00m \u001B[38;5;28mzip\u001B[39m(argnums, vjpmakers)}\n\u001B[0;32m---> 56\u001B[0m \u001B[38;5;28;01mdef\u001B[39;00m \u001B[38;5;21mvjp_argnums\u001B[39m(argnums, ans, args, kwargs):\n\u001B[1;32m     57\u001B[0m     L \u001B[38;5;241m=\u001B[39m \u001B[38;5;28mlen\u001B[39m(argnums)\n\u001B[1;32m     58\u001B[0m     \u001B[38;5;66;03m# These first two cases are just optimizations\u001B[39;00m\n",
      "\u001B[0;31mKeyboardInterrupt\u001B[0m: "
     ]
    }
   ],
   "source": [
    "# initialize random encoder parameters\n",
    "nr_encod_qubits = len(spec.trash_qubits) + len(spec.latent_qubits)\n",
    "nr_par_encoder = nr_layers * 2 * nr_encod_qubits + 2 * len(spec.trash_qubits)\n",
    "print(nr_par_encoder)\n",
    "encoder_params = np.random.uniform(size=(1, nr_par_encoder), requires_grad=True)\n",
    "\n",
    "for epoch in range(epochs):\n",
    "    batches = iterate_batches(X=training_data, batch_size=batch_size)\n",
    "    for xbatch in batches:\n",
    "        encoder_params = opt.step(cost, encoder_params, X=xbatch)\n",
    "\n",
    "    loss_training = cost(encoder_params, X)\n",
    "    fidel = fidelity(encoder_params, X)\n",
    "\n",
    "    print(\"Epoch:{} | Loss:{} | Fidelity:{}\".format(epoch, loss_training, fidel))"
   ]
  },
  {
   "cell_type": "code",
   "execution_count": null,
   "metadata": {
    "colab": {
     "base_uri": "https://localhost:8080/"
    },
    "executionInfo": {
     "elapsed": 3,
     "status": "ok",
     "timestamp": 1643631247705,
     "user": {
      "displayName": "Andrei Tomut",
      "photoUrl": "https://lh3.googleusercontent.com/a-/AOh14Gg41AjhvpJrWsjuTWseFfwBFJOCfaBmrNzZIgjGFws=s64",
      "userId": "15187307406392519590"
     },
     "user_tz": -120
    },
    "id": "x_46hhTmvYFU",
    "outputId": "1ebe2881-a072-4255-9517-9fd6a87e235a"
   },
   "outputs": [],
   "source": []
  }
 ],
 "metadata": {
  "colab": {
   "authorship_tag": "ABX9TyNgUzc2Tbeb8c3gUIwlCq3P",
   "mount_file_id": "1QCmp8uCqLXslk0FaGRlgRJW5qrPyhU14",
   "name": "encoder_training_example.ipynb",
   "provenance": []
  },
  "kernelspec": {
   "display_name": "Python 3 (ipykernel)",
   "language": "python",
   "name": "python3"
  },
  "language_info": {
   "codemirror_mode": {
    "name": "ipython",
    "version": 3
   },
   "file_extension": ".py",
   "mimetype": "text/x-python",
   "name": "python",
   "nbconvert_exporter": "python",
   "pygments_lexer": "ipython3",
   "version": "3.8.9"
  }
 },
 "nbformat": 4,
 "nbformat_minor": 1
}